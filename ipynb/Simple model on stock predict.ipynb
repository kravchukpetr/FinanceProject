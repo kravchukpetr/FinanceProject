{
 "cells": [
  {
   "cell_type": "code",
   "execution_count": 1,
   "id": "8d23d54f",
   "metadata": {},
   "outputs": [
    {
     "name": "stdout",
     "output_type": "stream",
     "text": [
      "Collecting yfinance"
     ]
    },
    {
     "name": "stderr",
     "output_type": "stream",
     "text": [
      "\n",
      "[notice] A new release of pip is available: 23.0.1 -> 24.1.2\n",
      "[notice] To update, run: python.exe -m pip install --upgrade pip\n"
     ]
    },
    {
     "name": "stdout",
     "output_type": "stream",
     "text": [
      "\n",
      "  Downloading yfinance-0.2.41-py2.py3-none-any.whl (73 kB)\n",
      "     ---------------------------------------- 0.0/73.5 kB ? eta -:--:--\n",
      "     ---------------------------------------- 73.5/73.5 kB 2.0 MB/s eta 0:00:00\n",
      "Requirement already satisfied: numpy in c:\\ddl\\an-venv\\lib\\site-packages (1.24.2)\n",
      "Requirement already satisfied: pandas in c:\\ddl\\an-venv\\lib\\site-packages (1.5.3)\n",
      "Collecting scikit-learn\n",
      "  Downloading scikit_learn-1.5.1-cp311-cp311-win_amd64.whl (11.0 MB)\n",
      "     ---------------------------------------- 0.0/11.0 MB ? eta -:--:--\n",
      "      --------------------------------------- 0.1/11.0 MB 2.8 MB/s eta 0:00:04\n",
      "     - -------------------------------------- 0.4/11.0 MB 5.1 MB/s eta 0:00:03\n",
      "     -- ------------------------------------- 0.7/11.0 MB 5.4 MB/s eta 0:00:02\n",
      "     -- ------------------------------------- 0.7/11.0 MB 4.2 MB/s eta 0:00:03\n",
      "     ---- ----------------------------------- 1.3/11.0 MB 6.1 MB/s eta 0:00:02\n",
      "     ----- ---------------------------------- 1.6/11.0 MB 6.4 MB/s eta 0:00:02\n",
      "     ------ --------------------------------- 1.7/11.0 MB 5.6 MB/s eta 0:00:02\n",
      "     -------- ------------------------------- 2.3/11.0 MB 6.5 MB/s eta 0:00:02\n",
      "     --------- ------------------------------ 2.6/11.0 MB 7.0 MB/s eta 0:00:02\n",
      "     ---------- ----------------------------- 3.0/11.0 MB 7.1 MB/s eta 0:00:02\n",
      "     ------------ --------------------------- 3.3/11.0 MB 7.1 MB/s eta 0:00:02\n",
      "     ------------- -------------------------- 3.6/11.0 MB 7.4 MB/s eta 0:00:02\n",
      "     ------------- -------------------------- 3.8/11.0 MB 7.1 MB/s eta 0:00:02\n",
      "     --------------- ------------------------ 4.2/11.0 MB 7.1 MB/s eta 0:00:01\n",
      "     ---------------- ----------------------- 4.6/11.0 MB 7.2 MB/s eta 0:00:01\n",
      "     ----------------- ---------------------- 4.9/11.0 MB 7.0 MB/s eta 0:00:01\n",
      "     ------------------- -------------------- 5.3/11.0 MB 7.1 MB/s eta 0:00:01\n",
      "     -------------------- ------------------- 5.7/11.0 MB 7.1 MB/s eta 0:00:01\n",
      "     ---------------------- ----------------- 6.1/11.0 MB 7.2 MB/s eta 0:00:01\n",
      "     ----------------------- ---------------- 6.4/11.0 MB 7.2 MB/s eta 0:00:01\n",
      "     ------------------------ --------------- 6.7/11.0 MB 7.2 MB/s eta 0:00:01\n",
      "     ------------------------- -------------- 7.1/11.0 MB 7.3 MB/s eta 0:00:01\n",
      "     -------------------------- ------------- 7.4/11.0 MB 7.3 MB/s eta 0:00:01\n",
      "     ---------------------------- ----------- 7.7/11.0 MB 7.3 MB/s eta 0:00:01\n",
      "     ----------------------------- ---------- 8.1/11.0 MB 7.3 MB/s eta 0:00:01\n",
      "     ------------------------------ --------- 8.5/11.0 MB 7.3 MB/s eta 0:00:01\n",
      "     -------------------------------- ------- 8.8/11.0 MB 7.3 MB/s eta 0:00:01\n",
      "     --------------------------------- ------ 9.2/11.0 MB 7.3 MB/s eta 0:00:01\n",
      "     ---------------------------------- ----- 9.5/11.0 MB 7.3 MB/s eta 0:00:01\n",
      "     ----------------------------------- ---- 9.8/11.0 MB 7.4 MB/s eta 0:00:01\n",
      "     ------------------------------------- -- 10.2/11.0 MB 7.4 MB/s eta 0:00:01\n",
      "     -------------------------------------- - 10.6/11.0 MB 7.6 MB/s eta 0:00:01\n",
      "     ---------------------------------------  11.0/11.0 MB 7.9 MB/s eta 0:00:01\n",
      "     ---------------------------------------  11.0/11.0 MB 7.9 MB/s eta 0:00:01\n",
      "     ---------------------------------------- 11.0/11.0 MB 7.5 MB/s eta 0:00:00\n",
      "Collecting ta\n",
      "  Downloading ta-0.11.0.tar.gz (25 kB)\n",
      "  Preparing metadata (setup.py): started\n",
      "  Preparing metadata (setup.py): finished with status 'done'\n",
      "Collecting requests>=2.31\n",
      "  Downloading requests-2.32.3-py3-none-any.whl (64 kB)\n",
      "     ---------------------------------------- 0.0/64.9 kB ? eta -:--:--\n",
      "     ---------------------------------------- 64.9/64.9 kB ? eta 0:00:00\n",
      "Collecting multitasking>=0.0.7\n",
      "  Using cached multitasking-0.0.11-py3-none-any.whl (8.5 kB)\n",
      "Collecting lxml>=4.9.1\n",
      "  Downloading lxml-5.2.2-cp311-cp311-win_amd64.whl (3.8 MB)\n",
      "     ---------------------------------------- 0.0/3.8 MB ? eta -:--:--\n",
      "     --- ------------------------------------ 0.3/3.8 MB 9.6 MB/s eta 0:00:01\n",
      "     ------ --------------------------------- 0.7/3.8 MB 8.3 MB/s eta 0:00:01\n",
      "     ---------- ----------------------------- 1.0/3.8 MB 9.4 MB/s eta 0:00:01\n",
      "     -------------- ------------------------- 1.4/3.8 MB 8.6 MB/s eta 0:00:01\n",
      "     ----------------- ---------------------- 1.7/3.8 MB 8.3 MB/s eta 0:00:01\n",
      "     --------------------- ------------------ 2.0/3.8 MB 8.6 MB/s eta 0:00:01\n",
      "     ------------------------ --------------- 2.3/3.8 MB 8.8 MB/s eta 0:00:01\n",
      "     ---------------------------- ----------- 2.7/3.8 MB 8.6 MB/s eta 0:00:01\n",
      "     ------------------------------- -------- 3.0/3.8 MB 8.4 MB/s eta 0:00:01\n",
      "     ------------------------------------ --- 3.5/3.8 MB 8.5 MB/s eta 0:00:01\n",
      "     -------------------------------------- - 3.7/3.8 MB 8.2 MB/s eta 0:00:01\n",
      "     ---------------------------------------- 3.8/3.8 MB 7.9 MB/s eta 0:00:00\n",
      "Requirement already satisfied: platformdirs>=2.0.0 in c:\\ddl\\an-venv\\lib\\site-packages (from yfinance) (3.1.1)\n",
      "Requirement already satisfied: pytz>=2022.5 in c:\\ddl\\an-venv\\lib\\site-packages (from yfinance) (2022.7.1)\n",
      "Collecting frozendict>=2.3.4\n",
      "  Downloading frozendict-2.4.4-py311-none-any.whl (16 kB)\n",
      "Collecting peewee>=3.16.2\n",
      "  Downloading peewee-3.17.6.tar.gz (3.0 MB)\n",
      "     ---------------------------------------- 0.0/3.0 MB ? eta -:--:--\n",
      "     ---- ----------------------------------- 0.3/3.0 MB 9.3 MB/s eta 0:00:01\n",
      "     -------- ------------------------------- 0.6/3.0 MB 7.7 MB/s eta 0:00:01\n",
      "     ------------ --------------------------- 0.9/3.0 MB 8.3 MB/s eta 0:00:01\n",
      "     ---------------- ----------------------- 1.2/3.0 MB 7.9 MB/s eta 0:00:01\n",
      "     ---------------------- ----------------- 1.6/3.0 MB 8.6 MB/s eta 0:00:01\n",
      "     --------------------------- ------------ 2.0/3.0 MB 8.6 MB/s eta 0:00:01\n",
      "     ------------------------------- -------- 2.3/3.0 MB 8.3 MB/s eta 0:00:01\n",
      "     ------------------------------------- -- 2.8/3.0 MB 8.4 MB/s eta 0:00:01\n",
      "     ---------------------------------------- 3.0/3.0 MB 8.2 MB/s eta 0:00:00\n",
      "  Installing build dependencies: started\n",
      "  Installing build dependencies: finished with status 'done'\n",
      "  Getting requirements to build wheel: started\n",
      "  Getting requirements to build wheel: finished with status 'done'\n",
      "  Preparing metadata (pyproject.toml): started\n",
      "  Preparing metadata (pyproject.toml): finished with status 'done'\n",
      "Requirement already satisfied: beautifulsoup4>=4.11.1 in c:\\ddl\\an-venv\\lib\\site-packages (from yfinance) (4.11.2)\n",
      "Collecting html5lib>=1.1\n",
      "  Using cached html5lib-1.1-py2.py3-none-any.whl (112 kB)\n",
      "Requirement already satisfied: python-dateutil>=2.8.1 in c:\\ddl\\an-venv\\lib\\site-packages (from pandas) (2.8.2)\n",
      "Requirement already satisfied: scipy>=1.6.0 in c:\\ddl\\an-venv\\lib\\site-packages (from scikit-learn) (1.13.1)\n",
      "Collecting joblib>=1.2.0\n",
      "  Downloading joblib-1.4.2-py3-none-any.whl (301 kB)\n",
      "     ---------------------------------------- 0.0/301.8 kB ? eta -:--:--\n",
      "     -------------------------------------- 301.8/301.8 kB 9.4 MB/s eta 0:00:00\n",
      "Collecting threadpoolctl>=3.1.0\n",
      "  Downloading threadpoolctl-3.5.0-py3-none-any.whl (18 kB)\n",
      "Requirement already satisfied: soupsieve>1.2 in c:\\ddl\\an-venv\\lib\\site-packages (from beautifulsoup4>=4.11.1->yfinance) (2.4)\n",
      "Requirement already satisfied: six>=1.9 in c:\\ddl\\an-venv\\lib\\site-packages (from html5lib>=1.1->yfinance) (1.16.0)\n",
      "Requirement already satisfied: webencodings in c:\\ddl\\an-venv\\lib\\site-packages (from html5lib>=1.1->yfinance) (0.5.1)\n",
      "Requirement already satisfied: charset-normalizer<4,>=2 in c:\\ddl\\an-venv\\lib\\site-packages (from requests>=2.31->yfinance) (3.1.0)\n",
      "Requirement already satisfied: idna<4,>=2.5 in c:\\ddl\\an-venv\\lib\\site-packages (from requests>=2.31->yfinance) (3.4)\n",
      "Requirement already satisfied: urllib3<3,>=1.21.1 in c:\\ddl\\an-venv\\lib\\site-packages (from requests>=2.31->yfinance) (1.26.15)\n",
      "Requirement already satisfied: certifi>=2017.4.17 in c:\\ddl\\an-venv\\lib\\site-packages (from requests>=2.31->yfinance) (2022.12.7)\n",
      "Building wheels for collected packages: ta, peewee\n",
      "  Building wheel for ta (setup.py): started\n",
      "  Building wheel for ta (setup.py): finished with status 'done'\n",
      "  Created wheel for ta: filename=ta-0.11.0-py3-none-any.whl size=29422 sha256=d13fe73ebc113439c6949b1c98c17ee05bf0c3a2d1361ee13ffa54bec3c9eac7\n",
      "  Stored in directory: c:\\users\\p.kravchuk\\appdata\\local\\pip\\cache\\wheels\\a1\\d7\\29\\7781cc5eb9a3659d032d7d15bdd0f49d07d2b24fec29f44bc4\n",
      "  Building wheel for peewee (pyproject.toml): started\n",
      "  Building wheel for peewee (pyproject.toml): finished with status 'done'\n",
      "  Created wheel for peewee: filename=peewee-3.17.6-py3-none-any.whl size=138938 sha256=9dd074e3a1bb9029b8afe8fb4e4b8c73219cce7a7f60f694ac7b261317cee25a\n",
      "  Stored in directory: c:\\users\\p.kravchuk\\appdata\\local\\pip\\cache\\wheels\\1c\\09\\7e\\9f659fde248ecdc1722a142c1d744271aad3914a0afc191058\n",
      "Successfully built ta peewee\n",
      "Installing collected packages: peewee, multitasking, threadpoolctl, requests, lxml, joblib, html5lib, frozendict, scikit-learn, yfinance, ta\n",
      "  Attempting uninstall: requests\n",
      "    Found existing installation: requests 2.28.2\n",
      "    Uninstalling requests-2.28.2:\n",
      "      Successfully uninstalled requests-2.28.2\n",
      "Successfully installed frozendict-2.4.4 html5lib-1.1 joblib-1.4.2 lxml-5.2.2 multitasking-0.0.11 peewee-3.17.6 requests-2.32.3 scikit-learn-1.5.1 ta-0.11.0 threadpoolctl-3.5.0 yfinance-0.2.41\n"
     ]
    }
   ],
   "source": [
    "!pip install yfinance numpy pandas scikit-learn ta xgboost matplotlib seaborn tradingview_ta tradernet-sdk tradernet pandas_ta"
   ]
  },
  {
   "cell_type": "code",
   "execution_count": 15,
   "id": "b464aa6e",
   "metadata": {},
   "outputs": [
    {
     "name": "stdout",
     "output_type": "stream",
     "text": [
      "Collecting pandas_ta\n",
      "  Using cached pandas_ta-0.3.14b.tar.gz (115 kB)\n",
      "  Preparing metadata (setup.py): started\n",
      "  Preparing metadata (setup.py): finished with status 'done'\n",
      "Requirement already satisfied: pandas in c:\\ddl\\an-venv\\lib\\site-packages (from pandas_ta) (1.5.3)\n",
      "Requirement already satisfied: python-dateutil>=2.8.1 in c:\\ddl\\an-venv\\lib\\site-packages (from pandas->pandas_ta) (2.8.2)\n",
      "Requirement already satisfied: pytz>=2020.1 in c:\\ddl\\an-venv\\lib\\site-packages (from pandas->pandas_ta) (2022.7.1)\n",
      "Requirement already satisfied: numpy>=1.21.0 in c:\\ddl\\an-venv\\lib\\site-packages (from pandas->pandas_ta) (1.24.2)\n",
      "Requirement already satisfied: six>=1.5 in c:\\ddl\\an-venv\\lib\\site-packages (from python-dateutil>=2.8.1->pandas->pandas_ta) (1.16.0)\n",
      "Building wheels for collected packages: pandas_ta\n",
      "  Building wheel for pandas_ta (setup.py): started\n",
      "  Building wheel for pandas_ta (setup.py): finished with status 'done'\n",
      "  Created wheel for pandas_ta: filename=pandas_ta-0.3.14b0-py3-none-any.whl size=218924 sha256=c102da7253d4c13ed18367d86573710a170dfdc9e4d445e2f98d1ff6bfea5143\n",
      "  Stored in directory: c:\\users\\p.kravchuk\\appdata\\local\\pip\\cache\\wheels\\7f\\33\\8b\\50b245c5c65433cd8f5cb24ac15d97e5a3db2d41a8b6ae957d\n",
      "Successfully built pandas_ta\n",
      "Installing collected packages: pandas_ta\n",
      "Successfully installed pandas_ta-0.3.14b0\n"
     ]
    },
    {
     "name": "stderr",
     "output_type": "stream",
     "text": [
      "\n",
      "[notice] A new release of pip is available: 23.0.1 -> 24.1.2\n",
      "[notice] To update, run: python.exe -m pip install --upgrade pip\n"
     ]
    }
   ],
   "source": [
    "!pip install pandas_ta"
   ]
  },
  {
   "cell_type": "code",
   "execution_count": 1,
   "id": "e8542253",
   "metadata": {},
   "outputs": [],
   "source": [
    "import warnings\n",
    "warnings.filterwarnings('ignore')\n",
    "import requests\n",
    "import pandas as pd\n",
    "from ta.momentum import RSIIndicator, StochasticOscillator\n",
    "from ta.trend import EMAIndicator, MACD, ADXIndicator\n",
    "from ta.volatility import BollingerBands\n",
    "from sklearn.model_selection import train_test_split\n",
    "from ta.volume import OnBalanceVolumeIndicator\n",
    "from sklearn.linear_model import LogisticRegression\n",
    "from sklearn.metrics import accuracy_score, classification_report\n",
    "from sklearn.model_selection import TimeSeriesSplit, RandomizedSearchCV\n",
    "from xgboost import XGBClassifier\n",
    "import matplotlib.pyplot as plt\n",
    "import seaborn as sns\n",
    "import yfinance as yf"
   ]
  },
  {
   "cell_type": "code",
   "execution_count": 29,
   "id": "d3c3a3c6",
   "metadata": {},
   "outputs": [],
   "source": [
    "alpha_vantage_api_key = '98M4FF8Y2B631MGX'"
   ]
  },
  {
   "cell_type": "code",
   "execution_count": 2,
   "id": "ac792881",
   "metadata": {},
   "outputs": [],
   "source": [
    "def fetch_time_series_fundamental_data(stock_symbol):\n",
    "    stock = yf.Ticker(stock_symbol)\n",
    "    # Fetch quarterly financial data\n",
    "    quarterly_financials = stock.quarterly_financials.T\n",
    "    quarterly_balance_sheet = stock.quarterly_balance_sheet.T\n",
    "    quarterly_cashflow = stock.quarterly_cashflow.T\n",
    "    \n",
    "    # Extract relevant features and calculate ratios\n",
    "    fundamental_data = pd.DataFrame()\n",
    "    fundamental_data['EPS'] = quarterly_financials['Net Income'] / quarterly_balance_sheet['Common Stock']\n",
    "    fundamental_data['ROE'] = quarterly_financials['Net Income'] / quarterly_balance_sheet['Stockholders Equity']\n",
    "    fundamental_data['D/E Ratio'] = quarterly_balance_sheet['Total Liabilities Net Minority Interest'] / quarterly_balance_sheet['Stockholders Equity']\n",
    "    fundamental_data['Revenue Growth'] = quarterly_financials['Total Revenue'].pct_change()\n",
    "    fundamental_data['Net Income Growth'] = quarterly_financials['Net Income'].pct_change()\n",
    "    \n",
    "    fundamental_data = fundamental_data.dropna()\n",
    "    return fundamental_data"
   ]
  },
  {
   "cell_type": "code",
   "execution_count": 3,
   "id": "e9805eee",
   "metadata": {},
   "outputs": [],
   "source": [
    "def fetch_alpha_vantage_fundamental_data(stock_symbol, api_key):\n",
    "    base_url = 'https://www.alphavantage.co/query?'\n",
    "    functions = ['INCOME_STATEMENT', 'BALANCE_SHEET', 'CASH_FLOW']\n",
    "    data_frames = []\n",
    "\n",
    "    for function in functions:\n",
    "        url = f\"{base_url}function={function}&symbol={stock_symbol}&apikey={api_key}\"\n",
    "        response = requests.get(url)\n",
    "        data = response.json()\n",
    "\n",
    "        if function == 'INCOME_STATEMENT':\n",
    "            df = pd.DataFrame(data['quarterlyReports'])\n",
    "            df['report_type'] = 'income_statement'\n",
    "        elif function == 'BALANCE_SHEET':\n",
    "            df = pd.DataFrame(data['quarterlyReports'])\n",
    "            df['report_type'] = 'balance_sheet'\n",
    "        elif function == 'CASH_FLOW':\n",
    "            df = pd.DataFrame(data['quarterlyReports'])\n",
    "            df['report_type'] = 'cash_flow'\n",
    "\n",
    "        data_frames.append(df)\n",
    "\n",
    "    all_data = pd.concat(data_frames)\n",
    "    all_data['fiscalDateEnding'] = pd.to_datetime(all_data['fiscalDateEnding'])\n",
    "    all_data.set_index('fiscalDateEnding', inplace=True)\n",
    "    all_data = all_data.apply(pd.to_numeric, errors='coerce')\n",
    "    \n",
    "    # Calculate additional fundamental features\n",
    "    fundamental_data = pd.DataFrame(index=all_data.index.unique())\n",
    "    try:\n",
    "        fundamental_data['EPS'] = all_data.loc[all_data['report_type'] == 'income_statement', 'netIncome'] / all_data.loc[all_data['report_type'] == 'balance_sheet', 'commonStockSharesOutstanding']\n",
    "    except KeyError:\n",
    "        fundamental_data['EPS'] = None\n",
    "\n",
    "    try:\n",
    "        fundamental_data['ROE'] = all_data.loc[all_data['report_type'] == 'income_statement', 'netIncome'] / all_data.loc[all_data['report_type'] == 'balance_sheet', 'totalShareholderEquity']\n",
    "    except KeyError:\n",
    "        fundamental_data['ROE'] = None\n",
    "\n",
    "    try:\n",
    "        fundamental_data['D/E Ratio'] = all_data.loc[all_data['report_type'] == 'balance_sheet', 'totalLiabilities'] / all_data.loc[all_data['report_type'] == 'balance_sheet', 'totalShareholderEquity']\n",
    "    except KeyError:\n",
    "        fundamental_data['D/E Ratio'] = None\n",
    "\n",
    "    try:\n",
    "        fundamental_data['Revenue Growth'] = all_data.loc[all_data['report_type'] == 'income_statement', 'totalRevenue'].pct_change()\n",
    "    except KeyError:\n",
    "        fundamental_data['Revenue Growth'] = None\n",
    "\n",
    "    try:\n",
    "        fundamental_data['Net Income Growth'] = all_data.loc[all_data['report_type'] == 'income_statement', 'netIncome'].pct_change()\n",
    "    except KeyError:\n",
    "        fundamental_data['Net Income Growth'] = None\n",
    "\n",
    "    return fundamental_data.dropna(how='all')\n"
   ]
  },
  {
   "cell_type": "code",
   "execution_count": 6,
   "id": "339d063e",
   "metadata": {},
   "outputs": [],
   "source": [
    "def fetch_and_process_data(stock_symbol, start_date, end_date):\n",
    "    # Fetch historical stock price data\n",
    "    stock_data = yf.download(stock_symbol, start=start_date, end=end_date)\n",
    "    \n",
    "    # Check for missing values\n",
    "    stock_data.fillna(method='ffill', inplace=True)\n",
    "    stock_data[\"symbol\"] = stock_symbol\n",
    "    # Create the Target column\n",
    "    stock_data['Target'] = (stock_data['Close'].shift(-1) > stock_data['Close']).astype(int)\n",
    "    stock_data.dropna(inplace=True)\n",
    "    \n",
    "    # Feature Engineering\n",
    "    stock_data['MA_50'] = stock_data['Close'].rolling(window=50).mean()\n",
    "    stock_data['MA_200'] = stock_data['Close'].rolling(window=200).mean()\n",
    "    stock_data['EMA_50'] = EMAIndicator(stock_data['Close'], window=50).ema_indicator()\n",
    "    stock_data['EMA_200'] = EMAIndicator(stock_data['Close'], window=200).ema_indicator()\n",
    "    stock_data['Volatility'] = stock_data['Close'].rolling(window=50).std()\n",
    "    stock_data['Daily_Return'] = stock_data['Close'].pct_change()\n",
    "    stock_data['RSI'] = RSIIndicator(stock_data['Close']).rsi()\n",
    "    stock_data['Stochastic'] = StochasticOscillator(stock_data['High'], stock_data['Low'], stock_data['Close']).stoch()\n",
    "    stock_data['ADX'] = ADXIndicator(stock_data['High'], stock_data['Low'], stock_data['Close']).adx()\n",
    "    stock_data['OBV'] = OnBalanceVolumeIndicator(stock_data['Close'], stock_data['Volume']).on_balance_volume()\n",
    "    macd = MACD(stock_data['Close'])\n",
    "    stock_data['MACD'] = macd.macd()\n",
    "    stock_data['MACD_Signal'] = macd.macd_signal()\n",
    "    stock_data['MACD_Diff'] = macd.macd_diff()\n",
    "    bb = BollingerBands(stock_data['Close'])\n",
    "    stock_data['BB_High'] = bb.bollinger_hband()\n",
    "    stock_data['BB_Low'] = bb.bollinger_lband()\n",
    "    \n",
    "    # Drop rows with NaN values generated by these calculations\n",
    "    stock_data.dropna(inplace=True)\n",
    "    \n",
    "    # Fetch and merge fundamental data\n",
    "#     fundamental_data = fetch_time_series_fundamental_data(stock_symbol)\n",
    "#     fundamental_data = fetch_alpha_vantage_data(stock_symbol, alpha_vantage_api_key)\n",
    "#     stock_data = stock_data.merge(fundamental_data, left_index=True, right_index=True, how='left')\n",
    "    \n",
    "    # Fill any remaining NaN values in fundamental data\n",
    "    stock_data.fillna(method='ffill', inplace=True)\n",
    "    \n",
    "    return stock_data\n"
   ]
  },
  {
   "cell_type": "code",
   "execution_count": 24,
   "id": "f448305b",
   "metadata": {},
   "outputs": [],
   "source": [
    "fundamental_data = fetch_time_series_fundamental_data('AAPL')    "
   ]
  },
  {
   "cell_type": "code",
   "execution_count": 25,
   "id": "8aeef0b7",
   "metadata": {},
   "outputs": [
    {
     "data": {
      "text/html": [
       "<div>\n",
       "<style scoped>\n",
       "    .dataframe tbody tr th:only-of-type {\n",
       "        vertical-align: middle;\n",
       "    }\n",
       "\n",
       "    .dataframe tbody tr th {\n",
       "        vertical-align: top;\n",
       "    }\n",
       "\n",
       "    .dataframe thead th {\n",
       "        text-align: right;\n",
       "    }\n",
       "</style>\n",
       "<table border=\"1\" class=\"dataframe\">\n",
       "  <thead>\n",
       "    <tr style=\"text-align: right;\">\n",
       "      <th></th>\n",
       "      <th>EPS</th>\n",
       "      <th>ROE</th>\n",
       "      <th>D/E Ratio</th>\n",
       "      <th>Revenue Growth</th>\n",
       "      <th>Net Income Growth</th>\n",
       "    </tr>\n",
       "  </thead>\n",
       "  <tbody>\n",
       "    <tr>\n",
       "      <th>2023-12-31</th>\n",
       "      <td>0.450795</td>\n",
       "      <td>0.457706</td>\n",
       "      <td>3.770769</td>\n",
       "      <td>0.317587</td>\n",
       "      <td>0.434930</td>\n",
       "    </tr>\n",
       "    <tr>\n",
       "      <th>2023-09-30</th>\n",
       "      <td>0.311006</td>\n",
       "      <td>0.369388</td>\n",
       "      <td>4.673462</td>\n",
       "      <td>-0.251533</td>\n",
       "      <td>-0.323151</td>\n",
       "    </tr>\n",
       "    <tr>\n",
       "      <th>2023-06-30</th>\n",
       "      <td>0.281334</td>\n",
       "      <td>0.329844</td>\n",
       "      <td>4.558582</td>\n",
       "      <td>-0.086047</td>\n",
       "      <td>-0.133952</td>\n",
       "    </tr>\n",
       "    <tr>\n",
       "      <th>2023-03-31</th>\n",
       "      <td>0.347286</td>\n",
       "      <td>0.388687</td>\n",
       "      <td>4.343801</td>\n",
       "      <td>0.159407</td>\n",
       "      <td>0.215231</td>\n",
       "    </tr>\n",
       "  </tbody>\n",
       "</table>\n",
       "</div>"
      ],
      "text/plain": [
       "                 EPS       ROE D/E Ratio  Revenue Growth  Net Income Growth\n",
       "2023-12-31  0.450795  0.457706  3.770769        0.317587           0.434930\n",
       "2023-09-30  0.311006  0.369388  4.673462       -0.251533          -0.323151\n",
       "2023-06-30  0.281334  0.329844  4.558582       -0.086047          -0.133952\n",
       "2023-03-31  0.347286  0.388687  4.343801        0.159407           0.215231"
      ]
     },
     "execution_count": 25,
     "metadata": {},
     "output_type": "execute_result"
    }
   ],
   "source": [
    "fundamental_data.head()"
   ]
  },
  {
   "cell_type": "code",
   "execution_count": 65,
   "id": "b8c5889f",
   "metadata": {},
   "outputs": [],
   "source": [
    "# fundamental_data = fetch_alpha_vantage_data('AAPL', alpha_vantage_api_key)"
   ]
  },
  {
   "cell_type": "code",
   "execution_count": null,
   "id": "4adb42b9",
   "metadata": {},
   "outputs": [],
   "source": [
    "# Дебаг получения fundamental_data"
   ]
  },
  {
   "cell_type": "code",
   "execution_count": 62,
   "id": "c524fc77",
   "metadata": {},
   "outputs": [
    {
     "name": "stdout",
     "output_type": "stream",
     "text": [
      "200 {\n",
      "    \"Information\": \"Thank you for using Alpha Vantage! Our standard API rate limit is 25 requests per day. Please subscribe to any of the premium plans at https://www.alphavantage.co/premium/ to instantly remove all daily rate limits.\"\n",
      "}\n"
     ]
    },
    {
     "ename": "KeyError",
     "evalue": "'quarterlyReports'",
     "output_type": "error",
     "traceback": [
      "\u001b[1;31m---------------------------------------------------------------------------\u001b[0m",
      "\u001b[1;31mKeyError\u001b[0m                                  Traceback (most recent call last)",
      "Cell \u001b[1;32mIn[62], line 14\u001b[0m\n\u001b[0;32m     11\u001b[0m     data \u001b[38;5;241m=\u001b[39m response\u001b[38;5;241m.\u001b[39mjson()\n\u001b[0;32m     13\u001b[0m     \u001b[38;5;28;01mif\u001b[39;00m function \u001b[38;5;241m==\u001b[39m \u001b[38;5;124m'\u001b[39m\u001b[38;5;124mINCOME_STATEMENT\u001b[39m\u001b[38;5;124m'\u001b[39m:\n\u001b[1;32m---> 14\u001b[0m         df \u001b[38;5;241m=\u001b[39m pd\u001b[38;5;241m.\u001b[39mDataFrame(\u001b[43mdata\u001b[49m\u001b[43m[\u001b[49m\u001b[38;5;124;43m'\u001b[39;49m\u001b[38;5;124;43mquarterlyReports\u001b[39;49m\u001b[38;5;124;43m'\u001b[39;49m\u001b[43m]\u001b[49m)\n\u001b[0;32m     15\u001b[0m         df[\u001b[38;5;124m'\u001b[39m\u001b[38;5;124mreport_type\u001b[39m\u001b[38;5;124m'\u001b[39m] \u001b[38;5;241m=\u001b[39m \u001b[38;5;124m'\u001b[39m\u001b[38;5;124mincome_statement\u001b[39m\u001b[38;5;124m'\u001b[39m\n\u001b[0;32m     16\u001b[0m \u001b[38;5;66;03m#     elif function == 'BALANCE_SHEET':\u001b[39;00m\n\u001b[0;32m     17\u001b[0m \u001b[38;5;66;03m#         df = pd.DataFrame(data['quarterlyReports'])\u001b[39;00m\n\u001b[0;32m     18\u001b[0m \u001b[38;5;66;03m#         df['report_type'] = 'balance_sheet'\u001b[39;00m\n\u001b[0;32m     19\u001b[0m \u001b[38;5;66;03m#     elif function == 'CASH_FLOW':\u001b[39;00m\n\u001b[0;32m     20\u001b[0m \u001b[38;5;66;03m#         df = pd.DataFrame(data['quarterlyReports'])\u001b[39;00m\n\u001b[0;32m     21\u001b[0m \u001b[38;5;66;03m#         df['report_type'] = 'cash_flow'\u001b[39;00m\n",
      "\u001b[1;31mKeyError\u001b[0m: 'quarterlyReports'"
     ]
    }
   ],
   "source": [
    "stock_symbol = 'AAPL'\n",
    "base_url = 'https://www.alphavantage.co/query?'\n",
    "# functions = ['INCOME_STATEMENT', 'BALANCE_SHEET', 'CASH_FLOW']\n",
    "functions = ['INCOME_STATEMENT']\n",
    "data_frames = []\n",
    "\n",
    "for function in functions:\n",
    "    url = f\"{base_url}function={function}&symbol={stock_symbol}&apikey={api_key}\"\n",
    "    response = requests.get(url)\n",
    "    print(response.status_code, response.text)\n",
    "    data = response.json()\n",
    "\n",
    "    if function == 'INCOME_STATEMENT':\n",
    "        df = pd.DataFrame(data['quarterlyReports'])\n",
    "        df['report_type'] = 'income_statement'\n",
    "#     elif function == 'BALANCE_SHEET':\n",
    "#         df = pd.DataFrame(data['quarterlyReports'])\n",
    "#         df['report_type'] = 'balance_sheet'\n",
    "#     elif function == 'CASH_FLOW':\n",
    "#         df = pd.DataFrame(data['quarterlyReports'])\n",
    "#         df['report_type'] = 'cash_flow'\n",
    "\n",
    "\n",
    "    data_frames.append(df)\n",
    "\n",
    "all_data = pd.concat(data_frames)\n",
    "all_data['fiscalDateEnding'] = pd.to_datetime(all_data['fiscalDateEnding'])\n",
    "all_data.set_index('fiscalDateEnding', inplace=True)\n",
    "all_data = all_data.apply(pd.to_numeric, errors='coerce')\n",
    "\n",
    "# # Calculate additional fundamental features\n",
    "# fundamental_data = pd.DataFrame(index=all_data.index.unique())\n",
    "# try:\n",
    "#     fundamental_data['EPS'] = all_data.loc[all_data['report_type'] == 'income_statement', 'netIncome'] / all_data.loc[all_data['report_type'] == 'balance_sheet', 'commonStockSharesOutstanding']\n",
    "# except KeyError:\n",
    "#     fundamental_data['EPS'] = None\n",
    "\n",
    "# try:\n",
    "#     fundamental_data['ROE'] = all_data.loc[all_data['report_type'] == 'income_statement', 'netIncome'] / all_data.loc[all_data['report_type'] == 'balance_sheet', 'totalShareholderEquity']\n",
    "# except KeyError:\n",
    "#     fundamental_data['ROE'] = None\n",
    "\n",
    "# try:\n",
    "#     fundamental_data['D/E Ratio'] = all_data.loc[all_data['report_type'] == 'balance_sheet', 'totalLiabilities'] / all_data.loc[all_data['report_type'] == 'balance_sheet', 'totalShareholderEquity']\n",
    "# except KeyError:\n",
    "#     fundamental_data['D/E Ratio'] = None\n",
    "\n",
    "# try:\n",
    "#     fundamental_data['Revenue Growth'] = all_data.loc[all_data['report_type'] == 'income_statement', 'totalRevenue'].pct_change()\n",
    "# except KeyError:\n",
    "#     fundamental_data['Revenue Growth'] = None\n",
    "\n",
    "# try:\n",
    "#     fundamental_data['Net Income Growth'] = all_data.loc[all_data['report_type'] == 'income_statement', 'netIncome'].pct_change()\n",
    "# except KeyError:\n",
    "#     fundamental_data['Net Income Growth'] = None\n",
    "\n",
    "# fundamental_data =  fundamental_data.dropna(how='all')"
   ]
  },
  {
   "cell_type": "code",
   "execution_count": 197,
   "id": "69f1d261",
   "metadata": {},
   "outputs": [
    {
     "name": "stderr",
     "output_type": "stream",
     "text": [
      "[*********************100%%**********************]  1 of 1 completed\n",
      "[*********************100%%**********************]  1 of 1 completed"
     ]
    },
    {
     "name": "stdout",
     "output_type": "stream",
     "text": [
      "Accuracy for AAPL: 0.5137085137085137\n"
     ]
    },
    {
     "name": "stderr",
     "output_type": "stream",
     "text": [
      "\n",
      "[*********************100%%**********************]  1 of 1 completed"
     ]
    },
    {
     "name": "stdout",
     "output_type": "stream",
     "text": [
      "Accuracy for GOOGL: 0.5512265512265512\n"
     ]
    },
    {
     "name": "stderr",
     "output_type": "stream",
     "text": [
      "\n",
      "[*********************100%%**********************]  1 of 1 completed"
     ]
    },
    {
     "name": "stdout",
     "output_type": "stream",
     "text": [
      "Accuracy for MSFT: 0.49783549783549785\n"
     ]
    },
    {
     "name": "stderr",
     "output_type": "stream",
     "text": [
      "\n",
      "[*********************100%%**********************]  1 of 1 completed"
     ]
    },
    {
     "name": "stdout",
     "output_type": "stream",
     "text": [
      "Accuracy for AMZN: 0.5310245310245311\n"
     ]
    },
    {
     "name": "stderr",
     "output_type": "stream",
     "text": [
      "\n"
     ]
    },
    {
     "name": "stdout",
     "output_type": "stream",
     "text": [
      "Accuracy for TSLA: 0.5014970059880239\n"
     ]
    }
   ],
   "source": [
    "# features = ['MA_50', 'MA_200', 'EMA_50', 'EMA_200', 'Volatility', 'Daily_Return', 'RSI', 'MACD', 'MACD_Signal', 'MACD_Diff', 'BB_High', 'BB_Low', 'EPS', 'ROE', 'D/E Ratio', 'Revenue Growth', 'Net Income Growth']\n",
    "stock_symbols = ['AAPL', 'GOOGL', 'MSFT', 'AMZN', 'TSLA']  # Add more stock symbols as needed\n",
    "features = ['MA_50', 'MA_200', 'EMA_50', 'EMA_200', 'Volatility', 'Daily_Return', 'RSI', 'MACD', 'MACD_Signal', 'MACD_Diff', 'BB_High', 'BB_Low']\n",
    "start_date = '2010-01-01'\n",
    "end_date = '2024-07-21'\n",
    "\n",
    "stock_models = {}\n",
    "stocks = {}\n",
    "for symbol in stock_symbols:\n",
    "    stock_data = fetch_and_process_data(symbol, start_date, end_date)    \n",
    "    stocks[symbol] = stock_data\n",
    "    X = stock_data[features]\n",
    "    y = stock_data['Target']\n",
    "    \n",
    "    X_train, X_test, y_train, y_test = train_test_split(X, y, test_size=0.2, random_state=42)\n",
    "    \n",
    "    model = LogisticRegression(max_iter=1000)\n",
    "    model.fit(X_train, y_train)\n",
    "    \n",
    "    stock_models[symbol] = model\n",
    "    \n",
    "    y_pred = model.predict(X_test)\n",
    "    accuracy = accuracy_score(y_test, y_pred)\n",
    "    print(f'Accuracy for {symbol}: {accuracy}')\n",
    "#     print(classification_report(y_test, y_pred))"
   ]
  },
  {
   "cell_type": "code",
   "execution_count": 198,
   "id": "90eca042",
   "metadata": {},
   "outputs": [
    {
     "name": "stdout",
     "output_type": "stream",
     "text": [
      "Predicted probability of stock price increase for AAPL: 0.49193545518913595\n",
      "Predicted probability of stock price increase for GOOGL: 0.5980440466024299\n",
      "Predicted probability of stock price increase for MSFT: 0.6116744249908763\n",
      "Predicted probability of stock price increase for AMZN: 0.5331826390639364\n",
      "Predicted probability of stock price increase for TSLA: 0.5948231843087985\n"
     ]
    }
   ],
   "source": [
    "predictions = {}\n",
    "for symbol in stock_symbols:\n",
    "#     stock_data = fetch_and_process_data(symbol, start_date, end_date)\n",
    "    stock_data = stocks[symbol]\n",
    "    latest_data = stock_data.iloc[-1][features].values.reshape(1, -1)\n",
    "    model = stock_models[symbol]\n",
    "    probability = model.predict_proba(latest_data)[0][1]\n",
    "    predictions[symbol] = probability\n",
    "    print(f'Predicted probability of stock price increase for {symbol}: {probability}')"
   ]
  },
  {
   "cell_type": "code",
   "execution_count": 200,
   "id": "946877aa",
   "metadata": {},
   "outputs": [
    {
     "data": {
      "text/plain": [
       "(0.0005799129586043783, 0)"
      ]
     },
     "execution_count": 200,
     "metadata": {},
     "output_type": "execute_result"
    }
   ],
   "source": [
    "stock_data = stocks['AAPL']\n",
    "latest_data = stock_data.iloc[-1][features]\n",
    "latest_data['Daily_Return'], stock_data.iloc[-1]['Target']"
   ]
  },
  {
   "cell_type": "code",
   "execution_count": null,
   "id": "8a5c0777",
   "metadata": {},
   "outputs": [],
   "source": [
    "#одна модель"
   ]
  },
  {
   "cell_type": "code",
   "execution_count": 201,
   "id": "c8a81644",
   "metadata": {},
   "outputs": [
    {
     "name": "stderr",
     "output_type": "stream",
     "text": [
      "[*********************100%%**********************]  1 of 1 completed\n",
      "[*********************100%%**********************]  1 of 1 completed\n",
      "[*********************100%%**********************]  1 of 1 completed\n",
      "[*********************100%%**********************]  1 of 1 completed\n",
      "[*********************100%%**********************]  1 of 1 completed\n"
     ]
    },
    {
     "name": "stdout",
     "output_type": "stream",
     "text": [
      "Accuracy: 0.5242944428280477\n",
      "              precision    recall  f1-score   support\n",
      "\n",
      "           0       0.53      0.02      0.03      1638\n",
      "           1       0.52      0.99      0.68      1799\n",
      "\n",
      "    accuracy                           0.52      3437\n",
      "   macro avg       0.53      0.50      0.36      3437\n",
      "weighted avg       0.53      0.52      0.37      3437\n",
      "\n"
     ]
    }
   ],
   "source": [
    "# features = ['MA_50', 'MA_200', 'EMA_50', 'EMA_200', 'Volatility', 'Daily_Return', 'RSI', 'MACD', 'MACD_Signal', 'MACD_Diff', 'BB_High', 'BB_Low', 'EPS', 'ROE', 'D/E Ratio', 'Revenue Growth', 'Net Income Growth']\n",
    "stock_symbols = ['AAPL', 'GOOGL', 'MSFT', 'AMZN', 'TSLA']  # Add more stock symbols as needed\n",
    "features = ['MA_50', 'MA_200', 'EMA_50', 'EMA_200', 'Volatility', 'Daily_Return', 'RSI', 'MACD', 'MACD_Signal', 'MACD_Diff', 'BB_High', 'BB_Low']\n",
    "start_date = '2010-01-01'\n",
    "end_date = '2024-07-21'\n",
    "\n",
    "stock_models = {}\n",
    "stocks = {}\n",
    "stocks_list = []\n",
    "for symbol in stock_symbols:\n",
    "    stock_data = fetch_and_process_data(symbol, start_date, end_date)\n",
    "    stocks[symbol] = stock_data\n",
    "    stocks_list.append(stock_data)\n",
    "\n",
    "final_stock_df = pd.concat(stocks_list, ignore_index=False)   \n",
    "X = final_stock_df[features]\n",
    "y = final_stock_df['Target']\n",
    "\n",
    "X_train, X_test, y_train, y_test = train_test_split(X, y, test_size=0.2, random_state=42)\n",
    "\n",
    "model_for_all_symbols = LogisticRegression(max_iter=1000)\n",
    "model_for_all_symbols.fit(X_train, y_train)\n",
    "\n",
    "# stock_models[symbol] = model\n",
    "\n",
    "y_pred = model_for_all_symbols.predict(X_test)\n",
    "accuracy = accuracy_score(y_test, y_pred)\n",
    "print(f'Accuracy: {accuracy}')\n",
    "print(classification_report(y_test, y_pred))"
   ]
  },
  {
   "cell_type": "code",
   "execution_count": 202,
   "id": "848998f1",
   "metadata": {},
   "outputs": [
    {
     "name": "stdout",
     "output_type": "stream",
     "text": [
      "Predicted probability of stock price increase for AAPL: 0.5294024583084233\n",
      "Predicted probability of stock price increase for GOOGL: 0.5311319923034261\n",
      "Predicted probability of stock price increase for MSFT: 0.5369902787343459\n",
      "Predicted probability of stock price increase for AMZN: 0.5397360439482429\n",
      "Predicted probability of stock price increase for TSLA: 0.5705420616809309\n"
     ]
    }
   ],
   "source": [
    "predictions = {}\n",
    "for symbol in stock_symbols:\n",
    "#     stock_data = fetch_and_process_data(symbol, start_date, end_date)\n",
    "    stock_data = stocks[symbol]\n",
    "    latest_data = stock_data.iloc[-1][features].values.reshape(1, -1)\n",
    "    probability = model_for_all_symbols.predict_proba(latest_data)[0][1]\n",
    "    predictions[symbol] = probability\n",
    "    print(f'Predicted probability of stock price increase for {symbol}: {probability}')"
   ]
  },
  {
   "cell_type": "code",
   "execution_count": 211,
   "id": "e75bfaf6",
   "metadata": {},
   "outputs": [
    {
     "data": {
      "text/plain": [
       "array([0.47059754, 0.52940246])"
      ]
     },
     "execution_count": 211,
     "metadata": {},
     "output_type": "execute_result"
    }
   ],
   "source": [
    "stock_data = stocks[\"AAPL\"]\n",
    "latest_data = stock_data.iloc[-1][features].values.reshape(1, -1)\n",
    "model_for_all_symbols.predict_proba(latest_data)[0]"
   ]
  },
  {
   "cell_type": "code",
   "execution_count": 209,
   "id": "6e343de5",
   "metadata": {},
   "outputs": [
    {
     "data": {
      "text/html": [
       "<div>\n",
       "<style scoped>\n",
       "    .dataframe tbody tr th:only-of-type {\n",
       "        vertical-align: middle;\n",
       "    }\n",
       "\n",
       "    .dataframe tbody tr th {\n",
       "        vertical-align: top;\n",
       "    }\n",
       "\n",
       "    .dataframe thead th {\n",
       "        text-align: right;\n",
       "    }\n",
       "</style>\n",
       "<table border=\"1\" class=\"dataframe\">\n",
       "  <thead>\n",
       "    <tr style=\"text-align: right;\">\n",
       "      <th></th>\n",
       "      <th>Close</th>\n",
       "      <th>Target</th>\n",
       "      <th>Daily_Return</th>\n",
       "      <th>symbol</th>\n",
       "    </tr>\n",
       "    <tr>\n",
       "      <th>Date</th>\n",
       "      <th></th>\n",
       "      <th></th>\n",
       "      <th></th>\n",
       "      <th></th>\n",
       "    </tr>\n",
       "  </thead>\n",
       "  <tbody>\n",
       "    <tr>\n",
       "      <th>2024-07-19</th>\n",
       "      <td>224.309998</td>\n",
       "      <td>0</td>\n",
       "      <td>0.000580</td>\n",
       "      <td>AAPL</td>\n",
       "    </tr>\n",
       "    <tr>\n",
       "      <th>2024-07-19</th>\n",
       "      <td>177.660004</td>\n",
       "      <td>0</td>\n",
       "      <td>-0.000169</td>\n",
       "      <td>GOOGL</td>\n",
       "    </tr>\n",
       "    <tr>\n",
       "      <th>2024-07-19</th>\n",
       "      <td>437.109985</td>\n",
       "      <td>0</td>\n",
       "      <td>-0.007403</td>\n",
       "      <td>MSFT</td>\n",
       "    </tr>\n",
       "    <tr>\n",
       "      <th>2024-07-19</th>\n",
       "      <td>183.130005</td>\n",
       "      <td>0</td>\n",
       "      <td>-0.003374</td>\n",
       "      <td>AMZN</td>\n",
       "    </tr>\n",
       "    <tr>\n",
       "      <th>2024-07-19</th>\n",
       "      <td>239.199997</td>\n",
       "      <td>0</td>\n",
       "      <td>-0.040244</td>\n",
       "      <td>TSLA</td>\n",
       "    </tr>\n",
       "  </tbody>\n",
       "</table>\n",
       "</div>"
      ],
      "text/plain": [
       "                 Close  Target  Daily_Return symbol\n",
       "Date                                               \n",
       "2024-07-19  224.309998       0      0.000580   AAPL\n",
       "2024-07-19  177.660004       0     -0.000169  GOOGL\n",
       "2024-07-19  437.109985       0     -0.007403   MSFT\n",
       "2024-07-19  183.130005       0     -0.003374   AMZN\n",
       "2024-07-19  239.199997       0     -0.040244   TSLA"
      ]
     },
     "execution_count": 209,
     "metadata": {},
     "output_type": "execute_result"
    }
   ],
   "source": [
    "final_stock_df.loc[\"2024-07-19\"][cols_to_check]"
   ]
  },
  {
   "cell_type": "code",
   "execution_count": 206,
   "id": "74a48349",
   "metadata": {},
   "outputs": [
    {
     "data": {
      "text/html": [
       "<div>\n",
       "<style scoped>\n",
       "    .dataframe tbody tr th:only-of-type {\n",
       "        vertical-align: middle;\n",
       "    }\n",
       "\n",
       "    .dataframe tbody tr th {\n",
       "        vertical-align: top;\n",
       "    }\n",
       "\n",
       "    .dataframe thead th {\n",
       "        text-align: right;\n",
       "    }\n",
       "</style>\n",
       "<table border=\"1\" class=\"dataframe\">\n",
       "  <thead>\n",
       "    <tr style=\"text-align: right;\">\n",
       "      <th></th>\n",
       "      <th>Close</th>\n",
       "      <th>Target</th>\n",
       "      <th>Daily_Return</th>\n",
       "      <th>symbol</th>\n",
       "    </tr>\n",
       "    <tr>\n",
       "      <th>Date</th>\n",
       "      <th></th>\n",
       "      <th></th>\n",
       "      <th></th>\n",
       "      <th></th>\n",
       "    </tr>\n",
       "  </thead>\n",
       "  <tbody>\n",
       "    <tr>\n",
       "      <th>2024-07-15</th>\n",
       "      <td>252.639999</td>\n",
       "      <td>1</td>\n",
       "      <td>0.017766</td>\n",
       "      <td>TSLA</td>\n",
       "    </tr>\n",
       "    <tr>\n",
       "      <th>2024-07-16</th>\n",
       "      <td>256.559998</td>\n",
       "      <td>0</td>\n",
       "      <td>0.015516</td>\n",
       "      <td>TSLA</td>\n",
       "    </tr>\n",
       "    <tr>\n",
       "      <th>2024-07-17</th>\n",
       "      <td>248.500000</td>\n",
       "      <td>1</td>\n",
       "      <td>-0.031416</td>\n",
       "      <td>TSLA</td>\n",
       "    </tr>\n",
       "    <tr>\n",
       "      <th>2024-07-18</th>\n",
       "      <td>249.229996</td>\n",
       "      <td>0</td>\n",
       "      <td>0.002938</td>\n",
       "      <td>TSLA</td>\n",
       "    </tr>\n",
       "    <tr>\n",
       "      <th>2024-07-19</th>\n",
       "      <td>239.199997</td>\n",
       "      <td>0</td>\n",
       "      <td>-0.040244</td>\n",
       "      <td>TSLA</td>\n",
       "    </tr>\n",
       "  </tbody>\n",
       "</table>\n",
       "</div>"
      ],
      "text/plain": [
       "                 Close  Target  Daily_Return symbol\n",
       "Date                                               \n",
       "2024-07-15  252.639999       1      0.017766   TSLA\n",
       "2024-07-16  256.559998       0      0.015516   TSLA\n",
       "2024-07-17  248.500000       1     -0.031416   TSLA\n",
       "2024-07-18  249.229996       0      0.002938   TSLA\n",
       "2024-07-19  239.199997       0     -0.040244   TSLA"
      ]
     },
     "execution_count": 206,
     "metadata": {},
     "output_type": "execute_result"
    }
   ],
   "source": [
    "cols_to_check = [\"Close\", \"Target\", \"Daily_Return\", \"symbol\"]\n",
    "final_stock_df.iloc[-5:][cols_to_check]"
   ]
  },
  {
   "cell_type": "code",
   "execution_count": null,
   "id": "b2649c2e",
   "metadata": {},
   "outputs": [],
   "source": [
    "#with XGBoost"
   ]
  },
  {
   "cell_type": "code",
   "execution_count": 218,
   "id": "9658643c",
   "metadata": {},
   "outputs": [
    {
     "name": "stderr",
     "output_type": "stream",
     "text": [
      "[*********************100%%**********************]  1 of 1 completed\n",
      "[*********************100%%**********************]  1 of 1 completed\n",
      "[*********************100%%**********************]  1 of 1 completed\n",
      "[*********************100%%**********************]  1 of 1 completed\n",
      "[*********************100%%**********************]  1 of 1 completed\n"
     ]
    },
    {
     "name": "stdout",
     "output_type": "stream",
     "text": [
      "Average accuracy: 0.5082780300384211\n"
     ]
    }
   ],
   "source": [
    "stock_symbols = ['AAPL', 'GOOGL', 'MSFT', 'AMZN', 'TSLA']  # Add more stock symbols as needed\n",
    "features = ['MA_50', 'MA_200', 'EMA_50', 'EMA_200', 'Volatility', 'Daily_Return', 'RSI', 'Stochastic', 'ADX', 'OBV', 'MACD', 'MACD_Signal', 'MACD_Diff', 'BB_High', 'BB_Low']\n",
    "start_date = '2010-01-01'\n",
    "end_date = '2024-07-21'\n",
    "\n",
    "stock_models = {}\n",
    "stocks = {}\n",
    "n_splits = 5\n",
    "stocks_list = []\n",
    "\n",
    "for symbol in stock_symbols:\n",
    "    stock_data = fetch_and_process_data(symbol, start_date, end_date)\n",
    "    stocks[symbol] = stock_data\n",
    "    stocks_list.append(stock_data)\n",
    "\n",
    "final_stock_df = pd.concat(stocks_list, ignore_index=False) \n",
    "X = final_stock_df[features]\n",
    "y = final_stock_df['Target']\n",
    "\n",
    "tscv = TimeSeriesSplit(n_splits=n_splits)\n",
    "\n",
    "accuracies = []\n",
    "reports = []\n",
    "\n",
    "for train_index, test_index in tscv.split(X):\n",
    "    X_train, X_test = X.iloc[train_index], X.iloc[test_index]\n",
    "    y_train, y_test = y.iloc[train_index], y.iloc[test_index]\n",
    "\n",
    "    model_xgb = XGBClassifier(use_label_encoder=False, eval_metric='logloss')\n",
    "    model_xgb.fit(X_train, y_train)\n",
    "\n",
    "    y_pred = model_xgb.predict(X_test)\n",
    "    accuracies.append(accuracy_score(y_test, y_pred))\n",
    "    reports.append(classification_report(y_test, y_pred))\n",
    "\n",
    "print(f'Average accuracy: {sum(accuracies) / len(accuracies)}')\n",
    "#     for report in reports:\n",
    "#         print(report)"
   ]
  },
  {
   "cell_type": "code",
   "execution_count": 219,
   "id": "f600c2ae",
   "metadata": {},
   "outputs": [
    {
     "name": "stdout",
     "output_type": "stream",
     "text": [
      "Predicted probability of stock price increase for AAPL: 0.23118461668491364\n",
      "Predicted probability of stock price increase for GOOGL: 0.21359428763389587\n",
      "Predicted probability of stock price increase for MSFT: 0.09430400282144547\n",
      "Predicted probability of stock price increase for AMZN: 0.14635421335697174\n",
      "Predicted probability of stock price increase for TSLA: 0.5241703987121582\n"
     ]
    }
   ],
   "source": [
    "predictions = {}\n",
    "for symbol in stock_symbols:\n",
    "#     stock_data = fetch_and_process_data(symbol, alpha_vantage_api_key)\n",
    "    stock_data = stocks[symbol]\n",
    "    latest_data = stock_data.iloc[-1][features].values.reshape(1, -1)\n",
    "    probability = model_xgb.predict_proba(latest_data)[0][1]\n",
    "    predictions[symbol] = probability\n",
    "    print(f'Predicted probability of stock price increase for {symbol}: {probability}')"
   ]
  },
  {
   "cell_type": "code",
   "execution_count": 226,
   "id": "f6340459",
   "metadata": {},
   "outputs": [
    {
     "name": "stdout",
     "output_type": "stream",
     "text": [
      "              precision    recall  f1-score   support\n",
      "\n",
      "           0       0.48      0.42      0.45      1357\n",
      "           1       0.53      0.59      0.56      1506\n",
      "\n",
      "    accuracy                           0.51      2863\n",
      "   macro avg       0.50      0.50      0.50      2863\n",
      "weighted avg       0.51      0.51      0.50      2863\n",
      "\n",
      "              precision    recall  f1-score   support\n",
      "\n",
      "           0       0.51      0.41      0.46      1384\n",
      "           1       0.53      0.63      0.58      1479\n",
      "\n",
      "    accuracy                           0.52      2863\n",
      "   macro avg       0.52      0.52      0.52      2863\n",
      "weighted avg       0.52      0.52      0.52      2863\n",
      "\n",
      "              precision    recall  f1-score   support\n",
      "\n",
      "           0       0.49      0.43      0.46      1351\n",
      "           1       0.54      0.59      0.56      1512\n",
      "\n",
      "    accuracy                           0.52      2863\n",
      "   macro avg       0.51      0.51      0.51      2863\n",
      "weighted avg       0.51      0.52      0.51      2863\n",
      "\n",
      "              precision    recall  f1-score   support\n",
      "\n",
      "           0       0.49      0.38      0.43      1351\n",
      "           1       0.54      0.64      0.58      1512\n",
      "\n",
      "    accuracy                           0.52      2863\n",
      "   macro avg       0.51      0.51      0.50      2863\n",
      "weighted avg       0.51      0.52      0.51      2863\n",
      "\n",
      "              precision    recall  f1-score   support\n",
      "\n",
      "           0       0.45      0.48      0.47      1369\n",
      "           1       0.50      0.47      0.49      1494\n",
      "\n",
      "    accuracy                           0.48      2863\n",
      "   macro avg       0.48      0.48      0.48      2863\n",
      "weighted avg       0.48      0.48      0.48      2863\n",
      "\n"
     ]
    }
   ],
   "source": [
    "for report in reports:\n",
    "    print(report)"
   ]
  },
  {
   "cell_type": "code",
   "execution_count": 220,
   "id": "04e989df",
   "metadata": {},
   "outputs": [
    {
     "data": {
      "text/plain": [
       "-0.040243947162209914"
      ]
     },
     "execution_count": 220,
     "metadata": {},
     "output_type": "execute_result"
    }
   ],
   "source": [
    "stock_data = stocks['TSLA']\n",
    "latest_data = stock_data.iloc[-1][features]\n",
    "latest_data['Daily_Return']"
   ]
  },
  {
   "cell_type": "code",
   "execution_count": 229,
   "id": "9798f093",
   "metadata": {},
   "outputs": [
    {
     "data": {
      "text/plain": [
       "array([0.24856168, 0.7514383 ], dtype=float32)"
      ]
     },
     "execution_count": 229,
     "metadata": {},
     "output_type": "execute_result"
    }
   ],
   "source": [
    "stock_data = stocks[\"TSLA\"]\n",
    "latest_data = stock_data.iloc[-2][features].values.reshape(1, -1)\n",
    "model_xgb.predict_proba(latest_data)[0]"
   ]
  },
  {
   "cell_type": "code",
   "execution_count": 225,
   "id": "6c1c5943",
   "metadata": {},
   "outputs": [
    {
     "data": {
      "text/html": [
       "<div>\n",
       "<style scoped>\n",
       "    .dataframe tbody tr th:only-of-type {\n",
       "        vertical-align: middle;\n",
       "    }\n",
       "\n",
       "    .dataframe tbody tr th {\n",
       "        vertical-align: top;\n",
       "    }\n",
       "\n",
       "    .dataframe thead th {\n",
       "        text-align: right;\n",
       "    }\n",
       "</style>\n",
       "<table border=\"1\" class=\"dataframe\">\n",
       "  <thead>\n",
       "    <tr style=\"text-align: right;\">\n",
       "      <th></th>\n",
       "      <th>Close</th>\n",
       "      <th>Target</th>\n",
       "      <th>Daily_Return</th>\n",
       "      <th>symbol</th>\n",
       "    </tr>\n",
       "    <tr>\n",
       "      <th>Date</th>\n",
       "      <th></th>\n",
       "      <th></th>\n",
       "      <th></th>\n",
       "      <th></th>\n",
       "    </tr>\n",
       "  </thead>\n",
       "  <tbody>\n",
       "    <tr>\n",
       "      <th>2024-07-15</th>\n",
       "      <td>252.639999</td>\n",
       "      <td>1</td>\n",
       "      <td>0.017766</td>\n",
       "      <td>TSLA</td>\n",
       "    </tr>\n",
       "    <tr>\n",
       "      <th>2024-07-16</th>\n",
       "      <td>256.559998</td>\n",
       "      <td>0</td>\n",
       "      <td>0.015516</td>\n",
       "      <td>TSLA</td>\n",
       "    </tr>\n",
       "    <tr>\n",
       "      <th>2024-07-17</th>\n",
       "      <td>248.500000</td>\n",
       "      <td>1</td>\n",
       "      <td>-0.031416</td>\n",
       "      <td>TSLA</td>\n",
       "    </tr>\n",
       "    <tr>\n",
       "      <th>2024-07-18</th>\n",
       "      <td>249.229996</td>\n",
       "      <td>0</td>\n",
       "      <td>0.002938</td>\n",
       "      <td>TSLA</td>\n",
       "    </tr>\n",
       "    <tr>\n",
       "      <th>2024-07-19</th>\n",
       "      <td>239.199997</td>\n",
       "      <td>0</td>\n",
       "      <td>-0.040244</td>\n",
       "      <td>TSLA</td>\n",
       "    </tr>\n",
       "  </tbody>\n",
       "</table>\n",
       "</div>"
      ],
      "text/plain": [
       "                 Close  Target  Daily_Return symbol\n",
       "Date                                               \n",
       "2024-07-15  252.639999       1      0.017766   TSLA\n",
       "2024-07-16  256.559998       0      0.015516   TSLA\n",
       "2024-07-17  248.500000       1     -0.031416   TSLA\n",
       "2024-07-18  249.229996       0      0.002938   TSLA\n",
       "2024-07-19  239.199997       0     -0.040244   TSLA"
      ]
     },
     "execution_count": 225,
     "metadata": {},
     "output_type": "execute_result"
    }
   ],
   "source": [
    "cols_to_check = [\"Close\", \"Target\", \"Daily_Return\", \"symbol\"]\n",
    "final_stock_df[final_stock_df[\"symbol\"] == 'TSLA'].iloc[-5:][cols_to_check]"
   ]
  },
  {
   "cell_type": "code",
   "execution_count": null,
   "id": "898e3a70",
   "metadata": {},
   "outputs": [],
   "source": [
    "#use RandomizedSearchCV"
   ]
  },
  {
   "cell_type": "code",
   "execution_count": 7,
   "id": "d0e36989",
   "metadata": {},
   "outputs": [
    {
     "name": "stderr",
     "output_type": "stream",
     "text": [
      "[*********************100%%**********************]  1 of 1 completed\n",
      "[*********************100%%**********************]  1 of 1 completed\n",
      "[*********************100%%**********************]  1 of 1 completed\n",
      "[*********************100%%**********************]  1 of 1 completed\n",
      "[*********************100%%**********************]  1 of 1 completed\n"
     ]
    },
    {
     "name": "stdout",
     "output_type": "stream",
     "text": [
      "Fitting 5 folds for each of 20 candidates, totalling 100 fits\n",
      "              precision    recall  f1-score   support\n",
      "\n",
      "           0       0.79      0.59      0.67      8174\n",
      "           1       0.70      0.86      0.77      9009\n",
      "\n",
      "    accuracy                           0.73     17183\n",
      "   macro avg       0.75      0.72      0.72     17183\n",
      "weighted avg       0.74      0.73      0.73     17183\n",
      "\n"
     ]
    }
   ],
   "source": [
    "stock_symbols = ['AAPL', 'GOOGL', 'MSFT', 'AMZN', 'TSLA']  # Add more stock symbols as needed\n",
    "features = ['MA_50', 'MA_200', 'EMA_50', 'EMA_200', 'Volatility', 'Daily_Return', 'RSI', 'Stochastic', 'ADX', 'OBV', 'MACD', 'MACD_Signal', 'MACD_Diff', 'BB_High', 'BB_Low']\n",
    "start_date = '2010-01-01'\n",
    "end_date = '2024-07-23'\n",
    "\n",
    "stock_models = {}\n",
    "stocks = {}\n",
    "n_splits = 5\n",
    "stocks_list = []\n",
    "\n",
    "for symbol in stock_symbols:\n",
    "    stock_data = fetch_and_process_data(symbol, start_date, end_date)\n",
    "    stocks[symbol] = stock_data\n",
    "    stocks_list.append(stock_data.iloc[:-1])\n",
    "\n",
    "final_stock_df = pd.concat(stocks_list, ignore_index=False) \n",
    "X = final_stock_df[features]\n",
    "y = final_stock_df['Target']\n",
    "\n",
    "tscv = TimeSeriesSplit(n_splits=5)\n",
    "\n",
    "# XGBoost Classifier\n",
    "model = XGBClassifier(use_label_encoder=False, eval_metric='logloss')\n",
    "\n",
    "# Hyperparameter tuning\n",
    "param_distributions = {\n",
    "    'n_estimators': [50, 100, 200],\n",
    "    'learning_rate': [0.01, 0.05, 0.1],\n",
    "    'max_depth': [3, 4, 5, 6],\n",
    "    'colsample_bytree': [0.3, 0.7],\n",
    "    'subsample': [0.7, 0.9],\n",
    "    'reg_alpha': [0, 0.1, 1],\n",
    "    'reg_lambda': [1, 1.5, 2]\n",
    "}\n",
    "\n",
    "random_search = RandomizedSearchCV(model, param_distributions, n_iter=20, scoring='precision', cv=tscv, verbose=1, n_jobs=-1)\n",
    "\n",
    "# Fit model using TimeSeriesSplit\n",
    "random_search.fit(X, y)\n",
    "\n",
    "# Evaluate model\n",
    "y_pred = random_search.predict(X)\n",
    "print(classification_report(y, y_pred))"
   ]
  },
  {
   "cell_type": "code",
   "execution_count": 8,
   "id": "c2a45f89",
   "metadata": {},
   "outputs": [
    {
     "name": "stdout",
     "output_type": "stream",
     "text": [
      "Predicted probability of stock price for date 2024-07-22 00:00:00 increase for AAPL: 0.5194933414459229\n",
      "Predicted probability of stock price for date 2024-07-22 00:00:00 increase for GOOGL: 0.46810296177864075\n",
      "Predicted probability of stock price for date 2024-07-22 00:00:00 increase for MSFT: 0.462854266166687\n",
      "Predicted probability of stock price for date 2024-07-22 00:00:00 increase for AMZN: 0.5042309761047363\n",
      "Predicted probability of stock price for date 2024-07-22 00:00:00 increase for TSLA: 0.6285691261291504\n"
     ]
    }
   ],
   "source": [
    "predictions = {}\n",
    "for symbol in stock_symbols:\n",
    "    stock_data = stocks[symbol]\n",
    "    latest_data = stock_data.iloc[-1][features].values.reshape(1, -1)\n",
    "    probability = random_search.predict_proba(latest_data)[0][1]\n",
    "    predictions[symbol] = probability\n",
    "    print(f'Predicted probability of stock price for date {stock_data.iloc[-1].name} increase for {symbol}: {probability}')"
   ]
  },
  {
   "cell_type": "code",
   "execution_count": 10,
   "id": "954bb0e7",
   "metadata": {},
   "outputs": [
    {
     "data": {
      "text/plain": [
       "Close           251.509995\n",
       "Target                   0\n",
       "Daily_Return      0.051463\n",
       "symbol                TSLA\n",
       "Name: 2024-07-22 00:00:00, dtype: object"
      ]
     },
     "execution_count": 10,
     "metadata": {},
     "output_type": "execute_result"
    }
   ],
   "source": [
    "cols_to_check = [\"Close\", \"Target\", \"Daily_Return\", \"symbol\"]\n",
    "stocks[\"TSLA\"].loc[\"2024-07-22\"][cols_to_check]"
   ]
  },
  {
   "cell_type": "code",
   "execution_count": 11,
   "id": "389918f4",
   "metadata": {},
   "outputs": [
    {
     "data": {
      "text/html": [
       "<div>\n",
       "<style scoped>\n",
       "    .dataframe tbody tr th:only-of-type {\n",
       "        vertical-align: middle;\n",
       "    }\n",
       "\n",
       "    .dataframe tbody tr th {\n",
       "        vertical-align: top;\n",
       "    }\n",
       "\n",
       "    .dataframe thead th {\n",
       "        text-align: right;\n",
       "    }\n",
       "</style>\n",
       "<table border=\"1\" class=\"dataframe\">\n",
       "  <thead>\n",
       "    <tr style=\"text-align: right;\">\n",
       "      <th></th>\n",
       "      <th>Close</th>\n",
       "      <th>Target</th>\n",
       "      <th>Daily_Return</th>\n",
       "      <th>symbol</th>\n",
       "    </tr>\n",
       "    <tr>\n",
       "      <th>Date</th>\n",
       "      <th></th>\n",
       "      <th></th>\n",
       "      <th></th>\n",
       "      <th></th>\n",
       "    </tr>\n",
       "  </thead>\n",
       "  <tbody>\n",
       "    <tr>\n",
       "      <th>2024-07-18</th>\n",
       "      <td>249.229996</td>\n",
       "      <td>0</td>\n",
       "      <td>0.002938</td>\n",
       "      <td>TSLA</td>\n",
       "    </tr>\n",
       "    <tr>\n",
       "      <th>2024-07-19</th>\n",
       "      <td>239.199997</td>\n",
       "      <td>1</td>\n",
       "      <td>-0.040244</td>\n",
       "      <td>TSLA</td>\n",
       "    </tr>\n",
       "    <tr>\n",
       "      <th>2024-07-22</th>\n",
       "      <td>251.509995</td>\n",
       "      <td>0</td>\n",
       "      <td>0.051463</td>\n",
       "      <td>TSLA</td>\n",
       "    </tr>\n",
       "  </tbody>\n",
       "</table>\n",
       "</div>"
      ],
      "text/plain": [
       "                 Close  Target  Daily_Return symbol\n",
       "Date                                               \n",
       "2024-07-18  249.229996       0      0.002938   TSLA\n",
       "2024-07-19  239.199997       1     -0.040244   TSLA\n",
       "2024-07-22  251.509995       0      0.051463   TSLA"
      ]
     },
     "execution_count": 11,
     "metadata": {},
     "output_type": "execute_result"
    }
   ],
   "source": [
    "stocks[\"TSLA\"].iloc[-3:][cols_to_check]"
   ]
  },
  {
   "cell_type": "code",
   "execution_count": 307,
   "id": "447cf02b",
   "metadata": {},
   "outputs": [
    {
     "data": {
      "text/html": [
       "<div>\n",
       "<style scoped>\n",
       "    .dataframe tbody tr th:only-of-type {\n",
       "        vertical-align: middle;\n",
       "    }\n",
       "\n",
       "    .dataframe tbody tr th {\n",
       "        vertical-align: top;\n",
       "    }\n",
       "\n",
       "    .dataframe thead th {\n",
       "        text-align: right;\n",
       "    }\n",
       "</style>\n",
       "<table border=\"1\" class=\"dataframe\">\n",
       "  <thead>\n",
       "    <tr style=\"text-align: right;\">\n",
       "      <th></th>\n",
       "      <th>Feature</th>\n",
       "      <th>Importance</th>\n",
       "    </tr>\n",
       "  </thead>\n",
       "  <tbody>\n",
       "    <tr>\n",
       "      <th>3</th>\n",
       "      <td>EMA_200</td>\n",
       "      <td>0.075156</td>\n",
       "    </tr>\n",
       "    <tr>\n",
       "      <th>8</th>\n",
       "      <td>ADX</td>\n",
       "      <td>0.071294</td>\n",
       "    </tr>\n",
       "    <tr>\n",
       "      <th>1</th>\n",
       "      <td>MA_200</td>\n",
       "      <td>0.070484</td>\n",
       "    </tr>\n",
       "    <tr>\n",
       "      <th>14</th>\n",
       "      <td>BB_Low</td>\n",
       "      <td>0.069491</td>\n",
       "    </tr>\n",
       "    <tr>\n",
       "      <th>9</th>\n",
       "      <td>OBV</td>\n",
       "      <td>0.068943</td>\n",
       "    </tr>\n",
       "    <tr>\n",
       "      <th>13</th>\n",
       "      <td>BB_High</td>\n",
       "      <td>0.067671</td>\n",
       "    </tr>\n",
       "    <tr>\n",
       "      <th>11</th>\n",
       "      <td>MACD_Signal</td>\n",
       "      <td>0.066402</td>\n",
       "    </tr>\n",
       "    <tr>\n",
       "      <th>6</th>\n",
       "      <td>RSI</td>\n",
       "      <td>0.065695</td>\n",
       "    </tr>\n",
       "    <tr>\n",
       "      <th>7</th>\n",
       "      <td>Stochastic</td>\n",
       "      <td>0.065091</td>\n",
       "    </tr>\n",
       "    <tr>\n",
       "      <th>2</th>\n",
       "      <td>EMA_50</td>\n",
       "      <td>0.064943</td>\n",
       "    </tr>\n",
       "    <tr>\n",
       "      <th>5</th>\n",
       "      <td>Daily_Return</td>\n",
       "      <td>0.064142</td>\n",
       "    </tr>\n",
       "    <tr>\n",
       "      <th>12</th>\n",
       "      <td>MACD_Diff</td>\n",
       "      <td>0.063066</td>\n",
       "    </tr>\n",
       "    <tr>\n",
       "      <th>10</th>\n",
       "      <td>MACD</td>\n",
       "      <td>0.063053</td>\n",
       "    </tr>\n",
       "    <tr>\n",
       "      <th>0</th>\n",
       "      <td>MA_50</td>\n",
       "      <td>0.062325</td>\n",
       "    </tr>\n",
       "    <tr>\n",
       "      <th>4</th>\n",
       "      <td>Volatility</td>\n",
       "      <td>0.062242</td>\n",
       "    </tr>\n",
       "  </tbody>\n",
       "</table>\n",
       "</div>"
      ],
      "text/plain": [
       "         Feature  Importance\n",
       "3        EMA_200    0.075156\n",
       "8            ADX    0.071294\n",
       "1         MA_200    0.070484\n",
       "14        BB_Low    0.069491\n",
       "9            OBV    0.068943\n",
       "13       BB_High    0.067671\n",
       "11   MACD_Signal    0.066402\n",
       "6            RSI    0.065695\n",
       "7     Stochastic    0.065091\n",
       "2         EMA_50    0.064943\n",
       "5   Daily_Return    0.064142\n",
       "12     MACD_Diff    0.063066\n",
       "10          MACD    0.063053\n",
       "0          MA_50    0.062325\n",
       "4     Volatility    0.062242"
      ]
     },
     "execution_count": 307,
     "metadata": {},
     "output_type": "execute_result"
    }
   ],
   "source": [
    "feature_importance = random_search.best_estimator_.feature_importances_\n",
    "features_df = pd.DataFrame({'Feature': features, 'Importance': feature_importance})\n",
    "features_df = features_df.sort_values(by='Importance', ascending=False)\n",
    "features_df\n"
   ]
  },
  {
   "cell_type": "code",
   "execution_count": 312,
   "id": "9a90c15f",
   "metadata": {},
   "outputs": [
    {
     "data": {
      "image/png": "[encoded data removed]",
      "text/plain": [
       "<Figure size 1000x800 with 1 Axes>"
      ]
     },
     "metadata": {},
     "output_type": "display_data"
    }
   ],
   "source": [
    "# Plot feature importance\n",
    "plt.figure(figsize=(10, 8))\n",
    "plt.barh(features_df['Feature'], features_df['Importance'])\n",
    "plt.xlabel('Importance')\n",
    "plt.ylabel('Feature')\n",
    "plt.title('Feature Importance')\n",
    "plt.gca().invert_yaxis()\n",
    "plt.show()"
   ]
  },
  {
   "cell_type": "code",
   "execution_count": 317,
   "id": "31c7f3ef",
   "metadata": {},
   "outputs": [
    {
     "data": {
      "image/png": "[encoded data removed]",
      "text/plain": [
       "<Figure size 1500x1000 with 2 Axes>"
      ]
     },
     "metadata": {},
     "output_type": "display_data"
    }
   ],
   "source": [
    "correlation_matrix = X.corr()\n",
    "\n",
    "# Plot the correlation matrix\n",
    "plt.figure(figsize=(15, 10))\n",
    "sns.heatmap(correlation_matrix, annot=True, cmap='coolwarm', fmt='.2f')\n",
    "plt.title('Feature Correlation Matrix')\n",
    "plt.show()"
   ]
  },
  {
   "cell_type": "code",
   "execution_count": 270,
   "id": "54052972",
   "metadata": {},
   "outputs": [
    {
     "name": "stderr",
     "output_type": "stream",
     "text": [
      "[*********************100%%**********************]  1 of 1 completed\n"
     ]
    }
   ],
   "source": []
  }
 ],
 "metadata": {
  "kernelspec": {
   "display_name": "Python 3 (ipykernel)",
   "language": "python",
   "name": "python3"
  },
  "language_info": {
   "codemirror_mode": {
    "name": "ipython",
    "version": 3
   },
   "file_extension": ".py",
   "mimetype": "text/x-python",
   "name": "python",
   "nbconvert_exporter": "python",
   "pygments_lexer": "ipython3",
   "version": "3.11.2"
  }
 },
 "nbformat": 4,
 "nbformat_minor": 5
}
