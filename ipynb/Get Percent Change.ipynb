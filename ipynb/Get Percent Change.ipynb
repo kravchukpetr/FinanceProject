{
 "cells": [
  {
   "cell_type": "code",
   "execution_count": 62,
   "metadata": {},
   "outputs": [
    {
     "name": "stdout",
     "output_type": "stream",
     "text": [
      "The autoreload extension is already loaded. To reload it, use:\n",
      "  %reload_ext autoreload\n"
     ]
    }
   ],
   "source": [
    "import datetime as dt\n",
    "import matplotlib.pyplot as plt\n",
    "from matplotlib import style\n",
    "# from mpl_finance import candlestick_ohlc\n",
    "import matplotlib.dates as mdates\n",
    "import pandas as pd\n",
    "import pyodbc\n",
    "import FinanceLib as fl\n",
    "import numpy as np\n",
    "from datetime import datetime\n",
    "import seaborn as sns\n",
    "style.use('ggplot')\n",
    "\n",
    "\n",
    "%matplotlib inline\n",
    "%load_ext autoreload\n",
    "%autoreload 2"
   ]
  },
  {
   "cell_type": "code",
   "execution_count": 3,
   "metadata": {},
   "outputs": [],
   "source": [
    "# fname  = 'C:/Users/40KravchukPV.REGION/Documents/Courses/FinanceProject Local/DB.config'\n",
    "fname  = 'C:/Dev/Python/FinanceProject/DB.config'\n",
    "config_dict = fl.ReadConnConfig(fname)\n",
    "con = pyodbc.connect(driver = config_dict['DRIVER'],server = config_dict['SERVER'], port = config_dict['PORT'], database = config_dict['DATABASE'], UID = config_dict['UID'], PWD = config_dict['PWD'], autocommit=True)"
   ]
  },
  {
   "cell_type": "code",
   "execution_count": 7,
   "metadata": {},
   "outputs": [],
   "source": [
    "tickers_list = ['ES', 'AAPL', 'AES', 'AIG']"
   ]
  },
  {
   "cell_type": "code",
   "execution_count": 8,
   "metadata": {},
   "outputs": [],
   "source": [
    "df = fl.GetStockQuoteFromDB(con, tickers_list, IsDtIndex = 1, IsStockIndex = 0, DateFrom = 'NULL', DateTo = 'NULL')"
   ]
  },
  {
   "cell_type": "code",
   "execution_count": 17,
   "metadata": {},
   "outputs": [
    {
     "data": {
      "text/html": [
       "<div>\n",
       "<style scoped>\n",
       "    .dataframe tbody tr th:only-of-type {\n",
       "        vertical-align: middle;\n",
       "    }\n",
       "\n",
       "    .dataframe tbody tr th {\n",
       "        vertical-align: top;\n",
       "    }\n",
       "\n",
       "    .dataframe thead th {\n",
       "        text-align: right;\n",
       "    }\n",
       "</style>\n",
       "<table border=\"1\" class=\"dataframe\">\n",
       "  <thead>\n",
       "    <tr style=\"text-align: right;\">\n",
       "      <th></th>\n",
       "      <th>Stock</th>\n",
       "      <th>OpenValue</th>\n",
       "      <th>HighValue</th>\n",
       "      <th>LowValue</th>\n",
       "      <th>CloseValue</th>\n",
       "      <th>AdjClose</th>\n",
       "      <th>Volume</th>\n",
       "      <th>LoadDt</th>\n",
       "    </tr>\n",
       "    <tr>\n",
       "      <th>Dt</th>\n",
       "      <th></th>\n",
       "      <th></th>\n",
       "      <th></th>\n",
       "      <th></th>\n",
       "      <th></th>\n",
       "      <th></th>\n",
       "      <th></th>\n",
       "      <th></th>\n",
       "    </tr>\n",
       "  </thead>\n",
       "  <tbody>\n",
       "    <tr>\n",
       "      <th>2015-12-31</th>\n",
       "      <td>AAPL</td>\n",
       "      <td>26.752501</td>\n",
       "      <td>26.757500</td>\n",
       "      <td>26.205000</td>\n",
       "      <td>26.315001</td>\n",
       "      <td>24.380093</td>\n",
       "      <td>163649200.0</td>\n",
       "      <td>2021-01-28 19:49:35.147</td>\n",
       "    </tr>\n",
       "    <tr>\n",
       "      <th>2015-12-31</th>\n",
       "      <td>AES</td>\n",
       "      <td>9.500000</td>\n",
       "      <td>9.730000</td>\n",
       "      <td>9.370000</td>\n",
       "      <td>9.570000</td>\n",
       "      <td>7.774692</td>\n",
       "      <td>5060200.0</td>\n",
       "      <td>2021-01-28 19:55:02.120</td>\n",
       "    </tr>\n",
       "    <tr>\n",
       "      <th>2015-12-31</th>\n",
       "      <td>AIG</td>\n",
       "      <td>62.299999</td>\n",
       "      <td>62.740002</td>\n",
       "      <td>61.959999</td>\n",
       "      <td>61.970001</td>\n",
       "      <td>54.062973</td>\n",
       "      <td>4909600.0</td>\n",
       "      <td>2021-01-28 19:55:51.460</td>\n",
       "    </tr>\n",
       "    <tr>\n",
       "      <th>2015-12-31</th>\n",
       "      <td>ES</td>\n",
       "      <td>51.889999</td>\n",
       "      <td>51.900002</td>\n",
       "      <td>50.549999</td>\n",
       "      <td>51.070000</td>\n",
       "      <td>43.896469</td>\n",
       "      <td>2081200.0</td>\n",
       "      <td>2021-01-28 20:53:03.533</td>\n",
       "    </tr>\n",
       "    <tr>\n",
       "      <th>2016-01-04</th>\n",
       "      <td>AAPL</td>\n",
       "      <td>25.652500</td>\n",
       "      <td>26.342501</td>\n",
       "      <td>25.500000</td>\n",
       "      <td>26.337500</td>\n",
       "      <td>24.400942</td>\n",
       "      <td>270597600.0</td>\n",
       "      <td>2021-01-28 19:49:35.160</td>\n",
       "    </tr>\n",
       "  </tbody>\n",
       "</table>\n",
       "</div>"
      ],
      "text/plain": [
       "           Stock  OpenValue  HighValue   LowValue  CloseValue   AdjClose  \\\n",
       "Dt                                                                         \n",
       "2015-12-31  AAPL  26.752501  26.757500  26.205000   26.315001  24.380093   \n",
       "2015-12-31   AES   9.500000   9.730000   9.370000    9.570000   7.774692   \n",
       "2015-12-31   AIG  62.299999  62.740002  61.959999   61.970001  54.062973   \n",
       "2015-12-31    ES  51.889999  51.900002  50.549999   51.070000  43.896469   \n",
       "2016-01-04  AAPL  25.652500  26.342501  25.500000   26.337500  24.400942   \n",
       "\n",
       "                 Volume                  LoadDt  \n",
       "Dt                                               \n",
       "2015-12-31  163649200.0 2021-01-28 19:49:35.147  \n",
       "2015-12-31    5060200.0 2021-01-28 19:55:02.120  \n",
       "2015-12-31    4909600.0 2021-01-28 19:55:51.460  \n",
       "2015-12-31    2081200.0 2021-01-28 20:53:03.533  \n",
       "2016-01-04  270597600.0 2021-01-28 19:49:35.160  "
      ]
     },
     "execution_count": 17,
     "metadata": {},
     "output_type": "execute_result"
    }
   ],
   "source": [
    "df.head()"
   ]
  },
  {
   "cell_type": "code",
   "execution_count": 21,
   "metadata": {},
   "outputs": [
    {
     "data": {
      "text/plain": [
       "Dt\n",
       "2015-12-31     24.380093\n",
       "2016-01-04     24.400942\n",
       "2016-01-05     23.789471\n",
       "2016-01-06     23.323915\n",
       "2016-01-07     22.339539\n",
       "                 ...    \n",
       "2021-03-09    121.089996\n",
       "2021-03-10    119.980003\n",
       "2021-03-11    121.959999\n",
       "2021-03-12    121.029999\n",
       "2021-03-15    123.989998\n",
       "Name: AdjClose, Length: 1306, dtype: float64"
      ]
     },
     "execution_count": 21,
     "metadata": {},
     "output_type": "execute_result"
    }
   ],
   "source": [
    " df[df['Stock']=='AAPL']['AdjClose']"
   ]
  },
  {
   "cell_type": "code",
   "execution_count": 23,
   "metadata": {},
   "outputs": [],
   "source": [
    "data = fl.GetAdjCloseInCol(tickers_list, df)"
   ]
  },
  {
   "cell_type": "code",
   "execution_count": 24,
   "metadata": {},
   "outputs": [
    {
     "data": {
      "text/html": [
       "<div>\n",
       "<style scoped>\n",
       "    .dataframe tbody tr th:only-of-type {\n",
       "        vertical-align: middle;\n",
       "    }\n",
       "\n",
       "    .dataframe tbody tr th {\n",
       "        vertical-align: top;\n",
       "    }\n",
       "\n",
       "    .dataframe thead th {\n",
       "        text-align: right;\n",
       "    }\n",
       "</style>\n",
       "<table border=\"1\" class=\"dataframe\">\n",
       "  <thead>\n",
       "    <tr style=\"text-align: right;\">\n",
       "      <th></th>\n",
       "      <th>ES</th>\n",
       "      <th>AAPL</th>\n",
       "      <th>AES</th>\n",
       "      <th>AIG</th>\n",
       "    </tr>\n",
       "    <tr>\n",
       "      <th>Dt</th>\n",
       "      <th></th>\n",
       "      <th></th>\n",
       "      <th></th>\n",
       "      <th></th>\n",
       "    </tr>\n",
       "  </thead>\n",
       "  <tbody>\n",
       "    <tr>\n",
       "      <th>2015-12-31</th>\n",
       "      <td>43.896469</td>\n",
       "      <td>24.380093</td>\n",
       "      <td>7.774692</td>\n",
       "      <td>54.062973</td>\n",
       "    </tr>\n",
       "    <tr>\n",
       "      <th>2016-01-04</th>\n",
       "      <td>43.733162</td>\n",
       "      <td>24.400942</td>\n",
       "      <td>7.660959</td>\n",
       "      <td>52.719463</td>\n",
       "    </tr>\n",
       "    <tr>\n",
       "      <th>2016-01-05</th>\n",
       "      <td>44.137138</td>\n",
       "      <td>23.789471</td>\n",
       "      <td>7.766572</td>\n",
       "      <td>52.902676</td>\n",
       "    </tr>\n",
       "    <tr>\n",
       "      <th>2016-01-06</th>\n",
       "      <td>44.231693</td>\n",
       "      <td>23.323915</td>\n",
       "      <td>7.498477</td>\n",
       "      <td>52.126232</td>\n",
       "    </tr>\n",
       "    <tr>\n",
       "      <th>2016-01-07</th>\n",
       "      <td>43.956642</td>\n",
       "      <td>22.339539</td>\n",
       "      <td>7.311625</td>\n",
       "      <td>50.878693</td>\n",
       "    </tr>\n",
       "  </tbody>\n",
       "</table>\n",
       "</div>"
      ],
      "text/plain": [
       "                   ES       AAPL       AES        AIG\n",
       "Dt                                                   \n",
       "2015-12-31  43.896469  24.380093  7.774692  54.062973\n",
       "2016-01-04  43.733162  24.400942  7.660959  52.719463\n",
       "2016-01-05  44.137138  23.789471  7.766572  52.902676\n",
       "2016-01-06  44.231693  23.323915  7.498477  52.126232\n",
       "2016-01-07  43.956642  22.339539  7.311625  50.878693"
      ]
     },
     "execution_count": 24,
     "metadata": {},
     "output_type": "execute_result"
    }
   ],
   "source": [
    "data.head()"
   ]
  },
  {
   "cell_type": "code",
   "execution_count": 26,
   "metadata": {},
   "outputs": [
    {
     "data": {
      "image/png": "[encoded data removed]",
      "text/plain": [
       "<Figure size 720x504 with 1 Axes>"
      ]
     },
     "metadata": {
      "needs_background": "light"
     },
     "output_type": "display_data"
    }
   ],
   "source": [
    "((data.pct_change()+1).cumprod()).plot(figsize=(10, 7))\n",
    "# Show the legend\n",
    "plt.legend()\n",
    "\n",
    "# Define the label for the title of the figure\n",
    "plt.title(\"Adjusted Close Price\", fontsize=16)\n",
    "\n",
    "# Define the labels for x-axis and y-axis\n",
    "plt.ylabel('Price', fontsize=14)\n",
    "plt.xlabel('Year', fontsize=14)\n",
    "\n",
    "# Plot the grid lines\n",
    "plt.grid(which=\"major\", color='k',  linestyle='-.', linewidth=0.5)\n",
    "plt.show()"
   ]
  },
  {
   "cell_type": "code",
   "execution_count": 38,
   "metadata": {},
   "outputs": [
    {
     "data": {
      "text/html": [
       "<div>\n",
       "<style scoped>\n",
       "    .dataframe tbody tr th:only-of-type {\n",
       "        vertical-align: middle;\n",
       "    }\n",
       "\n",
       "    .dataframe tbody tr th {\n",
       "        vertical-align: top;\n",
       "    }\n",
       "\n",
       "    .dataframe thead th {\n",
       "        text-align: right;\n",
       "    }\n",
       "</style>\n",
       "<table border=\"1\" class=\"dataframe\">\n",
       "  <thead>\n",
       "    <tr style=\"text-align: right;\">\n",
       "      <th></th>\n",
       "      <th>ES</th>\n",
       "      <th>AAPL</th>\n",
       "    </tr>\n",
       "    <tr>\n",
       "      <th>Dt</th>\n",
       "      <th></th>\n",
       "      <th></th>\n",
       "    </tr>\n",
       "  </thead>\n",
       "  <tbody>\n",
       "    <tr>\n",
       "      <th>2021-01-29</th>\n",
       "      <td>-0.336920</td>\n",
       "      <td>-0.336920</td>\n",
       "    </tr>\n",
       "    <tr>\n",
       "      <th>2021-01-29</th>\n",
       "      <td>0.480368</td>\n",
       "      <td>0.480368</td>\n",
       "    </tr>\n",
       "    <tr>\n",
       "      <th>2021-01-28</th>\n",
       "      <td>-0.349770</td>\n",
       "      <td>-0.349770</td>\n",
       "    </tr>\n",
       "    <tr>\n",
       "      <th>2021-01-28</th>\n",
       "      <td>0.548515</td>\n",
       "      <td>0.548515</td>\n",
       "    </tr>\n",
       "    <tr>\n",
       "      <th>2021-01-27</th>\n",
       "      <td>-0.376813</td>\n",
       "      <td>-0.376813</td>\n",
       "    </tr>\n",
       "    <tr>\n",
       "      <th>2021-01-27</th>\n",
       "      <td>0.580376</td>\n",
       "      <td>0.580376</td>\n",
       "    </tr>\n",
       "    <tr>\n",
       "      <th>2021-01-26</th>\n",
       "      <td>-0.372101</td>\n",
       "      <td>-0.372101</td>\n",
       "    </tr>\n",
       "    <tr>\n",
       "      <th>2021-01-26</th>\n",
       "      <td>0.585558</td>\n",
       "      <td>0.585558</td>\n",
       "    </tr>\n",
       "    <tr>\n",
       "      <th>2021-01-25</th>\n",
       "      <td>0.635053</td>\n",
       "      <td>0.635053</td>\n",
       "    </tr>\n",
       "    <tr>\n",
       "      <th>2021-01-25</th>\n",
       "      <td>-0.368248</td>\n",
       "      <td>-0.368248</td>\n",
       "    </tr>\n",
       "  </tbody>\n",
       "</table>\n",
       "</div>"
      ],
      "text/plain": [
       "                  ES      AAPL\n",
       "Dt                            \n",
       "2021-01-29 -0.336920 -0.336920\n",
       "2021-01-29  0.480368  0.480368\n",
       "2021-01-28 -0.349770 -0.349770\n",
       "2021-01-28  0.548515  0.548515\n",
       "2021-01-27 -0.376813 -0.376813\n",
       "2021-01-27  0.580376  0.580376\n",
       "2021-01-26 -0.372101 -0.372101\n",
       "2021-01-26  0.585558  0.585558\n",
       "2021-01-25  0.635053  0.635053\n",
       "2021-01-25 -0.368248 -0.368248"
      ]
     },
     "execution_count": 38,
     "metadata": {},
     "output_type": "execute_result"
    }
   ],
   "source": [
    "data.pct_change().sort_index(ascending=False).head(10)"
   ]
  },
  {
   "cell_type": "code",
   "execution_count": 27,
   "metadata": {},
   "outputs": [],
   "source": [
    "df_change = df.drop(['OpenValue', 'HighValue', 'LowValue', 'CloseValue', 'Volume', 'LoadDt'], axis=1)"
   ]
  },
  {
   "cell_type": "code",
   "execution_count": 32,
   "metadata": {},
   "outputs": [
    {
     "data": {
      "text/plain": [
       "Dt\n",
       "2015-12-31         NaN\n",
       "2015-12-31    0.800505\n",
       "2016-01-04   -0.444125\n",
       "2016-01-04    0.792274\n",
       "2016-01-05   -0.456031\n",
       "                ...   \n",
       "2021-01-27   -0.376813\n",
       "2021-01-28    0.548515\n",
       "2021-01-28   -0.349770\n",
       "2021-01-29    0.480368\n",
       "2021-01-29   -0.336920\n",
       "Name: AdjClose, Length: 2558, dtype: float64"
      ]
     },
     "execution_count": 32,
     "metadata": {},
     "output_type": "execute_result"
    }
   ],
   "source": [
    "df_change['AdjClose'].pct_change().loc['2021-01-29']"
   ]
  },
  {
   "cell_type": "code",
   "execution_count": null,
   "metadata": {},
   "outputs": [],
   "source": [
    "len(df_change.loc['2021-01-01':'2021-01-29'].index)"
   ]
  },
  {
   "cell_type": "code",
   "execution_count": 69,
   "metadata": {},
   "outputs": [
    {
     "data": {
      "text/plain": [
       "19"
      ]
     },
     "execution_count": 69,
     "metadata": {},
     "output_type": "execute_result"
    }
   ],
   "source": [
    "len(df_change.loc['2021-01-01':'2021-01-29'].groupby('Dt'))"
   ]
  },
  {
   "cell_type": "code",
   "execution_count": 28,
   "metadata": {},
   "outputs": [],
   "source": [
    "df_change['Change'] = df_change.groupby('Stock').AdjClose.pct_change()\n",
    "df_change['Change7'] = df_change.groupby('Stock').AdjClose.pct_change(7)\n",
    "df_change['Change30'] = df_change.groupby('Stock').AdjClose.pct_change(30)\n",
    "df_change['Change90'] = df_change.groupby('Stock').AdjClose.pct_change(90)\n",
    "df_change['Change180'] = df_change.groupby('Stock').AdjClose.pct_change(180)\n",
    "df_change['Change360'] = df_change.groupby('Stock').AdjClose.pct_change(360)"
   ]
  },
  {
   "cell_type": "code",
   "execution_count": 36,
   "metadata": {},
   "outputs": [
    {
     "data": {
      "text/html": [
       "<div>\n",
       "<style scoped>\n",
       "    .dataframe tbody tr th:only-of-type {\n",
       "        vertical-align: middle;\n",
       "    }\n",
       "\n",
       "    .dataframe tbody tr th {\n",
       "        vertical-align: top;\n",
       "    }\n",
       "\n",
       "    .dataframe thead th {\n",
       "        text-align: right;\n",
       "    }\n",
       "</style>\n",
       "<table border=\"1\" class=\"dataframe\">\n",
       "  <thead>\n",
       "    <tr style=\"text-align: right;\">\n",
       "      <th></th>\n",
       "      <th>Stock</th>\n",
       "      <th>AdjClose</th>\n",
       "      <th>Change</th>\n",
       "      <th>Change7</th>\n",
       "      <th>Change30</th>\n",
       "      <th>Change90</th>\n",
       "      <th>Change180</th>\n",
       "      <th>Change360</th>\n",
       "    </tr>\n",
       "    <tr>\n",
       "      <th>Dt</th>\n",
       "      <th></th>\n",
       "      <th></th>\n",
       "      <th></th>\n",
       "      <th></th>\n",
       "      <th></th>\n",
       "      <th></th>\n",
       "      <th></th>\n",
       "      <th></th>\n",
       "    </tr>\n",
       "  </thead>\n",
       "  <tbody>\n",
       "    <tr>\n",
       "      <th>2015-12-31</th>\n",
       "      <td>AAPL</td>\n",
       "      <td>24.380093</td>\n",
       "      <td>NaN</td>\n",
       "      <td>NaN</td>\n",
       "      <td>NaN</td>\n",
       "      <td>NaN</td>\n",
       "      <td>NaN</td>\n",
       "      <td>NaN</td>\n",
       "    </tr>\n",
       "    <tr>\n",
       "      <th>2015-12-31</th>\n",
       "      <td>AES</td>\n",
       "      <td>7.774692</td>\n",
       "      <td>NaN</td>\n",
       "      <td>NaN</td>\n",
       "      <td>NaN</td>\n",
       "      <td>NaN</td>\n",
       "      <td>NaN</td>\n",
       "      <td>NaN</td>\n",
       "    </tr>\n",
       "    <tr>\n",
       "      <th>2015-12-31</th>\n",
       "      <td>AIG</td>\n",
       "      <td>54.062973</td>\n",
       "      <td>NaN</td>\n",
       "      <td>NaN</td>\n",
       "      <td>NaN</td>\n",
       "      <td>NaN</td>\n",
       "      <td>NaN</td>\n",
       "      <td>NaN</td>\n",
       "    </tr>\n",
       "    <tr>\n",
       "      <th>2015-12-31</th>\n",
       "      <td>ES</td>\n",
       "      <td>43.896469</td>\n",
       "      <td>NaN</td>\n",
       "      <td>NaN</td>\n",
       "      <td>NaN</td>\n",
       "      <td>NaN</td>\n",
       "      <td>NaN</td>\n",
       "      <td>NaN</td>\n",
       "    </tr>\n",
       "    <tr>\n",
       "      <th>2016-01-04</th>\n",
       "      <td>AAPL</td>\n",
       "      <td>24.400942</td>\n",
       "      <td>0.000855</td>\n",
       "      <td>NaN</td>\n",
       "      <td>NaN</td>\n",
       "      <td>NaN</td>\n",
       "      <td>NaN</td>\n",
       "      <td>NaN</td>\n",
       "    </tr>\n",
       "  </tbody>\n",
       "</table>\n",
       "</div>"
      ],
      "text/plain": [
       "           Stock   AdjClose    Change  Change7  Change30  Change90  Change180  \\\n",
       "Dt                                                                              \n",
       "2015-12-31  AAPL  24.380093       NaN      NaN       NaN       NaN        NaN   \n",
       "2015-12-31   AES   7.774692       NaN      NaN       NaN       NaN        NaN   \n",
       "2015-12-31   AIG  54.062973       NaN      NaN       NaN       NaN        NaN   \n",
       "2015-12-31    ES  43.896469       NaN      NaN       NaN       NaN        NaN   \n",
       "2016-01-04  AAPL  24.400942  0.000855      NaN       NaN       NaN        NaN   \n",
       "\n",
       "            Change360  \n",
       "Dt                     \n",
       "2015-12-31        NaN  \n",
       "2015-12-31        NaN  \n",
       "2015-12-31        NaN  \n",
       "2015-12-31        NaN  \n",
       "2016-01-04        NaN  "
      ]
     },
     "execution_count": 36,
     "metadata": {},
     "output_type": "execute_result"
    }
   ],
   "source": [
    "df_change.head()"
   ]
  },
  {
   "cell_type": "code",
   "execution_count": 80,
   "metadata": {},
   "outputs": [
    {
     "data": {
      "text/plain": [
       "2"
      ]
     },
     "execution_count": 80,
     "metadata": {},
     "output_type": "execute_result"
    }
   ],
   "source": [
    "# df_change.loc['2021-01-27']\n",
    "# pd.DatetimeIndex(df_change['Dt']).month\n",
    "\n",
    "# df['purchase_date'].dt.floor('d') - pd.offsets.MonthBegin(1)\n",
    "# df_change.index.floor('d')\n",
    "# from datetime import date\n",
    "# print(date(date.today().year, 1, 1))\n",
    "# > date(date.today().year, 1, 1)\n",
    "from datetime import datetime\n",
    "from datetime import date\n",
    "sum(i > date(date.today().year, 1, 1) for i in set(df_change.index))\n",
    "sum(i > datetime.today().replace(day=1) for i in set(df_change.index))"
   ]
  },
  {
   "cell_type": "code",
   "execution_count": 75,
   "metadata": {},
   "outputs": [
    {
     "data": {
      "text/plain": [
       "3"
      ]
     },
     "execution_count": 75,
     "metadata": {},
     "output_type": "execute_result"
    }
   ],
   "source": [
    "date.today().month"
   ]
  },
  {
   "cell_type": "code",
   "execution_count": 85,
   "metadata": {},
   "outputs": [
    {
     "data": {
      "text/plain": [
       "3"
      ]
     },
     "execution_count": 85,
     "metadata": {},
     "output_type": "execute_result"
    }
   ],
   "source": [
    "len(df_change.loc['2021-03-01':'2021-03-03'].groupby('Dt'))"
   ]
  },
  {
   "cell_type": "code",
   "execution_count": 92,
   "metadata": {},
   "outputs": [
    {
     "data": {
      "text/plain": [
       "datetime.datetime(2021, 3, 1, 17, 30, 6, 468150)"
      ]
     },
     "execution_count": 92,
     "metadata": {},
     "output_type": "execute_result"
    }
   ],
   "source": [
    "datetime.today().replace(day=1)"
   ]
  },
  {
   "cell_type": "code",
   "execution_count": 88,
   "metadata": {},
   "outputs": [
    {
     "data": {
      "text/plain": [
       "2"
      ]
     },
     "execution_count": 88,
     "metadata": {},
     "output_type": "execute_result"
    }
   ],
   "source": [
    "sum(i >= datetime.today().replace(day=1) for i in set(df_change.index))"
   ]
  },
  {
   "cell_type": "code",
   "execution_count": 86,
   "metadata": {},
   "outputs": [
    {
     "data": {
      "text/plain": [
       "Dt\n",
       "2015-12-31         NaN\n",
       "2015-12-31         NaN\n",
       "2015-12-31         NaN\n",
       "2015-12-31         NaN\n",
       "2016-01-04         NaN\n",
       "                ...   \n",
       "2021-03-02    0.001986\n",
       "2021-03-03    0.006597\n",
       "2021-03-03    0.012425\n",
       "2021-03-03    0.069625\n",
       "2021-03-03   -0.021389\n",
       "Name: AdjClose, Length: 5192, dtype: float64"
      ]
     },
     "execution_count": 86,
     "metadata": {},
     "output_type": "execute_result"
    }
   ],
   "source": [
    "df_change.groupby('Stock').AdjClose.pct_change(len(df_change.loc['2021-03-01':'2021-03-03'].groupby('Dt')))"
   ]
  },
  {
   "cell_type": "code",
   "execution_count": 94,
   "metadata": {},
   "outputs": [
    {
     "ename": "TypeError",
     "evalue": "an integer is required (got type DatetimeIndex)",
     "output_type": "error",
     "traceback": [
      "\u001b[1;31m---------------------------------------------------------------------------\u001b[0m",
      "\u001b[1;31mTypeError\u001b[0m                                 Traceback (most recent call last)",
      "\u001b[1;32m<ipython-input-94-d3f74f234903>\u001b[0m in \u001b[0;36m<module>\u001b[1;34m\u001b[0m\n\u001b[1;32m----> 1\u001b[1;33m \u001b[0mdf_change\u001b[0m\u001b[1;33m.\u001b[0m\u001b[0mgroupby\u001b[0m\u001b[1;33m(\u001b[0m\u001b[1;34m'Stock'\u001b[0m\u001b[1;33m)\u001b[0m\u001b[1;33m.\u001b[0m\u001b[0mAdjClose\u001b[0m\u001b[1;33m.\u001b[0m\u001b[0mpct_change\u001b[0m\u001b[1;33m(\u001b[0m\u001b[0msum\u001b[0m\u001b[1;33m(\u001b[0m\u001b[0mi\u001b[0m \u001b[1;33m>=\u001b[0m \u001b[0mdate\u001b[0m\u001b[1;33m(\u001b[0m\u001b[0mdf_change\u001b[0m\u001b[1;33m.\u001b[0m\u001b[0mindex\u001b[0m\u001b[1;33m)\u001b[0m\u001b[1;33m.\u001b[0m\u001b[0mreplace\u001b[0m\u001b[1;33m(\u001b[0m\u001b[0mday\u001b[0m\u001b[1;33m=\u001b[0m\u001b[1;36m1\u001b[0m\u001b[1;33m)\u001b[0m \u001b[1;32mfor\u001b[0m \u001b[0mi\u001b[0m \u001b[1;32min\u001b[0m \u001b[0mset\u001b[0m\u001b[1;33m(\u001b[0m\u001b[0mdf_change\u001b[0m\u001b[1;33m.\u001b[0m\u001b[0mindex\u001b[0m\u001b[1;33m)\u001b[0m\u001b[1;33m)\u001b[0m\u001b[1;33m)\u001b[0m\u001b[1;33m\u001b[0m\u001b[1;33m\u001b[0m\u001b[0m\n\u001b[0m",
      "\u001b[1;32m<ipython-input-94-d3f74f234903>\u001b[0m in \u001b[0;36m<genexpr>\u001b[1;34m(.0)\u001b[0m\n\u001b[1;32m----> 1\u001b[1;33m \u001b[0mdf_change\u001b[0m\u001b[1;33m.\u001b[0m\u001b[0mgroupby\u001b[0m\u001b[1;33m(\u001b[0m\u001b[1;34m'Stock'\u001b[0m\u001b[1;33m)\u001b[0m\u001b[1;33m.\u001b[0m\u001b[0mAdjClose\u001b[0m\u001b[1;33m.\u001b[0m\u001b[0mpct_change\u001b[0m\u001b[1;33m(\u001b[0m\u001b[0msum\u001b[0m\u001b[1;33m(\u001b[0m\u001b[0mi\u001b[0m \u001b[1;33m>=\u001b[0m \u001b[0mdate\u001b[0m\u001b[1;33m(\u001b[0m\u001b[0mdf_change\u001b[0m\u001b[1;33m.\u001b[0m\u001b[0mindex\u001b[0m\u001b[1;33m)\u001b[0m\u001b[1;33m.\u001b[0m\u001b[0mreplace\u001b[0m\u001b[1;33m(\u001b[0m\u001b[0mday\u001b[0m\u001b[1;33m=\u001b[0m\u001b[1;36m1\u001b[0m\u001b[1;33m)\u001b[0m \u001b[1;32mfor\u001b[0m \u001b[0mi\u001b[0m \u001b[1;32min\u001b[0m \u001b[0mset\u001b[0m\u001b[1;33m(\u001b[0m\u001b[0mdf_change\u001b[0m\u001b[1;33m.\u001b[0m\u001b[0mindex\u001b[0m\u001b[1;33m)\u001b[0m\u001b[1;33m)\u001b[0m\u001b[1;33m)\u001b[0m\u001b[1;33m\u001b[0m\u001b[1;33m\u001b[0m\u001b[0m\n\u001b[0m",
      "\u001b[1;31mTypeError\u001b[0m: an integer is required (got type DatetimeIndex)"
     ]
    }
   ],
   "source": [
    "df_change.groupby('Stock').AdjClose.pct_change(sum(i >= date(df_change.index).replace(day=1) for i in set(df_change.index)))"
   ]
  },
  {
   "cell_type": "code",
   "execution_count": 51,
   "metadata": {},
   "outputs": [
    {
     "data": {
      "text/plain": [
       "[Timestamp('2015-12-31 00:00:00'),\n",
       " Timestamp('2015-12-31 00:00:00'),\n",
       " Timestamp('2015-12-31 00:00:00'),\n",
       " Timestamp('2015-12-31 00:00:00'),\n",
       " Timestamp('2016-01-04 00:00:00'),\n",
       " Timestamp('2016-01-04 00:00:00'),\n",
       " Timestamp('2016-01-04 00:00:00'),\n",
       " Timestamp('2016-01-04 00:00:00'),\n",
       " Timestamp('2016-01-05 00:00:00'),\n",
       " Timestamp('2016-01-05 00:00:00'),\n",
       " Timestamp('2016-01-05 00:00:00'),\n",
       " Timestamp('2016-01-05 00:00:00'),\n",
       " Timestamp('2016-01-06 00:00:00'),\n",
       " Timestamp('2016-01-06 00:00:00'),\n",
       " Timestamp('2016-01-06 00:00:00'),\n",
       " Timestamp('2016-01-06 00:00:00'),\n",
       " Timestamp('2016-01-07 00:00:00'),\n",
       " Timestamp('2016-01-07 00:00:00'),\n",
       " Timestamp('2016-01-07 00:00:00'),\n",
       " Timestamp('2016-01-07 00:00:00'),\n",
       " Timestamp('2016-01-08 00:00:00'),\n",
       " Timestamp('2016-01-08 00:00:00'),\n",
       " Timestamp('2016-01-08 00:00:00'),\n",
       " Timestamp('2016-01-08 00:00:00'),\n",
       " Timestamp('2016-01-11 00:00:00'),\n",
       " Timestamp('2016-01-11 00:00:00'),\n",
       " Timestamp('2016-01-11 00:00:00'),\n",
       " Timestamp('2016-01-11 00:00:00'),\n",
       " Timestamp('2016-01-12 00:00:00'),\n",
       " Timestamp('2016-01-12 00:00:00'),\n",
       " Timestamp('2016-01-12 00:00:00'),\n",
       " Timestamp('2016-01-12 00:00:00'),\n",
       " Timestamp('2016-01-13 00:00:00'),\n",
       " Timestamp('2016-01-13 00:00:00'),\n",
       " Timestamp('2016-01-13 00:00:00'),\n",
       " Timestamp('2016-01-13 00:00:00'),\n",
       " Timestamp('2016-01-14 00:00:00'),\n",
       " Timestamp('2016-01-14 00:00:00'),\n",
       " Timestamp('2016-01-14 00:00:00'),\n",
       " Timestamp('2016-01-14 00:00:00'),\n",
       " Timestamp('2016-01-15 00:00:00'),\n",
       " Timestamp('2016-01-15 00:00:00'),\n",
       " Timestamp('2016-01-15 00:00:00'),\n",
       " Timestamp('2016-01-15 00:00:00'),\n",
       " Timestamp('2016-01-19 00:00:00'),\n",
       " Timestamp('2016-01-19 00:00:00'),\n",
       " Timestamp('2016-01-19 00:00:00'),\n",
       " Timestamp('2016-01-19 00:00:00'),\n",
       " Timestamp('2016-01-20 00:00:00'),\n",
       " Timestamp('2016-01-20 00:00:00'),\n",
       " Timestamp('2016-01-20 00:00:00'),\n",
       " Timestamp('2016-01-20 00:00:00'),\n",
       " Timestamp('2016-01-21 00:00:00'),\n",
       " Timestamp('2016-01-21 00:00:00'),\n",
       " Timestamp('2016-01-21 00:00:00'),\n",
       " Timestamp('2016-01-21 00:00:00'),\n",
       " Timestamp('2016-01-22 00:00:00'),\n",
       " Timestamp('2016-01-22 00:00:00'),\n",
       " Timestamp('2016-01-22 00:00:00'),\n",
       " Timestamp('2016-01-22 00:00:00'),\n",
       " Timestamp('2016-01-25 00:00:00'),\n",
       " Timestamp('2016-01-25 00:00:00'),\n",
       " Timestamp('2016-01-25 00:00:00'),\n",
       " Timestamp('2016-01-25 00:00:00'),\n",
       " Timestamp('2016-01-26 00:00:00'),\n",
       " Timestamp('2016-01-26 00:00:00'),\n",
       " Timestamp('2016-01-26 00:00:00'),\n",
       " Timestamp('2016-01-26 00:00:00'),\n",
       " Timestamp('2016-01-27 00:00:00'),\n",
       " Timestamp('2016-01-27 00:00:00'),\n",
       " Timestamp('2016-01-27 00:00:00'),\n",
       " Timestamp('2016-01-27 00:00:00'),\n",
       " Timestamp('2016-01-28 00:00:00'),\n",
       " Timestamp('2016-01-28 00:00:00'),\n",
       " Timestamp('2016-01-28 00:00:00'),\n",
       " Timestamp('2016-01-28 00:00:00'),\n",
       " Timestamp('2016-01-29 00:00:00'),\n",
       " Timestamp('2016-01-29 00:00:00'),\n",
       " Timestamp('2016-01-29 00:00:00'),\n",
       " Timestamp('2016-01-29 00:00:00'),\n",
       " Timestamp('2016-02-01 00:00:00'),\n",
       " Timestamp('2016-02-01 00:00:00'),\n",
       " Timestamp('2016-02-01 00:00:00'),\n",
       " Timestamp('2016-02-01 00:00:00'),\n",
       " Timestamp('2016-02-02 00:00:00'),\n",
       " Timestamp('2016-02-02 00:00:00'),\n",
       " Timestamp('2016-02-02 00:00:00'),\n",
       " Timestamp('2016-02-02 00:00:00'),\n",
       " Timestamp('2016-02-03 00:00:00'),\n",
       " Timestamp('2016-02-03 00:00:00'),\n",
       " Timestamp('2016-02-03 00:00:00'),\n",
       " Timestamp('2016-02-03 00:00:00'),\n",
       " Timestamp('2016-02-04 00:00:00'),\n",
       " Timestamp('2016-02-04 00:00:00'),\n",
       " Timestamp('2016-02-04 00:00:00'),\n",
       " Timestamp('2016-02-04 00:00:00'),\n",
       " Timestamp('2016-02-05 00:00:00'),\n",
       " Timestamp('2016-02-05 00:00:00'),\n",
       " Timestamp('2016-02-05 00:00:00'),\n",
       " Timestamp('2016-02-05 00:00:00'),\n",
       " Timestamp('2016-02-08 00:00:00'),\n",
       " Timestamp('2016-02-08 00:00:00'),\n",
       " Timestamp('2016-02-08 00:00:00'),\n",
       " Timestamp('2016-02-08 00:00:00'),\n",
       " Timestamp('2016-02-09 00:00:00'),\n",
       " Timestamp('2016-02-09 00:00:00'),\n",
       " Timestamp('2016-02-09 00:00:00'),\n",
       " Timestamp('2016-02-09 00:00:00'),\n",
       " Timestamp('2016-02-10 00:00:00'),\n",
       " Timestamp('2016-02-10 00:00:00'),\n",
       " Timestamp('2016-02-10 00:00:00'),\n",
       " Timestamp('2016-02-10 00:00:00'),\n",
       " Timestamp('2016-02-11 00:00:00'),\n",
       " Timestamp('2016-02-11 00:00:00'),\n",
       " Timestamp('2016-02-11 00:00:00'),\n",
       " Timestamp('2016-02-11 00:00:00'),\n",
       " Timestamp('2016-02-12 00:00:00'),\n",
       " Timestamp('2016-02-12 00:00:00'),\n",
       " Timestamp('2016-02-12 00:00:00'),\n",
       " Timestamp('2016-02-12 00:00:00'),\n",
       " Timestamp('2016-02-16 00:00:00'),\n",
       " Timestamp('2016-02-16 00:00:00'),\n",
       " Timestamp('2016-02-16 00:00:00'),\n",
       " Timestamp('2016-02-16 00:00:00'),\n",
       " Timestamp('2016-02-17 00:00:00'),\n",
       " Timestamp('2016-02-17 00:00:00'),\n",
       " Timestamp('2016-02-17 00:00:00'),\n",
       " Timestamp('2016-02-17 00:00:00'),\n",
       " Timestamp('2016-02-18 00:00:00'),\n",
       " Timestamp('2016-02-18 00:00:00'),\n",
       " Timestamp('2016-02-18 00:00:00'),\n",
       " Timestamp('2016-02-18 00:00:00'),\n",
       " Timestamp('2016-02-19 00:00:00'),\n",
       " Timestamp('2016-02-19 00:00:00'),\n",
       " Timestamp('2016-02-19 00:00:00'),\n",
       " Timestamp('2016-02-19 00:00:00'),\n",
       " Timestamp('2016-02-22 00:00:00'),\n",
       " Timestamp('2016-02-22 00:00:00'),\n",
       " Timestamp('2016-02-22 00:00:00'),\n",
       " Timestamp('2016-02-22 00:00:00'),\n",
       " Timestamp('2016-02-23 00:00:00'),\n",
       " Timestamp('2016-02-23 00:00:00'),\n",
       " Timestamp('2016-02-23 00:00:00'),\n",
       " Timestamp('2016-02-23 00:00:00'),\n",
       " Timestamp('2016-02-24 00:00:00'),\n",
       " Timestamp('2016-02-24 00:00:00'),\n",
       " Timestamp('2016-02-24 00:00:00'),\n",
       " Timestamp('2016-02-24 00:00:00'),\n",
       " Timestamp('2016-02-25 00:00:00'),\n",
       " Timestamp('2016-02-25 00:00:00'),\n",
       " Timestamp('2016-02-25 00:00:00'),\n",
       " Timestamp('2016-02-25 00:00:00'),\n",
       " Timestamp('2016-02-26 00:00:00'),\n",
       " Timestamp('2016-02-26 00:00:00'),\n",
       " Timestamp('2016-02-26 00:00:00'),\n",
       " Timestamp('2016-02-26 00:00:00'),\n",
       " Timestamp('2016-02-29 00:00:00'),\n",
       " Timestamp('2016-02-29 00:00:00'),\n",
       " Timestamp('2016-02-29 00:00:00'),\n",
       " Timestamp('2016-02-29 00:00:00'),\n",
       " Timestamp('2016-03-01 00:00:00'),\n",
       " Timestamp('2016-03-01 00:00:00'),\n",
       " Timestamp('2016-03-01 00:00:00'),\n",
       " Timestamp('2016-03-01 00:00:00'),\n",
       " Timestamp('2016-03-02 00:00:00'),\n",
       " Timestamp('2016-03-02 00:00:00'),\n",
       " Timestamp('2016-03-02 00:00:00'),\n",
       " Timestamp('2016-03-02 00:00:00'),\n",
       " Timestamp('2016-03-03 00:00:00'),\n",
       " Timestamp('2016-03-03 00:00:00'),\n",
       " Timestamp('2016-03-03 00:00:00'),\n",
       " Timestamp('2016-03-03 00:00:00'),\n",
       " Timestamp('2016-03-04 00:00:00'),\n",
       " Timestamp('2016-03-04 00:00:00'),\n",
       " Timestamp('2016-03-04 00:00:00'),\n",
       " Timestamp('2016-03-04 00:00:00'),\n",
       " Timestamp('2016-03-07 00:00:00'),\n",
       " Timestamp('2016-03-07 00:00:00'),\n",
       " Timestamp('2016-03-07 00:00:00'),\n",
       " Timestamp('2016-03-07 00:00:00'),\n",
       " Timestamp('2016-03-08 00:00:00'),\n",
       " Timestamp('2016-03-08 00:00:00'),\n",
       " Timestamp('2016-03-08 00:00:00'),\n",
       " Timestamp('2016-03-08 00:00:00'),\n",
       " Timestamp('2016-03-09 00:00:00'),\n",
       " Timestamp('2016-03-09 00:00:00'),\n",
       " Timestamp('2016-03-09 00:00:00'),\n",
       " Timestamp('2016-03-09 00:00:00'),\n",
       " Timestamp('2016-03-10 00:00:00'),\n",
       " Timestamp('2016-03-10 00:00:00'),\n",
       " Timestamp('2016-03-10 00:00:00'),\n",
       " Timestamp('2016-03-10 00:00:00'),\n",
       " Timestamp('2016-03-11 00:00:00'),\n",
       " Timestamp('2016-03-11 00:00:00'),\n",
       " Timestamp('2016-03-11 00:00:00'),\n",
       " Timestamp('2016-03-11 00:00:00'),\n",
       " Timestamp('2016-03-14 00:00:00'),\n",
       " Timestamp('2016-03-14 00:00:00'),\n",
       " Timestamp('2016-03-14 00:00:00'),\n",
       " Timestamp('2016-03-14 00:00:00'),\n",
       " Timestamp('2016-03-15 00:00:00'),\n",
       " Timestamp('2016-03-15 00:00:00'),\n",
       " Timestamp('2016-03-15 00:00:00'),\n",
       " Timestamp('2016-03-15 00:00:00'),\n",
       " Timestamp('2016-03-16 00:00:00'),\n",
       " Timestamp('2016-03-16 00:00:00'),\n",
       " Timestamp('2016-03-16 00:00:00'),\n",
       " Timestamp('2016-03-16 00:00:00'),\n",
       " Timestamp('2016-03-17 00:00:00'),\n",
       " Timestamp('2016-03-17 00:00:00'),\n",
       " Timestamp('2016-03-17 00:00:00'),\n",
       " Timestamp('2016-03-17 00:00:00'),\n",
       " Timestamp('2016-03-18 00:00:00'),\n",
       " Timestamp('2016-03-18 00:00:00'),\n",
       " Timestamp('2016-03-18 00:00:00'),\n",
       " Timestamp('2016-03-18 00:00:00'),\n",
       " Timestamp('2016-03-21 00:00:00'),\n",
       " Timestamp('2016-03-21 00:00:00'),\n",
       " Timestamp('2016-03-21 00:00:00'),\n",
       " Timestamp('2016-03-21 00:00:00'),\n",
       " Timestamp('2016-03-22 00:00:00'),\n",
       " Timestamp('2016-03-22 00:00:00'),\n",
       " Timestamp('2016-03-22 00:00:00'),\n",
       " Timestamp('2016-03-22 00:00:00'),\n",
       " Timestamp('2016-03-23 00:00:00'),\n",
       " Timestamp('2016-03-23 00:00:00'),\n",
       " Timestamp('2016-03-23 00:00:00'),\n",
       " Timestamp('2016-03-23 00:00:00'),\n",
       " Timestamp('2016-03-24 00:00:00'),\n",
       " Timestamp('2016-03-24 00:00:00'),\n",
       " Timestamp('2016-03-24 00:00:00'),\n",
       " Timestamp('2016-03-24 00:00:00'),\n",
       " Timestamp('2016-03-28 00:00:00'),\n",
       " Timestamp('2016-03-28 00:00:00'),\n",
       " Timestamp('2016-03-28 00:00:00'),\n",
       " Timestamp('2016-03-28 00:00:00'),\n",
       " Timestamp('2016-03-29 00:00:00'),\n",
       " Timestamp('2016-03-29 00:00:00'),\n",
       " Timestamp('2016-03-29 00:00:00'),\n",
       " Timestamp('2016-03-29 00:00:00'),\n",
       " Timestamp('2016-03-30 00:00:00'),\n",
       " Timestamp('2016-03-30 00:00:00'),\n",
       " Timestamp('2016-03-30 00:00:00'),\n",
       " Timestamp('2016-03-30 00:00:00'),\n",
       " Timestamp('2016-03-31 00:00:00'),\n",
       " Timestamp('2016-03-31 00:00:00'),\n",
       " Timestamp('2016-03-31 00:00:00'),\n",
       " Timestamp('2016-03-31 00:00:00'),\n",
       " Timestamp('2016-04-01 00:00:00'),\n",
       " Timestamp('2016-04-01 00:00:00'),\n",
       " Timestamp('2016-04-01 00:00:00'),\n",
       " Timestamp('2016-04-01 00:00:00'),\n",
       " Timestamp('2016-04-04 00:00:00'),\n",
       " Timestamp('2016-04-04 00:00:00'),\n",
       " Timestamp('2016-04-04 00:00:00'),\n",
       " Timestamp('2016-04-04 00:00:00'),\n",
       " Timestamp('2016-04-05 00:00:00'),\n",
       " Timestamp('2016-04-05 00:00:00'),\n",
       " Timestamp('2016-04-05 00:00:00'),\n",
       " Timestamp('2016-04-05 00:00:00'),\n",
       " Timestamp('2016-04-06 00:00:00'),\n",
       " Timestamp('2016-04-06 00:00:00'),\n",
       " Timestamp('2016-04-06 00:00:00'),\n",
       " Timestamp('2016-04-06 00:00:00'),\n",
       " Timestamp('2016-04-07 00:00:00'),\n",
       " Timestamp('2016-04-07 00:00:00'),\n",
       " Timestamp('2016-04-07 00:00:00'),\n",
       " Timestamp('2016-04-07 00:00:00'),\n",
       " Timestamp('2016-04-08 00:00:00'),\n",
       " Timestamp('2016-04-08 00:00:00'),\n",
       " Timestamp('2016-04-08 00:00:00'),\n",
       " Timestamp('2016-04-08 00:00:00'),\n",
       " Timestamp('2016-04-11 00:00:00'),\n",
       " Timestamp('2016-04-11 00:00:00'),\n",
       " Timestamp('2016-04-11 00:00:00'),\n",
       " Timestamp('2016-04-11 00:00:00'),\n",
       " Timestamp('2016-04-12 00:00:00'),\n",
       " Timestamp('2016-04-12 00:00:00'),\n",
       " Timestamp('2016-04-12 00:00:00'),\n",
       " Timestamp('2016-04-12 00:00:00'),\n",
       " Timestamp('2016-04-13 00:00:00'),\n",
       " Timestamp('2016-04-13 00:00:00'),\n",
       " Timestamp('2016-04-13 00:00:00'),\n",
       " Timestamp('2016-04-13 00:00:00'),\n",
       " Timestamp('2016-04-14 00:00:00'),\n",
       " Timestamp('2016-04-14 00:00:00'),\n",
       " Timestamp('2016-04-14 00:00:00'),\n",
       " Timestamp('2016-04-14 00:00:00'),\n",
       " Timestamp('2016-04-15 00:00:00'),\n",
       " Timestamp('2016-04-15 00:00:00'),\n",
       " Timestamp('2016-04-15 00:00:00'),\n",
       " Timestamp('2016-04-15 00:00:00'),\n",
       " Timestamp('2016-04-18 00:00:00'),\n",
       " Timestamp('2016-04-18 00:00:00'),\n",
       " Timestamp('2016-04-18 00:00:00'),\n",
       " Timestamp('2016-04-18 00:00:00'),\n",
       " Timestamp('2016-04-19 00:00:00'),\n",
       " Timestamp('2016-04-19 00:00:00'),\n",
       " Timestamp('2016-04-19 00:00:00'),\n",
       " Timestamp('2016-04-19 00:00:00'),\n",
       " Timestamp('2016-04-20 00:00:00'),\n",
       " Timestamp('2016-04-20 00:00:00'),\n",
       " Timestamp('2016-04-20 00:00:00'),\n",
       " Timestamp('2016-04-20 00:00:00'),\n",
       " Timestamp('2016-04-21 00:00:00'),\n",
       " Timestamp('2016-04-21 00:00:00'),\n",
       " Timestamp('2016-04-21 00:00:00'),\n",
       " Timestamp('2016-04-21 00:00:00'),\n",
       " Timestamp('2016-04-22 00:00:00'),\n",
       " Timestamp('2016-04-22 00:00:00'),\n",
       " Timestamp('2016-04-22 00:00:00'),\n",
       " Timestamp('2016-04-22 00:00:00'),\n",
       " Timestamp('2016-04-25 00:00:00'),\n",
       " Timestamp('2016-04-25 00:00:00'),\n",
       " Timestamp('2016-04-25 00:00:00'),\n",
       " Timestamp('2016-04-25 00:00:00'),\n",
       " Timestamp('2016-04-26 00:00:00'),\n",
       " Timestamp('2016-04-26 00:00:00'),\n",
       " Timestamp('2016-04-26 00:00:00'),\n",
       " Timestamp('2016-04-26 00:00:00'),\n",
       " Timestamp('2016-04-27 00:00:00'),\n",
       " Timestamp('2016-04-27 00:00:00'),\n",
       " Timestamp('2016-04-27 00:00:00'),\n",
       " Timestamp('2016-04-27 00:00:00'),\n",
       " Timestamp('2016-04-28 00:00:00'),\n",
       " Timestamp('2016-04-28 00:00:00'),\n",
       " Timestamp('2016-04-28 00:00:00'),\n",
       " Timestamp('2016-04-28 00:00:00'),\n",
       " Timestamp('2016-04-29 00:00:00'),\n",
       " Timestamp('2016-04-29 00:00:00'),\n",
       " Timestamp('2016-04-29 00:00:00'),\n",
       " Timestamp('2016-04-29 00:00:00'),\n",
       " Timestamp('2016-05-02 00:00:00'),\n",
       " Timestamp('2016-05-02 00:00:00'),\n",
       " Timestamp('2016-05-02 00:00:00'),\n",
       " Timestamp('2016-05-02 00:00:00'),\n",
       " Timestamp('2016-05-03 00:00:00'),\n",
       " Timestamp('2016-05-03 00:00:00'),\n",
       " Timestamp('2016-05-03 00:00:00'),\n",
       " Timestamp('2016-05-03 00:00:00'),\n",
       " Timestamp('2016-05-04 00:00:00'),\n",
       " Timestamp('2016-05-04 00:00:00'),\n",
       " Timestamp('2016-05-04 00:00:00'),\n",
       " Timestamp('2016-05-04 00:00:00'),\n",
       " Timestamp('2016-05-05 00:00:00'),\n",
       " Timestamp('2016-05-05 00:00:00'),\n",
       " Timestamp('2016-05-05 00:00:00'),\n",
       " Timestamp('2016-05-05 00:00:00'),\n",
       " Timestamp('2016-05-06 00:00:00'),\n",
       " Timestamp('2016-05-06 00:00:00'),\n",
       " Timestamp('2016-05-06 00:00:00'),\n",
       " Timestamp('2016-05-06 00:00:00'),\n",
       " Timestamp('2016-05-09 00:00:00'),\n",
       " Timestamp('2016-05-09 00:00:00'),\n",
       " Timestamp('2016-05-09 00:00:00'),\n",
       " Timestamp('2016-05-09 00:00:00'),\n",
       " Timestamp('2016-05-10 00:00:00'),\n",
       " Timestamp('2016-05-10 00:00:00'),\n",
       " Timestamp('2016-05-10 00:00:00'),\n",
       " Timestamp('2016-05-10 00:00:00'),\n",
       " Timestamp('2016-05-11 00:00:00'),\n",
       " Timestamp('2016-05-11 00:00:00'),\n",
       " Timestamp('2016-05-11 00:00:00'),\n",
       " Timestamp('2016-05-11 00:00:00'),\n",
       " Timestamp('2016-05-12 00:00:00'),\n",
       " Timestamp('2016-05-12 00:00:00'),\n",
       " Timestamp('2016-05-12 00:00:00'),\n",
       " Timestamp('2016-05-12 00:00:00'),\n",
       " Timestamp('2016-05-13 00:00:00'),\n",
       " Timestamp('2016-05-13 00:00:00'),\n",
       " Timestamp('2016-05-13 00:00:00'),\n",
       " Timestamp('2016-05-13 00:00:00'),\n",
       " Timestamp('2016-05-16 00:00:00'),\n",
       " Timestamp('2016-05-16 00:00:00'),\n",
       " Timestamp('2016-05-16 00:00:00'),\n",
       " Timestamp('2016-05-16 00:00:00'),\n",
       " Timestamp('2016-05-17 00:00:00'),\n",
       " Timestamp('2016-05-17 00:00:00'),\n",
       " Timestamp('2016-05-17 00:00:00'),\n",
       " Timestamp('2016-05-17 00:00:00'),\n",
       " Timestamp('2016-05-18 00:00:00'),\n",
       " Timestamp('2016-05-18 00:00:00'),\n",
       " Timestamp('2016-05-18 00:00:00'),\n",
       " Timestamp('2016-05-18 00:00:00'),\n",
       " Timestamp('2016-05-19 00:00:00'),\n",
       " Timestamp('2016-05-19 00:00:00'),\n",
       " Timestamp('2016-05-19 00:00:00'),\n",
       " Timestamp('2016-05-19 00:00:00'),\n",
       " Timestamp('2016-05-20 00:00:00'),\n",
       " Timestamp('2016-05-20 00:00:00'),\n",
       " Timestamp('2016-05-20 00:00:00'),\n",
       " Timestamp('2016-05-20 00:00:00'),\n",
       " Timestamp('2016-05-23 00:00:00'),\n",
       " Timestamp('2016-05-23 00:00:00'),\n",
       " Timestamp('2016-05-23 00:00:00'),\n",
       " Timestamp('2016-05-23 00:00:00'),\n",
       " Timestamp('2016-05-24 00:00:00'),\n",
       " Timestamp('2016-05-24 00:00:00'),\n",
       " Timestamp('2016-05-24 00:00:00'),\n",
       " Timestamp('2016-05-24 00:00:00'),\n",
       " Timestamp('2016-05-25 00:00:00'),\n",
       " Timestamp('2016-05-25 00:00:00'),\n",
       " Timestamp('2016-05-25 00:00:00'),\n",
       " Timestamp('2016-05-25 00:00:00'),\n",
       " Timestamp('2016-05-26 00:00:00'),\n",
       " Timestamp('2016-05-26 00:00:00'),\n",
       " Timestamp('2016-05-26 00:00:00'),\n",
       " Timestamp('2016-05-26 00:00:00'),\n",
       " Timestamp('2016-05-27 00:00:00'),\n",
       " Timestamp('2016-05-27 00:00:00'),\n",
       " Timestamp('2016-05-27 00:00:00'),\n",
       " Timestamp('2016-05-27 00:00:00'),\n",
       " Timestamp('2016-05-31 00:00:00'),\n",
       " Timestamp('2016-05-31 00:00:00'),\n",
       " Timestamp('2016-05-31 00:00:00'),\n",
       " Timestamp('2016-05-31 00:00:00'),\n",
       " Timestamp('2016-06-01 00:00:00'),\n",
       " Timestamp('2016-06-01 00:00:00'),\n",
       " Timestamp('2016-06-01 00:00:00'),\n",
       " Timestamp('2016-06-01 00:00:00'),\n",
       " Timestamp('2016-06-02 00:00:00'),\n",
       " Timestamp('2016-06-02 00:00:00'),\n",
       " Timestamp('2016-06-02 00:00:00'),\n",
       " Timestamp('2016-06-02 00:00:00'),\n",
       " Timestamp('2016-06-03 00:00:00'),\n",
       " Timestamp('2016-06-03 00:00:00'),\n",
       " Timestamp('2016-06-03 00:00:00'),\n",
       " Timestamp('2016-06-03 00:00:00'),\n",
       " Timestamp('2016-06-06 00:00:00'),\n",
       " Timestamp('2016-06-06 00:00:00'),\n",
       " Timestamp('2016-06-06 00:00:00'),\n",
       " Timestamp('2016-06-06 00:00:00'),\n",
       " Timestamp('2016-06-07 00:00:00'),\n",
       " Timestamp('2016-06-07 00:00:00'),\n",
       " Timestamp('2016-06-07 00:00:00'),\n",
       " Timestamp('2016-06-07 00:00:00'),\n",
       " Timestamp('2016-06-08 00:00:00'),\n",
       " Timestamp('2016-06-08 00:00:00'),\n",
       " Timestamp('2016-06-08 00:00:00'),\n",
       " Timestamp('2016-06-08 00:00:00'),\n",
       " Timestamp('2016-06-09 00:00:00'),\n",
       " Timestamp('2016-06-09 00:00:00'),\n",
       " Timestamp('2016-06-09 00:00:00'),\n",
       " Timestamp('2016-06-09 00:00:00'),\n",
       " Timestamp('2016-06-10 00:00:00'),\n",
       " Timestamp('2016-06-10 00:00:00'),\n",
       " Timestamp('2016-06-10 00:00:00'),\n",
       " Timestamp('2016-06-10 00:00:00'),\n",
       " Timestamp('2016-06-13 00:00:00'),\n",
       " Timestamp('2016-06-13 00:00:00'),\n",
       " Timestamp('2016-06-13 00:00:00'),\n",
       " Timestamp('2016-06-13 00:00:00'),\n",
       " Timestamp('2016-06-14 00:00:00'),\n",
       " Timestamp('2016-06-14 00:00:00'),\n",
       " Timestamp('2016-06-14 00:00:00'),\n",
       " Timestamp('2016-06-14 00:00:00'),\n",
       " Timestamp('2016-06-15 00:00:00'),\n",
       " Timestamp('2016-06-15 00:00:00'),\n",
       " Timestamp('2016-06-15 00:00:00'),\n",
       " Timestamp('2016-06-15 00:00:00'),\n",
       " Timestamp('2016-06-16 00:00:00'),\n",
       " Timestamp('2016-06-16 00:00:00'),\n",
       " Timestamp('2016-06-16 00:00:00'),\n",
       " Timestamp('2016-06-16 00:00:00'),\n",
       " Timestamp('2016-06-17 00:00:00'),\n",
       " Timestamp('2016-06-17 00:00:00'),\n",
       " Timestamp('2016-06-17 00:00:00'),\n",
       " Timestamp('2016-06-17 00:00:00'),\n",
       " Timestamp('2016-06-20 00:00:00'),\n",
       " Timestamp('2016-06-20 00:00:00'),\n",
       " Timestamp('2016-06-20 00:00:00'),\n",
       " Timestamp('2016-06-20 00:00:00'),\n",
       " Timestamp('2016-06-21 00:00:00'),\n",
       " Timestamp('2016-06-21 00:00:00'),\n",
       " Timestamp('2016-06-21 00:00:00'),\n",
       " Timestamp('2016-06-21 00:00:00'),\n",
       " Timestamp('2016-06-22 00:00:00'),\n",
       " Timestamp('2016-06-22 00:00:00'),\n",
       " Timestamp('2016-06-22 00:00:00'),\n",
       " Timestamp('2016-06-22 00:00:00'),\n",
       " Timestamp('2016-06-23 00:00:00'),\n",
       " Timestamp('2016-06-23 00:00:00'),\n",
       " Timestamp('2016-06-23 00:00:00'),\n",
       " Timestamp('2016-06-23 00:00:00'),\n",
       " Timestamp('2016-06-24 00:00:00'),\n",
       " Timestamp('2016-06-24 00:00:00'),\n",
       " Timestamp('2016-06-24 00:00:00'),\n",
       " Timestamp('2016-06-24 00:00:00'),\n",
       " Timestamp('2016-06-27 00:00:00'),\n",
       " Timestamp('2016-06-27 00:00:00'),\n",
       " Timestamp('2016-06-27 00:00:00'),\n",
       " Timestamp('2016-06-27 00:00:00'),\n",
       " Timestamp('2016-06-28 00:00:00'),\n",
       " Timestamp('2016-06-28 00:00:00'),\n",
       " Timestamp('2016-06-28 00:00:00'),\n",
       " Timestamp('2016-06-28 00:00:00'),\n",
       " Timestamp('2016-06-29 00:00:00'),\n",
       " Timestamp('2016-06-29 00:00:00'),\n",
       " Timestamp('2016-06-29 00:00:00'),\n",
       " Timestamp('2016-06-29 00:00:00'),\n",
       " Timestamp('2016-06-30 00:00:00'),\n",
       " Timestamp('2016-06-30 00:00:00'),\n",
       " Timestamp('2016-06-30 00:00:00'),\n",
       " Timestamp('2016-06-30 00:00:00'),\n",
       " Timestamp('2016-07-01 00:00:00'),\n",
       " Timestamp('2016-07-01 00:00:00'),\n",
       " Timestamp('2016-07-01 00:00:00'),\n",
       " Timestamp('2016-07-01 00:00:00'),\n",
       " Timestamp('2016-07-05 00:00:00'),\n",
       " Timestamp('2016-07-05 00:00:00'),\n",
       " Timestamp('2016-07-05 00:00:00'),\n",
       " Timestamp('2016-07-05 00:00:00'),\n",
       " Timestamp('2016-07-06 00:00:00'),\n",
       " Timestamp('2016-07-06 00:00:00'),\n",
       " Timestamp('2016-07-06 00:00:00'),\n",
       " Timestamp('2016-07-06 00:00:00'),\n",
       " Timestamp('2016-07-07 00:00:00'),\n",
       " Timestamp('2016-07-07 00:00:00'),\n",
       " Timestamp('2016-07-07 00:00:00'),\n",
       " Timestamp('2016-07-07 00:00:00'),\n",
       " Timestamp('2016-07-08 00:00:00'),\n",
       " Timestamp('2016-07-08 00:00:00'),\n",
       " Timestamp('2016-07-08 00:00:00'),\n",
       " Timestamp('2016-07-08 00:00:00'),\n",
       " Timestamp('2016-07-11 00:00:00'),\n",
       " Timestamp('2016-07-11 00:00:00'),\n",
       " Timestamp('2016-07-11 00:00:00'),\n",
       " Timestamp('2016-07-11 00:00:00'),\n",
       " Timestamp('2016-07-12 00:00:00'),\n",
       " Timestamp('2016-07-12 00:00:00'),\n",
       " Timestamp('2016-07-12 00:00:00'),\n",
       " Timestamp('2016-07-12 00:00:00'),\n",
       " Timestamp('2016-07-13 00:00:00'),\n",
       " Timestamp('2016-07-13 00:00:00'),\n",
       " Timestamp('2016-07-13 00:00:00'),\n",
       " Timestamp('2016-07-13 00:00:00'),\n",
       " Timestamp('2016-07-14 00:00:00'),\n",
       " Timestamp('2016-07-14 00:00:00'),\n",
       " Timestamp('2016-07-14 00:00:00'),\n",
       " Timestamp('2016-07-14 00:00:00'),\n",
       " Timestamp('2016-07-15 00:00:00'),\n",
       " Timestamp('2016-07-15 00:00:00'),\n",
       " Timestamp('2016-07-15 00:00:00'),\n",
       " Timestamp('2016-07-15 00:00:00'),\n",
       " Timestamp('2016-07-18 00:00:00'),\n",
       " Timestamp('2016-07-18 00:00:00'),\n",
       " Timestamp('2016-07-18 00:00:00'),\n",
       " Timestamp('2016-07-18 00:00:00'),\n",
       " Timestamp('2016-07-19 00:00:00'),\n",
       " Timestamp('2016-07-19 00:00:00'),\n",
       " Timestamp('2016-07-19 00:00:00'),\n",
       " Timestamp('2016-07-19 00:00:00'),\n",
       " Timestamp('2016-07-20 00:00:00'),\n",
       " Timestamp('2016-07-20 00:00:00'),\n",
       " Timestamp('2016-07-20 00:00:00'),\n",
       " Timestamp('2016-07-20 00:00:00'),\n",
       " Timestamp('2016-07-21 00:00:00'),\n",
       " Timestamp('2016-07-21 00:00:00'),\n",
       " Timestamp('2016-07-21 00:00:00'),\n",
       " Timestamp('2016-07-21 00:00:00'),\n",
       " Timestamp('2016-07-22 00:00:00'),\n",
       " Timestamp('2016-07-22 00:00:00'),\n",
       " Timestamp('2016-07-22 00:00:00'),\n",
       " Timestamp('2016-07-22 00:00:00'),\n",
       " Timestamp('2016-07-25 00:00:00'),\n",
       " Timestamp('2016-07-25 00:00:00'),\n",
       " Timestamp('2016-07-25 00:00:00'),\n",
       " Timestamp('2016-07-25 00:00:00'),\n",
       " Timestamp('2016-07-26 00:00:00'),\n",
       " Timestamp('2016-07-26 00:00:00'),\n",
       " Timestamp('2016-07-26 00:00:00'),\n",
       " Timestamp('2016-07-26 00:00:00'),\n",
       " Timestamp('2016-07-27 00:00:00'),\n",
       " Timestamp('2016-07-27 00:00:00'),\n",
       " Timestamp('2016-07-27 00:00:00'),\n",
       " Timestamp('2016-07-27 00:00:00'),\n",
       " Timestamp('2016-07-28 00:00:00'),\n",
       " Timestamp('2016-07-28 00:00:00'),\n",
       " Timestamp('2016-07-28 00:00:00'),\n",
       " Timestamp('2016-07-28 00:00:00'),\n",
       " Timestamp('2016-07-29 00:00:00'),\n",
       " Timestamp('2016-07-29 00:00:00'),\n",
       " Timestamp('2016-07-29 00:00:00'),\n",
       " Timestamp('2016-07-29 00:00:00'),\n",
       " Timestamp('2016-08-01 00:00:00'),\n",
       " Timestamp('2016-08-01 00:00:00'),\n",
       " Timestamp('2016-08-01 00:00:00'),\n",
       " Timestamp('2016-08-01 00:00:00'),\n",
       " Timestamp('2016-08-02 00:00:00'),\n",
       " Timestamp('2016-08-02 00:00:00'),\n",
       " Timestamp('2016-08-02 00:00:00'),\n",
       " Timestamp('2016-08-02 00:00:00'),\n",
       " Timestamp('2016-08-03 00:00:00'),\n",
       " Timestamp('2016-08-03 00:00:00'),\n",
       " Timestamp('2016-08-03 00:00:00'),\n",
       " Timestamp('2016-08-03 00:00:00'),\n",
       " Timestamp('2016-08-04 00:00:00'),\n",
       " Timestamp('2016-08-04 00:00:00'),\n",
       " Timestamp('2016-08-04 00:00:00'),\n",
       " Timestamp('2016-08-04 00:00:00'),\n",
       " Timestamp('2016-08-05 00:00:00'),\n",
       " Timestamp('2016-08-05 00:00:00'),\n",
       " Timestamp('2016-08-05 00:00:00'),\n",
       " Timestamp('2016-08-05 00:00:00'),\n",
       " Timestamp('2016-08-08 00:00:00'),\n",
       " Timestamp('2016-08-08 00:00:00'),\n",
       " Timestamp('2016-08-08 00:00:00'),\n",
       " Timestamp('2016-08-08 00:00:00'),\n",
       " Timestamp('2016-08-09 00:00:00'),\n",
       " Timestamp('2016-08-09 00:00:00'),\n",
       " Timestamp('2016-08-09 00:00:00'),\n",
       " Timestamp('2016-08-09 00:00:00'),\n",
       " Timestamp('2016-08-10 00:00:00'),\n",
       " Timestamp('2016-08-10 00:00:00'),\n",
       " Timestamp('2016-08-10 00:00:00'),\n",
       " Timestamp('2016-08-10 00:00:00'),\n",
       " Timestamp('2016-08-11 00:00:00'),\n",
       " Timestamp('2016-08-11 00:00:00'),\n",
       " Timestamp('2016-08-11 00:00:00'),\n",
       " Timestamp('2016-08-11 00:00:00'),\n",
       " Timestamp('2016-08-12 00:00:00'),\n",
       " Timestamp('2016-08-12 00:00:00'),\n",
       " Timestamp('2016-08-12 00:00:00'),\n",
       " Timestamp('2016-08-12 00:00:00'),\n",
       " Timestamp('2016-08-15 00:00:00'),\n",
       " Timestamp('2016-08-15 00:00:00'),\n",
       " Timestamp('2016-08-15 00:00:00'),\n",
       " Timestamp('2016-08-15 00:00:00'),\n",
       " Timestamp('2016-08-16 00:00:00'),\n",
       " Timestamp('2016-08-16 00:00:00'),\n",
       " Timestamp('2016-08-16 00:00:00'),\n",
       " Timestamp('2016-08-16 00:00:00'),\n",
       " Timestamp('2016-08-17 00:00:00'),\n",
       " Timestamp('2016-08-17 00:00:00'),\n",
       " Timestamp('2016-08-17 00:00:00'),\n",
       " Timestamp('2016-08-17 00:00:00'),\n",
       " Timestamp('2016-08-18 00:00:00'),\n",
       " Timestamp('2016-08-18 00:00:00'),\n",
       " Timestamp('2016-08-18 00:00:00'),\n",
       " Timestamp('2016-08-18 00:00:00'),\n",
       " Timestamp('2016-08-19 00:00:00'),\n",
       " Timestamp('2016-08-19 00:00:00'),\n",
       " Timestamp('2016-08-19 00:00:00'),\n",
       " Timestamp('2016-08-19 00:00:00'),\n",
       " Timestamp('2016-08-22 00:00:00'),\n",
       " Timestamp('2016-08-22 00:00:00'),\n",
       " Timestamp('2016-08-22 00:00:00'),\n",
       " Timestamp('2016-08-22 00:00:00'),\n",
       " Timestamp('2016-08-23 00:00:00'),\n",
       " Timestamp('2016-08-23 00:00:00'),\n",
       " Timestamp('2016-08-23 00:00:00'),\n",
       " Timestamp('2016-08-23 00:00:00'),\n",
       " Timestamp('2016-08-24 00:00:00'),\n",
       " Timestamp('2016-08-24 00:00:00'),\n",
       " Timestamp('2016-08-24 00:00:00'),\n",
       " Timestamp('2016-08-24 00:00:00'),\n",
       " Timestamp('2016-08-25 00:00:00'),\n",
       " Timestamp('2016-08-25 00:00:00'),\n",
       " Timestamp('2016-08-25 00:00:00'),\n",
       " Timestamp('2016-08-25 00:00:00'),\n",
       " Timestamp('2016-08-26 00:00:00'),\n",
       " Timestamp('2016-08-26 00:00:00'),\n",
       " Timestamp('2016-08-26 00:00:00'),\n",
       " Timestamp('2016-08-26 00:00:00'),\n",
       " Timestamp('2016-08-29 00:00:00'),\n",
       " Timestamp('2016-08-29 00:00:00'),\n",
       " Timestamp('2016-08-29 00:00:00'),\n",
       " Timestamp('2016-08-29 00:00:00'),\n",
       " Timestamp('2016-08-30 00:00:00'),\n",
       " Timestamp('2016-08-30 00:00:00'),\n",
       " Timestamp('2016-08-30 00:00:00'),\n",
       " Timestamp('2016-08-30 00:00:00'),\n",
       " Timestamp('2016-08-31 00:00:00'),\n",
       " Timestamp('2016-08-31 00:00:00'),\n",
       " Timestamp('2016-08-31 00:00:00'),\n",
       " Timestamp('2016-08-31 00:00:00'),\n",
       " Timestamp('2016-09-01 00:00:00'),\n",
       " Timestamp('2016-09-01 00:00:00'),\n",
       " Timestamp('2016-09-01 00:00:00'),\n",
       " Timestamp('2016-09-01 00:00:00'),\n",
       " Timestamp('2016-09-02 00:00:00'),\n",
       " Timestamp('2016-09-02 00:00:00'),\n",
       " Timestamp('2016-09-02 00:00:00'),\n",
       " Timestamp('2016-09-02 00:00:00'),\n",
       " Timestamp('2016-09-06 00:00:00'),\n",
       " Timestamp('2016-09-06 00:00:00'),\n",
       " Timestamp('2016-09-06 00:00:00'),\n",
       " Timestamp('2016-09-06 00:00:00'),\n",
       " Timestamp('2016-09-07 00:00:00'),\n",
       " Timestamp('2016-09-07 00:00:00'),\n",
       " Timestamp('2016-09-07 00:00:00'),\n",
       " Timestamp('2016-09-07 00:00:00'),\n",
       " Timestamp('2016-09-08 00:00:00'),\n",
       " Timestamp('2016-09-08 00:00:00'),\n",
       " Timestamp('2016-09-08 00:00:00'),\n",
       " Timestamp('2016-09-08 00:00:00'),\n",
       " Timestamp('2016-09-09 00:00:00'),\n",
       " Timestamp('2016-09-09 00:00:00'),\n",
       " Timestamp('2016-09-09 00:00:00'),\n",
       " Timestamp('2016-09-09 00:00:00'),\n",
       " Timestamp('2016-09-12 00:00:00'),\n",
       " Timestamp('2016-09-12 00:00:00'),\n",
       " Timestamp('2016-09-12 00:00:00'),\n",
       " Timestamp('2016-09-12 00:00:00'),\n",
       " Timestamp('2016-09-13 00:00:00'),\n",
       " Timestamp('2016-09-13 00:00:00'),\n",
       " Timestamp('2016-09-13 00:00:00'),\n",
       " Timestamp('2016-09-13 00:00:00'),\n",
       " Timestamp('2016-09-14 00:00:00'),\n",
       " Timestamp('2016-09-14 00:00:00'),\n",
       " Timestamp('2016-09-14 00:00:00'),\n",
       " Timestamp('2016-09-14 00:00:00'),\n",
       " Timestamp('2016-09-15 00:00:00'),\n",
       " Timestamp('2016-09-15 00:00:00'),\n",
       " Timestamp('2016-09-15 00:00:00'),\n",
       " Timestamp('2016-09-15 00:00:00'),\n",
       " Timestamp('2016-09-16 00:00:00'),\n",
       " Timestamp('2016-09-16 00:00:00'),\n",
       " Timestamp('2016-09-16 00:00:00'),\n",
       " Timestamp('2016-09-16 00:00:00'),\n",
       " Timestamp('2016-09-19 00:00:00'),\n",
       " Timestamp('2016-09-19 00:00:00'),\n",
       " Timestamp('2016-09-19 00:00:00'),\n",
       " Timestamp('2016-09-19 00:00:00'),\n",
       " Timestamp('2016-09-20 00:00:00'),\n",
       " Timestamp('2016-09-20 00:00:00'),\n",
       " Timestamp('2016-09-20 00:00:00'),\n",
       " Timestamp('2016-09-20 00:00:00'),\n",
       " Timestamp('2016-09-21 00:00:00'),\n",
       " Timestamp('2016-09-21 00:00:00'),\n",
       " Timestamp('2016-09-21 00:00:00'),\n",
       " Timestamp('2016-09-21 00:00:00'),\n",
       " Timestamp('2016-09-22 00:00:00'),\n",
       " Timestamp('2016-09-22 00:00:00'),\n",
       " Timestamp('2016-09-22 00:00:00'),\n",
       " Timestamp('2016-09-22 00:00:00'),\n",
       " Timestamp('2016-09-23 00:00:00'),\n",
       " Timestamp('2016-09-23 00:00:00'),\n",
       " Timestamp('2016-09-23 00:00:00'),\n",
       " Timestamp('2016-09-23 00:00:00'),\n",
       " Timestamp('2016-09-26 00:00:00'),\n",
       " Timestamp('2016-09-26 00:00:00'),\n",
       " Timestamp('2016-09-26 00:00:00'),\n",
       " Timestamp('2016-09-26 00:00:00'),\n",
       " Timestamp('2016-09-27 00:00:00'),\n",
       " Timestamp('2016-09-27 00:00:00'),\n",
       " Timestamp('2016-09-27 00:00:00'),\n",
       " Timestamp('2016-09-27 00:00:00'),\n",
       " Timestamp('2016-09-28 00:00:00'),\n",
       " Timestamp('2016-09-28 00:00:00'),\n",
       " Timestamp('2016-09-28 00:00:00'),\n",
       " Timestamp('2016-09-28 00:00:00'),\n",
       " Timestamp('2016-09-29 00:00:00'),\n",
       " Timestamp('2016-09-29 00:00:00'),\n",
       " Timestamp('2016-09-29 00:00:00'),\n",
       " Timestamp('2016-09-29 00:00:00'),\n",
       " Timestamp('2016-09-30 00:00:00'),\n",
       " Timestamp('2016-09-30 00:00:00'),\n",
       " Timestamp('2016-09-30 00:00:00'),\n",
       " Timestamp('2016-09-30 00:00:00'),\n",
       " Timestamp('2016-10-03 00:00:00'),\n",
       " Timestamp('2016-10-03 00:00:00'),\n",
       " Timestamp('2016-10-03 00:00:00'),\n",
       " Timestamp('2016-10-03 00:00:00'),\n",
       " Timestamp('2016-10-04 00:00:00'),\n",
       " Timestamp('2016-10-04 00:00:00'),\n",
       " Timestamp('2016-10-04 00:00:00'),\n",
       " Timestamp('2016-10-04 00:00:00'),\n",
       " Timestamp('2016-10-05 00:00:00'),\n",
       " Timestamp('2016-10-05 00:00:00'),\n",
       " Timestamp('2016-10-05 00:00:00'),\n",
       " Timestamp('2016-10-05 00:00:00'),\n",
       " Timestamp('2016-10-06 00:00:00'),\n",
       " Timestamp('2016-10-06 00:00:00'),\n",
       " Timestamp('2016-10-06 00:00:00'),\n",
       " Timestamp('2016-10-06 00:00:00'),\n",
       " Timestamp('2016-10-07 00:00:00'),\n",
       " Timestamp('2016-10-07 00:00:00'),\n",
       " Timestamp('2016-10-07 00:00:00'),\n",
       " Timestamp('2016-10-07 00:00:00'),\n",
       " Timestamp('2016-10-10 00:00:00'),\n",
       " Timestamp('2016-10-10 00:00:00'),\n",
       " Timestamp('2016-10-10 00:00:00'),\n",
       " Timestamp('2016-10-10 00:00:00'),\n",
       " Timestamp('2016-10-11 00:00:00'),\n",
       " Timestamp('2016-10-11 00:00:00'),\n",
       " Timestamp('2016-10-11 00:00:00'),\n",
       " Timestamp('2016-10-11 00:00:00'),\n",
       " Timestamp('2016-10-12 00:00:00'),\n",
       " Timestamp('2016-10-12 00:00:00'),\n",
       " Timestamp('2016-10-12 00:00:00'),\n",
       " Timestamp('2016-10-12 00:00:00'),\n",
       " Timestamp('2016-10-13 00:00:00'),\n",
       " Timestamp('2016-10-13 00:00:00'),\n",
       " Timestamp('2016-10-13 00:00:00'),\n",
       " Timestamp('2016-10-13 00:00:00'),\n",
       " Timestamp('2016-10-14 00:00:00'),\n",
       " Timestamp('2016-10-14 00:00:00'),\n",
       " Timestamp('2016-10-14 00:00:00'),\n",
       " Timestamp('2016-10-14 00:00:00'),\n",
       " Timestamp('2016-10-17 00:00:00'),\n",
       " Timestamp('2016-10-17 00:00:00'),\n",
       " Timestamp('2016-10-17 00:00:00'),\n",
       " Timestamp('2016-10-17 00:00:00'),\n",
       " Timestamp('2016-10-18 00:00:00'),\n",
       " Timestamp('2016-10-18 00:00:00'),\n",
       " Timestamp('2016-10-18 00:00:00'),\n",
       " Timestamp('2016-10-18 00:00:00'),\n",
       " Timestamp('2016-10-19 00:00:00'),\n",
       " Timestamp('2016-10-19 00:00:00'),\n",
       " Timestamp('2016-10-19 00:00:00'),\n",
       " Timestamp('2016-10-19 00:00:00'),\n",
       " Timestamp('2016-10-20 00:00:00'),\n",
       " Timestamp('2016-10-20 00:00:00'),\n",
       " Timestamp('2016-10-20 00:00:00'),\n",
       " Timestamp('2016-10-20 00:00:00'),\n",
       " Timestamp('2016-10-21 00:00:00'),\n",
       " Timestamp('2016-10-21 00:00:00'),\n",
       " Timestamp('2016-10-21 00:00:00'),\n",
       " Timestamp('2016-10-21 00:00:00'),\n",
       " Timestamp('2016-10-24 00:00:00'),\n",
       " Timestamp('2016-10-24 00:00:00'),\n",
       " Timestamp('2016-10-24 00:00:00'),\n",
       " Timestamp('2016-10-24 00:00:00'),\n",
       " Timestamp('2016-10-25 00:00:00'),\n",
       " Timestamp('2016-10-25 00:00:00'),\n",
       " Timestamp('2016-10-25 00:00:00'),\n",
       " Timestamp('2016-10-25 00:00:00'),\n",
       " Timestamp('2016-10-26 00:00:00'),\n",
       " Timestamp('2016-10-26 00:00:00'),\n",
       " Timestamp('2016-10-26 00:00:00'),\n",
       " Timestamp('2016-10-26 00:00:00'),\n",
       " Timestamp('2016-10-27 00:00:00'),\n",
       " Timestamp('2016-10-27 00:00:00'),\n",
       " Timestamp('2016-10-27 00:00:00'),\n",
       " Timestamp('2016-10-27 00:00:00'),\n",
       " Timestamp('2016-10-28 00:00:00'),\n",
       " Timestamp('2016-10-28 00:00:00'),\n",
       " Timestamp('2016-10-28 00:00:00'),\n",
       " Timestamp('2016-10-28 00:00:00'),\n",
       " Timestamp('2016-10-31 00:00:00'),\n",
       " Timestamp('2016-10-31 00:00:00'),\n",
       " Timestamp('2016-10-31 00:00:00'),\n",
       " Timestamp('2016-10-31 00:00:00'),\n",
       " Timestamp('2016-11-01 00:00:00'),\n",
       " Timestamp('2016-11-01 00:00:00'),\n",
       " Timestamp('2016-11-01 00:00:00'),\n",
       " Timestamp('2016-11-01 00:00:00'),\n",
       " Timestamp('2016-11-02 00:00:00'),\n",
       " Timestamp('2016-11-02 00:00:00'),\n",
       " Timestamp('2016-11-02 00:00:00'),\n",
       " Timestamp('2016-11-02 00:00:00'),\n",
       " Timestamp('2016-11-03 00:00:00'),\n",
       " Timestamp('2016-11-03 00:00:00'),\n",
       " Timestamp('2016-11-03 00:00:00'),\n",
       " Timestamp('2016-11-03 00:00:00'),\n",
       " Timestamp('2016-11-04 00:00:00'),\n",
       " Timestamp('2016-11-04 00:00:00'),\n",
       " Timestamp('2016-11-04 00:00:00'),\n",
       " Timestamp('2016-11-04 00:00:00'),\n",
       " Timestamp('2016-11-07 00:00:00'),\n",
       " Timestamp('2016-11-07 00:00:00'),\n",
       " Timestamp('2016-11-07 00:00:00'),\n",
       " Timestamp('2016-11-07 00:00:00'),\n",
       " Timestamp('2016-11-08 00:00:00'),\n",
       " Timestamp('2016-11-08 00:00:00'),\n",
       " Timestamp('2016-11-08 00:00:00'),\n",
       " Timestamp('2016-11-08 00:00:00'),\n",
       " Timestamp('2016-11-09 00:00:00'),\n",
       " Timestamp('2016-11-09 00:00:00'),\n",
       " Timestamp('2016-11-09 00:00:00'),\n",
       " Timestamp('2016-11-09 00:00:00'),\n",
       " Timestamp('2016-11-10 00:00:00'),\n",
       " Timestamp('2016-11-10 00:00:00'),\n",
       " Timestamp('2016-11-10 00:00:00'),\n",
       " Timestamp('2016-11-10 00:00:00'),\n",
       " Timestamp('2016-11-11 00:00:00'),\n",
       " Timestamp('2016-11-11 00:00:00'),\n",
       " Timestamp('2016-11-11 00:00:00'),\n",
       " Timestamp('2016-11-11 00:00:00'),\n",
       " Timestamp('2016-11-14 00:00:00'),\n",
       " Timestamp('2016-11-14 00:00:00'),\n",
       " Timestamp('2016-11-14 00:00:00'),\n",
       " Timestamp('2016-11-14 00:00:00'),\n",
       " Timestamp('2016-11-15 00:00:00'),\n",
       " Timestamp('2016-11-15 00:00:00'),\n",
       " Timestamp('2016-11-15 00:00:00'),\n",
       " Timestamp('2016-11-15 00:00:00'),\n",
       " Timestamp('2016-11-16 00:00:00'),\n",
       " Timestamp('2016-11-16 00:00:00'),\n",
       " Timestamp('2016-11-16 00:00:00'),\n",
       " Timestamp('2016-11-16 00:00:00'),\n",
       " Timestamp('2016-11-17 00:00:00'),\n",
       " Timestamp('2016-11-17 00:00:00'),\n",
       " Timestamp('2016-11-17 00:00:00'),\n",
       " Timestamp('2016-11-17 00:00:00'),\n",
       " Timestamp('2016-11-18 00:00:00'),\n",
       " Timestamp('2016-11-18 00:00:00'),\n",
       " Timestamp('2016-11-18 00:00:00'),\n",
       " Timestamp('2016-11-18 00:00:00'),\n",
       " Timestamp('2016-11-21 00:00:00'),\n",
       " Timestamp('2016-11-21 00:00:00'),\n",
       " Timestamp('2016-11-21 00:00:00'),\n",
       " Timestamp('2016-11-21 00:00:00'),\n",
       " Timestamp('2016-11-22 00:00:00'),\n",
       " Timestamp('2016-11-22 00:00:00'),\n",
       " Timestamp('2016-11-22 00:00:00'),\n",
       " Timestamp('2016-11-22 00:00:00'),\n",
       " Timestamp('2016-11-23 00:00:00'),\n",
       " Timestamp('2016-11-23 00:00:00'),\n",
       " Timestamp('2016-11-23 00:00:00'),\n",
       " Timestamp('2016-11-23 00:00:00'),\n",
       " Timestamp('2016-11-25 00:00:00'),\n",
       " Timestamp('2016-11-25 00:00:00'),\n",
       " Timestamp('2016-11-25 00:00:00'),\n",
       " Timestamp('2016-11-25 00:00:00'),\n",
       " Timestamp('2016-11-28 00:00:00'),\n",
       " Timestamp('2016-11-28 00:00:00'),\n",
       " Timestamp('2016-11-28 00:00:00'),\n",
       " Timestamp('2016-11-28 00:00:00'),\n",
       " Timestamp('2016-11-29 00:00:00'),\n",
       " Timestamp('2016-11-29 00:00:00'),\n",
       " Timestamp('2016-11-29 00:00:00'),\n",
       " Timestamp('2016-11-29 00:00:00'),\n",
       " Timestamp('2016-11-30 00:00:00'),\n",
       " Timestamp('2016-11-30 00:00:00'),\n",
       " Timestamp('2016-11-30 00:00:00'),\n",
       " Timestamp('2016-11-30 00:00:00'),\n",
       " Timestamp('2016-12-01 00:00:00'),\n",
       " Timestamp('2016-12-01 00:00:00'),\n",
       " Timestamp('2016-12-01 00:00:00'),\n",
       " Timestamp('2016-12-01 00:00:00'),\n",
       " Timestamp('2016-12-02 00:00:00'),\n",
       " Timestamp('2016-12-02 00:00:00'),\n",
       " Timestamp('2016-12-02 00:00:00'),\n",
       " Timestamp('2016-12-02 00:00:00'),\n",
       " Timestamp('2016-12-05 00:00:00'),\n",
       " Timestamp('2016-12-05 00:00:00'),\n",
       " Timestamp('2016-12-05 00:00:00'),\n",
       " Timestamp('2016-12-05 00:00:00'),\n",
       " Timestamp('2016-12-06 00:00:00'),\n",
       " Timestamp('2016-12-06 00:00:00'),\n",
       " Timestamp('2016-12-06 00:00:00'),\n",
       " Timestamp('2016-12-06 00:00:00'),\n",
       " Timestamp('2016-12-07 00:00:00'),\n",
       " Timestamp('2016-12-07 00:00:00'),\n",
       " Timestamp('2016-12-07 00:00:00'),\n",
       " Timestamp('2016-12-07 00:00:00'),\n",
       " Timestamp('2016-12-08 00:00:00'),\n",
       " Timestamp('2016-12-08 00:00:00'),\n",
       " Timestamp('2016-12-08 00:00:00'),\n",
       " Timestamp('2016-12-08 00:00:00'),\n",
       " Timestamp('2016-12-09 00:00:00'),\n",
       " Timestamp('2016-12-09 00:00:00'),\n",
       " Timestamp('2016-12-09 00:00:00'),\n",
       " Timestamp('2016-12-09 00:00:00'),\n",
       " Timestamp('2016-12-12 00:00:00'),\n",
       " Timestamp('2016-12-12 00:00:00'),\n",
       " Timestamp('2016-12-12 00:00:00'),\n",
       " Timestamp('2016-12-12 00:00:00'),\n",
       " Timestamp('2016-12-13 00:00:00'),\n",
       " Timestamp('2016-12-13 00:00:00'),\n",
       " Timestamp('2016-12-13 00:00:00'),\n",
       " Timestamp('2016-12-13 00:00:00'),\n",
       " Timestamp('2016-12-14 00:00:00'),\n",
       " Timestamp('2016-12-14 00:00:00'),\n",
       " Timestamp('2016-12-14 00:00:00'),\n",
       " Timestamp('2016-12-14 00:00:00'),\n",
       " Timestamp('2016-12-15 00:00:00'),\n",
       " Timestamp('2016-12-15 00:00:00'),\n",
       " Timestamp('2016-12-15 00:00:00'),\n",
       " Timestamp('2016-12-15 00:00:00'),\n",
       " Timestamp('2016-12-16 00:00:00'),\n",
       " Timestamp('2016-12-16 00:00:00'),\n",
       " Timestamp('2016-12-16 00:00:00'),\n",
       " Timestamp('2016-12-16 00:00:00'),\n",
       " Timestamp('2016-12-19 00:00:00'),\n",
       " Timestamp('2016-12-19 00:00:00'),\n",
       " Timestamp('2016-12-19 00:00:00'),\n",
       " Timestamp('2016-12-19 00:00:00'),\n",
       " Timestamp('2016-12-20 00:00:00'),\n",
       " Timestamp('2016-12-20 00:00:00'),\n",
       " Timestamp('2016-12-20 00:00:00'),\n",
       " Timestamp('2016-12-20 00:00:00'),\n",
       " Timestamp('2016-12-21 00:00:00'),\n",
       " Timestamp('2016-12-21 00:00:00'),\n",
       " Timestamp('2016-12-21 00:00:00'),\n",
       " Timestamp('2016-12-21 00:00:00'),\n",
       " Timestamp('2016-12-22 00:00:00'),\n",
       " Timestamp('2016-12-22 00:00:00'),\n",
       " Timestamp('2016-12-22 00:00:00'),\n",
       " Timestamp('2016-12-22 00:00:00'),\n",
       " Timestamp('2016-12-23 00:00:00'),\n",
       " Timestamp('2016-12-23 00:00:00'),\n",
       " Timestamp('2016-12-23 00:00:00'),\n",
       " Timestamp('2016-12-23 00:00:00'),\n",
       " Timestamp('2016-12-27 00:00:00'),\n",
       " Timestamp('2016-12-27 00:00:00'),\n",
       " Timestamp('2016-12-27 00:00:00'),\n",
       " Timestamp('2016-12-27 00:00:00'),\n",
       " ...]"
      ]
     },
     "execution_count": 51,
     "metadata": {},
     "output_type": "execute_result"
    }
   ],
   "source": [
    "list(df_change.index) > date(date.today().year, 1, 1)"
   ]
  },
  {
   "cell_type": "code",
   "execution_count": 18,
   "metadata": {},
   "outputs": [],
   "source": [
    "df_change['ActualYear'] = df_change.groupby('Stock').AdjClose.pct_change(len(df_change.loc['2021-01-01':'2021-01-31'].groupby('Dt')))\n",
    "df_change['ActualMonth'] = df_change.groupby('Stock').AdjClose.pct_change(len(df_change.loc['2021-02-01':'2021-02-01'].groupby('Dt')))"
   ]
  },
  {
   "cell_type": "code",
   "execution_count": 101,
   "metadata": {},
   "outputs": [],
   "source": [
    "def GetPctChange(df):\n",
    "    df_change = df.drop(['OpenValue', 'HighValue', 'LowValue', 'CloseValue', 'Volume', 'LoadDt'], axis=1)\n",
    "    \n",
    "    df_change['Change'] = df_change.groupby('Stock').AdjClose.pct_change()\n",
    "    df_change['Change7'] = df_change.groupby('Stock').AdjClose.pct_change(7)\n",
    "    df_change['Change30'] = df_change.groupby('Stock').AdjClose.pct_change(30)\n",
    "    df_change['Change90'] = df_change.groupby('Stock').AdjClose.pct_change(90)\n",
    "    df_change['Change180'] = df_change.groupby('Stock').AdjClose.pct_change(180)\n",
    "    df_change['Change360'] = df_change.groupby('Stock').AdjClose.pct_change(360)\n",
    "    return df_change\n",
    "#     df_change['ActualYear'] = df_change.groupby('Stock').AdjClose.pct_change(len(df_change.loc['2021-01-01':'2021-01-31'].groupby('Dt')))\n",
    "#     df_change['ActualMonth'] = df_change.groupby('Stock').AdjClose.pct_change(len(df_change.loc['2021-02-01':'2021-02-01'].groupby('Dt')))\n",
    "    "
   ]
  },
  {
   "cell_type": "code",
   "execution_count": 12,
   "metadata": {},
   "outputs": [
    {
     "data": {
      "text/html": [
       "<div>\n",
       "<style scoped>\n",
       "    .dataframe tbody tr th:only-of-type {\n",
       "        vertical-align: middle;\n",
       "    }\n",
       "\n",
       "    .dataframe tbody tr th {\n",
       "        vertical-align: top;\n",
       "    }\n",
       "\n",
       "    .dataframe thead th {\n",
       "        text-align: right;\n",
       "    }\n",
       "</style>\n",
       "<table border=\"1\" class=\"dataframe\">\n",
       "  <thead>\n",
       "    <tr style=\"text-align: right;\">\n",
       "      <th></th>\n",
       "      <th>Stock</th>\n",
       "      <th>AdjClose</th>\n",
       "      <th>Change</th>\n",
       "      <th>Change7</th>\n",
       "      <th>Change30</th>\n",
       "      <th>Change90</th>\n",
       "      <th>Change180</th>\n",
       "      <th>Change360</th>\n",
       "    </tr>\n",
       "    <tr>\n",
       "      <th>Dt</th>\n",
       "      <th></th>\n",
       "      <th></th>\n",
       "      <th></th>\n",
       "      <th></th>\n",
       "      <th></th>\n",
       "      <th></th>\n",
       "      <th></th>\n",
       "      <th></th>\n",
       "    </tr>\n",
       "  </thead>\n",
       "  <tbody>\n",
       "    <tr>\n",
       "      <th>2021-03-01</th>\n",
       "      <td>AAPL</td>\n",
       "      <td>127.790001</td>\n",
       "      <td>0.053851</td>\n",
       "      <td>-0.055995</td>\n",
       "      <td>-0.009226</td>\n",
       "      <td>0.056279</td>\n",
       "      <td>0.538311</td>\n",
       "      <td>1.340343</td>\n",
       "    </tr>\n",
       "    <tr>\n",
       "      <th>2021-03-01</th>\n",
       "      <td>AES</td>\n",
       "      <td>27.000000</td>\n",
       "      <td>0.016566</td>\n",
       "      <td>-0.053628</td>\n",
       "      <td>0.067484</td>\n",
       "      <td>0.394749</td>\n",
       "      <td>0.846039</td>\n",
       "      <td>0.776638</td>\n",
       "    </tr>\n",
       "    <tr>\n",
       "      <th>2021-03-01</th>\n",
       "      <td>AIG</td>\n",
       "      <td>45.310001</td>\n",
       "      <td>0.030944</td>\n",
       "      <td>0.094444</td>\n",
       "      <td>0.124876</td>\n",
       "      <td>0.540577</td>\n",
       "      <td>0.183098</td>\n",
       "      <td>-0.178645</td>\n",
       "    </tr>\n",
       "    <tr>\n",
       "      <th>2021-03-01</th>\n",
       "      <td>ES</td>\n",
       "      <td>80.730003</td>\n",
       "      <td>0.015727</td>\n",
       "      <td>-0.052131</td>\n",
       "      <td>-0.095057</td>\n",
       "      <td>-0.114941</td>\n",
       "      <td>-0.067588</td>\n",
       "      <td>0.002671</td>\n",
       "    </tr>\n",
       "  </tbody>\n",
       "</table>\n",
       "</div>"
      ],
      "text/plain": [
       "           Stock    AdjClose    Change   Change7  Change30  Change90  \\\n",
       "Dt                                                                     \n",
       "2021-03-01  AAPL  127.790001  0.053851 -0.055995 -0.009226  0.056279   \n",
       "2021-03-01   AES   27.000000  0.016566 -0.053628  0.067484  0.394749   \n",
       "2021-03-01   AIG   45.310001  0.030944  0.094444  0.124876  0.540577   \n",
       "2021-03-01    ES   80.730003  0.015727 -0.052131 -0.095057 -0.114941   \n",
       "\n",
       "            Change180  Change360  \n",
       "Dt                                \n",
       "2021-03-01   0.538311   1.340343  \n",
       "2021-03-01   0.846039   0.776638  \n",
       "2021-03-01   0.183098  -0.178645  \n",
       "2021-03-01  -0.067588   0.002671  "
      ]
     },
     "execution_count": 12,
     "metadata": {},
     "output_type": "execute_result"
    }
   ],
   "source": [
    "fl.GetPctChange(df).loc['2021-03-01']"
   ]
  },
  {
   "cell_type": "code",
   "execution_count": 16,
   "metadata": {},
   "outputs": [
    {
     "data": {
      "text/html": [
       "<div>\n",
       "<style scoped>\n",
       "    .dataframe tbody tr th:only-of-type {\n",
       "        vertical-align: middle;\n",
       "    }\n",
       "\n",
       "    .dataframe tbody tr th {\n",
       "        vertical-align: top;\n",
       "    }\n",
       "\n",
       "    .dataframe thead th {\n",
       "        text-align: right;\n",
       "    }\n",
       "</style>\n",
       "<table border=\"1\" class=\"dataframe\">\n",
       "  <thead>\n",
       "    <tr style=\"text-align: right;\">\n",
       "      <th></th>\n",
       "      <th>ES</th>\n",
       "      <th>AAPL</th>\n",
       "      <th>AES</th>\n",
       "      <th>AIG</th>\n",
       "    </tr>\n",
       "    <tr>\n",
       "      <th>Dt</th>\n",
       "      <th></th>\n",
       "      <th></th>\n",
       "      <th></th>\n",
       "      <th></th>\n",
       "    </tr>\n",
       "  </thead>\n",
       "  <tbody>\n",
       "    <tr>\n",
       "      <th>2015-12-31</th>\n",
       "      <td>24.380093</td>\n",
       "      <td>24.380093</td>\n",
       "      <td>24.380093</td>\n",
       "      <td>24.380093</td>\n",
       "    </tr>\n",
       "    <tr>\n",
       "      <th>2015-12-31</th>\n",
       "      <td>7.774692</td>\n",
       "      <td>7.774692</td>\n",
       "      <td>7.774692</td>\n",
       "      <td>7.774692</td>\n",
       "    </tr>\n",
       "    <tr>\n",
       "      <th>2015-12-31</th>\n",
       "      <td>54.062973</td>\n",
       "      <td>54.062973</td>\n",
       "      <td>54.062973</td>\n",
       "      <td>54.062973</td>\n",
       "    </tr>\n",
       "    <tr>\n",
       "      <th>2015-12-31</th>\n",
       "      <td>43.896469</td>\n",
       "      <td>43.896469</td>\n",
       "      <td>43.896469</td>\n",
       "      <td>43.896469</td>\n",
       "    </tr>\n",
       "    <tr>\n",
       "      <th>2016-01-04</th>\n",
       "      <td>24.400942</td>\n",
       "      <td>24.400942</td>\n",
       "      <td>24.400942</td>\n",
       "      <td>24.400942</td>\n",
       "    </tr>\n",
       "  </tbody>\n",
       "</table>\n",
       "</div>"
      ],
      "text/plain": [
       "                   ES       AAPL        AES        AIG\n",
       "Dt                                                    \n",
       "2015-12-31  24.380093  24.380093  24.380093  24.380093\n",
       "2015-12-31   7.774692   7.774692   7.774692   7.774692\n",
       "2015-12-31  54.062973  54.062973  54.062973  54.062973\n",
       "2015-12-31  43.896469  43.896469  43.896469  43.896469\n",
       "2016-01-04  24.400942  24.400942  24.400942  24.400942"
      ]
     },
     "execution_count": 16,
     "metadata": {},
     "output_type": "execute_result"
    }
   ],
   "source": [
    "data.head()"
   ]
  },
  {
   "cell_type": "code",
   "execution_count": 25,
   "metadata": {},
   "outputs": [],
   "source": [
    "returns = data.pct_change()"
   ]
  },
  {
   "cell_type": "code",
   "execution_count": 26,
   "metadata": {},
   "outputs": [],
   "source": [
    "returns.reset_index(drop=True, inplace=True)"
   ]
  },
  {
   "cell_type": "code",
   "execution_count": 27,
   "metadata": {},
   "outputs": [
    {
     "data": {
      "text/html": [
       "<div>\n",
       "<style scoped>\n",
       "    .dataframe tbody tr th:only-of-type {\n",
       "        vertical-align: middle;\n",
       "    }\n",
       "\n",
       "    .dataframe tbody tr th {\n",
       "        vertical-align: top;\n",
       "    }\n",
       "\n",
       "    .dataframe thead th {\n",
       "        text-align: right;\n",
       "    }\n",
       "</style>\n",
       "<table border=\"1\" class=\"dataframe\">\n",
       "  <thead>\n",
       "    <tr style=\"text-align: right;\">\n",
       "      <th></th>\n",
       "      <th>ES</th>\n",
       "      <th>AAPL</th>\n",
       "      <th>AES</th>\n",
       "      <th>AIG</th>\n",
       "    </tr>\n",
       "  </thead>\n",
       "  <tbody>\n",
       "    <tr>\n",
       "      <th>0</th>\n",
       "      <td>NaN</td>\n",
       "      <td>NaN</td>\n",
       "      <td>NaN</td>\n",
       "      <td>NaN</td>\n",
       "    </tr>\n",
       "    <tr>\n",
       "      <th>1</th>\n",
       "      <td>-0.003720</td>\n",
       "      <td>0.000855</td>\n",
       "      <td>-0.014629</td>\n",
       "      <td>-0.024851</td>\n",
       "    </tr>\n",
       "    <tr>\n",
       "      <th>2</th>\n",
       "      <td>0.009237</td>\n",
       "      <td>-0.025059</td>\n",
       "      <td>0.013786</td>\n",
       "      <td>0.003475</td>\n",
       "    </tr>\n",
       "    <tr>\n",
       "      <th>3</th>\n",
       "      <td>0.002142</td>\n",
       "      <td>-0.019570</td>\n",
       "      <td>-0.034519</td>\n",
       "      <td>-0.014677</td>\n",
       "    </tr>\n",
       "    <tr>\n",
       "      <th>4</th>\n",
       "      <td>-0.006218</td>\n",
       "      <td>-0.042205</td>\n",
       "      <td>-0.024919</td>\n",
       "      <td>-0.023933</td>\n",
       "    </tr>\n",
       "    <tr>\n",
       "      <th>...</th>\n",
       "      <td>...</td>\n",
       "      <td>...</td>\n",
       "      <td>...</td>\n",
       "      <td>...</td>\n",
       "    </tr>\n",
       "    <tr>\n",
       "      <th>1301</th>\n",
       "      <td>0.012900</td>\n",
       "      <td>0.040650</td>\n",
       "      <td>0.047565</td>\n",
       "      <td>-0.013125</td>\n",
       "    </tr>\n",
       "    <tr>\n",
       "      <th>1302</th>\n",
       "      <td>0.000367</td>\n",
       "      <td>-0.009167</td>\n",
       "      <td>-0.001453</td>\n",
       "      <td>0.026384</td>\n",
       "    </tr>\n",
       "    <tr>\n",
       "      <th>1303</th>\n",
       "      <td>-0.010528</td>\n",
       "      <td>0.016503</td>\n",
       "      <td>0.025100</td>\n",
       "      <td>0.003344</td>\n",
       "    </tr>\n",
       "    <tr>\n",
       "      <th>1304</th>\n",
       "      <td>0.015712</td>\n",
       "      <td>-0.007625</td>\n",
       "      <td>0.009581</td>\n",
       "      <td>0.008956</td>\n",
       "    </tr>\n",
       "    <tr>\n",
       "      <th>1305</th>\n",
       "      <td>0.007917</td>\n",
       "      <td>0.024457</td>\n",
       "      <td>0.001757</td>\n",
       "      <td>-0.002064</td>\n",
       "    </tr>\n",
       "  </tbody>\n",
       "</table>\n",
       "<p>1306 rows × 4 columns</p>\n",
       "</div>"
      ],
      "text/plain": [
       "            ES      AAPL       AES       AIG\n",
       "0          NaN       NaN       NaN       NaN\n",
       "1    -0.003720  0.000855 -0.014629 -0.024851\n",
       "2     0.009237 -0.025059  0.013786  0.003475\n",
       "3     0.002142 -0.019570 -0.034519 -0.014677\n",
       "4    -0.006218 -0.042205 -0.024919 -0.023933\n",
       "...        ...       ...       ...       ...\n",
       "1301  0.012900  0.040650  0.047565 -0.013125\n",
       "1302  0.000367 -0.009167 -0.001453  0.026384\n",
       "1303 -0.010528  0.016503  0.025100  0.003344\n",
       "1304  0.015712 -0.007625  0.009581  0.008956\n",
       "1305  0.007917  0.024457  0.001757 -0.002064\n",
       "\n",
       "[1306 rows x 4 columns]"
      ]
     },
     "execution_count": 27,
     "metadata": {},
     "output_type": "execute_result"
    }
   ],
   "source": [
    "returns"
   ]
  },
  {
   "cell_type": "code",
   "execution_count": 28,
   "metadata": {},
   "outputs": [
    {
     "data": {
      "text/html": [
       "<div>\n",
       "<style scoped>\n",
       "    .dataframe tbody tr th:only-of-type {\n",
       "        vertical-align: middle;\n",
       "    }\n",
       "\n",
       "    .dataframe tbody tr th {\n",
       "        vertical-align: top;\n",
       "    }\n",
       "\n",
       "    .dataframe thead th {\n",
       "        text-align: right;\n",
       "    }\n",
       "</style>\n",
       "<table border=\"1\" class=\"dataframe\">\n",
       "  <thead>\n",
       "    <tr style=\"text-align: right;\">\n",
       "      <th></th>\n",
       "      <th>ES</th>\n",
       "      <th>AAPL</th>\n",
       "      <th>AES</th>\n",
       "      <th>AIG</th>\n",
       "    </tr>\n",
       "  </thead>\n",
       "  <tbody>\n",
       "    <tr>\n",
       "      <th>0</th>\n",
       "      <td>NaN</td>\n",
       "      <td>NaN</td>\n",
       "      <td>NaN</td>\n",
       "      <td>NaN</td>\n",
       "    </tr>\n",
       "    <tr>\n",
       "      <th>1</th>\n",
       "      <td>0.996280</td>\n",
       "      <td>1.000855</td>\n",
       "      <td>0.985371</td>\n",
       "      <td>0.975149</td>\n",
       "    </tr>\n",
       "    <tr>\n",
       "      <th>2</th>\n",
       "      <td>1.009237</td>\n",
       "      <td>0.974941</td>\n",
       "      <td>1.013786</td>\n",
       "      <td>1.003475</td>\n",
       "    </tr>\n",
       "    <tr>\n",
       "      <th>3</th>\n",
       "      <td>1.002142</td>\n",
       "      <td>0.980430</td>\n",
       "      <td>0.965481</td>\n",
       "      <td>0.985323</td>\n",
       "    </tr>\n",
       "    <tr>\n",
       "      <th>4</th>\n",
       "      <td>0.993782</td>\n",
       "      <td>0.957795</td>\n",
       "      <td>0.975081</td>\n",
       "      <td>0.976067</td>\n",
       "    </tr>\n",
       "    <tr>\n",
       "      <th>...</th>\n",
       "      <td>...</td>\n",
       "      <td>...</td>\n",
       "      <td>...</td>\n",
       "      <td>...</td>\n",
       "    </tr>\n",
       "    <tr>\n",
       "      <th>1301</th>\n",
       "      <td>1.012900</td>\n",
       "      <td>1.040650</td>\n",
       "      <td>1.047565</td>\n",
       "      <td>0.986875</td>\n",
       "    </tr>\n",
       "    <tr>\n",
       "      <th>1302</th>\n",
       "      <td>1.000367</td>\n",
       "      <td>0.990833</td>\n",
       "      <td>0.998547</td>\n",
       "      <td>1.026384</td>\n",
       "    </tr>\n",
       "    <tr>\n",
       "      <th>1303</th>\n",
       "      <td>0.989472</td>\n",
       "      <td>1.016503</td>\n",
       "      <td>1.025100</td>\n",
       "      <td>1.003344</td>\n",
       "    </tr>\n",
       "    <tr>\n",
       "      <th>1304</th>\n",
       "      <td>1.015712</td>\n",
       "      <td>0.992375</td>\n",
       "      <td>1.009581</td>\n",
       "      <td>1.008956</td>\n",
       "    </tr>\n",
       "    <tr>\n",
       "      <th>1305</th>\n",
       "      <td>1.007917</td>\n",
       "      <td>1.024457</td>\n",
       "      <td>1.001757</td>\n",
       "      <td>0.997936</td>\n",
       "    </tr>\n",
       "  </tbody>\n",
       "</table>\n",
       "<p>1306 rows × 4 columns</p>\n",
       "</div>"
      ],
      "text/plain": [
       "            ES      AAPL       AES       AIG\n",
       "0          NaN       NaN       NaN       NaN\n",
       "1     0.996280  1.000855  0.985371  0.975149\n",
       "2     1.009237  0.974941  1.013786  1.003475\n",
       "3     1.002142  0.980430  0.965481  0.985323\n",
       "4     0.993782  0.957795  0.975081  0.976067\n",
       "...        ...       ...       ...       ...\n",
       "1301  1.012900  1.040650  1.047565  0.986875\n",
       "1302  1.000367  0.990833  0.998547  1.026384\n",
       "1303  0.989472  1.016503  1.025100  1.003344\n",
       "1304  1.015712  0.992375  1.009581  1.008956\n",
       "1305  1.007917  1.024457  1.001757  0.997936\n",
       "\n",
       "[1306 rows x 4 columns]"
      ]
     },
     "execution_count": 28,
     "metadata": {},
     "output_type": "execute_result"
    }
   ],
   "source": [
    "returns+1"
   ]
  },
  {
   "cell_type": "code",
   "execution_count": 29,
   "metadata": {},
   "outputs": [
    {
     "data": {
      "text/plain": [
       "ES      1.885117\n",
       "AAPL    5.085707\n",
       "AES     3.665740\n",
       "AIG     0.894142\n",
       "dtype: float64"
      ]
     },
     "execution_count": 29,
     "metadata": {},
     "output_type": "execute_result"
    }
   ],
   "source": [
    "np.prod(returns+1)"
   ]
  },
  {
   "cell_type": "code",
   "execution_count": 30,
   "metadata": {},
   "outputs": [
    {
     "data": {
      "text/plain": [
       "ES       88.51\n",
       "AAPL    408.57\n",
       "AES     266.57\n",
       "AIG     -10.59\n",
       "dtype: float64"
      ]
     },
     "execution_count": 30,
     "metadata": {},
     "output_type": "execute_result"
    }
   ],
   "source": [
    "(((returns+1).prod()-1)*100).round(2)"
   ]
  },
  {
   "cell_type": "code",
   "execution_count": 38,
   "metadata": {},
   "outputs": [
    {
     "data": {
      "image/png": "[encoded data removed]",
      "text/plain": [
       "<Figure size 864x504 with 2 Axes>"
      ]
     },
     "metadata": {
      "needs_background": "light"
     },
     "output_type": "display_data"
    }
   ],
   "source": [
    "fl.GetMAPlot(df, 'AIG', 20)"
   ]
  },
  {
   "cell_type": "code",
   "execution_count": 39,
   "metadata": {},
   "outputs": [
    {
     "data": {
      "image/png": "[encoded data removed]",
      "text/plain": [
       "<Figure size 864x504 with 2 Axes>"
      ]
     },
     "metadata": {
      "needs_background": "light"
     },
     "output_type": "display_data"
    }
   ],
   "source": [
    "fl.GetCandlePlot(df, 'AIG', ReSample = '10D')"
   ]
  },
  {
   "cell_type": "code",
   "execution_count": null,
   "metadata": {},
   "outputs": [],
   "source": [
    "fl.GetPctChange(df).loc['2021-03-01']"
   ]
  },
  {
   "cell_type": "code",
   "execution_count": 40,
   "metadata": {},
   "outputs": [],
   "source": [
    "def GetTotalReturns(data):\n",
    "    returns = data.pct_change()\n",
    "    returns.reset_index(drop=True, inplace=True)\n",
    "    return (((returns+1).prod()-1)*100).round(2)"
   ]
  },
  {
   "cell_type": "code",
   "execution_count": 55,
   "metadata": {},
   "outputs": [
    {
     "name": "stderr",
     "output_type": "stream",
     "text": [
      "C:\\Users\\PETR\\anaconda3\\lib\\site-packages\\ipykernel_launcher.py:1: FutureWarning: Indexing a DataFrame with a datetimelike index using a single string to slice the rows, like `frame[string]`, is deprecated and will be removed in a future version. Use `frame.loc[string]` instead.\n",
      "  \"\"\"Entry point for launching an IPython kernel.\n"
     ]
    }
   ],
   "source": [
    "stock_return = fl.GetReturns(data['2020'])"
   ]
  },
  {
   "cell_type": "code",
   "execution_count": 56,
   "metadata": {},
   "outputs": [
    {
     "data": {
      "text/plain": [
       "-23.72"
      ]
     },
     "execution_count": 56,
     "metadata": {},
     "output_type": "execute_result"
    }
   ],
   "source": [
    "stock_return['AIG']"
   ]
  },
  {
   "cell_type": "code",
   "execution_count": 59,
   "metadata": {},
   "outputs": [],
   "source": [
    "returns = data.pct_change()"
   ]
  },
  {
   "cell_type": "code",
   "execution_count": 73,
   "metadata": {},
   "outputs": [],
   "source": [
    "returns = fl.GetReturns(data)"
   ]
  },
  {
   "cell_type": "code",
   "execution_count": 74,
   "metadata": {},
   "outputs": [
    {
     "data": {
      "text/html": [
       "<div>\n",
       "<style scoped>\n",
       "    .dataframe tbody tr th:only-of-type {\n",
       "        vertical-align: middle;\n",
       "    }\n",
       "\n",
       "    .dataframe tbody tr th {\n",
       "        vertical-align: top;\n",
       "    }\n",
       "\n",
       "    .dataframe thead th {\n",
       "        text-align: right;\n",
       "    }\n",
       "</style>\n",
       "<table border=\"1\" class=\"dataframe\">\n",
       "  <thead>\n",
       "    <tr style=\"text-align: right;\">\n",
       "      <th></th>\n",
       "      <th>ES</th>\n",
       "      <th>AAPL</th>\n",
       "      <th>AES</th>\n",
       "      <th>AIG</th>\n",
       "    </tr>\n",
       "    <tr>\n",
       "      <th>Dt</th>\n",
       "      <th></th>\n",
       "      <th></th>\n",
       "      <th></th>\n",
       "      <th></th>\n",
       "    </tr>\n",
       "  </thead>\n",
       "  <tbody>\n",
       "    <tr>\n",
       "      <th>2015-12-31</th>\n",
       "      <td>NaN</td>\n",
       "      <td>NaN</td>\n",
       "      <td>NaN</td>\n",
       "      <td>NaN</td>\n",
       "    </tr>\n",
       "    <tr>\n",
       "      <th>2016-01-04</th>\n",
       "      <td>-0.003720</td>\n",
       "      <td>0.000855</td>\n",
       "      <td>-0.014629</td>\n",
       "      <td>-0.024851</td>\n",
       "    </tr>\n",
       "    <tr>\n",
       "      <th>2016-01-05</th>\n",
       "      <td>0.009237</td>\n",
       "      <td>-0.025059</td>\n",
       "      <td>0.013786</td>\n",
       "      <td>0.003475</td>\n",
       "    </tr>\n",
       "    <tr>\n",
       "      <th>2016-01-06</th>\n",
       "      <td>0.002142</td>\n",
       "      <td>-0.019570</td>\n",
       "      <td>-0.034519</td>\n",
       "      <td>-0.014677</td>\n",
       "    </tr>\n",
       "    <tr>\n",
       "      <th>2016-01-07</th>\n",
       "      <td>-0.006218</td>\n",
       "      <td>-0.042205</td>\n",
       "      <td>-0.024919</td>\n",
       "      <td>-0.023933</td>\n",
       "    </tr>\n",
       "  </tbody>\n",
       "</table>\n",
       "</div>"
      ],
      "text/plain": [
       "                  ES      AAPL       AES       AIG\n",
       "Dt                                                \n",
       "2015-12-31       NaN       NaN       NaN       NaN\n",
       "2016-01-04 -0.003720  0.000855 -0.014629 -0.024851\n",
       "2016-01-05  0.009237 -0.025059  0.013786  0.003475\n",
       "2016-01-06  0.002142 -0.019570 -0.034519 -0.014677\n",
       "2016-01-07 -0.006218 -0.042205 -0.024919 -0.023933"
      ]
     },
     "execution_count": 74,
     "metadata": {},
     "output_type": "execute_result"
    }
   ],
   "source": [
    "returns.head()"
   ]
  },
  {
   "cell_type": "code",
   "execution_count": 60,
   "metadata": {},
   "outputs": [
    {
     "name": "stderr",
     "output_type": "stream",
     "text": [
      "C:\\Users\\PETR\\anaconda3\\lib\\site-packages\\ipykernel_launcher.py:1: FutureWarning: Indexing a DataFrame with a datetimelike index using a single string to slice the rows, like `frame[string]`, is deprecated and will be removed in a future version. Use `frame.loc[string]` instead.\n",
      "  \"\"\"Entry point for launching an IPython kernel.\n"
     ]
    },
    {
     "data": {
      "text/plain": [
       "<matplotlib.axes._subplots.AxesSubplot at 0x22a9d547248>"
      ]
     },
     "execution_count": 60,
     "metadata": {},
     "output_type": "execute_result"
    },
    {
     "data": {
      "image/png": "[encoded data removed]",
      "text/plain": [
       "<Figure size 432x288 with 1 Axes>"
      ]
     },
     "metadata": {
      "needs_background": "light"
     },
     "output_type": "display_data"
    }
   ],
   "source": [
    "returns['2021']['AAPL'].plot()"
   ]
  },
  {
   "cell_type": "code",
   "execution_count": null,
   "metadata": {},
   "outputs": [],
   "source": [
    "# ax = sns.barplot(x=\"day\", y=\"total_bill\", data=tips)"
   ]
  },
  {
   "cell_type": "code",
   "execution_count": 64,
   "metadata": {},
   "outputs": [
    {
     "data": {
      "text/plain": [
       "ES      0.015397\n",
       "AAPL    0.019189\n",
       "AES     0.021664\n",
       "AIG     0.023372\n",
       "dtype: float64"
      ]
     },
     "execution_count": 64,
     "metadata": {},
     "output_type": "execute_result"
    }
   ],
   "source": [
    "returns.std()"
   ]
  },
  {
   "cell_type": "code",
   "execution_count": 68,
   "metadata": {},
   "outputs": [
    {
     "data": {
      "text/plain": [
       "(1306, 4)"
      ]
     },
     "execution_count": 68,
     "metadata": {},
     "output_type": "execute_result"
    }
   ],
   "source": [
    "returns.shape"
   ]
  },
  {
   "cell_type": "code",
   "execution_count": 67,
   "metadata": {},
   "outputs": [
    {
     "data": {
      "text/plain": [
       "1306"
      ]
     },
     "execution_count": 67,
     "metadata": {},
     "output_type": "execute_result"
    }
   ],
   "source": [
    "n_days =  returns.shape[0]\n",
    "n_days"
   ]
  },
  {
   "cell_type": "code",
   "execution_count": 69,
   "metadata": {},
   "outputs": [
    {
     "data": {
      "text/plain": [
       "ES      0.130129\n",
       "AAPL    0.368656\n",
       "AES     0.284867\n",
       "AIG    -0.021358\n",
       "dtype: float64"
      ]
     },
     "execution_count": 69,
     "metadata": {},
     "output_type": "execute_result"
    }
   ],
   "source": [
    "annualized_return = (returns+1).prod()**(252/n_days) - 1\n",
    "annualized_return"
   ]
  },
  {
   "cell_type": "code",
   "execution_count": 70,
   "metadata": {},
   "outputs": [
    {
     "data": {
      "text/plain": [
       "ES      0.244414\n",
       "AAPL    0.304621\n",
       "AES     0.343900\n",
       "AIG     0.371017\n",
       "dtype: float64"
      ]
     },
     "execution_count": 70,
     "metadata": {},
     "output_type": "execute_result"
    }
   ],
   "source": [
    "annualized_vol = returns.std()*np.sqrt(252)\n",
    "annualized_vol"
   ]
  },
  {
   "cell_type": "code",
   "execution_count": 71,
   "metadata": {},
   "outputs": [
    {
     "data": {
      "text/plain": [
       "ES      0.532412\n",
       "AAPL    1.210212\n",
       "AES     0.828342\n",
       "AIG    -0.057567\n",
       "dtype: float64"
      ]
     },
     "execution_count": 71,
     "metadata": {},
     "output_type": "execute_result"
    }
   ],
   "source": [
    "annualized_return/annualized_vol"
   ]
  },
  {
   "cell_type": "code",
   "execution_count": 72,
   "metadata": {},
   "outputs": [
    {
     "data": {
      "text/plain": [
       "ES      0.450584\n",
       "AAPL    1.144556\n",
       "AES     0.770185\n",
       "AIG    -0.111473\n",
       "dtype: float64"
      ]
     },
     "execution_count": 72,
     "metadata": {},
     "output_type": "execute_result"
    }
   ],
   "source": [
    "riskfree_rate = 0.02\n",
    "excess_return = annualized_return - riskfree_rate\n",
    "sharpe_ratio = excess_return/annualized_vol\n",
    "sharpe_ratio"
   ]
  },
  {
   "cell_type": "code",
   "execution_count": 75,
   "metadata": {},
   "outputs": [
    {
     "data": {
      "text/plain": [
       "ES      0.437199\n",
       "AAPL   -0.112323\n",
       "AES    -0.663809\n",
       "AIG    -0.574274\n",
       "dtype: float64"
      ]
     },
     "execution_count": 75,
     "metadata": {},
     "output_type": "execute_result"
    }
   ],
   "source": [
    "fl.skewness(returns)"
   ]
  },
  {
   "cell_type": "code",
   "execution_count": 76,
   "metadata": {},
   "outputs": [
    {
     "data": {
      "text/plain": [
       "ES      25.326719\n",
       "AAPL     9.726139\n",
       "AES     14.352627\n",
       "AIG     19.765662\n",
       "dtype: float64"
      ]
     },
     "execution_count": 76,
     "metadata": {},
     "output_type": "execute_result"
    }
   ],
   "source": [
    "fl.kurtosis(returns)"
   ]
  },
  {
   "cell_type": "code",
   "execution_count": 78,
   "metadata": {},
   "outputs": [
    {
     "data": {
      "text/plain": [
       "ES      0.885117\n",
       "AAPL    4.085707\n",
       "AES     2.665740\n",
       "AIG    -0.105858\n",
       "dtype: float64"
      ]
     },
     "execution_count": 78,
     "metadata": {},
     "output_type": "execute_result"
    }
   ],
   "source": [
    "fl.compound(returns)"
   ]
  },
  {
   "cell_type": "code",
   "execution_count": 79,
   "metadata": {},
   "outputs": [],
   "source": [
    "periods_per_year = 252\n",
    "riskfree_rate = 0.02"
   ]
  },
  {
   "cell_type": "code",
   "execution_count": 80,
   "metadata": {},
   "outputs": [
    {
     "data": {
      "text/plain": [
       "ES      0.130129\n",
       "AAPL    0.368656\n",
       "AES     0.284867\n",
       "AIG    -0.021358\n",
       "dtype: float64"
      ]
     },
     "execution_count": 80,
     "metadata": {},
     "output_type": "execute_result"
    }
   ],
   "source": [
    "fl.annualize_rets(returns, periods_per_year)"
   ]
  },
  {
   "cell_type": "code",
   "execution_count": 81,
   "metadata": {},
   "outputs": [
    {
     "data": {
      "text/plain": [
       "ES      0.244414\n",
       "AAPL    0.304621\n",
       "AES     0.343900\n",
       "AIG     0.371017\n",
       "dtype: float64"
      ]
     },
     "execution_count": 81,
     "metadata": {},
     "output_type": "execute_result"
    }
   ],
   "source": [
    "fl.annualize_vol(returns, periods_per_year)"
   ]
  },
  {
   "cell_type": "code",
   "execution_count": 82,
   "metadata": {},
   "outputs": [
    {
     "data": {
      "text/plain": [
       "ES      0.441844\n",
       "AAPL    1.122267\n",
       "AES     0.755188\n",
       "AIG    -0.109271\n",
       "dtype: float64"
      ]
     },
     "execution_count": 82,
     "metadata": {},
     "output_type": "execute_result"
    }
   ],
   "source": [
    "fl.sharpe_ratio(returns, riskfree_rate, periods_per_year)"
   ]
  },
  {
   "cell_type": "code",
   "execution_count": 84,
   "metadata": {},
   "outputs": [
    {
     "data": {
      "text/plain": [
       "ES      False\n",
       "AAPL    False\n",
       "AES     False\n",
       "AIG     False\n",
       "dtype: bool"
      ]
     },
     "execution_count": 84,
     "metadata": {},
     "output_type": "execute_result"
    }
   ],
   "source": [
    "fl.is_normal(returns)"
   ]
  },
  {
   "cell_type": "code",
   "execution_count": null,
   "metadata": {},
   "outputs": [],
   "source": []
  },
  {
   "cell_type": "code",
   "execution_count": null,
   "metadata": {},
   "outputs": [],
   "source": []
  },
  {
   "cell_type": "code",
   "execution_count": null,
   "metadata": {},
   "outputs": [],
   "source": []
  },
  {
   "cell_type": "code",
   "execution_count": null,
   "metadata": {},
   "outputs": [],
   "source": []
  },
  {
   "cell_type": "code",
   "execution_count": null,
   "metadata": {},
   "outputs": [],
   "source": []
  },
  {
   "cell_type": "code",
   "execution_count": 20,
   "metadata": {},
   "outputs": [
    {
     "name": "stdout",
     "output_type": "stream",
     "text": [
      "Collecting pandasguiNote: you may need to restart the kernel to use updated packages.\n",
      "  Downloading pandasgui-0.2.7.tar.gz (6.9 MB)\n",
      "Requirement already satisfied: pandas in c:\\users\\petr\\anaconda3\\lib\\site-packages (from pandasgui) (1.0.5)\n",
      "Collecting PyQt5\n",
      "  Downloading PyQt5-5.15.2-5.15.2-cp35.cp36.cp37.cp38.cp39-none-win_amd64.whl (56.9 MB)\n",
      "Collecting PyQt5-sip\n",
      "  Downloading PyQt5_sip-12.8.1-cp37-cp37m-win_amd64.whl (62 kB)\n",
      "Collecting PyQtWebEngine\n",
      "  Downloading PyQtWebEngine-5.15.2-5.15.2-cp35.cp36.cp37.cp38.cp39-none-win_amd64.whl (60.2 MB)\n",
      "Requirement already satisfied: plotly in c:\\users\\petr\\anaconda3\\lib\\site-packages (from pandasgui) (4.7.1)\n",
      "Requirement already satisfied: setuptools in c:\\users\\petr\\anaconda3\\lib\\site-packages (from pandasgui) (47.3.1.post20200616)\n",
      "Collecting appdirs\n",
      "  Downloading appdirs-1.4.4-py2.py3-none-any.whl (9.6 kB)\n",
      "Collecting dacite\n",
      "  Downloading dacite-1.6.0-py3-none-any.whl (12 kB)\n",
      "Collecting pynput\n",
      "  Downloading pynput-1.7.2-py2.py3-none-any.whl (99 kB)\n",
      "Requirement already satisfied: IPython in c:\\users\\petr\\anaconda3\\lib\\site-packages (from pandasgui) (7.16.1)\n",
      "Requirement already satisfied: numpy>=1.13.3 in c:\\users\\petr\\anaconda3\\lib\\site-packages (from pandas->pandasgui) (1.18.5)\n",
      "Requirement already satisfied: pytz>=2017.2 in c:\\users\\petr\\anaconda3\\lib\\site-packages (from pandas->pandasgui) (2020.1)\n",
      "Requirement already satisfied: python-dateutil>=2.6.1 in c:\\users\\petr\\anaconda3\\lib\\site-packages (from pandas->pandasgui) (2.8.1)\n",
      "\n",
      "Requirement already satisfied: six in c:\\users\\petr\\anaconda3\\lib\\site-packages (from plotly->pandasgui) (1.15.0)\n",
      "Requirement already satisfied: retrying>=1.3.3 in c:\\users\\petr\\anaconda3\\lib\\site-packages (from plotly->pandasgui) (1.3.3)\n",
      "Requirement already satisfied: pygments in c:\\users\\petr\\anaconda3\\lib\\site-packages (from IPython->pandasgui) (2.6.1)\n",
      "Requirement already satisfied: backcall in c:\\users\\petr\\anaconda3\\lib\\site-packages (from IPython->pandasgui) (0.2.0)\n",
      "Requirement already satisfied: jedi>=0.10 in c:\\users\\petr\\anaconda3\\lib\\site-packages (from IPython->pandasgui) (0.15.2)\n",
      "Requirement already satisfied: colorama; sys_platform == \"win32\" in c:\\users\\petr\\anaconda3\\lib\\site-packages (from IPython->pandasgui) (0.4.3)\n",
      "Requirement already satisfied: traitlets>=4.2 in c:\\users\\petr\\anaconda3\\lib\\site-packages (from IPython->pandasgui) (4.3.3)\n",
      "Requirement already satisfied: prompt-toolkit!=3.0.0,!=3.0.1,<3.1.0,>=2.0.0 in c:\\users\\petr\\anaconda3\\lib\\site-packages (from IPython->pandasgui) (3.0.5)\n"
     ]
    },
    {
     "name": "stderr",
     "output_type": "stream",
     "text": [
      "ERROR: spyder 4.1.3 has requirement pyqt5<5.13; python_version >= \"3\", but you'll have pyqt5 5.15.2 which is incompatible.\n",
      "ERROR: spyder 4.1.3 has requirement pyqtwebengine<5.13; python_version >= \"3\", but you'll have pyqtwebengine 5.15.2 which is incompatible.\n"
     ]
    },
    {
     "name": "stdout",
     "output_type": "stream",
     "text": [
      "Requirement already satisfied: decorator in c:\\users\\petr\\anaconda3\\lib\\site-packages (from IPython->pandasgui) (4.4.2)\n",
      "Requirement already satisfied: pickleshare in c:\\users\\petr\\anaconda3\\lib\\site-packages (from IPython->pandasgui) (0.7.5)\n",
      "Requirement already satisfied: parso>=0.5.2 in c:\\users\\petr\\anaconda3\\lib\\site-packages (from jedi>=0.10->IPython->pandasgui) (0.5.2)\n",
      "Requirement already satisfied: ipython-genutils in c:\\users\\petr\\anaconda3\\lib\\site-packages (from traitlets>=4.2->IPython->pandasgui) (0.2.0)\n",
      "Requirement already satisfied: wcwidth in c:\\users\\petr\\anaconda3\\lib\\site-packages (from prompt-toolkit!=3.0.0,!=3.0.1,<3.1.0,>=2.0.0->IPython->pandasgui) (0.2.5)\n",
      "Building wheels for collected packages: pandasgui\n",
      "  Building wheel for pandasgui (setup.py): started\n",
      "  Building wheel for pandasgui (setup.py): finished with status 'done'\n",
      "  Created wheel for pandasgui: filename=pandasgui-0.2.7-py3-none-any.whl size=6931296 sha256=4312843445fbcd2bf312ae334f726f8efbf716d6ee1a0140e1408cd2f74cbe54\n",
      "  Stored in directory: c:\\users\\petr\\appdata\\local\\pip\\cache\\wheels\\06\\79\\30\\fed1fa2d679573ad9e85a5ede31538f6a7b78dcf8ad4ab099e\n",
      "Successfully built pandasgui\n",
      "Installing collected packages: PyQt5-sip, PyQt5, PyQtWebEngine, appdirs, dacite, pynput, pandasgui\n",
      "Successfully installed PyQt5-5.15.2 PyQt5-sip-12.8.1 PyQtWebEngine-5.15.2 appdirs-1.4.4 dacite-1.6.0 pandasgui-0.2.7 pynput-1.7.2\n"
     ]
    }
   ],
   "source": [
    "pip install pandasgui"
   ]
  },
  {
   "cell_type": "code",
   "execution_count": 21,
   "metadata": {},
   "outputs": [],
   "source": [
    "from pandasgui import show\n",
    "gui = show(df_change)"
   ]
  },
  {
   "cell_type": "code",
   "execution_count": 1,
   "metadata": {},
   "outputs": [
    {
     "name": "stdout",
     "output_type": "stream",
     "text": [
      "Collecting bamboolibNote: you may need to restart the kernel to use updated packages.\n",
      "  Downloading bamboolib-1.21.0-cp37-cp37m-win_amd64.whl (5.3 MB)\n",
      "Collecting attrs>=20.3.0\n",
      "  Downloading attrs-20.3.0-py2.py3-none-any.whl (49 kB)\n",
      "Requirement already satisfied: scikit-learn<1.0.0,>=0.20.2 in c:\\users\\petr\\anaconda3\\lib\\site-packages (from bamboolib) (0.23.1)\n",
      "Collecting pandas<2.0.0,>=1.1.0\n",
      "  Downloading pandas-1.2.1-cp37-cp37m-win_amd64.whl (9.1 MB)\n",
      "Requirement already satisfied: psutil<6,>=5.4.2 in c:\\users\\petr\\anaconda3\\lib\\site-packages (from bamboolib) (5.7.0)\n",
      "Requirement already satisfied: seaborn<0.11,>=0.10 in c:\\users\\petr\\anaconda3\\lib\\site-packages (from bamboolib) (0.10.1)\n",
      "Requirement already satisfied: ipywidgets<8.0.0,>=7.0.0 in c:\\users\\petr\\anaconda3\\lib\\site-packages (from bamboolib) (7.5.1)\n",
      "Requirement already satisfied: toml>=0.10.0 in c:\\users\\petr\\anaconda3\\lib\\site-packages (from bamboolib) (0.10.1)\n",
      "Collecting plotly<5.0.0,>=4.9.0\n",
      "  Downloading plotly-4.14.3-py2.py3-none-any.whl (13.2 MB)\n",
      "Collecting ppscore<2.0.0,>=1.2.0\n",
      "  Downloading ppscore-1.2.0.tar.gz (47 kB)\n",
      "Requirement already satisfied: jupyterlab<3.0,>=2.0 in c:\\users\\petr\\anaconda3\\lib\\site-packages (from bamboolib) (2.1.5)\n",
      "Requirement already satisfied: xlrd>=1.0.0 in c:\\users\\petr\\anaconda3\\lib\\site-packages (from bamboolib) (1.2.0)\n",
      "Requirement already satisfied: notebook<7.0.0,>=5.3.0 in c:\\users\\petr\\anaconda3\\lib\\site-packages (from bamboolib) (6.0.3)\n",
      "Requirement already satisfied: packaging>=19.2 in c:\\users\\petr\\anaconda3\\lib\\site-packages (from bamboolib) (20.4)\n",
      "Requirement already satisfied: cryptography<3.0.0,>=2.6.1 in c:\\users\\petr\\anaconda3\\lib\\site-packages (from bamboolib) (2.9.2)\n",
      "Collecting analytics-python==1.2.9\n",
      "  Downloading analytics_python-1.2.9-py2.py3-none-any.whl (13 kB)\n",
      "Collecting qgrid==1.3.1\n",
      "  Downloading qgrid-1.3.1.tar.gz (889 kB)\n",
      "Requirement already satisfied: jedi<1.0.0 in c:\\users\\petr\\anaconda3\\lib\\site-packages (from bamboolib) (0.15.2)\n",
      "Requirement already satisfied: joblib>=0.11 in c:\\users\\petr\\anaconda3\\lib\\site-packages (from scikit-learn<1.0.0,>=0.20.2->bamboolib) (0.16.0)\n",
      "Requirement already satisfied: scipy>=0.19.1 in c:\\users\\petr\\anaconda3\\lib\\site-packages (from scikit-learn<1.0.0,>=0.20.2->bamboolib) (1.5.0)\n",
      "Requirement already satisfied: threadpoolctl>=2.0.0 in c:\\users\\petr\\anaconda3\\lib\\site-packages (from scikit-learn<1.0.0,>=0.20.2->bamboolib) (2.1.0)\n",
      "Requirement already satisfied: numpy>=1.13.3 in c:\\users\\petr\\anaconda3\\lib\\site-packages (from scikit-learn<1.0.0,>=0.20.2->bamboolib) (1.18.5)\n",
      "Requirement already satisfied: python-dateutil>=2.7.3 in c:\\users\\petr\\anaconda3\\lib\\site-packages (from pandas<2.0.0,>=1.1.0->bamboolib) (2.8.1)\n",
      "Requirement already satisfied: pytz>=2017.3 in c:\\users\\petr\\anaconda3\\lib\\site-packages (from pandas<2.0.0,>=1.1.0->bamboolib) (2020.1)\n",
      "Requirement already satisfied: matplotlib>=2.1.2 in c:\\users\\petr\\anaconda3\\lib\\site-packages (from seaborn<0.11,>=0.10->bamboolib) (3.0.3)\n",
      "Requirement already satisfied: nbformat>=4.2.0 in c:\\users\\petr\\anaconda3\\lib\\site-packages (from ipywidgets<8.0.0,>=7.0.0->bamboolib) (5.0.6)\n",
      "Requirement already satisfied: ipykernel>=4.5.1 in c:\\users\\petr\\anaconda3\\lib\\site-packages (from ipywidgets<8.0.0,>=7.0.0->bamboolib) (5.3.0)\n",
      "Requirement already satisfied: ipython>=4.0.0; python_version >= \"3.3\" in c:\\users\\petr\\anaconda3\\lib\\site-packages (from ipywidgets<8.0.0,>=7.0.0->bamboolib) (7.16.1)\n",
      "Requirement already satisfied: traitlets>=4.3.1 in c:\\users\\petr\\anaconda3\\lib\\site-packages (from ipywidgets<8.0.0,>=7.0.0->bamboolib) (4.3.3)\n",
      "Requirement already satisfied: widgetsnbextension~=3.5.0 in c:\\users\\petr\\anaconda3\\lib\\site-packages (from ipywidgets<8.0.0,>=7.0.0->bamboolib) (3.5.1)\n",
      "Requirement already satisfied: six in c:\\users\\petr\\anaconda3\\lib\\site-packages (from plotly<5.0.0,>=4.9.0->bamboolib) (1.15.0)\n",
      "Requirement already satisfied: retrying>=1.3.3 in c:\\users\\petr\\anaconda3\\lib\\site-packages (from plotly<5.0.0,>=4.9.0->bamboolib) (1.3.3)\n",
      "Requirement already satisfied: tornado!=6.0.0,!=6.0.1,!=6.0.2 in c:\\users\\petr\\anaconda3\\lib\\site-packages (from jupyterlab<3.0,>=2.0->bamboolib) (6.0.4)\n",
      "Requirement already satisfied: jupyterlab_server<2.0,>=1.1.0 in c:\\users\\petr\\anaconda3\\lib\\site-packages (from jupyterlab<3.0,>=2.0->bamboolib) (1.1.5)\n",
      "Requirement already satisfied: jinja2>=2.10 in c:\\users\\petr\\anaconda3\\lib\\site-packages (from jupyterlab<3.0,>=2.0->bamboolib) (2.11.2)\n",
      "Requirement already satisfied: ipython-genutils in c:\\users\\petr\\anaconda3\\lib\\site-packages (from notebook<7.0.0,>=5.3.0->bamboolib) (0.2.0)\n",
      "Requirement already satisfied: prometheus-client in c:\\users\\petr\\anaconda3\\lib\\site-packages (from notebook<7.0.0,>=5.3.0->bamboolib) (0.8.0)\n",
      "Requirement already satisfied: nbconvert in c:\\users\\petr\\anaconda3\\lib\\site-packages (from notebook<7.0.0,>=5.3.0->bamboolib) (5.6.1)\n",
      "Requirement already satisfied: terminado>=0.8.1 in c:\\users\\petr\\anaconda3\\lib\\site-packages (from notebook<7.0.0,>=5.3.0->bamboolib) (0.8.3)\n",
      "Requirement already satisfied: jupyter-client>=5.3.4 in c:\\users\\petr\\anaconda3\\lib\\site-packages (from notebook<7.0.0,>=5.3.0->bamboolib) (6.1.5)\n",
      "Requirement already satisfied: pyzmq>=17 in c:\\users\\petr\\anaconda3\\lib\\site-packages (from notebook<7.0.0,>=5.3.0->bamboolib) (19.0.1)\n",
      "Requirement already satisfied: jupyter-core>=4.6.1 in c:\\users\\petr\\anaconda3\\lib\\site-packages (from notebook<7.0.0,>=5.3.0->bamboolib) (4.6.3)\n",
      "Requirement already satisfied: Send2Trash in c:\\users\\petr\\anaconda3\\lib\\site-packages (from notebook<7.0.0,>=5.3.0->bamboolib) (1.5.0)\n",
      "\n",
      "Requirement already satisfied: pyparsing>=2.0.2 in c:\\users\\petr\\anaconda3\\lib\\site-packages (from packaging>=19.2->bamboolib) (2.4.7)\n",
      "Requirement already satisfied: cffi!=1.11.3,>=1.8 in c:\\users\\petr\\anaconda3\\lib\\site-packages (from cryptography<3.0.0,>=2.6.1->bamboolib) (1.14.0)\n",
      "Requirement already satisfied: requests<3.0,>=2.7 in c:\\users\\petr\\anaconda3\\lib\\site-packages (from analytics-python==1.2.9->bamboolib) (2.24.0)\n",
      "Requirement already satisfied: parso>=0.5.2 in c:\\users\\petr\\anaconda3\\lib\\site-packages (from jedi<1.0.0->bamboolib) (0.5.2)\n",
      "Requirement already satisfied: cycler>=0.10 in c:\\users\\petr\\anaconda3\\lib\\site-packages (from matplotlib>=2.1.2->seaborn<0.11,>=0.10->bamboolib) (0.10.0)\n",
      "Requirement already satisfied: kiwisolver>=1.0.1 in c:\\users\\petr\\anaconda3\\lib\\site-packages (from matplotlib>=2.1.2->seaborn<0.11,>=0.10->bamboolib) (1.2.0)\n",
      "Requirement already satisfied: jsonschema!=2.5.0,>=2.4 in c:\\users\\petr\\anaconda3\\lib\\site-packages (from nbformat>=4.2.0->ipywidgets<8.0.0,>=7.0.0->bamboolib) (3.2.0)\n",
      "Requirement already satisfied: prompt-toolkit!=3.0.0,!=3.0.1,<3.1.0,>=2.0.0 in c:\\users\\petr\\anaconda3\\lib\\site-packages (from ipython>=4.0.0; python_version >= \"3.3\"->ipywidgets<8.0.0,>=7.0.0->bamboolib) (3.0.5)\n",
      "Requirement already satisfied: pickleshare in c:\\users\\petr\\anaconda3\\lib\\site-packages (from ipython>=4.0.0; python_version >= \"3.3\"->ipywidgets<8.0.0,>=7.0.0->bamboolib) (0.7.5)\n",
      "Requirement already satisfied: setuptools>=18.5 in c:\\users\\petr\\anaconda3\\lib\\site-packages (from ipython>=4.0.0; python_version >= \"3.3\"->ipywidgets<8.0.0,>=7.0.0->bamboolib) (47.3.1.post20200616)\n",
      "Requirement already satisfied: decorator in c:\\users\\petr\\anaconda3\\lib\\site-packages (from ipython>=4.0.0; python_version >= \"3.3\"->ipywidgets<8.0.0,>=7.0.0->bamboolib) (4.4.2)\n",
      "Requirement already satisfied: colorama; sys_platform == \"win32\" in c:\\users\\petr\\anaconda3\\lib\\site-packages (from ipython>=4.0.0; python_version >= \"3.3\"->ipywidgets<8.0.0,>=7.0.0->bamboolib) (0.4.3)\n",
      "Requirement already satisfied: backcall in c:\\users\\petr\\anaconda3\\lib\\site-packages (from ipython>=4.0.0; python_version >= \"3.3\"->ipywidgets<8.0.0,>=7.0.0->bamboolib) (0.2.0)\n",
      "Requirement already satisfied: pygments in c:\\users\\petr\\anaconda3\\lib\\site-packages (from ipython>=4.0.0; python_version >= \"3.3\"->ipywidgets<8.0.0,>=7.0.0->bamboolib) (2.6.1)\n",
      "Requirement already satisfied: json5 in c:\\users\\petr\\anaconda3\\lib\\site-packages (from jupyterlab_server<2.0,>=1.1.0->jupyterlab<3.0,>=2.0->bamboolib) (0.9.4)\n",
      "Requirement already satisfied: MarkupSafe>=0.23 in c:\\users\\petr\\anaconda3\\lib\\site-packages (from jinja2>=2.10->jupyterlab<3.0,>=2.0->bamboolib) (1.1.1)\n",
      "Requirement already satisfied: testpath in c:\\users\\petr\\anaconda3\\lib\\site-packages (from nbconvert->notebook<7.0.0,>=5.3.0->bamboolib) (0.4.4)\n",
      "Requirement already satisfied: bleach in c:\\users\\petr\\anaconda3\\lib\\site-packages (from nbconvert->notebook<7.0.0,>=5.3.0->bamboolib) (3.1.5)\n",
      "Requirement already satisfied: entrypoints>=0.2.2 in c:\\users\\petr\\anaconda3\\lib\\site-packages (from nbconvert->notebook<7.0.0,>=5.3.0->bamboolib) (0.3)\n",
      "Requirement already satisfied: defusedxml in c:\\users\\petr\\anaconda3\\lib\\site-packages (from nbconvert->notebook<7.0.0,>=5.3.0->bamboolib) (0.6.0)\n",
      "Requirement already satisfied: mistune<2,>=0.8.1 in c:\\users\\petr\\anaconda3\\lib\\site-packages (from nbconvert->notebook<7.0.0,>=5.3.0->bamboolib) (0.8.4)\n",
      "Requirement already satisfied: pandocfilters>=1.4.1 in c:\\users\\petr\\anaconda3\\lib\\site-packages (from nbconvert->notebook<7.0.0,>=5.3.0->bamboolib) (1.4.2)\n",
      "Requirement already satisfied: pywin32>=1.0; sys_platform == \"win32\" in c:\\users\\petr\\anaconda3\\lib\\site-packages (from jupyter-core>=4.6.1->notebook<7.0.0,>=5.3.0->bamboolib) (227)\n",
      "Requirement already satisfied: pycparser in c:\\users\\petr\\anaconda3\\lib\\site-packages (from cffi!=1.11.3,>=1.8->cryptography<3.0.0,>=2.6.1->bamboolib) (2.20)\n",
      "Requirement already satisfied: urllib3!=1.25.0,!=1.25.1,<1.26,>=1.21.1 in c:\\users\\petr\\anaconda3\\lib\\site-packages (from requests<3.0,>=2.7->analytics-python==1.2.9->bamboolib) (1.25.9)\n",
      "Requirement already satisfied: chardet<4,>=3.0.2 in c:\\users\\petr\\anaconda3\\lib\\site-packages (from requests<3.0,>=2.7->analytics-python==1.2.9->bamboolib) (3.0.4)\n",
      "Requirement already satisfied: certifi>=2017.4.17 in c:\\users\\petr\\anaconda3\\lib\\site-packages (from requests<3.0,>=2.7->analytics-python==1.2.9->bamboolib) (2020.6.20)\n",
      "Requirement already satisfied: idna<3,>=2.5 in c:\\users\\petr\\anaconda3\\lib\\site-packages (from requests<3.0,>=2.7->analytics-python==1.2.9->bamboolib) (2.10)\n",
      "Requirement already satisfied: pyrsistent>=0.14.0 in c:\\users\\petr\\anaconda3\\lib\\site-packages (from jsonschema!=2.5.0,>=2.4->nbformat>=4.2.0->ipywidgets<8.0.0,>=7.0.0->bamboolib) (0.16.0)\n",
      "Requirement already satisfied: importlib-metadata; python_version < \"3.8\" in c:\\users\\petr\\anaconda3\\lib\\site-packages (from jsonschema!=2.5.0,>=2.4->nbformat>=4.2.0->ipywidgets<8.0.0,>=7.0.0->bamboolib) (1.7.0)\n",
      "Requirement already satisfied: wcwidth in c:\\users\\petr\\anaconda3\\lib\\site-packages (from prompt-toolkit!=3.0.0,!=3.0.1,<3.1.0,>=2.0.0->ipython>=4.0.0; python_version >= \"3.3\"->ipywidgets<8.0.0,>=7.0.0->bamboolib) (0.2.5)\n",
      "Requirement already satisfied: webencodings in c:\\users\\petr\\anaconda3\\lib\\site-packages (from bleach->nbconvert->notebook<7.0.0,>=5.3.0->bamboolib) (0.5.1)\n",
      "Requirement already satisfied: zipp>=0.5 in c:\\users\\petr\\anaconda3\\lib\\site-packages (from importlib-metadata; python_version < \"3.8\"->jsonschema!=2.5.0,>=2.4->nbformat>=4.2.0->ipywidgets<8.0.0,>=7.0.0->bamboolib) (3.1.0)\n",
      "Building wheels for collected packages: ppscore, qgrid\n",
      "  Building wheel for ppscore (setup.py): started\n",
      "  Building wheel for ppscore (setup.py): finished with status 'done'\n",
      "  Created wheel for ppscore: filename=ppscore-1.2.0-py2.py3-none-any.whl size=13055 sha256=0ba35f8032726f728fe4527d90e88f34769cebcbf1beb2478b55336b3eff9c2a\n",
      "  Stored in directory: c:\\users\\petr\\appdata\\local\\pip\\cache\\wheels\\d2\\3c\\58\\2ff786414b21713edc6f4fdb54fdee89ac37bca5edd1f60634\n",
      "  Building wheel for qgrid (setup.py): started\n",
      "  Building wheel for qgrid (setup.py): finished with status 'done'\n",
      "  Created wheel for qgrid: filename=qgrid-1.3.1-py2.py3-none-any.whl size=1761262 sha256=a5fa730a805cb98fa36971f0a22b4da4ddb618c9c3cad0aa0a8e80299fbfd179\n",
      "  Stored in directory: c:\\users\\petr\\appdata\\local\\pip\\cache\\wheels\\53\\87\\cb\\c63a58774627471976061afb5b8657b76d2268c1e76e980586\n",
      "Successfully built ppscore qgrid\n",
      "Installing collected packages: attrs, pandas, plotly, ppscore, analytics-python, qgrid, bamboolib\n",
      "  Attempting uninstall: attrs\n",
      "    Found existing installation: attrs 19.3.0\n",
      "    Uninstalling attrs-19.3.0:\n",
      "      Successfully uninstalled attrs-19.3.0\n",
      "  Attempting uninstall: pandas\n",
      "    Found existing installation: pandas 1.0.5\n",
      "    Uninstalling pandas-1.0.5:\n",
      "      Successfully uninstalled pandas-1.0.5\n",
      "  Attempting uninstall: plotly\n",
      "    Found existing installation: plotly 4.7.1\n",
      "    Uninstalling plotly-4.7.1:\n",
      "      Successfully uninstalled plotly-4.7.1\n",
      "Successfully installed analytics-python-1.2.9 attrs-20.3.0 bamboolib-1.21.0 pandas-1.2.1 plotly-4.14.3 ppscore-1.2.0 qgrid-1.3.1\n"
     ]
    }
   ],
   "source": [
    "pip install bamboolib"
   ]
  },
  {
   "cell_type": "code",
   "execution_count": null,
   "metadata": {},
   "outputs": [],
   "source": [
    "jupyter nbextension enable --py qgrid --sys-prefix\n",
    "jupyter nbextension enable --py widgetsnbextension --sys-prefix\n",
    "jupyter nbextension install --py bamboolib --sys-prefix\n",
    "jupyter nbextension enable --py bamboolib --sys-prefix"
   ]
  },
  {
   "cell_type": "code",
   "execution_count": 1,
   "metadata": {},
   "outputs": [
    {
     "data": {
      "application/vnd.jupyter.widget-view+json": {
       "model_id": "6d7176bbed7740808869e9ccebb479bc",
       "version_major": 2,
       "version_minor": 0
      },
      "text/plain": [
       "VBox(children=(HTML(value='<div class=\"bamboolib-notification bamboolib-notification-info\"><b>Pro Tip:</b> sav…"
      ]
     },
     "metadata": {},
     "output_type": "display_data"
    }
   ],
   "source": [
    "import bamboolib as bam\n",
    "import pandas as pd\n",
    "data = pd.read_csv(bam.titanic_csv)\n",
    "bam.show(data)"
   ]
  },
  {
   "cell_type": "code",
   "execution_count": null,
   "metadata": {},
   "outputs": [],
   "source": [
    "https://medium.com/nuances-of-programming/bamboolib-%D0%B8%D0%B7%D1%83%D1%87%D0%B0%D0%B9%D1%82%D0%B5-%D0%B8-%D0%B8%D1%81%D0%BF%D0%BE%D0%BB%D1%8C%D0%B7%D1%83%D0%B9%D1%82%D0%B5-pandas-%D0%B1%D0%B5%D0%B7-%D0%BD%D0%B0%D0%BF%D0%B8%D1%81%D0%B0%D0%BD%D0%B8%D1%8F-%D0%BA%D0%BE%D0%B4%D0%B0-1ed405f6c92d\n",
    "https://towardsdatascience.com/how-to-create-an-interactive-dropdown-in-jupyter-322277f58a68    "
   ]
  }
 ],
 "metadata": {
  "kernelspec": {
   "display_name": "Python 3 (ipykernel)",
   "language": "python",
   "name": "python3"
  },
  "language_info": {
   "codemirror_mode": {
    "name": "ipython",
    "version": 3
   },
   "file_extension": ".py",
   "mimetype": "text/x-python",
   "name": "python",
   "nbconvert_exporter": "python",
   "pygments_lexer": "ipython3",
   "version": "3.9.13"
  }
 },
 "nbformat": 4,
 "nbformat_minor": 4
}
