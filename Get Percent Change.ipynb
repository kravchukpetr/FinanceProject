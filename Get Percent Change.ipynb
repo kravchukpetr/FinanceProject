{
 "cells": [
  {
   "cell_type": "code",
   "execution_count": 1,
   "metadata": {},
   "outputs": [
    {
     "name": "stderr",
     "output_type": "stream",
     "text": [
      "C:\\Users\\PETR\\anaconda3\\lib\\site-packages\\mpl_finance.py:22: DeprecationWarning: \n",
      "\n",
      "  =================================================================\n",
      "\n",
      "   WARNING: `mpl_finance` is deprecated:\n",
      "\n",
      "    Please use `mplfinance` instead (no hyphen, no underscore).\n",
      "\n",
      "    To install: `pip install --upgrade mplfinance` \n",
      "\n",
      "   For more information, see: https://pypi.org/project/mplfinance/\n",
      "\n",
      "  =================================================================\n",
      "\n",
      "  category=DeprecationWarning)\n"
     ]
    }
   ],
   "source": [
    "import datetime as dt\n",
    "import matplotlib.pyplot as plt\n",
    "from matplotlib import style\n",
    "# from mpl_finance import candlestick_ohlc\n",
    "import matplotlib.dates as mdates\n",
    "import pandas as pd\n",
    "import pyodbc\n",
    "import FinanceLib as fl\n",
    "# style.use('ggplot')\n",
    "\n",
    "\n",
    "%matplotlib inline\n",
    "%load_ext autoreload\n",
    "%autoreload 2"
   ]
  },
  {
   "cell_type": "code",
   "execution_count": 6,
   "metadata": {},
   "outputs": [],
   "source": [
    "# fname  = 'C:/Users/40KravchukPV.REGION/Documents/Courses/FinanceProject/config.txt'\n",
    "fname  = 'C:/Dev/Python/FinanceProject/config.txt'\n",
    "config_dict = fl.ReadConnConfig(fname)\n",
    "con = pyodbc.connect(driver = config_dict['DRIVER'],server = config_dict['SERVER'], port = config_dict['PORT'], database = config_dict['DATABASE'], UID = config_dict['UID'], PWD = config_dict['PWD'], autocommit=True)"
   ]
  },
  {
   "cell_type": "code",
   "execution_count": 3,
   "metadata": {},
   "outputs": [],
   "source": [
    "tickers_list = ['ES', 'AAPL']"
   ]
  },
  {
   "cell_type": "code",
   "execution_count": 7,
   "metadata": {},
   "outputs": [],
   "source": [
    "df = fl.GetStockQuoteFromDB(con, ', '.join(tickers_list), IsDtIndex = 1, IsStockIndex = 0, DateFrom = 'NULL', DateTo = 'NULL')"
   ]
  },
  {
   "cell_type": "code",
   "execution_count": 8,
   "metadata": {},
   "outputs": [
    {
     "data": {
      "text/html": [
       "<div>\n",
       "<style scoped>\n",
       "    .dataframe tbody tr th:only-of-type {\n",
       "        vertical-align: middle;\n",
       "    }\n",
       "\n",
       "    .dataframe tbody tr th {\n",
       "        vertical-align: top;\n",
       "    }\n",
       "\n",
       "    .dataframe thead th {\n",
       "        text-align: right;\n",
       "    }\n",
       "</style>\n",
       "<table border=\"1\" class=\"dataframe\">\n",
       "  <thead>\n",
       "    <tr style=\"text-align: right;\">\n",
       "      <th></th>\n",
       "      <th>Stock</th>\n",
       "      <th>OpenValue</th>\n",
       "      <th>HighValue</th>\n",
       "      <th>LowValue</th>\n",
       "      <th>CloseValue</th>\n",
       "      <th>AdjClose</th>\n",
       "      <th>Volume</th>\n",
       "      <th>LoadDt</th>\n",
       "    </tr>\n",
       "    <tr>\n",
       "      <th>Dt</th>\n",
       "      <th></th>\n",
       "      <th></th>\n",
       "      <th></th>\n",
       "      <th></th>\n",
       "      <th></th>\n",
       "      <th></th>\n",
       "      <th></th>\n",
       "      <th></th>\n",
       "    </tr>\n",
       "  </thead>\n",
       "  <tbody>\n",
       "    <tr>\n",
       "      <th>2015-12-31</th>\n",
       "      <td>AAPL</td>\n",
       "      <td>26.752501</td>\n",
       "      <td>26.757500</td>\n",
       "      <td>26.205000</td>\n",
       "      <td>26.315001</td>\n",
       "      <td>24.380093</td>\n",
       "      <td>163649200.0</td>\n",
       "      <td>2021-01-28 19:49:35.147</td>\n",
       "    </tr>\n",
       "    <tr>\n",
       "      <th>2015-12-31</th>\n",
       "      <td>ES</td>\n",
       "      <td>51.889999</td>\n",
       "      <td>51.900002</td>\n",
       "      <td>50.549999</td>\n",
       "      <td>51.070000</td>\n",
       "      <td>43.896469</td>\n",
       "      <td>2081200.0</td>\n",
       "      <td>2021-01-28 20:53:03.533</td>\n",
       "    </tr>\n",
       "    <tr>\n",
       "      <th>2016-01-04</th>\n",
       "      <td>AAPL</td>\n",
       "      <td>25.652500</td>\n",
       "      <td>26.342501</td>\n",
       "      <td>25.500000</td>\n",
       "      <td>26.337500</td>\n",
       "      <td>24.400942</td>\n",
       "      <td>270597600.0</td>\n",
       "      <td>2021-01-28 19:49:35.160</td>\n",
       "    </tr>\n",
       "    <tr>\n",
       "      <th>2016-01-04</th>\n",
       "      <td>ES</td>\n",
       "      <td>50.650002</td>\n",
       "      <td>50.889999</td>\n",
       "      <td>50.230000</td>\n",
       "      <td>50.880001</td>\n",
       "      <td>43.733162</td>\n",
       "      <td>1590300.0</td>\n",
       "      <td>2021-01-28 20:53:03.550</td>\n",
       "    </tr>\n",
       "    <tr>\n",
       "      <th>2016-01-05</th>\n",
       "      <td>AAPL</td>\n",
       "      <td>26.437500</td>\n",
       "      <td>26.462500</td>\n",
       "      <td>25.602501</td>\n",
       "      <td>25.677500</td>\n",
       "      <td>23.789471</td>\n",
       "      <td>223164000.0</td>\n",
       "      <td>2021-01-28 19:49:35.177</td>\n",
       "    </tr>\n",
       "  </tbody>\n",
       "</table>\n",
       "</div>"
      ],
      "text/plain": [
       "           Stock  OpenValue  HighValue   LowValue  CloseValue   AdjClose  \\\n",
       "Dt                                                                         \n",
       "2015-12-31  AAPL  26.752501  26.757500  26.205000   26.315001  24.380093   \n",
       "2015-12-31    ES  51.889999  51.900002  50.549999   51.070000  43.896469   \n",
       "2016-01-04  AAPL  25.652500  26.342501  25.500000   26.337500  24.400942   \n",
       "2016-01-04    ES  50.650002  50.889999  50.230000   50.880001  43.733162   \n",
       "2016-01-05  AAPL  26.437500  26.462500  25.602501   25.677500  23.789471   \n",
       "\n",
       "                 Volume                  LoadDt  \n",
       "Dt                                               \n",
       "2015-12-31  163649200.0 2021-01-28 19:49:35.147  \n",
       "2015-12-31    2081200.0 2021-01-28 20:53:03.533  \n",
       "2016-01-04  270597600.0 2021-01-28 19:49:35.160  \n",
       "2016-01-04    1590300.0 2021-01-28 20:53:03.550  \n",
       "2016-01-05  223164000.0 2021-01-28 19:49:35.177  "
      ]
     },
     "execution_count": 8,
     "metadata": {},
     "output_type": "execute_result"
    }
   ],
   "source": [
    "df.head()"
   ]
  },
  {
   "cell_type": "code",
   "execution_count": 18,
   "metadata": {},
   "outputs": [],
   "source": [
    "def GetAdjCloseInCol(tickers_list, df):\n",
    "    data = pd.DataFrame(columns=tickers_list)\n",
    "    for ticker in tickers_list:\n",
    "        data[ticker] = df['AdjClose']\n",
    "    return data"
   ]
  },
  {
   "cell_type": "code",
   "execution_count": 9,
   "metadata": {},
   "outputs": [],
   "source": [
    "data = fl.GetAdjCloseInCol(tickers_list, df)"
   ]
  },
  {
   "cell_type": "code",
   "execution_count": 10,
   "metadata": {},
   "outputs": [
    {
     "data": {
      "text/html": [
       "<div>\n",
       "<style scoped>\n",
       "    .dataframe tbody tr th:only-of-type {\n",
       "        vertical-align: middle;\n",
       "    }\n",
       "\n",
       "    .dataframe tbody tr th {\n",
       "        vertical-align: top;\n",
       "    }\n",
       "\n",
       "    .dataframe thead th {\n",
       "        text-align: right;\n",
       "    }\n",
       "</style>\n",
       "<table border=\"1\" class=\"dataframe\">\n",
       "  <thead>\n",
       "    <tr style=\"text-align: right;\">\n",
       "      <th></th>\n",
       "      <th>ES</th>\n",
       "      <th>AAPL</th>\n",
       "    </tr>\n",
       "    <tr>\n",
       "      <th>Dt</th>\n",
       "      <th></th>\n",
       "      <th></th>\n",
       "    </tr>\n",
       "  </thead>\n",
       "  <tbody>\n",
       "    <tr>\n",
       "      <th>2015-12-31</th>\n",
       "      <td>24.380093</td>\n",
       "      <td>24.380093</td>\n",
       "    </tr>\n",
       "    <tr>\n",
       "      <th>2015-12-31</th>\n",
       "      <td>43.896469</td>\n",
       "      <td>43.896469</td>\n",
       "    </tr>\n",
       "    <tr>\n",
       "      <th>2016-01-04</th>\n",
       "      <td>24.400942</td>\n",
       "      <td>24.400942</td>\n",
       "    </tr>\n",
       "    <tr>\n",
       "      <th>2016-01-04</th>\n",
       "      <td>43.733162</td>\n",
       "      <td>43.733162</td>\n",
       "    </tr>\n",
       "    <tr>\n",
       "      <th>2016-01-05</th>\n",
       "      <td>23.789471</td>\n",
       "      <td>23.789471</td>\n",
       "    </tr>\n",
       "  </tbody>\n",
       "</table>\n",
       "</div>"
      ],
      "text/plain": [
       "                   ES       AAPL\n",
       "Dt                              \n",
       "2015-12-31  24.380093  24.380093\n",
       "2015-12-31  43.896469  43.896469\n",
       "2016-01-04  24.400942  24.400942\n",
       "2016-01-04  43.733162  43.733162\n",
       "2016-01-05  23.789471  23.789471"
      ]
     },
     "execution_count": 10,
     "metadata": {},
     "output_type": "execute_result"
    }
   ],
   "source": [
    "data.head()"
   ]
  },
  {
   "cell_type": "code",
   "execution_count": 13,
   "metadata": {},
   "outputs": [
    {
     "data": {
      "image/png": "[encoded data removed]",
      "text/plain": [
       "<Figure size 720x504 with 1 Axes>"
      ]
     },
     "metadata": {
      "needs_background": "light"
     },
     "output_type": "display_data"
    }
   ],
   "source": [
    "((data.pct_change()+1).cumprod()).plot(figsize=(10, 7))\n",
    "# Show the legend\n",
    "plt.legend()\n",
    "\n",
    "# Define the label for the title of the figure\n",
    "plt.title(\"Adjusted Close Price\", fontsize=16)\n",
    "\n",
    "# Define the labels for x-axis and y-axis\n",
    "plt.ylabel('Price', fontsize=14)\n",
    "plt.xlabel('Year', fontsize=14)\n",
    "\n",
    "# Plot the grid lines\n",
    "plt.grid(which=\"major\", color='k',  linestyle='-.', linewidth=0.5)\n",
    "plt.show()"
   ]
  },
  {
   "cell_type": "code",
   "execution_count": 38,
   "metadata": {},
   "outputs": [
    {
     "data": {
      "text/html": [
       "<div>\n",
       "<style scoped>\n",
       "    .dataframe tbody tr th:only-of-type {\n",
       "        vertical-align: middle;\n",
       "    }\n",
       "\n",
       "    .dataframe tbody tr th {\n",
       "        vertical-align: top;\n",
       "    }\n",
       "\n",
       "    .dataframe thead th {\n",
       "        text-align: right;\n",
       "    }\n",
       "</style>\n",
       "<table border=\"1\" class=\"dataframe\">\n",
       "  <thead>\n",
       "    <tr style=\"text-align: right;\">\n",
       "      <th></th>\n",
       "      <th>ES</th>\n",
       "      <th>AAPL</th>\n",
       "    </tr>\n",
       "    <tr>\n",
       "      <th>Dt</th>\n",
       "      <th></th>\n",
       "      <th></th>\n",
       "    </tr>\n",
       "  </thead>\n",
       "  <tbody>\n",
       "    <tr>\n",
       "      <th>2021-01-29</th>\n",
       "      <td>-0.336920</td>\n",
       "      <td>-0.336920</td>\n",
       "    </tr>\n",
       "    <tr>\n",
       "      <th>2021-01-29</th>\n",
       "      <td>0.480368</td>\n",
       "      <td>0.480368</td>\n",
       "    </tr>\n",
       "    <tr>\n",
       "      <th>2021-01-28</th>\n",
       "      <td>-0.349770</td>\n",
       "      <td>-0.349770</td>\n",
       "    </tr>\n",
       "    <tr>\n",
       "      <th>2021-01-28</th>\n",
       "      <td>0.548515</td>\n",
       "      <td>0.548515</td>\n",
       "    </tr>\n",
       "    <tr>\n",
       "      <th>2021-01-27</th>\n",
       "      <td>-0.376813</td>\n",
       "      <td>-0.376813</td>\n",
       "    </tr>\n",
       "    <tr>\n",
       "      <th>2021-01-27</th>\n",
       "      <td>0.580376</td>\n",
       "      <td>0.580376</td>\n",
       "    </tr>\n",
       "    <tr>\n",
       "      <th>2021-01-26</th>\n",
       "      <td>-0.372101</td>\n",
       "      <td>-0.372101</td>\n",
       "    </tr>\n",
       "    <tr>\n",
       "      <th>2021-01-26</th>\n",
       "      <td>0.585558</td>\n",
       "      <td>0.585558</td>\n",
       "    </tr>\n",
       "    <tr>\n",
       "      <th>2021-01-25</th>\n",
       "      <td>0.635053</td>\n",
       "      <td>0.635053</td>\n",
       "    </tr>\n",
       "    <tr>\n",
       "      <th>2021-01-25</th>\n",
       "      <td>-0.368248</td>\n",
       "      <td>-0.368248</td>\n",
       "    </tr>\n",
       "  </tbody>\n",
       "</table>\n",
       "</div>"
      ],
      "text/plain": [
       "                  ES      AAPL\n",
       "Dt                            \n",
       "2021-01-29 -0.336920 -0.336920\n",
       "2021-01-29  0.480368  0.480368\n",
       "2021-01-28 -0.349770 -0.349770\n",
       "2021-01-28  0.548515  0.548515\n",
       "2021-01-27 -0.376813 -0.376813\n",
       "2021-01-27  0.580376  0.580376\n",
       "2021-01-26 -0.372101 -0.372101\n",
       "2021-01-26  0.585558  0.585558\n",
       "2021-01-25  0.635053  0.635053\n",
       "2021-01-25 -0.368248 -0.368248"
      ]
     },
     "execution_count": 38,
     "metadata": {},
     "output_type": "execute_result"
    }
   ],
   "source": [
    "data.pct_change().sort_index(ascending=False).head(10)"
   ]
  },
  {
   "cell_type": "code",
   "execution_count": 11,
   "metadata": {},
   "outputs": [],
   "source": [
    "df_change = df.drop(['OpenValue', 'HighValue', 'LowValue', 'CloseValue', 'Volume', 'LoadDt'], axis=1)"
   ]
  },
  {
   "cell_type": "code",
   "execution_count": 32,
   "metadata": {},
   "outputs": [
    {
     "data": {
      "text/plain": [
       "Dt\n",
       "2015-12-31         NaN\n",
       "2015-12-31    0.800505\n",
       "2016-01-04   -0.444125\n",
       "2016-01-04    0.792274\n",
       "2016-01-05   -0.456031\n",
       "                ...   \n",
       "2021-01-27   -0.376813\n",
       "2021-01-28    0.548515\n",
       "2021-01-28   -0.349770\n",
       "2021-01-29    0.480368\n",
       "2021-01-29   -0.336920\n",
       "Name: AdjClose, Length: 2558, dtype: float64"
      ]
     },
     "execution_count": 32,
     "metadata": {},
     "output_type": "execute_result"
    }
   ],
   "source": [
    "df_change['AdjClose'].pct_change().loc['2021-01-29']"
   ]
  },
  {
   "cell_type": "code",
   "execution_count": null,
   "metadata": {},
   "outputs": [],
   "source": [
    "len(df_change.loc['2021-01-01':'2021-01-29'].index)"
   ]
  },
  {
   "cell_type": "code",
   "execution_count": 69,
   "metadata": {},
   "outputs": [
    {
     "data": {
      "text/plain": [
       "19"
      ]
     },
     "execution_count": 69,
     "metadata": {},
     "output_type": "execute_result"
    }
   ],
   "source": [
    "len(df_change.loc['2021-01-01':'2021-01-29'].groupby('Dt'))"
   ]
  },
  {
   "cell_type": "code",
   "execution_count": 12,
   "metadata": {},
   "outputs": [],
   "source": [
    "df_change['Change'] = df_change.groupby('Stock').AdjClose.pct_change()\n",
    "df_change['Change7'] = df_change.groupby('Stock').AdjClose.pct_change(7)\n",
    "df_change['Change30'] = df_change.groupby('Stock').AdjClose.pct_change(30)\n",
    "df_change['Change90'] = df_change.groupby('Stock').AdjClose.pct_change(90)\n",
    "df_change['Change180'] = df_change.groupby('Stock').AdjClose.pct_change(180)\n",
    "df_change['Change360'] = df_change.groupby('Stock').AdjClose.pct_change(360)"
   ]
  },
  {
   "cell_type": "code",
   "execution_count": 18,
   "metadata": {},
   "outputs": [],
   "source": [
    "df_change['ActualYear'] = df_change.groupby('Stock').AdjClose.pct_change(len(df_change.loc['2021-01-01':'2021-01-31'].groupby('Dt')))\n",
    "df_change['ActualMonth'] = df_change.groupby('Stock').AdjClose.pct_change(len(df_change.loc['2021-02-01':'2021-02-01'].groupby('Dt')))"
   ]
  },
  {
   "cell_type": "code",
   "execution_count": 19,
   "metadata": {},
   "outputs": [
    {
     "data": {
      "text/html": [
       "<div>\n",
       "<style scoped>\n",
       "    .dataframe tbody tr th:only-of-type {\n",
       "        vertical-align: middle;\n",
       "    }\n",
       "\n",
       "    .dataframe tbody tr th {\n",
       "        vertical-align: top;\n",
       "    }\n",
       "\n",
       "    .dataframe thead th {\n",
       "        text-align: right;\n",
       "    }\n",
       "</style>\n",
       "<table border=\"1\" class=\"dataframe\">\n",
       "  <thead>\n",
       "    <tr style=\"text-align: right;\">\n",
       "      <th></th>\n",
       "      <th>Stock</th>\n",
       "      <th>AdjClose</th>\n",
       "      <th>Change</th>\n",
       "      <th>Change7</th>\n",
       "      <th>Change30</th>\n",
       "      <th>Change90</th>\n",
       "      <th>Change180</th>\n",
       "      <th>Change360</th>\n",
       "      <th>ActualYear</th>\n",
       "      <th>ActualMonth</th>\n",
       "    </tr>\n",
       "    <tr>\n",
       "      <th>Dt</th>\n",
       "      <th></th>\n",
       "      <th></th>\n",
       "      <th></th>\n",
       "      <th></th>\n",
       "      <th></th>\n",
       "      <th></th>\n",
       "      <th></th>\n",
       "      <th></th>\n",
       "      <th></th>\n",
       "      <th></th>\n",
       "    </tr>\n",
       "  </thead>\n",
       "  <tbody>\n",
       "    <tr>\n",
       "      <th>2021-01-29</th>\n",
       "      <td>AAPL</td>\n",
       "      <td>131.960007</td>\n",
       "      <td>-0.037421</td>\n",
       "      <td>-0.00053</td>\n",
       "      <td>0.031905</td>\n",
       "      <td>0.200833</td>\n",
       "      <td>0.721775</td>\n",
       "      <td>1.586067</td>\n",
       "      <td>-0.005502</td>\n",
       "      <td>0.0</td>\n",
       "    </tr>\n",
       "    <tr>\n",
       "      <th>2021-01-29</th>\n",
       "      <td>ES</td>\n",
       "      <td>87.500000</td>\n",
       "      <td>-0.018398</td>\n",
       "      <td>-0.00137</td>\n",
       "      <td>0.016861</td>\n",
       "      <td>0.129078</td>\n",
       "      <td>0.165532</td>\n",
       "      <td>0.138789</td>\n",
       "      <td>0.011444</td>\n",
       "      <td>0.0</td>\n",
       "    </tr>\n",
       "  </tbody>\n",
       "</table>\n",
       "</div>"
      ],
      "text/plain": [
       "           Stock    AdjClose    Change  Change7  Change30  Change90  \\\n",
       "Dt                                                                    \n",
       "2021-01-29  AAPL  131.960007 -0.037421 -0.00053  0.031905  0.200833   \n",
       "2021-01-29    ES   87.500000 -0.018398 -0.00137  0.016861  0.129078   \n",
       "\n",
       "            Change180  Change360  ActualYear  ActualMonth  \n",
       "Dt                                                         \n",
       "2021-01-29   0.721775   1.586067   -0.005502          0.0  \n",
       "2021-01-29   0.165532   0.138789    0.011444          0.0  "
      ]
     },
     "execution_count": 19,
     "metadata": {},
     "output_type": "execute_result"
    }
   ],
   "source": [
    "df_change.loc['2021-01-29']"
   ]
  },
  {
   "cell_type": "code",
   "execution_count": 20,
   "metadata": {},
   "outputs": [
    {
     "name": "stdout",
     "output_type": "stream",
     "text": [
      "Collecting pandasguiNote: you may need to restart the kernel to use updated packages.\n",
      "  Downloading pandasgui-0.2.7.tar.gz (6.9 MB)\n",
      "Requirement already satisfied: pandas in c:\\users\\petr\\anaconda3\\lib\\site-packages (from pandasgui) (1.0.5)\n",
      "Collecting PyQt5\n",
      "  Downloading PyQt5-5.15.2-5.15.2-cp35.cp36.cp37.cp38.cp39-none-win_amd64.whl (56.9 MB)\n",
      "Collecting PyQt5-sip\n",
      "  Downloading PyQt5_sip-12.8.1-cp37-cp37m-win_amd64.whl (62 kB)\n",
      "Collecting PyQtWebEngine\n",
      "  Downloading PyQtWebEngine-5.15.2-5.15.2-cp35.cp36.cp37.cp38.cp39-none-win_amd64.whl (60.2 MB)\n",
      "Requirement already satisfied: plotly in c:\\users\\petr\\anaconda3\\lib\\site-packages (from pandasgui) (4.7.1)\n",
      "Requirement already satisfied: setuptools in c:\\users\\petr\\anaconda3\\lib\\site-packages (from pandasgui) (47.3.1.post20200616)\n",
      "Collecting appdirs\n",
      "  Downloading appdirs-1.4.4-py2.py3-none-any.whl (9.6 kB)\n",
      "Collecting dacite\n",
      "  Downloading dacite-1.6.0-py3-none-any.whl (12 kB)\n",
      "Collecting pynput\n",
      "  Downloading pynput-1.7.2-py2.py3-none-any.whl (99 kB)\n",
      "Requirement already satisfied: IPython in c:\\users\\petr\\anaconda3\\lib\\site-packages (from pandasgui) (7.16.1)\n",
      "Requirement already satisfied: numpy>=1.13.3 in c:\\users\\petr\\anaconda3\\lib\\site-packages (from pandas->pandasgui) (1.18.5)\n",
      "Requirement already satisfied: pytz>=2017.2 in c:\\users\\petr\\anaconda3\\lib\\site-packages (from pandas->pandasgui) (2020.1)\n",
      "Requirement already satisfied: python-dateutil>=2.6.1 in c:\\users\\petr\\anaconda3\\lib\\site-packages (from pandas->pandasgui) (2.8.1)\n",
      "\n",
      "Requirement already satisfied: six in c:\\users\\petr\\anaconda3\\lib\\site-packages (from plotly->pandasgui) (1.15.0)\n",
      "Requirement already satisfied: retrying>=1.3.3 in c:\\users\\petr\\anaconda3\\lib\\site-packages (from plotly->pandasgui) (1.3.3)\n",
      "Requirement already satisfied: pygments in c:\\users\\petr\\anaconda3\\lib\\site-packages (from IPython->pandasgui) (2.6.1)\n",
      "Requirement already satisfied: backcall in c:\\users\\petr\\anaconda3\\lib\\site-packages (from IPython->pandasgui) (0.2.0)\n",
      "Requirement already satisfied: jedi>=0.10 in c:\\users\\petr\\anaconda3\\lib\\site-packages (from IPython->pandasgui) (0.15.2)\n",
      "Requirement already satisfied: colorama; sys_platform == \"win32\" in c:\\users\\petr\\anaconda3\\lib\\site-packages (from IPython->pandasgui) (0.4.3)\n",
      "Requirement already satisfied: traitlets>=4.2 in c:\\users\\petr\\anaconda3\\lib\\site-packages (from IPython->pandasgui) (4.3.3)\n",
      "Requirement already satisfied: prompt-toolkit!=3.0.0,!=3.0.1,<3.1.0,>=2.0.0 in c:\\users\\petr\\anaconda3\\lib\\site-packages (from IPython->pandasgui) (3.0.5)\n"
     ]
    },
    {
     "name": "stderr",
     "output_type": "stream",
     "text": [
      "ERROR: spyder 4.1.3 has requirement pyqt5<5.13; python_version >= \"3\", but you'll have pyqt5 5.15.2 which is incompatible.\n",
      "ERROR: spyder 4.1.3 has requirement pyqtwebengine<5.13; python_version >= \"3\", but you'll have pyqtwebengine 5.15.2 which is incompatible.\n"
     ]
    },
    {
     "name": "stdout",
     "output_type": "stream",
     "text": [
      "Requirement already satisfied: decorator in c:\\users\\petr\\anaconda3\\lib\\site-packages (from IPython->pandasgui) (4.4.2)\n",
      "Requirement already satisfied: pickleshare in c:\\users\\petr\\anaconda3\\lib\\site-packages (from IPython->pandasgui) (0.7.5)\n",
      "Requirement already satisfied: parso>=0.5.2 in c:\\users\\petr\\anaconda3\\lib\\site-packages (from jedi>=0.10->IPython->pandasgui) (0.5.2)\n",
      "Requirement already satisfied: ipython-genutils in c:\\users\\petr\\anaconda3\\lib\\site-packages (from traitlets>=4.2->IPython->pandasgui) (0.2.0)\n",
      "Requirement already satisfied: wcwidth in c:\\users\\petr\\anaconda3\\lib\\site-packages (from prompt-toolkit!=3.0.0,!=3.0.1,<3.1.0,>=2.0.0->IPython->pandasgui) (0.2.5)\n",
      "Building wheels for collected packages: pandasgui\n",
      "  Building wheel for pandasgui (setup.py): started\n",
      "  Building wheel for pandasgui (setup.py): finished with status 'done'\n",
      "  Created wheel for pandasgui: filename=pandasgui-0.2.7-py3-none-any.whl size=6931296 sha256=4312843445fbcd2bf312ae334f726f8efbf716d6ee1a0140e1408cd2f74cbe54\n",
      "  Stored in directory: c:\\users\\petr\\appdata\\local\\pip\\cache\\wheels\\06\\79\\30\\fed1fa2d679573ad9e85a5ede31538f6a7b78dcf8ad4ab099e\n",
      "Successfully built pandasgui\n",
      "Installing collected packages: PyQt5-sip, PyQt5, PyQtWebEngine, appdirs, dacite, pynput, pandasgui\n",
      "Successfully installed PyQt5-5.15.2 PyQt5-sip-12.8.1 PyQtWebEngine-5.15.2 appdirs-1.4.4 dacite-1.6.0 pandasgui-0.2.7 pynput-1.7.2\n"
     ]
    }
   ],
   "source": [
    "pip install pandasgui"
   ]
  },
  {
   "cell_type": "code",
   "execution_count": 21,
   "metadata": {},
   "outputs": [],
   "source": [
    "from pandasgui import show\n",
    "gui = show(df_change)"
   ]
  },
  {
   "cell_type": "code",
   "execution_count": 1,
   "metadata": {},
   "outputs": [
    {
     "name": "stdout",
     "output_type": "stream",
     "text": [
      "Collecting bamboolibNote: you may need to restart the kernel to use updated packages.\n",
      "  Downloading bamboolib-1.21.0-cp37-cp37m-win_amd64.whl (5.3 MB)\n",
      "Collecting attrs>=20.3.0\n",
      "  Downloading attrs-20.3.0-py2.py3-none-any.whl (49 kB)\n",
      "Requirement already satisfied: scikit-learn<1.0.0,>=0.20.2 in c:\\users\\petr\\anaconda3\\lib\\site-packages (from bamboolib) (0.23.1)\n",
      "Collecting pandas<2.0.0,>=1.1.0\n",
      "  Downloading pandas-1.2.1-cp37-cp37m-win_amd64.whl (9.1 MB)\n",
      "Requirement already satisfied: psutil<6,>=5.4.2 in c:\\users\\petr\\anaconda3\\lib\\site-packages (from bamboolib) (5.7.0)\n",
      "Requirement already satisfied: seaborn<0.11,>=0.10 in c:\\users\\petr\\anaconda3\\lib\\site-packages (from bamboolib) (0.10.1)\n",
      "Requirement already satisfied: ipywidgets<8.0.0,>=7.0.0 in c:\\users\\petr\\anaconda3\\lib\\site-packages (from bamboolib) (7.5.1)\n",
      "Requirement already satisfied: toml>=0.10.0 in c:\\users\\petr\\anaconda3\\lib\\site-packages (from bamboolib) (0.10.1)\n",
      "Collecting plotly<5.0.0,>=4.9.0\n",
      "  Downloading plotly-4.14.3-py2.py3-none-any.whl (13.2 MB)\n",
      "Collecting ppscore<2.0.0,>=1.2.0\n",
      "  Downloading ppscore-1.2.0.tar.gz (47 kB)\n",
      "Requirement already satisfied: jupyterlab<3.0,>=2.0 in c:\\users\\petr\\anaconda3\\lib\\site-packages (from bamboolib) (2.1.5)\n",
      "Requirement already satisfied: xlrd>=1.0.0 in c:\\users\\petr\\anaconda3\\lib\\site-packages (from bamboolib) (1.2.0)\n",
      "Requirement already satisfied: notebook<7.0.0,>=5.3.0 in c:\\users\\petr\\anaconda3\\lib\\site-packages (from bamboolib) (6.0.3)\n",
      "Requirement already satisfied: packaging>=19.2 in c:\\users\\petr\\anaconda3\\lib\\site-packages (from bamboolib) (20.4)\n",
      "Requirement already satisfied: cryptography<3.0.0,>=2.6.1 in c:\\users\\petr\\anaconda3\\lib\\site-packages (from bamboolib) (2.9.2)\n",
      "Collecting analytics-python==1.2.9\n",
      "  Downloading analytics_python-1.2.9-py2.py3-none-any.whl (13 kB)\n",
      "Collecting qgrid==1.3.1\n",
      "  Downloading qgrid-1.3.1.tar.gz (889 kB)\n",
      "Requirement already satisfied: jedi<1.0.0 in c:\\users\\petr\\anaconda3\\lib\\site-packages (from bamboolib) (0.15.2)\n",
      "Requirement already satisfied: joblib>=0.11 in c:\\users\\petr\\anaconda3\\lib\\site-packages (from scikit-learn<1.0.0,>=0.20.2->bamboolib) (0.16.0)\n",
      "Requirement already satisfied: scipy>=0.19.1 in c:\\users\\petr\\anaconda3\\lib\\site-packages (from scikit-learn<1.0.0,>=0.20.2->bamboolib) (1.5.0)\n",
      "Requirement already satisfied: threadpoolctl>=2.0.0 in c:\\users\\petr\\anaconda3\\lib\\site-packages (from scikit-learn<1.0.0,>=0.20.2->bamboolib) (2.1.0)\n",
      "Requirement already satisfied: numpy>=1.13.3 in c:\\users\\petr\\anaconda3\\lib\\site-packages (from scikit-learn<1.0.0,>=0.20.2->bamboolib) (1.18.5)\n",
      "Requirement already satisfied: python-dateutil>=2.7.3 in c:\\users\\petr\\anaconda3\\lib\\site-packages (from pandas<2.0.0,>=1.1.0->bamboolib) (2.8.1)\n",
      "Requirement already satisfied: pytz>=2017.3 in c:\\users\\petr\\anaconda3\\lib\\site-packages (from pandas<2.0.0,>=1.1.0->bamboolib) (2020.1)\n",
      "Requirement already satisfied: matplotlib>=2.1.2 in c:\\users\\petr\\anaconda3\\lib\\site-packages (from seaborn<0.11,>=0.10->bamboolib) (3.0.3)\n",
      "Requirement already satisfied: nbformat>=4.2.0 in c:\\users\\petr\\anaconda3\\lib\\site-packages (from ipywidgets<8.0.0,>=7.0.0->bamboolib) (5.0.6)\n",
      "Requirement already satisfied: ipykernel>=4.5.1 in c:\\users\\petr\\anaconda3\\lib\\site-packages (from ipywidgets<8.0.0,>=7.0.0->bamboolib) (5.3.0)\n",
      "Requirement already satisfied: ipython>=4.0.0; python_version >= \"3.3\" in c:\\users\\petr\\anaconda3\\lib\\site-packages (from ipywidgets<8.0.0,>=7.0.0->bamboolib) (7.16.1)\n",
      "Requirement already satisfied: traitlets>=4.3.1 in c:\\users\\petr\\anaconda3\\lib\\site-packages (from ipywidgets<8.0.0,>=7.0.0->bamboolib) (4.3.3)\n",
      "Requirement already satisfied: widgetsnbextension~=3.5.0 in c:\\users\\petr\\anaconda3\\lib\\site-packages (from ipywidgets<8.0.0,>=7.0.0->bamboolib) (3.5.1)\n",
      "Requirement already satisfied: six in c:\\users\\petr\\anaconda3\\lib\\site-packages (from plotly<5.0.0,>=4.9.0->bamboolib) (1.15.0)\n",
      "Requirement already satisfied: retrying>=1.3.3 in c:\\users\\petr\\anaconda3\\lib\\site-packages (from plotly<5.0.0,>=4.9.0->bamboolib) (1.3.3)\n",
      "Requirement already satisfied: tornado!=6.0.0,!=6.0.1,!=6.0.2 in c:\\users\\petr\\anaconda3\\lib\\site-packages (from jupyterlab<3.0,>=2.0->bamboolib) (6.0.4)\n",
      "Requirement already satisfied: jupyterlab_server<2.0,>=1.1.0 in c:\\users\\petr\\anaconda3\\lib\\site-packages (from jupyterlab<3.0,>=2.0->bamboolib) (1.1.5)\n",
      "Requirement already satisfied: jinja2>=2.10 in c:\\users\\petr\\anaconda3\\lib\\site-packages (from jupyterlab<3.0,>=2.0->bamboolib) (2.11.2)\n",
      "Requirement already satisfied: ipython-genutils in c:\\users\\petr\\anaconda3\\lib\\site-packages (from notebook<7.0.0,>=5.3.0->bamboolib) (0.2.0)\n",
      "Requirement already satisfied: prometheus-client in c:\\users\\petr\\anaconda3\\lib\\site-packages (from notebook<7.0.0,>=5.3.0->bamboolib) (0.8.0)\n",
      "Requirement already satisfied: nbconvert in c:\\users\\petr\\anaconda3\\lib\\site-packages (from notebook<7.0.0,>=5.3.0->bamboolib) (5.6.1)\n",
      "Requirement already satisfied: terminado>=0.8.1 in c:\\users\\petr\\anaconda3\\lib\\site-packages (from notebook<7.0.0,>=5.3.0->bamboolib) (0.8.3)\n",
      "Requirement already satisfied: jupyter-client>=5.3.4 in c:\\users\\petr\\anaconda3\\lib\\site-packages (from notebook<7.0.0,>=5.3.0->bamboolib) (6.1.5)\n",
      "Requirement already satisfied: pyzmq>=17 in c:\\users\\petr\\anaconda3\\lib\\site-packages (from notebook<7.0.0,>=5.3.0->bamboolib) (19.0.1)\n",
      "Requirement already satisfied: jupyter-core>=4.6.1 in c:\\users\\petr\\anaconda3\\lib\\site-packages (from notebook<7.0.0,>=5.3.0->bamboolib) (4.6.3)\n",
      "Requirement already satisfied: Send2Trash in c:\\users\\petr\\anaconda3\\lib\\site-packages (from notebook<7.0.0,>=5.3.0->bamboolib) (1.5.0)\n",
      "\n",
      "Requirement already satisfied: pyparsing>=2.0.2 in c:\\users\\petr\\anaconda3\\lib\\site-packages (from packaging>=19.2->bamboolib) (2.4.7)\n",
      "Requirement already satisfied: cffi!=1.11.3,>=1.8 in c:\\users\\petr\\anaconda3\\lib\\site-packages (from cryptography<3.0.0,>=2.6.1->bamboolib) (1.14.0)\n",
      "Requirement already satisfied: requests<3.0,>=2.7 in c:\\users\\petr\\anaconda3\\lib\\site-packages (from analytics-python==1.2.9->bamboolib) (2.24.0)\n",
      "Requirement already satisfied: parso>=0.5.2 in c:\\users\\petr\\anaconda3\\lib\\site-packages (from jedi<1.0.0->bamboolib) (0.5.2)\n",
      "Requirement already satisfied: cycler>=0.10 in c:\\users\\petr\\anaconda3\\lib\\site-packages (from matplotlib>=2.1.2->seaborn<0.11,>=0.10->bamboolib) (0.10.0)\n",
      "Requirement already satisfied: kiwisolver>=1.0.1 in c:\\users\\petr\\anaconda3\\lib\\site-packages (from matplotlib>=2.1.2->seaborn<0.11,>=0.10->bamboolib) (1.2.0)\n",
      "Requirement already satisfied: jsonschema!=2.5.0,>=2.4 in c:\\users\\petr\\anaconda3\\lib\\site-packages (from nbformat>=4.2.0->ipywidgets<8.0.0,>=7.0.0->bamboolib) (3.2.0)\n",
      "Requirement already satisfied: prompt-toolkit!=3.0.0,!=3.0.1,<3.1.0,>=2.0.0 in c:\\users\\petr\\anaconda3\\lib\\site-packages (from ipython>=4.0.0; python_version >= \"3.3\"->ipywidgets<8.0.0,>=7.0.0->bamboolib) (3.0.5)\n",
      "Requirement already satisfied: pickleshare in c:\\users\\petr\\anaconda3\\lib\\site-packages (from ipython>=4.0.0; python_version >= \"3.3\"->ipywidgets<8.0.0,>=7.0.0->bamboolib) (0.7.5)\n",
      "Requirement already satisfied: setuptools>=18.5 in c:\\users\\petr\\anaconda3\\lib\\site-packages (from ipython>=4.0.0; python_version >= \"3.3\"->ipywidgets<8.0.0,>=7.0.0->bamboolib) (47.3.1.post20200616)\n",
      "Requirement already satisfied: decorator in c:\\users\\petr\\anaconda3\\lib\\site-packages (from ipython>=4.0.0; python_version >= \"3.3\"->ipywidgets<8.0.0,>=7.0.0->bamboolib) (4.4.2)\n",
      "Requirement already satisfied: colorama; sys_platform == \"win32\" in c:\\users\\petr\\anaconda3\\lib\\site-packages (from ipython>=4.0.0; python_version >= \"3.3\"->ipywidgets<8.0.0,>=7.0.0->bamboolib) (0.4.3)\n",
      "Requirement already satisfied: backcall in c:\\users\\petr\\anaconda3\\lib\\site-packages (from ipython>=4.0.0; python_version >= \"3.3\"->ipywidgets<8.0.0,>=7.0.0->bamboolib) (0.2.0)\n",
      "Requirement already satisfied: pygments in c:\\users\\petr\\anaconda3\\lib\\site-packages (from ipython>=4.0.0; python_version >= \"3.3\"->ipywidgets<8.0.0,>=7.0.0->bamboolib) (2.6.1)\n",
      "Requirement already satisfied: json5 in c:\\users\\petr\\anaconda3\\lib\\site-packages (from jupyterlab_server<2.0,>=1.1.0->jupyterlab<3.0,>=2.0->bamboolib) (0.9.4)\n",
      "Requirement already satisfied: MarkupSafe>=0.23 in c:\\users\\petr\\anaconda3\\lib\\site-packages (from jinja2>=2.10->jupyterlab<3.0,>=2.0->bamboolib) (1.1.1)\n",
      "Requirement already satisfied: testpath in c:\\users\\petr\\anaconda3\\lib\\site-packages (from nbconvert->notebook<7.0.0,>=5.3.0->bamboolib) (0.4.4)\n",
      "Requirement already satisfied: bleach in c:\\users\\petr\\anaconda3\\lib\\site-packages (from nbconvert->notebook<7.0.0,>=5.3.0->bamboolib) (3.1.5)\n",
      "Requirement already satisfied: entrypoints>=0.2.2 in c:\\users\\petr\\anaconda3\\lib\\site-packages (from nbconvert->notebook<7.0.0,>=5.3.0->bamboolib) (0.3)\n",
      "Requirement already satisfied: defusedxml in c:\\users\\petr\\anaconda3\\lib\\site-packages (from nbconvert->notebook<7.0.0,>=5.3.0->bamboolib) (0.6.0)\n",
      "Requirement already satisfied: mistune<2,>=0.8.1 in c:\\users\\petr\\anaconda3\\lib\\site-packages (from nbconvert->notebook<7.0.0,>=5.3.0->bamboolib) (0.8.4)\n",
      "Requirement already satisfied: pandocfilters>=1.4.1 in c:\\users\\petr\\anaconda3\\lib\\site-packages (from nbconvert->notebook<7.0.0,>=5.3.0->bamboolib) (1.4.2)\n",
      "Requirement already satisfied: pywin32>=1.0; sys_platform == \"win32\" in c:\\users\\petr\\anaconda3\\lib\\site-packages (from jupyter-core>=4.6.1->notebook<7.0.0,>=5.3.0->bamboolib) (227)\n",
      "Requirement already satisfied: pycparser in c:\\users\\petr\\anaconda3\\lib\\site-packages (from cffi!=1.11.3,>=1.8->cryptography<3.0.0,>=2.6.1->bamboolib) (2.20)\n",
      "Requirement already satisfied: urllib3!=1.25.0,!=1.25.1,<1.26,>=1.21.1 in c:\\users\\petr\\anaconda3\\lib\\site-packages (from requests<3.0,>=2.7->analytics-python==1.2.9->bamboolib) (1.25.9)\n",
      "Requirement already satisfied: chardet<4,>=3.0.2 in c:\\users\\petr\\anaconda3\\lib\\site-packages (from requests<3.0,>=2.7->analytics-python==1.2.9->bamboolib) (3.0.4)\n",
      "Requirement already satisfied: certifi>=2017.4.17 in c:\\users\\petr\\anaconda3\\lib\\site-packages (from requests<3.0,>=2.7->analytics-python==1.2.9->bamboolib) (2020.6.20)\n",
      "Requirement already satisfied: idna<3,>=2.5 in c:\\users\\petr\\anaconda3\\lib\\site-packages (from requests<3.0,>=2.7->analytics-python==1.2.9->bamboolib) (2.10)\n",
      "Requirement already satisfied: pyrsistent>=0.14.0 in c:\\users\\petr\\anaconda3\\lib\\site-packages (from jsonschema!=2.5.0,>=2.4->nbformat>=4.2.0->ipywidgets<8.0.0,>=7.0.0->bamboolib) (0.16.0)\n",
      "Requirement already satisfied: importlib-metadata; python_version < \"3.8\" in c:\\users\\petr\\anaconda3\\lib\\site-packages (from jsonschema!=2.5.0,>=2.4->nbformat>=4.2.0->ipywidgets<8.0.0,>=7.0.0->bamboolib) (1.7.0)\n",
      "Requirement already satisfied: wcwidth in c:\\users\\petr\\anaconda3\\lib\\site-packages (from prompt-toolkit!=3.0.0,!=3.0.1,<3.1.0,>=2.0.0->ipython>=4.0.0; python_version >= \"3.3\"->ipywidgets<8.0.0,>=7.0.0->bamboolib) (0.2.5)\n",
      "Requirement already satisfied: webencodings in c:\\users\\petr\\anaconda3\\lib\\site-packages (from bleach->nbconvert->notebook<7.0.0,>=5.3.0->bamboolib) (0.5.1)\n",
      "Requirement already satisfied: zipp>=0.5 in c:\\users\\petr\\anaconda3\\lib\\site-packages (from importlib-metadata; python_version < \"3.8\"->jsonschema!=2.5.0,>=2.4->nbformat>=4.2.0->ipywidgets<8.0.0,>=7.0.0->bamboolib) (3.1.0)\n",
      "Building wheels for collected packages: ppscore, qgrid\n",
      "  Building wheel for ppscore (setup.py): started\n",
      "  Building wheel for ppscore (setup.py): finished with status 'done'\n",
      "  Created wheel for ppscore: filename=ppscore-1.2.0-py2.py3-none-any.whl size=13055 sha256=0ba35f8032726f728fe4527d90e88f34769cebcbf1beb2478b55336b3eff9c2a\n",
      "  Stored in directory: c:\\users\\petr\\appdata\\local\\pip\\cache\\wheels\\d2\\3c\\58\\2ff786414b21713edc6f4fdb54fdee89ac37bca5edd1f60634\n",
      "  Building wheel for qgrid (setup.py): started\n",
      "  Building wheel for qgrid (setup.py): finished with status 'done'\n",
      "  Created wheel for qgrid: filename=qgrid-1.3.1-py2.py3-none-any.whl size=1761262 sha256=a5fa730a805cb98fa36971f0a22b4da4ddb618c9c3cad0aa0a8e80299fbfd179\n",
      "  Stored in directory: c:\\users\\petr\\appdata\\local\\pip\\cache\\wheels\\53\\87\\cb\\c63a58774627471976061afb5b8657b76d2268c1e76e980586\n",
      "Successfully built ppscore qgrid\n",
      "Installing collected packages: attrs, pandas, plotly, ppscore, analytics-python, qgrid, bamboolib\n",
      "  Attempting uninstall: attrs\n",
      "    Found existing installation: attrs 19.3.0\n",
      "    Uninstalling attrs-19.3.0:\n",
      "      Successfully uninstalled attrs-19.3.0\n",
      "  Attempting uninstall: pandas\n",
      "    Found existing installation: pandas 1.0.5\n",
      "    Uninstalling pandas-1.0.5:\n",
      "      Successfully uninstalled pandas-1.0.5\n",
      "  Attempting uninstall: plotly\n",
      "    Found existing installation: plotly 4.7.1\n",
      "    Uninstalling plotly-4.7.1:\n",
      "      Successfully uninstalled plotly-4.7.1\n",
      "Successfully installed analytics-python-1.2.9 attrs-20.3.0 bamboolib-1.21.0 pandas-1.2.1 plotly-4.14.3 ppscore-1.2.0 qgrid-1.3.1\n"
     ]
    }
   ],
   "source": [
    "pip install bamboolib"
   ]
  },
  {
   "cell_type": "code",
   "execution_count": null,
   "metadata": {},
   "outputs": [],
   "source": [
    "jupyter nbextension enable --py qgrid --sys-prefix\n",
    "jupyter nbextension enable --py widgetsnbextension --sys-prefix\n",
    "jupyter nbextension install --py bamboolib --sys-prefix\n",
    "jupyter nbextension enable --py bamboolib --sys-prefix"
   ]
  },
  {
   "cell_type": "code",
   "execution_count": 1,
   "metadata": {},
   "outputs": [
    {
     "data": {
      "application/vnd.jupyter.widget-view+json": {
       "model_id": "6d7176bbed7740808869e9ccebb479bc",
       "version_major": 2,
       "version_minor": 0
      },
      "text/plain": [
       "VBox(children=(HTML(value='<div class=\"bamboolib-notification bamboolib-notification-info\"><b>Pro Tip:</b> sav…"
      ]
     },
     "metadata": {},
     "output_type": "display_data"
    }
   ],
   "source": [
    "import bamboolib as bam\n",
    "import pandas as pd\n",
    "data = pd.read_csv(bam.titanic_csv)\n",
    "bam.show(data)"
   ]
  },
  {
   "cell_type": "code",
   "execution_count": null,
   "metadata": {},
   "outputs": [],
   "source": [
    "https://medium.com/nuances-of-programming/bamboolib-%D0%B8%D0%B7%D1%83%D1%87%D0%B0%D0%B9%D1%82%D0%B5-%D0%B8-%D0%B8%D1%81%D0%BF%D0%BE%D0%BB%D1%8C%D0%B7%D1%83%D0%B9%D1%82%D0%B5-pandas-%D0%B1%D0%B5%D0%B7-%D0%BD%D0%B0%D0%BF%D0%B8%D1%81%D0%B0%D0%BD%D0%B8%D1%8F-%D0%BA%D0%BE%D0%B4%D0%B0-1ed405f6c92d\n",
    "https://towardsdatascience.com/how-to-create-an-interactive-dropdown-in-jupyter-322277f58a68    "
   ]
  }
 ],
 "metadata": {
  "kernelspec": {
   "display_name": "Python 3",
   "language": "python",
   "name": "python3"
  },
  "language_info": {
   "codemirror_mode": {
    "name": "ipython",
    "version": 3
   },
   "file_extension": ".py",
   "mimetype": "text/x-python",
   "name": "python",
   "nbconvert_exporter": "python",
   "pygments_lexer": "ipython3",
   "version": "3.7.7"
  }
 },
 "nbformat": 4,
 "nbformat_minor": 4
}
