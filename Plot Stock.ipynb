{
 "cells": [
  {
   "cell_type": "code",
   "execution_count": 147,
   "metadata": {},
   "outputs": [
    {
     "name": "stdout",
     "output_type": "stream",
     "text": [
      "The autoreload extension is already loaded. To reload it, use:\n",
      "  %reload_ext autoreload\n"
     ]
    }
   ],
   "source": [
    "import datetime as dt\n",
    "import matplotlib.pyplot as plt\n",
    "from matplotlib import style\n",
    "from mpl_finance import candlestick_ohlc\n",
    "import matplotlib.dates as mdates\n",
    "import pandas as pd\n",
    "import pyodbc\n",
    "import FinanceLib as fl\n",
    "style.use('ggplot')\n",
    "\n",
    "\n",
    "%matplotlib inline\n",
    "%load_ext autoreload\n",
    "%autoreload 2"
   ]
  },
  {
   "cell_type": "code",
   "execution_count": 106,
   "metadata": {},
   "outputs": [],
   "source": [
    "fname  = 'C:/Users/40KravchukPV.REGION/Documents/Courses/FinanceProject/config.txt'\n",
    "config_dict = fl.ReadConnConfig(fname)\n",
    "con = pyodbc.connect(driver = config_dict['DRIVER'],server = config_dict['SERVER'], port = config_dict['PORT'], database = config_dict['DATABASE'], UID = config_dict['UID'], PWD = config_dict['PWD'], autocommit=True)"
   ]
  },
  {
   "cell_type": "code",
   "execution_count": null,
   "metadata": {},
   "outputs": [],
   "source": []
  },
  {
   "cell_type": "code",
   "execution_count": 2,
   "metadata": {},
   "outputs": [
    {
     "name": "stdout",
     "output_type": "stream",
     "text": [
      "Collecting https://github.com/matplotlib/mpl_finance/archive/master.zip\n",
      "  Downloading https://github.com/matplotlib/mpl_finance/archive/master.zip\n",
      "Requirement already satisfied: matplotlib in c:\\programdata\\anaconda3\\lib\\site-packages (from mpl-finance==0.10.1) (3.1.3)\n",
      "Requirement already satisfied: kiwisolver>=1.0.1 in c:\\programdata\\anaconda3\\lib\\site-packages (from matplotlib->mpl-finance==0.10.1) (1.1.0)\n",
      "Requirement already satisfied: numpy>=1.11 in c:\\programdata\\anaconda3\\lib\\site-packages (from matplotlib->mpl-finance==0.10.1) (1.18.1)\n",
      "Requirement already satisfied: pyparsing!=2.0.4,!=2.1.2,!=2.1.6,>=2.0.1 in c:\\programdata\\anaconda3\\lib\\site-packages (from matplotlib->mpl-finance==0.10.1) (2.4.6)\n",
      "Requirement already satisfied: python-dateutil>=2.1 in c:\\programdata\\anaconda3\\lib\\site-packages (from matplotlib->mpl-finance==0.10.1) (2.8.1)\n",
      "Requirement already satisfied: cycler>=0.10 in c:\\programdata\\anaconda3\\lib\\site-packages (from matplotlib->mpl-finance==0.10.1) (0.10.0)\n",
      "Requirement already satisfied: setuptools in c:\\programdata\\anaconda3\\lib\\site-packages (from kiwisolver>=1.0.1->matplotlib->mpl-finance==0.10.1) (45.2.0.post20200210)\n",
      "Requirement already satisfied: six>=1.5 in c:\\programdata\\anaconda3\\lib\\site-packages (from python-dateutil>=2.1->matplotlib->mpl-finance==0.10.1) (1.14.0)\n",
      "Building wheels for collected packages: mpl-finance\n",
      "  Building wheel for mpl-finance (setup.py): started\n",
      "  Building wheel for mpl-finance (setup.py): finished with status 'done'\n",
      "  Created wheel for mpl-finance: filename=mpl_finance-0.10.1-py3-none-any.whl size=8429 sha256=0f236eaeca6854f8aac33a17912f6f851654badebacef42f2fd1bad70835f072\n",
      "  Stored in directory: C:\\Users\\40KRAV~1.REG\\AppData\\Local\\Temp\\pip-ephem-wheel-cache-xlw5ahi4\\wheels\\eb\\17\\99\\0f3929e635912eb25fc346aaf43b4ee3da4a80dee8ce3d2e4f\n",
      "Successfully built mpl-finance\n",
      "Installing collected packages: mpl-finance\n",
      "Successfully installed mpl-finance-0.10.1\n",
      "Note: you may need to restart the kernel to use updated packages.\n"
     ]
    }
   ],
   "source": [
    "pip install https://github.com/matplotlib/mpl_finance/archive/master.zip"
   ]
  },
  {
   "cell_type": "code",
   "execution_count": 163,
   "metadata": {},
   "outputs": [],
   "source": [
    "df = fl.GetStockQuoteFromDB(con, 'ES, AAPL', IsDtIndex = 1, IsStockIndex = 0, DateFrom = 'NULL', DateTo = 'NULL')"
   ]
  },
  {
   "cell_type": "code",
   "execution_count": 164,
   "metadata": {},
   "outputs": [
    {
     "data": {
      "text/html": [
       "<div>\n",
       "<style scoped>\n",
       "    .dataframe tbody tr th:only-of-type {\n",
       "        vertical-align: middle;\n",
       "    }\n",
       "\n",
       "    .dataframe tbody tr th {\n",
       "        vertical-align: top;\n",
       "    }\n",
       "\n",
       "    .dataframe thead th {\n",
       "        text-align: right;\n",
       "    }\n",
       "</style>\n",
       "<table border=\"1\" class=\"dataframe\">\n",
       "  <thead>\n",
       "    <tr style=\"text-align: right;\">\n",
       "      <th></th>\n",
       "      <th>Stock</th>\n",
       "      <th>OpenValue</th>\n",
       "      <th>HighValue</th>\n",
       "      <th>LowValue</th>\n",
       "      <th>CloseValue</th>\n",
       "      <th>AdjClose</th>\n",
       "      <th>Volume</th>\n",
       "      <th>LoadDt</th>\n",
       "    </tr>\n",
       "    <tr>\n",
       "      <th>Dt</th>\n",
       "      <th></th>\n",
       "      <th></th>\n",
       "      <th></th>\n",
       "      <th></th>\n",
       "      <th></th>\n",
       "      <th></th>\n",
       "      <th></th>\n",
       "      <th></th>\n",
       "    </tr>\n",
       "  </thead>\n",
       "  <tbody>\n",
       "    <tr>\n",
       "      <th>2015-12-31</th>\n",
       "      <td>AAPL</td>\n",
       "      <td>26.752501</td>\n",
       "      <td>26.757500</td>\n",
       "      <td>26.205000</td>\n",
       "      <td>26.315001</td>\n",
       "      <td>24.380093</td>\n",
       "      <td>163649200.0</td>\n",
       "      <td>2021-01-28 19:49:35.147</td>\n",
       "    </tr>\n",
       "    <tr>\n",
       "      <th>2015-12-31</th>\n",
       "      <td>ES</td>\n",
       "      <td>51.889999</td>\n",
       "      <td>51.900002</td>\n",
       "      <td>50.549999</td>\n",
       "      <td>51.070000</td>\n",
       "      <td>43.896469</td>\n",
       "      <td>2081200.0</td>\n",
       "      <td>2021-01-28 20:53:03.533</td>\n",
       "    </tr>\n",
       "    <tr>\n",
       "      <th>2016-01-04</th>\n",
       "      <td>AAPL</td>\n",
       "      <td>25.652500</td>\n",
       "      <td>26.342501</td>\n",
       "      <td>25.500000</td>\n",
       "      <td>26.337500</td>\n",
       "      <td>24.400942</td>\n",
       "      <td>270597600.0</td>\n",
       "      <td>2021-01-28 19:49:35.160</td>\n",
       "    </tr>\n",
       "    <tr>\n",
       "      <th>2016-01-04</th>\n",
       "      <td>ES</td>\n",
       "      <td>50.650002</td>\n",
       "      <td>50.889999</td>\n",
       "      <td>50.230000</td>\n",
       "      <td>50.880001</td>\n",
       "      <td>43.733162</td>\n",
       "      <td>1590300.0</td>\n",
       "      <td>2021-01-28 20:53:03.550</td>\n",
       "    </tr>\n",
       "    <tr>\n",
       "      <th>2016-01-05</th>\n",
       "      <td>AAPL</td>\n",
       "      <td>26.437500</td>\n",
       "      <td>26.462500</td>\n",
       "      <td>25.602501</td>\n",
       "      <td>25.677500</td>\n",
       "      <td>23.789471</td>\n",
       "      <td>223164000.0</td>\n",
       "      <td>2021-01-28 19:49:35.177</td>\n",
       "    </tr>\n",
       "  </tbody>\n",
       "</table>\n",
       "</div>"
      ],
      "text/plain": [
       "           Stock  OpenValue  HighValue   LowValue  CloseValue   AdjClose  \\\n",
       "Dt                                                                         \n",
       "2015-12-31  AAPL  26.752501  26.757500  26.205000   26.315001  24.380093   \n",
       "2015-12-31    ES  51.889999  51.900002  50.549999   51.070000  43.896469   \n",
       "2016-01-04  AAPL  25.652500  26.342501  25.500000   26.337500  24.400942   \n",
       "2016-01-04    ES  50.650002  50.889999  50.230000   50.880001  43.733162   \n",
       "2016-01-05  AAPL  26.437500  26.462500  25.602501   25.677500  23.789471   \n",
       "\n",
       "                 Volume                  LoadDt  \n",
       "Dt                                               \n",
       "2015-12-31  163649200.0 2021-01-28 19:49:35.147  \n",
       "2015-12-31    2081200.0 2021-01-28 20:53:03.533  \n",
       "2016-01-04  270597600.0 2021-01-28 19:49:35.160  \n",
       "2016-01-04    1590300.0 2021-01-28 20:53:03.550  \n",
       "2016-01-05  223164000.0 2021-01-28 19:49:35.177  "
      ]
     },
     "execution_count": 164,
     "metadata": {},
     "output_type": "execute_result"
    }
   ],
   "source": [
    "df.head()"
   ]
  },
  {
   "cell_type": "code",
   "execution_count": 51,
   "metadata": {},
   "outputs": [
    {
     "data": {
      "text/plain": [
       "DatetimeIndex(['2015-12-31', '2016-01-04', '2016-01-05', '2016-01-06',\n",
       "               '2016-01-07', '2016-01-08', '2016-01-11', '2016-01-12',\n",
       "               '2016-01-13', '2016-01-14',\n",
       "               ...\n",
       "               '2021-01-14', '2021-01-15', '2021-01-19', '2021-01-20',\n",
       "               '2021-01-21', '2021-01-22', '2021-01-25', '2021-01-26',\n",
       "               '2021-01-27', '2021-01-28'],\n",
       "              dtype='datetime64[ns]', name='Dt', length=1278, freq=None)"
      ]
     },
     "execution_count": 51,
     "metadata": {},
     "output_type": "execute_result"
    }
   ],
   "source": [
    "df.index"
   ]
  },
  {
   "cell_type": "code",
   "execution_count": 52,
   "metadata": {},
   "outputs": [
    {
     "data": {
      "text/html": [
       "<div>\n",
       "<style scoped>\n",
       "    .dataframe tbody tr th:only-of-type {\n",
       "        vertical-align: middle;\n",
       "    }\n",
       "\n",
       "    .dataframe tbody tr th {\n",
       "        vertical-align: top;\n",
       "    }\n",
       "\n",
       "    .dataframe thead th {\n",
       "        text-align: right;\n",
       "    }\n",
       "</style>\n",
       "<table border=\"1\" class=\"dataframe\">\n",
       "  <thead>\n",
       "    <tr style=\"text-align: right;\">\n",
       "      <th></th>\n",
       "      <th>Stock</th>\n",
       "      <th>OpenValue</th>\n",
       "      <th>HighValue</th>\n",
       "      <th>LowValue</th>\n",
       "      <th>CloseValue</th>\n",
       "      <th>AdjClose</th>\n",
       "      <th>Volume</th>\n",
       "      <th>LoadDt</th>\n",
       "    </tr>\n",
       "    <tr>\n",
       "      <th>Dt</th>\n",
       "      <th></th>\n",
       "      <th></th>\n",
       "      <th></th>\n",
       "      <th></th>\n",
       "      <th></th>\n",
       "      <th></th>\n",
       "      <th></th>\n",
       "      <th></th>\n",
       "    </tr>\n",
       "  </thead>\n",
       "  <tbody>\n",
       "    <tr>\n",
       "      <th>2015-12-31</th>\n",
       "      <td>ES</td>\n",
       "      <td>51.889999</td>\n",
       "      <td>51.900002</td>\n",
       "      <td>50.549999</td>\n",
       "      <td>51.070000</td>\n",
       "      <td>43.896469</td>\n",
       "      <td>2081200.0</td>\n",
       "      <td>2021-01-28 20:53:03.533</td>\n",
       "    </tr>\n",
       "    <tr>\n",
       "      <th>2016-01-04</th>\n",
       "      <td>ES</td>\n",
       "      <td>50.650002</td>\n",
       "      <td>50.889999</td>\n",
       "      <td>50.230000</td>\n",
       "      <td>50.880001</td>\n",
       "      <td>43.733162</td>\n",
       "      <td>1590300.0</td>\n",
       "      <td>2021-01-28 20:53:03.550</td>\n",
       "    </tr>\n",
       "    <tr>\n",
       "      <th>2016-01-05</th>\n",
       "      <td>ES</td>\n",
       "      <td>50.849998</td>\n",
       "      <td>51.430000</td>\n",
       "      <td>50.009998</td>\n",
       "      <td>51.349998</td>\n",
       "      <td>44.137138</td>\n",
       "      <td>1087100.0</td>\n",
       "      <td>2021-01-28 20:53:03.563</td>\n",
       "    </tr>\n",
       "    <tr>\n",
       "      <th>2016-01-06</th>\n",
       "      <td>ES</td>\n",
       "      <td>51.040001</td>\n",
       "      <td>51.650002</td>\n",
       "      <td>50.730000</td>\n",
       "      <td>51.459999</td>\n",
       "      <td>44.231693</td>\n",
       "      <td>1265500.0</td>\n",
       "      <td>2021-01-28 20:53:03.577</td>\n",
       "    </tr>\n",
       "    <tr>\n",
       "      <th>2016-01-07</th>\n",
       "      <td>ES</td>\n",
       "      <td>50.799999</td>\n",
       "      <td>51.290001</td>\n",
       "      <td>50.759998</td>\n",
       "      <td>51.139999</td>\n",
       "      <td>43.956642</td>\n",
       "      <td>2141700.0</td>\n",
       "      <td>2021-01-28 20:53:03.590</td>\n",
       "    </tr>\n",
       "  </tbody>\n",
       "</table>\n",
       "</div>"
      ],
      "text/plain": [
       "           Stock  OpenValue  HighValue   LowValue  CloseValue   AdjClose  \\\n",
       "Dt                                                                         \n",
       "2015-12-31    ES  51.889999  51.900002  50.549999   51.070000  43.896469   \n",
       "2016-01-04    ES  50.650002  50.889999  50.230000   50.880001  43.733162   \n",
       "2016-01-05    ES  50.849998  51.430000  50.009998   51.349998  44.137138   \n",
       "2016-01-06    ES  51.040001  51.650002  50.730000   51.459999  44.231693   \n",
       "2016-01-07    ES  50.799999  51.290001  50.759998   51.139999  43.956642   \n",
       "\n",
       "               Volume                  LoadDt  \n",
       "Dt                                             \n",
       "2015-12-31  2081200.0 2021-01-28 20:53:03.533  \n",
       "2016-01-04  1590300.0 2021-01-28 20:53:03.550  \n",
       "2016-01-05  1087100.0 2021-01-28 20:53:03.563  \n",
       "2016-01-06  1265500.0 2021-01-28 20:53:03.577  \n",
       "2016-01-07  2141700.0 2021-01-28 20:53:03.590  "
      ]
     },
     "execution_count": 52,
     "metadata": {},
     "output_type": "execute_result"
    }
   ],
   "source": [
    "df.head()"
   ]
  },
  {
   "cell_type": "code",
   "execution_count": 177,
   "metadata": {},
   "outputs": [
    {
     "name": "stderr",
     "output_type": "stream",
     "text": [
      "C:\\ProgramData\\Anaconda3\\lib\\site-packages\\ipykernel_launcher.py:24: UserWarning: Matplotlib is currently using module://ipykernel.pylab.backend_inline, which is a non-GUI backend, so cannot show the figure.\n"
     ]
    },
    {
     "data": {
      "image/png": "[encoded data removed]",
      "text/plain": [
       "<Figure size 432x288 with 4 Axes>"
      ]
     },
     "metadata": {
      "needs_background": "light"
     },
     "output_type": "display_data"
    },
    {
     "data": {
      "text/plain": [
       "<Figure size 1200x800 with 0 Axes>"
      ]
     },
     "metadata": {},
     "output_type": "display_data"
    }
   ],
   "source": [
    "df_input = fl.GetStockQuoteFromDB(con, 'AAPL', IsDtIndex = 1, IsStockIndex = 0, DateFrom = 'NULL', DateTo = 'NULL')\n",
    "df = df_input[df_input['Stock'] == 'AAPL']\n",
    "df_ohlc = df['AdjClose'].resample('10D').ohlc()\n",
    "df_volume = df['Volume'].resample('10D').sum()\n",
    "df_ohlc.reset_index(inplace=True)\n",
    "df_ohlc['Dt'] = df_ohlc['Dt'].map(mdates.date2num)\n",
    "df['100ma'] = df['AdjClose'].rolling(window=100,min_periods=0).mean()\n",
    "\n",
    "ax1 = plt.subplot2grid((6,2), (0,0), rowspan=5, colspan=1)\n",
    "ax2 = plt.subplot2grid((6,2), (5,0), rowspan=1, colspan=1, sharex=ax1)\n",
    "ax3 = plt.subplot2grid((6,2), (0,1), rowspan=5, colspan=1)\n",
    "ax4 = plt.subplot2grid((6,2), (5,1), rowspan=1, colspan=1, sharex=ax3)\n",
    "ax1.xaxis_date()\n",
    "\n",
    "candlestick_ohlc(ax1, df_ohlc.values, width=5, colorup='g')\n",
    "ax2.fill_between(df_volume.index.map(mdates.date2num), df_volume.values, 0)\n",
    "\n",
    "ax3.plot(df.index, df['AdjClose'])\n",
    "ax3.plot(df.index, df['100ma'])\n",
    "ax4.bar(df.index, df['Volume'])\n",
    "\n",
    "fig=plt.figure(figsize=(12,8), dpi= 100)\n",
    "\n",
    "plt.show()"
   ]
  },
  {
   "cell_type": "code",
   "execution_count": 84,
   "metadata": {},
   "outputs": [],
   "source": [
    "def GetCandlePlot(df_input, Stock, ReSample = '10D'):\n",
    "    \n",
    "    df = df_input[df_input['Stock'] == Stock]\n",
    "    df_ohlc = df['AdjClose'].resample(ReSample).ohlc()\n",
    "    df_volume = df['Volume'].resample(ReSample).sum()\n",
    "    df_ohlc.reset_index(inplace=True)\n",
    "    df_ohlc['Dt'] = df_ohlc['Dt'].map(mdates.date2num)\n",
    "\n",
    "    ax1 = plt.subplot2grid((6,1), (0,0), rowspan=5, colspan=1)\n",
    "    ax2 = plt.subplot2grid((6,1), (5,0), rowspan=1, colspan=1, sharex=ax1)\n",
    "    ax3 = plt.subplot2grid((6,1), (0,1), rowspan=5, colspan=1)\n",
    "    ax1.xaxis_date()\n",
    "\n",
    "    candlestick_ohlc(ax1, df_ohlc.values, width=5, colorup='g')\n",
    "    ax2.fill_between(df_volume.index.map(mdates.date2num), df_volume.values, 0)\n",
    "    plt.show()"
   ]
  },
  {
   "cell_type": "code",
   "execution_count": 201,
   "metadata": {},
   "outputs": [],
   "source": [
    "def GetMAPlot(df_input, Stock, WindowValue=100, MinPerValue = 0):\n",
    "    \n",
    "    df = df_input[df_input['Stock'] == Stock]\n",
    "    df['ma'] = df['AdjClose'].rolling(window=WindowValue,min_periods=MinPerValue).mean()\n",
    "\n",
    "    fig = plt.figure(figsize=(12, 7))\n",
    "    \n",
    "    ax1 = plt.subplot2grid((6,1), (0,0), rowspan=5, colspan=1)\n",
    "    ax2 = plt.subplot2grid((6,1), (5,0), rowspan=1, colspan=1, sharex=ax1)\n",
    "    ax1.xaxis_date()\n",
    "    \n",
    "    ax1.plot(df.index, df['AdjClose'])\n",
    "    ax1.plot(df.index, df['ma'])\n",
    "    ax2.bar(df.index, df['Volume'])\n",
    "    \n",
    "    plt.show()"
   ]
  },
  {
   "cell_type": "code",
   "execution_count": 203,
   "metadata": {},
   "outputs": [
    {
     "data": {
      "image/png": "[encoded data removed]",
      "text/plain": [
       "<Figure size 864x504 with 2 Axes>"
      ]
     },
     "metadata": {
      "needs_background": "light"
     },
     "output_type": "display_data"
    }
   ],
   "source": [
    "fl.GetMAPlot(df['2019-01':'2020-06'], 'AAPL', 20)"
   ]
  },
  {
   "cell_type": "code",
   "execution_count": 205,
   "metadata": {},
   "outputs": [
    {
     "data": {
      "image/png": "[encoded data removed]",
      "text/plain": [
       "<Figure size 864x504 with 2 Axes>"
      ]
     },
     "metadata": {
      "needs_background": "light"
     },
     "output_type": "display_data"
    }
   ],
   "source": [
    "fl.GetCandlePlot(df['2020-01':'2021-06'], 'AAPL', ReSample = '10D')"
   ]
  }
 ],
 "metadata": {
  "kernelspec": {
   "display_name": "Python 3",
   "language": "python",
   "name": "python3"
  },
  "language_info": {
   "codemirror_mode": {
    "name": "ipython",
    "version": 3
   },
   "file_extension": ".py",
   "mimetype": "text/x-python",
   "name": "python",
   "nbconvert_exporter": "python",
   "pygments_lexer": "ipython3",
   "version": "3.7.7"
  }
 },
 "nbformat": 4,
 "nbformat_minor": 4
}
