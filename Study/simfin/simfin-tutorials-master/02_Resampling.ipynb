{
 "cells": [
  {
   "cell_type": "markdown",
   "metadata": {},
   "source": [
    "# SimFin Tutorial 02 - Resampling\n",
    "\n",
    "[Original repository on GitHub](https://github.com/simfin/simfin-tutorials)\n",
    "\n",
    "This tutorial was originally written by [Hvass Labs](https://github.com/Hvass-Labs)\n",
    "\n",
    "----\n",
    "\n",
    "\"I believe this is going to be a very difficult *croning* job. *Cloning* you idiot, not *croning!*\" &ndash; [The Sleeper](https://www.youtube.com/watch?v=27PGmG0k2Kk)"
   ]
  },
  {
   "cell_type": "markdown",
   "metadata": {},
   "source": [
    "## Introduction\n",
    "\n",
    "Resampling is a very common operation on financial data. The fundamental data in Balance Sheets, Income Statements and Cash-Flow Statements is only provided at quarterly or annual intervals, corresponding to the financial reports of the companies. If we want to use this data to calculate daily valuation ratios such as P/E or P/Sales then we first need to upsample the fundamental data.\n",
    "\n",
    "Broadly speaking, Pandas provides three methods for resampling data. They can all up- and downsample the data, but their features are slightly different:\n",
    "\n",
    "- **AsFreq** is the simplest resampling method, which only allows filling in the missing values backwards or forwards.\n",
    "\n",
    "- **Resample** is a more flexible resampling method, which allows more advanced interpolation when filling in missing values for upsampling, and also allows more advanced summarization methods for downsampling.\n",
    "\n",
    "- **Reindex** conforms a DataFrame to the index of another DataFrame, which will be explained in more detail below.\n",
    "\n",
    "The syntax for these resampling methods is complex and confusing, so after explaining how to use the Pandas methods on SimFin data, we also show some helper-functions from the simfin package, that you may want to use instead of Pandas' native methods.\n",
    "\n",
    "It is assumed you are already familiar with Tutorial 01 on the basics of SimFin before you read this tutorial."
   ]
  },
  {
   "cell_type": "markdown",
   "metadata": {},
   "source": [
    "## Imports"
   ]
  },
  {
   "cell_type": "code",
   "execution_count": 1,
   "metadata": {},
   "outputs": [],
   "source": [
    "%matplotlib inline\n",
    "import pandas as pd\n",
    "import seaborn as sns\n",
    "\n",
    "# Import the main functionality from the SimFin Python API.\n",
    "import simfin as sf\n",
    "\n",
    "# Import names used for easy access to SimFin's data-columns.\n",
    "from simfin.names import *"
   ]
  },
  {
   "cell_type": "code",
   "execution_count": 2,
   "metadata": {},
   "outputs": [
    {
     "data": {
      "text/plain": [
       "'0.2.0'"
      ]
     },
     "execution_count": 2,
     "metadata": {},
     "output_type": "execute_result"
    }
   ],
   "source": [
    "# Version of the SimFin Python API.\n",
    "sf.__version__"
   ]
  },
  {
   "cell_type": "markdown",
   "metadata": {},
   "source": [
    "## Config"
   ]
  },
  {
   "cell_type": "code",
   "execution_count": 3,
   "metadata": {},
   "outputs": [],
   "source": [
    "# SimFin data-directory.\n",
    "sf.set_data_dir('~/simfin_data/')"
   ]
  },
  {
   "cell_type": "code",
   "execution_count": 4,
   "metadata": {},
   "outputs": [],
   "source": [
    "# SimFin load API key or use free data.\n",
    "sf.load_api_key(path='~/simfin_api_key.txt', default_key='free')"
   ]
  },
  {
   "cell_type": "code",
   "execution_count": 5,
   "metadata": {},
   "outputs": [],
   "source": [
    "# Seaborn set plotting style.\n",
    "sns.set_style(\"whitegrid\")"
   ]
  },
  {
   "cell_type": "markdown",
   "metadata": {},
   "source": [
    "## Load Datasets\n",
    "\n",
    "We will use the datasets for annual Income Statements and daily Share-Prices in these examples. In reality you would typically want to use the TTM-data instead, to get 4 yearly data-points instead of just 1 yearly data-point when using annual reports."
   ]
  },
  {
   "cell_type": "code",
   "execution_count": 6,
   "metadata": {},
   "outputs": [
    {
     "name": "stdout",
     "output_type": "stream",
     "text": [
      "Dataset \"us-income-annual\" on disk (0 days old), loading.\n",
      "Dataset \"us-shareprices-daily\" on disk (1 days old), loading.\n",
      "Dataset \"us-shareprices-latest\" on disk (1 days old), loading.\n",
      "CPU times: user 15.5 s, sys: 1.26 s, total: 16.8 s\n",
      "Wall time: 15.4 s\n"
     ]
    }
   ],
   "source": [
    "%%time\n",
    "market = 'us'\n",
    "df_income = sf.load_income(variant='annual', market=market)\n",
    "df_prices = sf.load_shareprices(variant='daily', market=market)\n",
    "df_prices_latest = sf.load_shareprices(variant='latest', market=market)"
   ]
  },
  {
   "cell_type": "markdown",
   "metadata": {},
   "source": [
    "We will only use a sub-set of the datasets for tickers AAPL, AMZN and MSFT."
   ]
  },
  {
   "cell_type": "code",
   "execution_count": 7,
   "metadata": {},
   "outputs": [],
   "source": [
    "tickers = ['AAPL', 'AMZN', 'MSFT']\n",
    "df_income = df_income.loc[tickers, [REVENUE, NET_INCOME]].copy()\n",
    "df_prices = df_prices.loc[tickers, [CLOSE, ADJ_CLOSE]].copy()\n",
    "df_prices_latest = df_prices_latest.loc[tickers, [CLOSE, ADJ_CLOSE]].copy()"
   ]
  },
  {
   "cell_type": "code",
   "execution_count": 8,
   "metadata": {},
   "outputs": [
    {
     "data": {
      "text/html": [
       "<div>\n",
       "<style scoped>\n",
       "    .dataframe tbody tr th:only-of-type {\n",
       "        vertical-align: middle;\n",
       "    }\n",
       "\n",
       "    .dataframe tbody tr th {\n",
       "        vertical-align: top;\n",
       "    }\n",
       "\n",
       "    .dataframe thead th {\n",
       "        text-align: right;\n",
       "    }\n",
       "</style>\n",
       "<table border=\"1\" class=\"dataframe\">\n",
       "  <thead>\n",
       "    <tr style=\"text-align: right;\">\n",
       "      <th></th>\n",
       "      <th></th>\n",
       "      <th>Revenue</th>\n",
       "      <th>Net Income</th>\n",
       "    </tr>\n",
       "    <tr>\n",
       "      <th>Ticker</th>\n",
       "      <th>Report Date</th>\n",
       "      <th></th>\n",
       "      <th></th>\n",
       "    </tr>\n",
       "  </thead>\n",
       "  <tbody>\n",
       "    <tr>\n",
       "      <td rowspan=\"13\" valign=\"top\">AAPL</td>\n",
       "      <td>2007-09-30</td>\n",
       "      <td>2.457800e+10</td>\n",
       "      <td>3495000000</td>\n",
       "    </tr>\n",
       "    <tr>\n",
       "      <td>2008-09-30</td>\n",
       "      <td>3.749100e+10</td>\n",
       "      <td>6119000000</td>\n",
       "    </tr>\n",
       "    <tr>\n",
       "      <td>2009-09-30</td>\n",
       "      <td>4.290500e+10</td>\n",
       "      <td>8235000000</td>\n",
       "    </tr>\n",
       "    <tr>\n",
       "      <td>2010-09-30</td>\n",
       "      <td>6.522500e+10</td>\n",
       "      <td>14013000000</td>\n",
       "    </tr>\n",
       "    <tr>\n",
       "      <td>2011-09-30</td>\n",
       "      <td>1.082490e+11</td>\n",
       "      <td>25922000000</td>\n",
       "    </tr>\n",
       "    <tr>\n",
       "      <td>2012-09-30</td>\n",
       "      <td>1.565080e+11</td>\n",
       "      <td>41733000000</td>\n",
       "    </tr>\n",
       "    <tr>\n",
       "      <td>2013-09-30</td>\n",
       "      <td>1.709100e+11</td>\n",
       "      <td>37037000000</td>\n",
       "    </tr>\n",
       "    <tr>\n",
       "      <td>2014-09-30</td>\n",
       "      <td>1.827950e+11</td>\n",
       "      <td>39510000000</td>\n",
       "    </tr>\n",
       "    <tr>\n",
       "      <td>2015-09-30</td>\n",
       "      <td>2.337150e+11</td>\n",
       "      <td>53394000000</td>\n",
       "    </tr>\n",
       "    <tr>\n",
       "      <td>2016-09-30</td>\n",
       "      <td>2.156390e+11</td>\n",
       "      <td>45687000000</td>\n",
       "    </tr>\n",
       "    <tr>\n",
       "      <td>2017-09-30</td>\n",
       "      <td>2.292340e+11</td>\n",
       "      <td>48351000000</td>\n",
       "    </tr>\n",
       "    <tr>\n",
       "      <td>2018-09-30</td>\n",
       "      <td>2.655950e+11</td>\n",
       "      <td>59531000000</td>\n",
       "    </tr>\n",
       "    <tr>\n",
       "      <td>2019-09-30</td>\n",
       "      <td>2.601740e+11</td>\n",
       "      <td>55256000000</td>\n",
       "    </tr>\n",
       "    <tr>\n",
       "      <td rowspan=\"12\" valign=\"top\">AMZN</td>\n",
       "      <td>2007-12-31</td>\n",
       "      <td>1.483500e+10</td>\n",
       "      <td>476000000</td>\n",
       "    </tr>\n",
       "    <tr>\n",
       "      <td>2008-12-31</td>\n",
       "      <td>1.916600e+10</td>\n",
       "      <td>645000000</td>\n",
       "    </tr>\n",
       "    <tr>\n",
       "      <td>2009-12-31</td>\n",
       "      <td>2.450900e+10</td>\n",
       "      <td>902000000</td>\n",
       "    </tr>\n",
       "    <tr>\n",
       "      <td>2010-12-31</td>\n",
       "      <td>3.420400e+10</td>\n",
       "      <td>1152000000</td>\n",
       "    </tr>\n",
       "    <tr>\n",
       "      <td>2011-12-31</td>\n",
       "      <td>4.807700e+10</td>\n",
       "      <td>631000000</td>\n",
       "    </tr>\n",
       "    <tr>\n",
       "      <td>2012-12-31</td>\n",
       "      <td>6.109300e+10</td>\n",
       "      <td>-39000000</td>\n",
       "    </tr>\n",
       "    <tr>\n",
       "      <td>2013-12-31</td>\n",
       "      <td>7.445200e+10</td>\n",
       "      <td>274000000</td>\n",
       "    </tr>\n",
       "    <tr>\n",
       "      <td>2014-12-31</td>\n",
       "      <td>8.898800e+10</td>\n",
       "      <td>-241000000</td>\n",
       "    </tr>\n",
       "    <tr>\n",
       "      <td>2015-12-31</td>\n",
       "      <td>1.070060e+11</td>\n",
       "      <td>596000000</td>\n",
       "    </tr>\n",
       "    <tr>\n",
       "      <td>2016-12-31</td>\n",
       "      <td>1.359870e+11</td>\n",
       "      <td>2371000000</td>\n",
       "    </tr>\n",
       "    <tr>\n",
       "      <td>2017-12-31</td>\n",
       "      <td>1.778660e+11</td>\n",
       "      <td>3033000000</td>\n",
       "    </tr>\n",
       "    <tr>\n",
       "      <td>2018-12-31</td>\n",
       "      <td>2.328870e+11</td>\n",
       "      <td>10073000000</td>\n",
       "    </tr>\n",
       "    <tr>\n",
       "      <td rowspan=\"12\" valign=\"top\">MSFT</td>\n",
       "      <td>2008-06-30</td>\n",
       "      <td>6.042000e+10</td>\n",
       "      <td>17681000000</td>\n",
       "    </tr>\n",
       "    <tr>\n",
       "      <td>2009-06-30</td>\n",
       "      <td>5.843700e+10</td>\n",
       "      <td>14569000000</td>\n",
       "    </tr>\n",
       "    <tr>\n",
       "      <td>2010-06-30</td>\n",
       "      <td>6.248400e+10</td>\n",
       "      <td>18760000000</td>\n",
       "    </tr>\n",
       "    <tr>\n",
       "      <td>2011-06-30</td>\n",
       "      <td>6.994300e+10</td>\n",
       "      <td>23150000000</td>\n",
       "    </tr>\n",
       "    <tr>\n",
       "      <td>2012-06-30</td>\n",
       "      <td>7.372300e+10</td>\n",
       "      <td>16978000000</td>\n",
       "    </tr>\n",
       "    <tr>\n",
       "      <td>2013-06-30</td>\n",
       "      <td>7.784900e+10</td>\n",
       "      <td>21863000000</td>\n",
       "    </tr>\n",
       "    <tr>\n",
       "      <td>2014-06-30</td>\n",
       "      <td>8.683300e+10</td>\n",
       "      <td>22074000000</td>\n",
       "    </tr>\n",
       "    <tr>\n",
       "      <td>2015-06-30</td>\n",
       "      <td>9.358000e+10</td>\n",
       "      <td>12193000000</td>\n",
       "    </tr>\n",
       "    <tr>\n",
       "      <td>2016-06-30</td>\n",
       "      <td>9.115400e+10</td>\n",
       "      <td>20539000000</td>\n",
       "    </tr>\n",
       "    <tr>\n",
       "      <td>2017-06-30</td>\n",
       "      <td>9.657100e+10</td>\n",
       "      <td>25489000000</td>\n",
       "    </tr>\n",
       "    <tr>\n",
       "      <td>2018-06-30</td>\n",
       "      <td>1.103600e+11</td>\n",
       "      <td>16571000000</td>\n",
       "    </tr>\n",
       "    <tr>\n",
       "      <td>2019-06-30</td>\n",
       "      <td>1.258430e+11</td>\n",
       "      <td>39240000000</td>\n",
       "    </tr>\n",
       "  </tbody>\n",
       "</table>\n",
       "</div>"
      ],
      "text/plain": [
       "                         Revenue   Net Income\n",
       "Ticker Report Date                           \n",
       "AAPL   2007-09-30   2.457800e+10   3495000000\n",
       "       2008-09-30   3.749100e+10   6119000000\n",
       "       2009-09-30   4.290500e+10   8235000000\n",
       "       2010-09-30   6.522500e+10  14013000000\n",
       "       2011-09-30   1.082490e+11  25922000000\n",
       "       2012-09-30   1.565080e+11  41733000000\n",
       "       2013-09-30   1.709100e+11  37037000000\n",
       "       2014-09-30   1.827950e+11  39510000000\n",
       "       2015-09-30   2.337150e+11  53394000000\n",
       "       2016-09-30   2.156390e+11  45687000000\n",
       "       2017-09-30   2.292340e+11  48351000000\n",
       "       2018-09-30   2.655950e+11  59531000000\n",
       "       2019-09-30   2.601740e+11  55256000000\n",
       "AMZN   2007-12-31   1.483500e+10    476000000\n",
       "       2008-12-31   1.916600e+10    645000000\n",
       "       2009-12-31   2.450900e+10    902000000\n",
       "       2010-12-31   3.420400e+10   1152000000\n",
       "       2011-12-31   4.807700e+10    631000000\n",
       "       2012-12-31   6.109300e+10    -39000000\n",
       "       2013-12-31   7.445200e+10    274000000\n",
       "       2014-12-31   8.898800e+10   -241000000\n",
       "       2015-12-31   1.070060e+11    596000000\n",
       "       2016-12-31   1.359870e+11   2371000000\n",
       "       2017-12-31   1.778660e+11   3033000000\n",
       "       2018-12-31   2.328870e+11  10073000000\n",
       "MSFT   2008-06-30   6.042000e+10  17681000000\n",
       "       2009-06-30   5.843700e+10  14569000000\n",
       "       2010-06-30   6.248400e+10  18760000000\n",
       "       2011-06-30   6.994300e+10  23150000000\n",
       "       2012-06-30   7.372300e+10  16978000000\n",
       "       2013-06-30   7.784900e+10  21863000000\n",
       "       2014-06-30   8.683300e+10  22074000000\n",
       "       2015-06-30   9.358000e+10  12193000000\n",
       "       2016-06-30   9.115400e+10  20539000000\n",
       "       2017-06-30   9.657100e+10  25489000000\n",
       "       2018-06-30   1.103600e+11  16571000000\n",
       "       2019-06-30   1.258430e+11  39240000000"
      ]
     },
     "execution_count": 8,
     "metadata": {},
     "output_type": "execute_result"
    }
   ],
   "source": [
    "df_income"
   ]
  },
  {
   "cell_type": "code",
   "execution_count": 9,
   "metadata": {
    "scrolled": true
   },
   "outputs": [
    {
     "data": {
      "text/html": [
       "<div>\n",
       "<style scoped>\n",
       "    .dataframe tbody tr th:only-of-type {\n",
       "        vertical-align: middle;\n",
       "    }\n",
       "\n",
       "    .dataframe tbody tr th {\n",
       "        vertical-align: top;\n",
       "    }\n",
       "\n",
       "    .dataframe thead th {\n",
       "        text-align: right;\n",
       "    }\n",
       "</style>\n",
       "<table border=\"1\" class=\"dataframe\">\n",
       "  <thead>\n",
       "    <tr style=\"text-align: right;\">\n",
       "      <th></th>\n",
       "      <th></th>\n",
       "      <th>Close</th>\n",
       "      <th>Adj. Close</th>\n",
       "    </tr>\n",
       "    <tr>\n",
       "      <th>Ticker</th>\n",
       "      <th>Date</th>\n",
       "      <th></th>\n",
       "      <th></th>\n",
       "    </tr>\n",
       "  </thead>\n",
       "  <tbody>\n",
       "    <tr>\n",
       "      <td rowspan=\"5\" valign=\"top\">AAPL</td>\n",
       "      <td>2007-01-03</td>\n",
       "      <td>11.9714</td>\n",
       "      <td>10.45</td>\n",
       "    </tr>\n",
       "    <tr>\n",
       "      <td>2007-01-04</td>\n",
       "      <td>12.2371</td>\n",
       "      <td>10.68</td>\n",
       "    </tr>\n",
       "    <tr>\n",
       "      <td>2007-01-05</td>\n",
       "      <td>12.1500</td>\n",
       "      <td>10.60</td>\n",
       "    </tr>\n",
       "    <tr>\n",
       "      <td>2007-01-08</td>\n",
       "      <td>12.2100</td>\n",
       "      <td>10.66</td>\n",
       "    </tr>\n",
       "    <tr>\n",
       "      <td>2007-01-09</td>\n",
       "      <td>13.2243</td>\n",
       "      <td>11.54</td>\n",
       "    </tr>\n",
       "  </tbody>\n",
       "</table>\n",
       "</div>"
      ],
      "text/plain": [
       "                     Close  Adj. Close\n",
       "Ticker Date                           \n",
       "AAPL   2007-01-03  11.9714       10.45\n",
       "       2007-01-04  12.2371       10.68\n",
       "       2007-01-05  12.1500       10.60\n",
       "       2007-01-08  12.2100       10.66\n",
       "       2007-01-09  13.2243       11.54"
      ]
     },
     "execution_count": 9,
     "metadata": {},
     "output_type": "execute_result"
    }
   ],
   "source": [
    "df_prices.head()"
   ]
  },
  {
   "cell_type": "code",
   "execution_count": 10,
   "metadata": {},
   "outputs": [
    {
     "data": {
      "text/html": [
       "<div>\n",
       "<style scoped>\n",
       "    .dataframe tbody tr th:only-of-type {\n",
       "        vertical-align: middle;\n",
       "    }\n",
       "\n",
       "    .dataframe tbody tr th {\n",
       "        vertical-align: top;\n",
       "    }\n",
       "\n",
       "    .dataframe thead th {\n",
       "        text-align: right;\n",
       "    }\n",
       "</style>\n",
       "<table border=\"1\" class=\"dataframe\">\n",
       "  <thead>\n",
       "    <tr style=\"text-align: right;\">\n",
       "      <th></th>\n",
       "      <th></th>\n",
       "      <th>Close</th>\n",
       "      <th>Adj. Close</th>\n",
       "    </tr>\n",
       "    <tr>\n",
       "      <th>Ticker</th>\n",
       "      <th>Date</th>\n",
       "      <th></th>\n",
       "      <th></th>\n",
       "    </tr>\n",
       "  </thead>\n",
       "  <tbody>\n",
       "    <tr>\n",
       "      <td>AAPL</td>\n",
       "      <td>2019-11-05</td>\n",
       "      <td>257.13</td>\n",
       "      <td>257.13</td>\n",
       "    </tr>\n",
       "    <tr>\n",
       "      <td>AMZN</td>\n",
       "      <td>2019-11-05</td>\n",
       "      <td>1801.71</td>\n",
       "      <td>1801.71</td>\n",
       "    </tr>\n",
       "    <tr>\n",
       "      <td>MSFT</td>\n",
       "      <td>2019-11-05</td>\n",
       "      <td>144.46</td>\n",
       "      <td>144.46</td>\n",
       "    </tr>\n",
       "  </tbody>\n",
       "</table>\n",
       "</div>"
      ],
      "text/plain": [
       "                     Close  Adj. Close\n",
       "Ticker Date                           \n",
       "AAPL   2019-11-05   257.13      257.13\n",
       "AMZN   2019-11-05  1801.71     1801.71\n",
       "MSFT   2019-11-05   144.46      144.46"
      ]
     },
     "execution_count": 10,
     "metadata": {},
     "output_type": "execute_result"
    }
   ],
   "source": [
    "df_prices_latest.head()"
   ]
  },
  {
   "cell_type": "markdown",
   "metadata": {},
   "source": [
    "## AsFreq\n",
    "\n",
    "The simplest form of resampling in Pandas is called `asfreq` (presumably short for 'as frequency'). It can fill in the missing-values using either 'ffill' (forward fill) or 'bfill' (backward fill).\n",
    "\n",
    "For example, we can upsample the annual Income Statements to daily data for the ticker MSFT, by forward-filling the missing values from the last-known values:"
   ]
  },
  {
   "cell_type": "code",
   "execution_count": 11,
   "metadata": {},
   "outputs": [
    {
     "data": {
      "text/html": [
       "<div>\n",
       "<style scoped>\n",
       "    .dataframe tbody tr th:only-of-type {\n",
       "        vertical-align: middle;\n",
       "    }\n",
       "\n",
       "    .dataframe tbody tr th {\n",
       "        vertical-align: top;\n",
       "    }\n",
       "\n",
       "    .dataframe thead th {\n",
       "        text-align: right;\n",
       "    }\n",
       "</style>\n",
       "<table border=\"1\" class=\"dataframe\">\n",
       "  <thead>\n",
       "    <tr style=\"text-align: right;\">\n",
       "      <th></th>\n",
       "      <th>Revenue</th>\n",
       "      <th>Net Income</th>\n",
       "    </tr>\n",
       "    <tr>\n",
       "      <th>Report Date</th>\n",
       "      <th></th>\n",
       "      <th></th>\n",
       "    </tr>\n",
       "  </thead>\n",
       "  <tbody>\n",
       "    <tr>\n",
       "      <td>2008-06-30</td>\n",
       "      <td>6.042000e+10</td>\n",
       "      <td>17681000000</td>\n",
       "    </tr>\n",
       "    <tr>\n",
       "      <td>2008-07-01</td>\n",
       "      <td>6.042000e+10</td>\n",
       "      <td>17681000000</td>\n",
       "    </tr>\n",
       "    <tr>\n",
       "      <td>2008-07-02</td>\n",
       "      <td>6.042000e+10</td>\n",
       "      <td>17681000000</td>\n",
       "    </tr>\n",
       "    <tr>\n",
       "      <td>2008-07-03</td>\n",
       "      <td>6.042000e+10</td>\n",
       "      <td>17681000000</td>\n",
       "    </tr>\n",
       "    <tr>\n",
       "      <td>2008-07-04</td>\n",
       "      <td>6.042000e+10</td>\n",
       "      <td>17681000000</td>\n",
       "    </tr>\n",
       "    <tr>\n",
       "      <td>...</td>\n",
       "      <td>...</td>\n",
       "      <td>...</td>\n",
       "    </tr>\n",
       "    <tr>\n",
       "      <td>2019-06-26</td>\n",
       "      <td>1.103600e+11</td>\n",
       "      <td>16571000000</td>\n",
       "    </tr>\n",
       "    <tr>\n",
       "      <td>2019-06-27</td>\n",
       "      <td>1.103600e+11</td>\n",
       "      <td>16571000000</td>\n",
       "    </tr>\n",
       "    <tr>\n",
       "      <td>2019-06-28</td>\n",
       "      <td>1.103600e+11</td>\n",
       "      <td>16571000000</td>\n",
       "    </tr>\n",
       "    <tr>\n",
       "      <td>2019-06-29</td>\n",
       "      <td>1.103600e+11</td>\n",
       "      <td>16571000000</td>\n",
       "    </tr>\n",
       "    <tr>\n",
       "      <td>2019-06-30</td>\n",
       "      <td>1.258430e+11</td>\n",
       "      <td>39240000000</td>\n",
       "    </tr>\n",
       "  </tbody>\n",
       "</table>\n",
       "<p>4018 rows × 2 columns</p>\n",
       "</div>"
      ],
      "text/plain": [
       "                  Revenue   Net Income\n",
       "Report Date                           \n",
       "2008-06-30   6.042000e+10  17681000000\n",
       "2008-07-01   6.042000e+10  17681000000\n",
       "2008-07-02   6.042000e+10  17681000000\n",
       "2008-07-03   6.042000e+10  17681000000\n",
       "2008-07-04   6.042000e+10  17681000000\n",
       "...                   ...          ...\n",
       "2019-06-26   1.103600e+11  16571000000\n",
       "2019-06-27   1.103600e+11  16571000000\n",
       "2019-06-28   1.103600e+11  16571000000\n",
       "2019-06-29   1.103600e+11  16571000000\n",
       "2019-06-30   1.258430e+11  39240000000\n",
       "\n",
       "[4018 rows x 2 columns]"
      ]
     },
     "execution_count": 11,
     "metadata": {},
     "output_type": "execute_result"
    }
   ],
   "source": [
    "df_income.loc['MSFT'].asfreq(freq='D', method='ffill')"
   ]
  },
  {
   "cell_type": "markdown",
   "metadata": {},
   "source": [
    "If we plot the upsampled data, it will show as \"staircase\" patterns because the forward-filling simply copies the last-known values:"
   ]
  },
  {
   "cell_type": "code",
   "execution_count": 12,
   "metadata": {},
   "outputs": [
    {
     "data": {
      "text/plain": [
       "<matplotlib.axes._subplots.AxesSubplot at 0x7f79274a6d30>"
      ]
     },
     "execution_count": 12,
     "metadata": {},
     "output_type": "execute_result"
    },
    {
     "data": {
      "image/png": "[encoded data removed]",
      "text/plain": [
       "<Figure size 432x288 with 1 Axes>"
      ]
     },
     "metadata": {},
     "output_type": "display_data"
    }
   ],
   "source": [
    "df_income.loc['MSFT'].asfreq(freq='D', method='ffill').plot()"
   ]
  },
  {
   "cell_type": "markdown",
   "metadata": {},
   "source": [
    "### AsFreq on MultiIndex\n",
    "\n",
    "If we try to do `asfreq` resampling on a DataFrame with multiple tickers, then it raises an exception because `asfreq` does not support DataFrames with MultiIndex:"
   ]
  },
  {
   "cell_type": "code",
   "execution_count": 13,
   "metadata": {},
   "outputs": [
    {
     "name": "stdout",
     "output_type": "stream",
     "text": [
      "Cannot convert input [('AAPL', Timestamp('2007-09-30 00:00:00'))] of type <class 'tuple'> to Timestamp\n"
     ]
    }
   ],
   "source": [
    "try:\n",
    "    df_income.asfreq('D', method='ffill')\n",
    "except Exception as e:\n",
    "    print(e)"
   ]
  },
  {
   "cell_type": "markdown",
   "metadata": {},
   "source": [
    "We need to split the DataFrame into sub-groups for each of the tickers, and perform the `asfreq` operation on each of those sub-groups, and then glue the results back together into a single DataFrame. Remember from Tutorial 01 that the `groupby` operation does exactly this.\n",
    "\n",
    "There are many ways of using `groupby` but the simplest I have been able to come up with so far, is the following. You can make the notation a little more compact (but probably also harder to read and understand), by using a lambda-function and chained calls instead."
   ]
  },
  {
   "cell_type": "code",
   "execution_count": 14,
   "metadata": {},
   "outputs": [
    {
     "data": {
      "text/html": [
       "<div>\n",
       "<style scoped>\n",
       "    .dataframe tbody tr th:only-of-type {\n",
       "        vertical-align: middle;\n",
       "    }\n",
       "\n",
       "    .dataframe tbody tr th {\n",
       "        vertical-align: top;\n",
       "    }\n",
       "\n",
       "    .dataframe thead th {\n",
       "        text-align: right;\n",
       "    }\n",
       "</style>\n",
       "<table border=\"1\" class=\"dataframe\">\n",
       "  <thead>\n",
       "    <tr style=\"text-align: right;\">\n",
       "      <th></th>\n",
       "      <th></th>\n",
       "      <th>Revenue</th>\n",
       "      <th>Net Income</th>\n",
       "    </tr>\n",
       "    <tr>\n",
       "      <th>Ticker</th>\n",
       "      <th>Report Date</th>\n",
       "      <th></th>\n",
       "      <th></th>\n",
       "    </tr>\n",
       "  </thead>\n",
       "  <tbody>\n",
       "    <tr>\n",
       "      <td rowspan=\"5\" valign=\"top\">AAPL</td>\n",
       "      <td>2007-09-30</td>\n",
       "      <td>2.457800e+10</td>\n",
       "      <td>3495000000</td>\n",
       "    </tr>\n",
       "    <tr>\n",
       "      <td>2007-10-01</td>\n",
       "      <td>2.457800e+10</td>\n",
       "      <td>3495000000</td>\n",
       "    </tr>\n",
       "    <tr>\n",
       "      <td>2007-10-02</td>\n",
       "      <td>2.457800e+10</td>\n",
       "      <td>3495000000</td>\n",
       "    </tr>\n",
       "    <tr>\n",
       "      <td>2007-10-03</td>\n",
       "      <td>2.457800e+10</td>\n",
       "      <td>3495000000</td>\n",
       "    </tr>\n",
       "    <tr>\n",
       "      <td>2007-10-04</td>\n",
       "      <td>2.457800e+10</td>\n",
       "      <td>3495000000</td>\n",
       "    </tr>\n",
       "    <tr>\n",
       "      <td>...</td>\n",
       "      <td>...</td>\n",
       "      <td>...</td>\n",
       "      <td>...</td>\n",
       "    </tr>\n",
       "    <tr>\n",
       "      <td rowspan=\"5\" valign=\"top\">MSFT</td>\n",
       "      <td>2019-06-26</td>\n",
       "      <td>1.103600e+11</td>\n",
       "      <td>16571000000</td>\n",
       "    </tr>\n",
       "    <tr>\n",
       "      <td>2019-06-27</td>\n",
       "      <td>1.103600e+11</td>\n",
       "      <td>16571000000</td>\n",
       "    </tr>\n",
       "    <tr>\n",
       "      <td>2019-06-28</td>\n",
       "      <td>1.103600e+11</td>\n",
       "      <td>16571000000</td>\n",
       "    </tr>\n",
       "    <tr>\n",
       "      <td>2019-06-29</td>\n",
       "      <td>1.103600e+11</td>\n",
       "      <td>16571000000</td>\n",
       "    </tr>\n",
       "    <tr>\n",
       "      <td>2019-06-30</td>\n",
       "      <td>1.258430e+11</td>\n",
       "      <td>39240000000</td>\n",
       "    </tr>\n",
       "  </tbody>\n",
       "</table>\n",
       "<p>12421 rows × 2 columns</p>\n",
       "</div>"
      ],
      "text/plain": [
       "                         Revenue   Net Income\n",
       "Ticker Report Date                           \n",
       "AAPL   2007-09-30   2.457800e+10   3495000000\n",
       "       2007-10-01   2.457800e+10   3495000000\n",
       "       2007-10-02   2.457800e+10   3495000000\n",
       "       2007-10-03   2.457800e+10   3495000000\n",
       "       2007-10-04   2.457800e+10   3495000000\n",
       "...                          ...          ...\n",
       "MSFT   2019-06-26   1.103600e+11  16571000000\n",
       "       2019-06-27   1.103600e+11  16571000000\n",
       "       2019-06-28   1.103600e+11  16571000000\n",
       "       2019-06-29   1.103600e+11  16571000000\n",
       "       2019-06-30   1.258430e+11  39240000000\n",
       "\n",
       "[12421 rows x 2 columns]"
      ]
     },
     "execution_count": 14,
     "metadata": {},
     "output_type": "execute_result"
    }
   ],
   "source": [
    "def _asfreq(df_grp):\n",
    "    # Remove TICKER from the MultiIndex.\n",
    "    df_grp = df_grp.reset_index(TICKER, drop=True)\n",
    "    \n",
    "    # Perform the operation on this group.\n",
    "    df_result = df_grp.asfreq(freq='D', method='ffill')\n",
    "\n",
    "    return df_result\n",
    "\n",
    "# Split the DataFrame into sub-groups and apply the _asfreq()\n",
    "# function on each of those sub-groups, and then glue the\n",
    "# results back together into a single DataFrame.\n",
    "df_income.groupby(TICKER).apply(_asfreq)"
   ]
  },
  {
   "cell_type": "markdown",
   "metadata": {},
   "source": [
    "### AsFreq Helper-Function\n",
    "\n",
    "It is hard to remember the above syntax for doing `asfreq` on a DataFrame with a MultiIndex, so the simfin package provides a helper-function that can take both Pandas DataFrames and Series, either having a single DatatimeIndex, or a MultiIndex with two indices, one of which is a DatetimeIndex and the other is e.g. the Ticker or SimFin_Id.\n",
    "\n",
    "For example, this is how you would do `asfreq` on a DataFrame for a single stock:"
   ]
  },
  {
   "cell_type": "code",
   "execution_count": 15,
   "metadata": {},
   "outputs": [
    {
     "data": {
      "text/html": [
       "<div>\n",
       "<style scoped>\n",
       "    .dataframe tbody tr th:only-of-type {\n",
       "        vertical-align: middle;\n",
       "    }\n",
       "\n",
       "    .dataframe tbody tr th {\n",
       "        vertical-align: top;\n",
       "    }\n",
       "\n",
       "    .dataframe thead th {\n",
       "        text-align: right;\n",
       "    }\n",
       "</style>\n",
       "<table border=\"1\" class=\"dataframe\">\n",
       "  <thead>\n",
       "    <tr style=\"text-align: right;\">\n",
       "      <th></th>\n",
       "      <th>Revenue</th>\n",
       "      <th>Net Income</th>\n",
       "    </tr>\n",
       "    <tr>\n",
       "      <th>Report Date</th>\n",
       "      <th></th>\n",
       "      <th></th>\n",
       "    </tr>\n",
       "  </thead>\n",
       "  <tbody>\n",
       "    <tr>\n",
       "      <td>2008-06-30</td>\n",
       "      <td>6.042000e+10</td>\n",
       "      <td>17681000000</td>\n",
       "    </tr>\n",
       "    <tr>\n",
       "      <td>2008-07-01</td>\n",
       "      <td>6.042000e+10</td>\n",
       "      <td>17681000000</td>\n",
       "    </tr>\n",
       "    <tr>\n",
       "      <td>2008-07-02</td>\n",
       "      <td>6.042000e+10</td>\n",
       "      <td>17681000000</td>\n",
       "    </tr>\n",
       "    <tr>\n",
       "      <td>2008-07-03</td>\n",
       "      <td>6.042000e+10</td>\n",
       "      <td>17681000000</td>\n",
       "    </tr>\n",
       "    <tr>\n",
       "      <td>2008-07-04</td>\n",
       "      <td>6.042000e+10</td>\n",
       "      <td>17681000000</td>\n",
       "    </tr>\n",
       "    <tr>\n",
       "      <td>...</td>\n",
       "      <td>...</td>\n",
       "      <td>...</td>\n",
       "    </tr>\n",
       "    <tr>\n",
       "      <td>2019-06-26</td>\n",
       "      <td>1.103600e+11</td>\n",
       "      <td>16571000000</td>\n",
       "    </tr>\n",
       "    <tr>\n",
       "      <td>2019-06-27</td>\n",
       "      <td>1.103600e+11</td>\n",
       "      <td>16571000000</td>\n",
       "    </tr>\n",
       "    <tr>\n",
       "      <td>2019-06-28</td>\n",
       "      <td>1.103600e+11</td>\n",
       "      <td>16571000000</td>\n",
       "    </tr>\n",
       "    <tr>\n",
       "      <td>2019-06-29</td>\n",
       "      <td>1.103600e+11</td>\n",
       "      <td>16571000000</td>\n",
       "    </tr>\n",
       "    <tr>\n",
       "      <td>2019-06-30</td>\n",
       "      <td>1.258430e+11</td>\n",
       "      <td>39240000000</td>\n",
       "    </tr>\n",
       "  </tbody>\n",
       "</table>\n",
       "<p>4018 rows × 2 columns</p>\n",
       "</div>"
      ],
      "text/plain": [
       "                  Revenue   Net Income\n",
       "Report Date                           \n",
       "2008-06-30   6.042000e+10  17681000000\n",
       "2008-07-01   6.042000e+10  17681000000\n",
       "2008-07-02   6.042000e+10  17681000000\n",
       "2008-07-03   6.042000e+10  17681000000\n",
       "2008-07-04   6.042000e+10  17681000000\n",
       "...                   ...          ...\n",
       "2019-06-26   1.103600e+11  16571000000\n",
       "2019-06-27   1.103600e+11  16571000000\n",
       "2019-06-28   1.103600e+11  16571000000\n",
       "2019-06-29   1.103600e+11  16571000000\n",
       "2019-06-30   1.258430e+11  39240000000\n",
       "\n",
       "[4018 rows x 2 columns]"
      ]
     },
     "execution_count": 15,
     "metadata": {},
     "output_type": "execute_result"
    }
   ],
   "source": [
    "sf.asfreq(df=df_income.loc['MSFT'], freq='D', method='ffill')"
   ]
  },
  {
   "cell_type": "markdown",
   "metadata": {},
   "source": [
    "This is how you would do `asfreq` on a DataFrame with multiple stocks:"
   ]
  },
  {
   "cell_type": "code",
   "execution_count": 16,
   "metadata": {},
   "outputs": [
    {
     "data": {
      "text/html": [
       "<div>\n",
       "<style scoped>\n",
       "    .dataframe tbody tr th:only-of-type {\n",
       "        vertical-align: middle;\n",
       "    }\n",
       "\n",
       "    .dataframe tbody tr th {\n",
       "        vertical-align: top;\n",
       "    }\n",
       "\n",
       "    .dataframe thead th {\n",
       "        text-align: right;\n",
       "    }\n",
       "</style>\n",
       "<table border=\"1\" class=\"dataframe\">\n",
       "  <thead>\n",
       "    <tr style=\"text-align: right;\">\n",
       "      <th></th>\n",
       "      <th></th>\n",
       "      <th>Revenue</th>\n",
       "      <th>Net Income</th>\n",
       "    </tr>\n",
       "    <tr>\n",
       "      <th>Ticker</th>\n",
       "      <th>Report Date</th>\n",
       "      <th></th>\n",
       "      <th></th>\n",
       "    </tr>\n",
       "  </thead>\n",
       "  <tbody>\n",
       "    <tr>\n",
       "      <td rowspan=\"5\" valign=\"top\">AAPL</td>\n",
       "      <td>2007-09-30</td>\n",
       "      <td>2.457800e+10</td>\n",
       "      <td>3495000000</td>\n",
       "    </tr>\n",
       "    <tr>\n",
       "      <td>2007-10-01</td>\n",
       "      <td>2.457800e+10</td>\n",
       "      <td>3495000000</td>\n",
       "    </tr>\n",
       "    <tr>\n",
       "      <td>2007-10-02</td>\n",
       "      <td>2.457800e+10</td>\n",
       "      <td>3495000000</td>\n",
       "    </tr>\n",
       "    <tr>\n",
       "      <td>2007-10-03</td>\n",
       "      <td>2.457800e+10</td>\n",
       "      <td>3495000000</td>\n",
       "    </tr>\n",
       "    <tr>\n",
       "      <td>2007-10-04</td>\n",
       "      <td>2.457800e+10</td>\n",
       "      <td>3495000000</td>\n",
       "    </tr>\n",
       "    <tr>\n",
       "      <td>...</td>\n",
       "      <td>...</td>\n",
       "      <td>...</td>\n",
       "      <td>...</td>\n",
       "    </tr>\n",
       "    <tr>\n",
       "      <td rowspan=\"5\" valign=\"top\">MSFT</td>\n",
       "      <td>2019-06-26</td>\n",
       "      <td>1.103600e+11</td>\n",
       "      <td>16571000000</td>\n",
       "    </tr>\n",
       "    <tr>\n",
       "      <td>2019-06-27</td>\n",
       "      <td>1.103600e+11</td>\n",
       "      <td>16571000000</td>\n",
       "    </tr>\n",
       "    <tr>\n",
       "      <td>2019-06-28</td>\n",
       "      <td>1.103600e+11</td>\n",
       "      <td>16571000000</td>\n",
       "    </tr>\n",
       "    <tr>\n",
       "      <td>2019-06-29</td>\n",
       "      <td>1.103600e+11</td>\n",
       "      <td>16571000000</td>\n",
       "    </tr>\n",
       "    <tr>\n",
       "      <td>2019-06-30</td>\n",
       "      <td>1.258430e+11</td>\n",
       "      <td>39240000000</td>\n",
       "    </tr>\n",
       "  </tbody>\n",
       "</table>\n",
       "<p>12421 rows × 2 columns</p>\n",
       "</div>"
      ],
      "text/plain": [
       "                         Revenue   Net Income\n",
       "Ticker Report Date                           \n",
       "AAPL   2007-09-30   2.457800e+10   3495000000\n",
       "       2007-10-01   2.457800e+10   3495000000\n",
       "       2007-10-02   2.457800e+10   3495000000\n",
       "       2007-10-03   2.457800e+10   3495000000\n",
       "       2007-10-04   2.457800e+10   3495000000\n",
       "...                          ...          ...\n",
       "MSFT   2019-06-26   1.103600e+11  16571000000\n",
       "       2019-06-27   1.103600e+11  16571000000\n",
       "       2019-06-28   1.103600e+11  16571000000\n",
       "       2019-06-29   1.103600e+11  16571000000\n",
       "       2019-06-30   1.258430e+11  39240000000\n",
       "\n",
       "[12421 rows x 2 columns]"
      ]
     },
     "execution_count": 16,
     "metadata": {},
     "output_type": "execute_result"
    }
   ],
   "source": [
    "sf.asfreq(df=df_income, freq='D', method='ffill')"
   ]
  },
  {
   "cell_type": "markdown",
   "metadata": {},
   "source": [
    "For convenience, a function is provided for `asfreq` with daily frequency:"
   ]
  },
  {
   "cell_type": "code",
   "execution_count": 17,
   "metadata": {},
   "outputs": [
    {
     "data": {
      "text/html": [
       "<div>\n",
       "<style scoped>\n",
       "    .dataframe tbody tr th:only-of-type {\n",
       "        vertical-align: middle;\n",
       "    }\n",
       "\n",
       "    .dataframe tbody tr th {\n",
       "        vertical-align: top;\n",
       "    }\n",
       "\n",
       "    .dataframe thead th {\n",
       "        text-align: right;\n",
       "    }\n",
       "</style>\n",
       "<table border=\"1\" class=\"dataframe\">\n",
       "  <thead>\n",
       "    <tr style=\"text-align: right;\">\n",
       "      <th></th>\n",
       "      <th></th>\n",
       "      <th>Revenue</th>\n",
       "      <th>Net Income</th>\n",
       "    </tr>\n",
       "    <tr>\n",
       "      <th>Ticker</th>\n",
       "      <th>Report Date</th>\n",
       "      <th></th>\n",
       "      <th></th>\n",
       "    </tr>\n",
       "  </thead>\n",
       "  <tbody>\n",
       "    <tr>\n",
       "      <td rowspan=\"5\" valign=\"top\">AAPL</td>\n",
       "      <td>2007-09-30</td>\n",
       "      <td>2.457800e+10</td>\n",
       "      <td>3495000000</td>\n",
       "    </tr>\n",
       "    <tr>\n",
       "      <td>2007-10-01</td>\n",
       "      <td>2.457800e+10</td>\n",
       "      <td>3495000000</td>\n",
       "    </tr>\n",
       "    <tr>\n",
       "      <td>2007-10-02</td>\n",
       "      <td>2.457800e+10</td>\n",
       "      <td>3495000000</td>\n",
       "    </tr>\n",
       "    <tr>\n",
       "      <td>2007-10-03</td>\n",
       "      <td>2.457800e+10</td>\n",
       "      <td>3495000000</td>\n",
       "    </tr>\n",
       "    <tr>\n",
       "      <td>2007-10-04</td>\n",
       "      <td>2.457800e+10</td>\n",
       "      <td>3495000000</td>\n",
       "    </tr>\n",
       "    <tr>\n",
       "      <td>...</td>\n",
       "      <td>...</td>\n",
       "      <td>...</td>\n",
       "      <td>...</td>\n",
       "    </tr>\n",
       "    <tr>\n",
       "      <td rowspan=\"5\" valign=\"top\">MSFT</td>\n",
       "      <td>2019-06-26</td>\n",
       "      <td>1.103600e+11</td>\n",
       "      <td>16571000000</td>\n",
       "    </tr>\n",
       "    <tr>\n",
       "      <td>2019-06-27</td>\n",
       "      <td>1.103600e+11</td>\n",
       "      <td>16571000000</td>\n",
       "    </tr>\n",
       "    <tr>\n",
       "      <td>2019-06-28</td>\n",
       "      <td>1.103600e+11</td>\n",
       "      <td>16571000000</td>\n",
       "    </tr>\n",
       "    <tr>\n",
       "      <td>2019-06-29</td>\n",
       "      <td>1.103600e+11</td>\n",
       "      <td>16571000000</td>\n",
       "    </tr>\n",
       "    <tr>\n",
       "      <td>2019-06-30</td>\n",
       "      <td>1.258430e+11</td>\n",
       "      <td>39240000000</td>\n",
       "    </tr>\n",
       "  </tbody>\n",
       "</table>\n",
       "<p>12421 rows × 2 columns</p>\n",
       "</div>"
      ],
      "text/plain": [
       "                         Revenue   Net Income\n",
       "Ticker Report Date                           \n",
       "AAPL   2007-09-30   2.457800e+10   3495000000\n",
       "       2007-10-01   2.457800e+10   3495000000\n",
       "       2007-10-02   2.457800e+10   3495000000\n",
       "       2007-10-03   2.457800e+10   3495000000\n",
       "       2007-10-04   2.457800e+10   3495000000\n",
       "...                          ...          ...\n",
       "MSFT   2019-06-26   1.103600e+11  16571000000\n",
       "       2019-06-27   1.103600e+11  16571000000\n",
       "       2019-06-28   1.103600e+11  16571000000\n",
       "       2019-06-29   1.103600e+11  16571000000\n",
       "       2019-06-30   1.258430e+11  39240000000\n",
       "\n",
       "[12421 rows x 2 columns]"
      ]
     },
     "execution_count": 17,
     "metadata": {},
     "output_type": "execute_result"
    }
   ],
   "source": [
    "sf.asfreq_daily(df=df_income, method='ffill')"
   ]
  },
  {
   "cell_type": "markdown",
   "metadata": {},
   "source": [
    "We can easily plot the resampled data using the Seaborn plotting package. Note that the index is first reset on the DataFrame, because that is how Seaborn wants the DataFrame."
   ]
  },
  {
   "cell_type": "code",
   "execution_count": 18,
   "metadata": {},
   "outputs": [
    {
     "data": {
      "text/plain": [
       "<matplotlib.axes._subplots.AxesSubplot at 0x7f79273ce400>"
      ]
     },
     "execution_count": 18,
     "metadata": {},
     "output_type": "execute_result"
    },
    {
     "data": {
      "image/png": "[encoded data removed]",
      "text/plain": [
       "<Figure size 432x288 with 1 Axes>"
      ]
     },
     "metadata": {},
     "output_type": "display_data"
    }
   ],
   "source": [
    "# Upsample annual Income Statements for several tickers.\n",
    "df_daily = sf.asfreq_daily(df_income, method='ffill')\n",
    "\n",
    "# Plot.\n",
    "sns.lineplot(x=REPORT_DATE, y=REVENUE, hue=TICKER,\n",
    "             data=df_daily.reset_index())"
   ]
  },
  {
   "cell_type": "markdown",
   "metadata": {},
   "source": [
    "## Resample\n",
    "\n",
    "If a simple forward/backward-fill is not sufficient for you, or if you want to downsample data e.g. by taking the average of many data-points, then Pandas provides the `resample` function.\n",
    "\n",
    "For example, we can use the `resample` function to upsample a DataFrame for a single company which only has a DatetimeIndex. If we use forward-fill again, then it gives the same \"staircase\" plot as we saw for `asfreq` above:"
   ]
  },
  {
   "cell_type": "code",
   "execution_count": 19,
   "metadata": {},
   "outputs": [
    {
     "data": {
      "text/plain": [
       "<matplotlib.axes._subplots.AxesSubplot at 0x7f792792ce48>"
      ]
     },
     "execution_count": 19,
     "metadata": {},
     "output_type": "execute_result"
    },
    {
     "data": {
      "image/png": "[encoded data removed]",
      "text/plain": [
       "<Figure size 432x288 with 1 Axes>"
      ]
     },
     "metadata": {},
     "output_type": "display_data"
    }
   ],
   "source": [
    "df_income.loc['MSFT'].resample('D').ffill().plot()"
   ]
  },
  {
   "cell_type": "markdown",
   "metadata": {},
   "source": [
    "The `resample` function can also use more advanced methods for filling in the empty data-points. For example, linear interpolation fills in the empty data-points with straight lines between the known points.\n",
    "\n",
    "This is a form of cheating called \"look-ahead bias\" because we are using future data when filling in the empty data-points. This should be avoided when developing and testing trading-strategies, but it is still useful in some forms of data-analysis."
   ]
  },
  {
   "cell_type": "code",
   "execution_count": 20,
   "metadata": {},
   "outputs": [
    {
     "data": {
      "text/plain": [
       "<matplotlib.axes._subplots.AxesSubplot at 0x7f792748a358>"
      ]
     },
     "execution_count": 20,
     "metadata": {},
     "output_type": "execute_result"
    },
    {
     "data": {
      "image/png": "[encoded data removed]",
      "text/plain": [
       "<Figure size 432x288 with 1 Axes>"
      ]
     },
     "metadata": {},
     "output_type": "display_data"
    }
   ],
   "source": [
    "df_income.loc['MSFT'].resample('D').interpolate(method='linear').plot()"
   ]
  },
  {
   "cell_type": "markdown",
   "metadata": {},
   "source": [
    "The `resample` function can also be used to downsample data. For example, we can downsample by taking the average of every month's share-price data:"
   ]
  },
  {
   "cell_type": "code",
   "execution_count": 21,
   "metadata": {},
   "outputs": [
    {
     "data": {
      "text/html": [
       "<div>\n",
       "<style scoped>\n",
       "    .dataframe tbody tr th:only-of-type {\n",
       "        vertical-align: middle;\n",
       "    }\n",
       "\n",
       "    .dataframe tbody tr th {\n",
       "        vertical-align: top;\n",
       "    }\n",
       "\n",
       "    .dataframe thead th {\n",
       "        text-align: right;\n",
       "    }\n",
       "</style>\n",
       "<table border=\"1\" class=\"dataframe\">\n",
       "  <thead>\n",
       "    <tr style=\"text-align: right;\">\n",
       "      <th></th>\n",
       "      <th>Close</th>\n",
       "      <th>Adj. Close</th>\n",
       "    </tr>\n",
       "    <tr>\n",
       "      <th>Date</th>\n",
       "      <th></th>\n",
       "      <th></th>\n",
       "    </tr>\n",
       "  </thead>\n",
       "  <tbody>\n",
       "    <tr>\n",
       "      <td>2007-01-31</td>\n",
       "      <td>30.530500</td>\n",
       "      <td>22.822000</td>\n",
       "    </tr>\n",
       "    <tr>\n",
       "      <td>2007-02-28</td>\n",
       "      <td>29.190000</td>\n",
       "      <td>21.864211</td>\n",
       "    </tr>\n",
       "    <tr>\n",
       "      <td>2007-03-31</td>\n",
       "      <td>27.695455</td>\n",
       "      <td>20.774545</td>\n",
       "    </tr>\n",
       "    <tr>\n",
       "      <td>2007-04-30</td>\n",
       "      <td>28.725000</td>\n",
       "      <td>21.548000</td>\n",
       "    </tr>\n",
       "    <tr>\n",
       "      <td>2007-05-31</td>\n",
       "      <td>30.752727</td>\n",
       "      <td>23.108636</td>\n",
       "    </tr>\n",
       "  </tbody>\n",
       "</table>\n",
       "</div>"
      ],
      "text/plain": [
       "                Close  Adj. Close\n",
       "Date                             \n",
       "2007-01-31  30.530500   22.822000\n",
       "2007-02-28  29.190000   21.864211\n",
       "2007-03-31  27.695455   20.774545\n",
       "2007-04-30  28.725000   21.548000\n",
       "2007-05-31  30.752727   23.108636"
      ]
     },
     "execution_count": 21,
     "metadata": {},
     "output_type": "execute_result"
    }
   ],
   "source": [
    "df_prices.loc['MSFT'].resample('M').mean().head()"
   ]
  },
  {
   "cell_type": "markdown",
   "metadata": {},
   "source": [
    "We can also plot the downsampled monthly share-price data:"
   ]
  },
  {
   "cell_type": "code",
   "execution_count": 22,
   "metadata": {},
   "outputs": [
    {
     "data": {
      "text/plain": [
       "<matplotlib.axes._subplots.AxesSubplot at 0x7f7927804240>"
      ]
     },
     "execution_count": 22,
     "metadata": {},
     "output_type": "execute_result"
    },
    {
     "data": {
      "image/png": "[encoded data removed]",
      "text/plain": [
       "<Figure size 432x288 with 1 Axes>"
      ]
     },
     "metadata": {},
     "output_type": "display_data"
    }
   ],
   "source": [
    "df_prices.loc['MSFT'].resample('M').mean().plot()"
   ]
  },
  {
   "cell_type": "markdown",
   "metadata": {},
   "source": [
    "### Resample on MultiIndex\n",
    "\n",
    "If we try to resample a DataFrame with multiple tickers, then it raises an exception because Pandas' `resample` function does not support DataFrames with MultiIndex:"
   ]
  },
  {
   "cell_type": "code",
   "execution_count": 23,
   "metadata": {},
   "outputs": [
    {
     "name": "stdout",
     "output_type": "stream",
     "text": [
      "Only valid with DatetimeIndex, TimedeltaIndex or PeriodIndex, but got an instance of 'MultiIndex'\n"
     ]
    }
   ],
   "source": [
    "try:\n",
    "    df_income.resample('D').ffill()\n",
    "except Exception as e:\n",
    "    print(e)"
   ]
  },
  {
   "cell_type": "markdown",
   "metadata": {},
   "source": [
    "Pandas' `resample` function provides an argument `level=` which can be used to select a specific column in a MultiIndex, but its semantics are unclear from the documentation, and it does not work when upsampling anyway."
   ]
  },
  {
   "cell_type": "code",
   "execution_count": 24,
   "metadata": {},
   "outputs": [
    {
     "name": "stdout",
     "output_type": "stream",
     "text": [
      "Upsampling from level= or on= selection is not supported, use .set_index(...) to explicitly set index to datetime-like\n"
     ]
    }
   ],
   "source": [
    "try:\n",
    "    df_income.resample('D', level=REPORT_DATE).ffill()\n",
    "except Exception as e:\n",
    "    print(e)"
   ]
  },
  {
   "cell_type": "markdown",
   "metadata": {},
   "source": [
    "As we did for the `asfreq` function above, we need to split the DataFrame into sub-groups for each of the Tickers, and perform the `resample` operation on each of those sub-groups, and then glue the results back together into a single DataFrame.\n",
    "\n",
    "The following could be made more compact (but maybe also harder to understand) by instead using a lambda-function with chained calls:"
   ]
  },
  {
   "cell_type": "code",
   "execution_count": 25,
   "metadata": {},
   "outputs": [
    {
     "data": {
      "text/html": [
       "<div>\n",
       "<style scoped>\n",
       "    .dataframe tbody tr th:only-of-type {\n",
       "        vertical-align: middle;\n",
       "    }\n",
       "\n",
       "    .dataframe tbody tr th {\n",
       "        vertical-align: top;\n",
       "    }\n",
       "\n",
       "    .dataframe thead th {\n",
       "        text-align: right;\n",
       "    }\n",
       "</style>\n",
       "<table border=\"1\" class=\"dataframe\">\n",
       "  <thead>\n",
       "    <tr style=\"text-align: right;\">\n",
       "      <th></th>\n",
       "      <th></th>\n",
       "      <th>Revenue</th>\n",
       "      <th>Net Income</th>\n",
       "    </tr>\n",
       "    <tr>\n",
       "      <th>Ticker</th>\n",
       "      <th>Report Date</th>\n",
       "      <th></th>\n",
       "      <th></th>\n",
       "    </tr>\n",
       "  </thead>\n",
       "  <tbody>\n",
       "    <tr>\n",
       "      <td rowspan=\"5\" valign=\"top\">AAPL</td>\n",
       "      <td>2007-09-30</td>\n",
       "      <td>2.457800e+10</td>\n",
       "      <td>3495000000</td>\n",
       "    </tr>\n",
       "    <tr>\n",
       "      <td>2007-10-01</td>\n",
       "      <td>2.457800e+10</td>\n",
       "      <td>3495000000</td>\n",
       "    </tr>\n",
       "    <tr>\n",
       "      <td>2007-10-02</td>\n",
       "      <td>2.457800e+10</td>\n",
       "      <td>3495000000</td>\n",
       "    </tr>\n",
       "    <tr>\n",
       "      <td>2007-10-03</td>\n",
       "      <td>2.457800e+10</td>\n",
       "      <td>3495000000</td>\n",
       "    </tr>\n",
       "    <tr>\n",
       "      <td>2007-10-04</td>\n",
       "      <td>2.457800e+10</td>\n",
       "      <td>3495000000</td>\n",
       "    </tr>\n",
       "    <tr>\n",
       "      <td>...</td>\n",
       "      <td>...</td>\n",
       "      <td>...</td>\n",
       "      <td>...</td>\n",
       "    </tr>\n",
       "    <tr>\n",
       "      <td rowspan=\"5\" valign=\"top\">MSFT</td>\n",
       "      <td>2019-06-26</td>\n",
       "      <td>1.103600e+11</td>\n",
       "      <td>16571000000</td>\n",
       "    </tr>\n",
       "    <tr>\n",
       "      <td>2019-06-27</td>\n",
       "      <td>1.103600e+11</td>\n",
       "      <td>16571000000</td>\n",
       "    </tr>\n",
       "    <tr>\n",
       "      <td>2019-06-28</td>\n",
       "      <td>1.103600e+11</td>\n",
       "      <td>16571000000</td>\n",
       "    </tr>\n",
       "    <tr>\n",
       "      <td>2019-06-29</td>\n",
       "      <td>1.103600e+11</td>\n",
       "      <td>16571000000</td>\n",
       "    </tr>\n",
       "    <tr>\n",
       "      <td>2019-06-30</td>\n",
       "      <td>1.258430e+11</td>\n",
       "      <td>39240000000</td>\n",
       "    </tr>\n",
       "  </tbody>\n",
       "</table>\n",
       "<p>12421 rows × 2 columns</p>\n",
       "</div>"
      ],
      "text/plain": [
       "                         Revenue   Net Income\n",
       "Ticker Report Date                           \n",
       "AAPL   2007-09-30   2.457800e+10   3495000000\n",
       "       2007-10-01   2.457800e+10   3495000000\n",
       "       2007-10-02   2.457800e+10   3495000000\n",
       "       2007-10-03   2.457800e+10   3495000000\n",
       "       2007-10-04   2.457800e+10   3495000000\n",
       "...                          ...          ...\n",
       "MSFT   2019-06-26   1.103600e+11  16571000000\n",
       "       2019-06-27   1.103600e+11  16571000000\n",
       "       2019-06-28   1.103600e+11  16571000000\n",
       "       2019-06-29   1.103600e+11  16571000000\n",
       "       2019-06-30   1.258430e+11  39240000000\n",
       "\n",
       "[12421 rows x 2 columns]"
      ]
     },
     "execution_count": 25,
     "metadata": {},
     "output_type": "execute_result"
    }
   ],
   "source": [
    "def _resample(df_grp):\n",
    "    # Remove TICKER from the MultiIndex.\n",
    "    df_grp = df_grp.reset_index(TICKER, drop=True)\n",
    "    \n",
    "    # Resample and forward-fill NA values.\n",
    "    df_result = df_grp.resample('D').ffill()\n",
    "\n",
    "    return df_result\n",
    "\n",
    "# Split the DataFrame into sub-groups and apply the _resample()\n",
    "# function on each of those sub-groups, and then glue the\n",
    "# results back together into a single DataFrame.\n",
    "df_income.groupby(TICKER).apply(_resample)"
   ]
  },
  {
   "cell_type": "markdown",
   "metadata": {},
   "source": [
    "### Resample Helper-Function\n",
    "\n",
    "Because Pandas' syntax is complicated for resampling a DataFrame with a MultiIndex, the simfin package also provides a helper-function for `resample`, that can take both Pandas DataFrames and Series, either having a single DatatimeIndex, or a MultiIndex with two indices, one of which is a DatetimeIndex and the other is e.g. the Ticker or SimFin_Id.\n",
    "\n",
    "Note that the helper-function uses the keyword argument `rule` instead of `freq` that was used in the `asfreq()` functions above. This inconsistency is simply inherited from Pandas, which uses the keyword `rule` in the `resample` function and the keyword `freq` in the `asfreq` function.\n",
    "\n",
    "For example, this is how you would upsample a DataFrame with annual data for a single stock into daily data-points using the forward-fill method:"
   ]
  },
  {
   "cell_type": "code",
   "execution_count": 26,
   "metadata": {},
   "outputs": [
    {
     "data": {
      "text/html": [
       "<div>\n",
       "<style scoped>\n",
       "    .dataframe tbody tr th:only-of-type {\n",
       "        vertical-align: middle;\n",
       "    }\n",
       "\n",
       "    .dataframe tbody tr th {\n",
       "        vertical-align: top;\n",
       "    }\n",
       "\n",
       "    .dataframe thead th {\n",
       "        text-align: right;\n",
       "    }\n",
       "</style>\n",
       "<table border=\"1\" class=\"dataframe\">\n",
       "  <thead>\n",
       "    <tr style=\"text-align: right;\">\n",
       "      <th></th>\n",
       "      <th>Revenue</th>\n",
       "      <th>Net Income</th>\n",
       "    </tr>\n",
       "    <tr>\n",
       "      <th>Report Date</th>\n",
       "      <th></th>\n",
       "      <th></th>\n",
       "    </tr>\n",
       "  </thead>\n",
       "  <tbody>\n",
       "    <tr>\n",
       "      <td>2008-06-30</td>\n",
       "      <td>6.042000e+10</td>\n",
       "      <td>17681000000</td>\n",
       "    </tr>\n",
       "    <tr>\n",
       "      <td>2008-07-01</td>\n",
       "      <td>6.042000e+10</td>\n",
       "      <td>17681000000</td>\n",
       "    </tr>\n",
       "    <tr>\n",
       "      <td>2008-07-02</td>\n",
       "      <td>6.042000e+10</td>\n",
       "      <td>17681000000</td>\n",
       "    </tr>\n",
       "    <tr>\n",
       "      <td>2008-07-03</td>\n",
       "      <td>6.042000e+10</td>\n",
       "      <td>17681000000</td>\n",
       "    </tr>\n",
       "    <tr>\n",
       "      <td>2008-07-04</td>\n",
       "      <td>6.042000e+10</td>\n",
       "      <td>17681000000</td>\n",
       "    </tr>\n",
       "  </tbody>\n",
       "</table>\n",
       "</div>"
      ],
      "text/plain": [
       "                  Revenue   Net Income\n",
       "Report Date                           \n",
       "2008-06-30   6.042000e+10  17681000000\n",
       "2008-07-01   6.042000e+10  17681000000\n",
       "2008-07-02   6.042000e+10  17681000000\n",
       "2008-07-03   6.042000e+10  17681000000\n",
       "2008-07-04   6.042000e+10  17681000000"
      ]
     },
     "execution_count": 26,
     "metadata": {},
     "output_type": "execute_result"
    }
   ],
   "source": [
    "sf.resample(df=df_income.loc['MSFT'], rule='D', method='ffill').head()"
   ]
  },
  {
   "cell_type": "markdown",
   "metadata": {},
   "source": [
    "We can also plot the upsampled data. Because we are using the forward-fill method, the last-known values are merely copied forward to the unknown data-points, which shows up as a \"staircase\" pattern in the plot:"
   ]
  },
  {
   "cell_type": "code",
   "execution_count": 27,
   "metadata": {},
   "outputs": [
    {
     "data": {
      "text/plain": [
       "<matplotlib.axes._subplots.AxesSubplot at 0x7f7927858940>"
      ]
     },
     "execution_count": 27,
     "metadata": {},
     "output_type": "execute_result"
    },
    {
     "data": {
      "image/png": "[encoded data removed]",
      "text/plain": [
       "<Figure size 432x288 with 1 Axes>"
      ]
     },
     "metadata": {},
     "output_type": "display_data"
    }
   ],
   "source": [
    "sf.resample(df=df_income.loc['MSFT'], rule='D', method='ffill').plot()"
   ]
  },
  {
   "cell_type": "markdown",
   "metadata": {},
   "source": [
    "We can also interpolate between known values when doing the upsampling by setting the argument `method='linear'` instead of `'ffill'`. As noted above, this is a form of cheating, because we are using data before it was actually known. This should not be done in trading strategies, although it is still useful in some data-analysis."
   ]
  },
  {
   "cell_type": "code",
   "execution_count": 28,
   "metadata": {},
   "outputs": [
    {
     "data": {
      "text/plain": [
       "<matplotlib.axes._subplots.AxesSubplot at 0x7f7927140da0>"
      ]
     },
     "execution_count": 28,
     "metadata": {},
     "output_type": "execute_result"
    },
    {
     "data": {
      "image/png": "[encoded data removed]",
      "text/plain": [
       "<Figure size 432x288 with 1 Axes>"
      ]
     },
     "metadata": {},
     "output_type": "display_data"
    }
   ],
   "source": [
    "sf.resample(df=df_income.loc['MSFT'], rule='D', method='linear').plot()"
   ]
  },
  {
   "cell_type": "markdown",
   "metadata": {},
   "source": [
    "Because resampling to daily data is a very common operation, a convenience function is provided for doing that, so we don't have to write the argument `rule='D'`:"
   ]
  },
  {
   "cell_type": "code",
   "execution_count": 29,
   "metadata": {},
   "outputs": [
    {
     "data": {
      "text/plain": [
       "<matplotlib.axes._subplots.AxesSubplot at 0x7f792a51f518>"
      ]
     },
     "execution_count": 29,
     "metadata": {},
     "output_type": "execute_result"
    },
    {
     "data": {
      "image/png": "[encoded data removed]",
      "text/plain": [
       "<Figure size 432x288 with 1 Axes>"
      ]
     },
     "metadata": {},
     "output_type": "display_data"
    }
   ],
   "source": [
    "sf.resample_daily(df=df_income.loc['MSFT'], method='linear').plot()"
   ]
  },
  {
   "cell_type": "markdown",
   "metadata": {},
   "source": [
    "We can also use the helper-function for resampling a DataFrame with multiple tickers:"
   ]
  },
  {
   "cell_type": "code",
   "execution_count": 30,
   "metadata": {},
   "outputs": [
    {
     "data": {
      "text/plain": [
       "<matplotlib.axes._subplots.AxesSubplot at 0x7f792a75f390>"
      ]
     },
     "execution_count": 30,
     "metadata": {},
     "output_type": "execute_result"
    },
    {
     "data": {
      "image/png": "[encoded data removed]",
      "text/plain": [
       "<Figure size 432x288 with 1 Axes>"
      ]
     },
     "metadata": {},
     "output_type": "display_data"
    }
   ],
   "source": [
    "# Resample annual Income Statements for multiple tickers.\n",
    "df_daily = sf.resample(df=df_income, rule='D', method='linear')\n",
    "\n",
    "# Plot.\n",
    "sns.lineplot(x=REPORT_DATE, y=REVENUE, hue=TICKER,\n",
    "             data=df_daily.reset_index())"
   ]
  },
  {
   "cell_type": "markdown",
   "metadata": {},
   "source": [
    "We can also provide a custom method for the resampling function. For example, this method fills in the unknown values with quadratic interpolation between the known values:"
   ]
  },
  {
   "cell_type": "code",
   "execution_count": 31,
   "metadata": {},
   "outputs": [
    {
     "data": {
      "text/plain": [
       "<matplotlib.axes._subplots.AxesSubplot at 0x7f792a7a6e48>"
      ]
     },
     "execution_count": 31,
     "metadata": {},
     "output_type": "execute_result"
    },
    {
     "data": {
      "image/png": "[encoded data removed]",
      "text/plain": [
       "<Figure size 432x288 with 1 Axes>"
      ]
     },
     "metadata": {},
     "output_type": "display_data"
    }
   ],
   "source": [
    "# Custom method for the resampling.\n",
    "method = lambda x: x.interpolate(method='quadratic')\n",
    "\n",
    "# Do the resampling using the custom method.\n",
    "df_daily = sf.resample(df=df_income, rule='D', method=method)\n",
    "\n",
    "# Plot.\n",
    "sns.lineplot(x=REPORT_DATE, y=REVENUE, hue=TICKER,\n",
    "             data=df_daily.reset_index())"
   ]
  },
  {
   "cell_type": "markdown",
   "metadata": {},
   "source": [
    "We can also use the helper-function to downsample data. For example, we can downsample the share-prices from daily to 3-month data using averaging. We resample all columns in the DataFrame but only plot the ADJ_CLOSE which is the close-price adjusted for both stock-splits and dividends (aka. Total Return). We also normalize the time-series so they all start at 1.0."
   ]
  },
  {
   "cell_type": "code",
   "execution_count": 32,
   "metadata": {},
   "outputs": [
    {
     "data": {
      "text/plain": [
       "<matplotlib.axes._subplots.AxesSubplot at 0x7f792a513f98>"
      ]
     },
     "execution_count": 32,
     "metadata": {},
     "output_type": "execute_result"
    },
    {
     "data": {
      "image/png": "[encoded data removed]",
      "text/plain": [
       "<Figure size 432x288 with 1 Axes>"
      ]
     },
     "metadata": {},
     "output_type": "display_data"
    }
   ],
   "source": [
    "# Downsample to 3-month data-points using averaging.\n",
    "df_monthly = sf.resample(df=df_prices, rule='3M', method='mean')\n",
    "\n",
    "# Drop rows with any empty data.\n",
    "df_monthly = df_monthly.dropna(how='any')\n",
    "\n",
    "# Normalize so the time-series for each stock begins at 1.0\n",
    "_normalize = lambda df_grp: df_grp.div(df_grp.iloc[0])\n",
    "df_norm = df_monthly.groupby(TICKER).apply(_normalize)\n",
    "\n",
    "# Plot.\n",
    "sns.lineplot(x=DATE, y=ADJ_CLOSE, hue=TICKER,\n",
    "             data=df_norm.reset_index())"
   ]
  },
  {
   "cell_type": "markdown",
   "metadata": {},
   "source": [
    "## Reindex\n",
    "\n",
    "Both of the above methods `resample` and `asfreq` only change the data *between* the start- and end-dates of the original data. For example, the annual Income Statements for ticker MSFT range between 2008-06-30 and 2019-06-30, so if we upsample to daily data, we still only get data-points between these two dates. At the time of this writing, we are already in 2019-11-xx (November), so there's more than 4 months of data-points we do not get when upsampling the Income Statements using `resample` and `asfreq`.\n",
    "\n",
    "We can instead use the `reindex` function to resample a DataFrame onto another index. This allows us to get new data-points beyond the original date-range of the data. For example, we can use this to calculate valuation ratios such as P/E or P/Sales for all dates where we have share-prices, using the last-known values from the Income Statements.\n",
    "\n",
    "However, there are several difficulties when using `reindex` for resampling, which we will demonstrate below.\n",
    "\n",
    "First let us show the annual Income Statements for ticker MSFT that we want to upsample to daily data-points until the most recent share-price date 2019-11-05. Note that we have all annual reports between 2008-06-30 and 2019-06-30, none of them are missing."
   ]
  },
  {
   "cell_type": "code",
   "execution_count": 33,
   "metadata": {},
   "outputs": [
    {
     "data": {
      "text/html": [
       "<div>\n",
       "<style scoped>\n",
       "    .dataframe tbody tr th:only-of-type {\n",
       "        vertical-align: middle;\n",
       "    }\n",
       "\n",
       "    .dataframe tbody tr th {\n",
       "        vertical-align: top;\n",
       "    }\n",
       "\n",
       "    .dataframe thead th {\n",
       "        text-align: right;\n",
       "    }\n",
       "</style>\n",
       "<table border=\"1\" class=\"dataframe\">\n",
       "  <thead>\n",
       "    <tr style=\"text-align: right;\">\n",
       "      <th></th>\n",
       "      <th>Revenue</th>\n",
       "      <th>Net Income</th>\n",
       "    </tr>\n",
       "    <tr>\n",
       "      <th>Report Date</th>\n",
       "      <th></th>\n",
       "      <th></th>\n",
       "    </tr>\n",
       "  </thead>\n",
       "  <tbody>\n",
       "    <tr>\n",
       "      <td>2008-06-30</td>\n",
       "      <td>6.042000e+10</td>\n",
       "      <td>17681000000</td>\n",
       "    </tr>\n",
       "    <tr>\n",
       "      <td>2009-06-30</td>\n",
       "      <td>5.843700e+10</td>\n",
       "      <td>14569000000</td>\n",
       "    </tr>\n",
       "    <tr>\n",
       "      <td>2010-06-30</td>\n",
       "      <td>6.248400e+10</td>\n",
       "      <td>18760000000</td>\n",
       "    </tr>\n",
       "    <tr>\n",
       "      <td>2011-06-30</td>\n",
       "      <td>6.994300e+10</td>\n",
       "      <td>23150000000</td>\n",
       "    </tr>\n",
       "    <tr>\n",
       "      <td>2012-06-30</td>\n",
       "      <td>7.372300e+10</td>\n",
       "      <td>16978000000</td>\n",
       "    </tr>\n",
       "    <tr>\n",
       "      <td>2013-06-30</td>\n",
       "      <td>7.784900e+10</td>\n",
       "      <td>21863000000</td>\n",
       "    </tr>\n",
       "    <tr>\n",
       "      <td>2014-06-30</td>\n",
       "      <td>8.683300e+10</td>\n",
       "      <td>22074000000</td>\n",
       "    </tr>\n",
       "    <tr>\n",
       "      <td>2015-06-30</td>\n",
       "      <td>9.358000e+10</td>\n",
       "      <td>12193000000</td>\n",
       "    </tr>\n",
       "    <tr>\n",
       "      <td>2016-06-30</td>\n",
       "      <td>9.115400e+10</td>\n",
       "      <td>20539000000</td>\n",
       "    </tr>\n",
       "    <tr>\n",
       "      <td>2017-06-30</td>\n",
       "      <td>9.657100e+10</td>\n",
       "      <td>25489000000</td>\n",
       "    </tr>\n",
       "    <tr>\n",
       "      <td>2018-06-30</td>\n",
       "      <td>1.103600e+11</td>\n",
       "      <td>16571000000</td>\n",
       "    </tr>\n",
       "    <tr>\n",
       "      <td>2019-06-30</td>\n",
       "      <td>1.258430e+11</td>\n",
       "      <td>39240000000</td>\n",
       "    </tr>\n",
       "  </tbody>\n",
       "</table>\n",
       "</div>"
      ],
      "text/plain": [
       "                  Revenue   Net Income\n",
       "Report Date                           \n",
       "2008-06-30   6.042000e+10  17681000000\n",
       "2009-06-30   5.843700e+10  14569000000\n",
       "2010-06-30   6.248400e+10  18760000000\n",
       "2011-06-30   6.994300e+10  23150000000\n",
       "2012-06-30   7.372300e+10  16978000000\n",
       "2013-06-30   7.784900e+10  21863000000\n",
       "2014-06-30   8.683300e+10  22074000000\n",
       "2015-06-30   9.358000e+10  12193000000\n",
       "2016-06-30   9.115400e+10  20539000000\n",
       "2017-06-30   9.657100e+10  25489000000\n",
       "2018-06-30   1.103600e+11  16571000000\n",
       "2019-06-30   1.258430e+11  39240000000"
      ]
     },
     "execution_count": 33,
     "metadata": {},
     "output_type": "execute_result"
    }
   ],
   "source": [
    "df_income.loc['MSFT']"
   ]
  },
  {
   "cell_type": "markdown",
   "metadata": {},
   "source": [
    "This is the index from the daily share-prices for ticker MSFT, which contains data-points for all trading-days (excluding weekends and holidays) between 2007-01-03 and 2019-11-05."
   ]
  },
  {
   "cell_type": "code",
   "execution_count": 34,
   "metadata": {},
   "outputs": [
    {
     "data": {
      "text/plain": [
       "DatetimeIndex(['2007-01-03', '2007-01-04', '2007-01-05', '2007-01-08',\n",
       "               '2007-01-09', '2007-01-10', '2007-01-11', '2007-01-12',\n",
       "               '2007-01-16', '2007-01-17',\n",
       "               ...\n",
       "               '2019-10-23', '2019-10-24', '2019-10-25', '2019-10-28',\n",
       "               '2019-10-29', '2019-10-30', '2019-10-31', '2019-11-01',\n",
       "               '2019-11-04', '2019-11-05'],\n",
       "              dtype='datetime64[ns]', name='Date', length=3234, freq=None)"
      ]
     },
     "execution_count": 34,
     "metadata": {},
     "output_type": "execute_result"
    }
   ],
   "source": [
    "new_index = df_prices.loc['MSFT'].index\n",
    "new_index"
   ]
  },
  {
   "cell_type": "markdown",
   "metadata": {},
   "source": [
    "We can then reindex the data for the annual Income Statements using the index of the daily share-prices. Because we haven't specified any filling-logic, the missing values are set to NaN for unknown."
   ]
  },
  {
   "cell_type": "code",
   "execution_count": 35,
   "metadata": {
    "scrolled": true
   },
   "outputs": [
    {
     "data": {
      "text/html": [
       "<div>\n",
       "<style scoped>\n",
       "    .dataframe tbody tr th:only-of-type {\n",
       "        vertical-align: middle;\n",
       "    }\n",
       "\n",
       "    .dataframe tbody tr th {\n",
       "        vertical-align: top;\n",
       "    }\n",
       "\n",
       "    .dataframe thead th {\n",
       "        text-align: right;\n",
       "    }\n",
       "</style>\n",
       "<table border=\"1\" class=\"dataframe\">\n",
       "  <thead>\n",
       "    <tr style=\"text-align: right;\">\n",
       "      <th></th>\n",
       "      <th>Revenue</th>\n",
       "      <th>Net Income</th>\n",
       "    </tr>\n",
       "    <tr>\n",
       "      <th>Date</th>\n",
       "      <th></th>\n",
       "      <th></th>\n",
       "    </tr>\n",
       "  </thead>\n",
       "  <tbody>\n",
       "    <tr>\n",
       "      <td>2007-01-03</td>\n",
       "      <td>NaN</td>\n",
       "      <td>NaN</td>\n",
       "    </tr>\n",
       "    <tr>\n",
       "      <td>2007-01-04</td>\n",
       "      <td>NaN</td>\n",
       "      <td>NaN</td>\n",
       "    </tr>\n",
       "    <tr>\n",
       "      <td>2007-01-05</td>\n",
       "      <td>NaN</td>\n",
       "      <td>NaN</td>\n",
       "    </tr>\n",
       "    <tr>\n",
       "      <td>2007-01-08</td>\n",
       "      <td>NaN</td>\n",
       "      <td>NaN</td>\n",
       "    </tr>\n",
       "    <tr>\n",
       "      <td>2007-01-09</td>\n",
       "      <td>NaN</td>\n",
       "      <td>NaN</td>\n",
       "    </tr>\n",
       "  </tbody>\n",
       "</table>\n",
       "</div>"
      ],
      "text/plain": [
       "            Revenue  Net Income\n",
       "Date                           \n",
       "2007-01-03      NaN         NaN\n",
       "2007-01-04      NaN         NaN\n",
       "2007-01-05      NaN         NaN\n",
       "2007-01-08      NaN         NaN\n",
       "2007-01-09      NaN         NaN"
      ]
     },
     "execution_count": 35,
     "metadata": {},
     "output_type": "execute_result"
    }
   ],
   "source": [
    "df_income2 = df_income.loc['MSFT'].reindex(index=new_index)\n",
    "df_income2.head()"
   ]
  },
  {
   "cell_type": "markdown",
   "metadata": {},
   "source": [
    "Let us try and drop all rows with NaN from the reindexed DataFrame. This shows us the dates that actually contain valid data. We might expect this to equal the original data from `df_income.loc['MSFT']` above, but if you look closely you can see that several rows are missing for the dates: 2012-06-30, 2013-06-30, 2018-06-30, and 2019-06-30."
   ]
  },
  {
   "cell_type": "code",
   "execution_count": 36,
   "metadata": {},
   "outputs": [
    {
     "data": {
      "text/html": [
       "<div>\n",
       "<style scoped>\n",
       "    .dataframe tbody tr th:only-of-type {\n",
       "        vertical-align: middle;\n",
       "    }\n",
       "\n",
       "    .dataframe tbody tr th {\n",
       "        vertical-align: top;\n",
       "    }\n",
       "\n",
       "    .dataframe thead th {\n",
       "        text-align: right;\n",
       "    }\n",
       "</style>\n",
       "<table border=\"1\" class=\"dataframe\">\n",
       "  <thead>\n",
       "    <tr style=\"text-align: right;\">\n",
       "      <th></th>\n",
       "      <th>Revenue</th>\n",
       "      <th>Net Income</th>\n",
       "    </tr>\n",
       "    <tr>\n",
       "      <th>Date</th>\n",
       "      <th></th>\n",
       "      <th></th>\n",
       "    </tr>\n",
       "  </thead>\n",
       "  <tbody>\n",
       "    <tr>\n",
       "      <td>2008-06-30</td>\n",
       "      <td>6.042000e+10</td>\n",
       "      <td>1.768100e+10</td>\n",
       "    </tr>\n",
       "    <tr>\n",
       "      <td>2009-06-30</td>\n",
       "      <td>5.843700e+10</td>\n",
       "      <td>1.456900e+10</td>\n",
       "    </tr>\n",
       "    <tr>\n",
       "      <td>2010-06-30</td>\n",
       "      <td>6.248400e+10</td>\n",
       "      <td>1.876000e+10</td>\n",
       "    </tr>\n",
       "    <tr>\n",
       "      <td>2011-06-30</td>\n",
       "      <td>6.994300e+10</td>\n",
       "      <td>2.315000e+10</td>\n",
       "    </tr>\n",
       "    <tr>\n",
       "      <td>2014-06-30</td>\n",
       "      <td>8.683300e+10</td>\n",
       "      <td>2.207400e+10</td>\n",
       "    </tr>\n",
       "    <tr>\n",
       "      <td>2015-06-30</td>\n",
       "      <td>9.358000e+10</td>\n",
       "      <td>1.219300e+10</td>\n",
       "    </tr>\n",
       "    <tr>\n",
       "      <td>2016-06-30</td>\n",
       "      <td>9.115400e+10</td>\n",
       "      <td>2.053900e+10</td>\n",
       "    </tr>\n",
       "    <tr>\n",
       "      <td>2017-06-30</td>\n",
       "      <td>9.657100e+10</td>\n",
       "      <td>2.548900e+10</td>\n",
       "    </tr>\n",
       "  </tbody>\n",
       "</table>\n",
       "</div>"
      ],
      "text/plain": [
       "                 Revenue    Net Income\n",
       "Date                                  \n",
       "2008-06-30  6.042000e+10  1.768100e+10\n",
       "2009-06-30  5.843700e+10  1.456900e+10\n",
       "2010-06-30  6.248400e+10  1.876000e+10\n",
       "2011-06-30  6.994300e+10  2.315000e+10\n",
       "2014-06-30  8.683300e+10  2.207400e+10\n",
       "2015-06-30  9.358000e+10  1.219300e+10\n",
       "2016-06-30  9.115400e+10  2.053900e+10\n",
       "2017-06-30  9.657100e+10  2.548900e+10"
      ]
     },
     "execution_count": 36,
     "metadata": {},
     "output_type": "execute_result"
    }
   ],
   "source": [
    "df_income2.dropna()"
   ]
  },
  {
   "cell_type": "markdown",
   "metadata": {},
   "source": [
    "The missing dates are all in the weekends:"
   ]
  },
  {
   "cell_type": "code",
   "execution_count": 37,
   "metadata": {},
   "outputs": [
    {
     "data": {
      "text/plain": [
       "Index(['Saturday', 'Sunday', 'Saturday', 'Sunday'], dtype='object')"
      ]
     },
     "execution_count": 37,
     "metadata": {},
     "output_type": "execute_result"
    }
   ],
   "source": [
    "# List of missing dates.\n",
    "dates_missing = ['2012-06-30', '2013-06-30', '2018-06-30']\n",
    "\n",
    "# Convert list of dates to Pandas index.\n",
    "index_missing = pd.DatetimeIndex(dates_missing)\n",
    "\n",
    "# Show the names of the days.\n",
    "index_missing.day_name()"
   ]
  },
  {
   "cell_type": "markdown",
   "metadata": {},
   "source": [
    "The financial reports can easily have dates that fall in weekends, because their dates are usually just chosen as the last day in a given month, such as these:"
   ]
  },
  {
   "cell_type": "code",
   "execution_count": 38,
   "metadata": {},
   "outputs": [
    {
     "data": {
      "text/html": [
       "<div>\n",
       "<style scoped>\n",
       "    .dataframe tbody tr th:only-of-type {\n",
       "        vertical-align: middle;\n",
       "    }\n",
       "\n",
       "    .dataframe tbody tr th {\n",
       "        vertical-align: top;\n",
       "    }\n",
       "\n",
       "    .dataframe thead th {\n",
       "        text-align: right;\n",
       "    }\n",
       "</style>\n",
       "<table border=\"1\" class=\"dataframe\">\n",
       "  <thead>\n",
       "    <tr style=\"text-align: right;\">\n",
       "      <th></th>\n",
       "      <th>Revenue</th>\n",
       "      <th>Net Income</th>\n",
       "    </tr>\n",
       "  </thead>\n",
       "  <tbody>\n",
       "    <tr>\n",
       "      <td>2012-06-30</td>\n",
       "      <td>7.372300e+10</td>\n",
       "      <td>16978000000</td>\n",
       "    </tr>\n",
       "    <tr>\n",
       "      <td>2013-06-30</td>\n",
       "      <td>7.784900e+10</td>\n",
       "      <td>21863000000</td>\n",
       "    </tr>\n",
       "    <tr>\n",
       "      <td>2018-06-30</td>\n",
       "      <td>1.103600e+11</td>\n",
       "      <td>16571000000</td>\n",
       "    </tr>\n",
       "    <tr>\n",
       "      <td>2019-06-30</td>\n",
       "      <td>1.258430e+11</td>\n",
       "      <td>39240000000</td>\n",
       "    </tr>\n",
       "  </tbody>\n",
       "</table>\n",
       "</div>"
      ],
      "text/plain": [
       "                 Revenue   Net Income\n",
       "2012-06-30  7.372300e+10  16978000000\n",
       "2013-06-30  7.784900e+10  21863000000\n",
       "2018-06-30  1.103600e+11  16571000000\n",
       "2019-06-30  1.258430e+11  39240000000"
      ]
     },
     "execution_count": 38,
     "metadata": {},
     "output_type": "execute_result"
    }
   ],
   "source": [
    "df_income.loc['MSFT'].loc[index_missing]"
   ]
  },
  {
   "cell_type": "markdown",
   "metadata": {},
   "source": [
    "But the share-prices only have dates for valid trading-days, not weekends and holidays:"
   ]
  },
  {
   "cell_type": "code",
   "execution_count": 39,
   "metadata": {},
   "outputs": [
    {
     "name": "stdout",
     "output_type": "stream",
     "text": [
      "\"None of [DatetimeIndex(['2012-06-30', '2013-06-30', '2018-06-30', '2019-06-30'], dtype='datetime64[ns]', freq=None)] are in the [index]\"\n"
     ]
    }
   ],
   "source": [
    "try:\n",
    "    df_prices.loc['MSFT'].loc[index_missing]\n",
    "except Exception as e:\n",
    "    print(e)"
   ]
  },
  {
   "cell_type": "markdown",
   "metadata": {},
   "source": [
    "The solution is to reindex with the union of the indices from the annual Income Statements and the Share-Prices, which retains all the original data-points from the Income Statements, even though their dates may not be present in the Share-Prices data:"
   ]
  },
  {
   "cell_type": "code",
   "execution_count": 40,
   "metadata": {},
   "outputs": [
    {
     "data": {
      "text/html": [
       "<div>\n",
       "<style scoped>\n",
       "    .dataframe tbody tr th:only-of-type {\n",
       "        vertical-align: middle;\n",
       "    }\n",
       "\n",
       "    .dataframe tbody tr th {\n",
       "        vertical-align: top;\n",
       "    }\n",
       "\n",
       "    .dataframe thead th {\n",
       "        text-align: right;\n",
       "    }\n",
       "</style>\n",
       "<table border=\"1\" class=\"dataframe\">\n",
       "  <thead>\n",
       "    <tr style=\"text-align: right;\">\n",
       "      <th></th>\n",
       "      <th>Revenue</th>\n",
       "      <th>Net Income</th>\n",
       "    </tr>\n",
       "  </thead>\n",
       "  <tbody>\n",
       "    <tr>\n",
       "      <td>2008-06-30</td>\n",
       "      <td>6.042000e+10</td>\n",
       "      <td>1.768100e+10</td>\n",
       "    </tr>\n",
       "    <tr>\n",
       "      <td>2009-06-30</td>\n",
       "      <td>5.843700e+10</td>\n",
       "      <td>1.456900e+10</td>\n",
       "    </tr>\n",
       "    <tr>\n",
       "      <td>2010-06-30</td>\n",
       "      <td>6.248400e+10</td>\n",
       "      <td>1.876000e+10</td>\n",
       "    </tr>\n",
       "    <tr>\n",
       "      <td>2011-06-30</td>\n",
       "      <td>6.994300e+10</td>\n",
       "      <td>2.315000e+10</td>\n",
       "    </tr>\n",
       "    <tr>\n",
       "      <td>2012-06-30</td>\n",
       "      <td>7.372300e+10</td>\n",
       "      <td>1.697800e+10</td>\n",
       "    </tr>\n",
       "    <tr>\n",
       "      <td>2013-06-30</td>\n",
       "      <td>7.784900e+10</td>\n",
       "      <td>2.186300e+10</td>\n",
       "    </tr>\n",
       "    <tr>\n",
       "      <td>2014-06-30</td>\n",
       "      <td>8.683300e+10</td>\n",
       "      <td>2.207400e+10</td>\n",
       "    </tr>\n",
       "    <tr>\n",
       "      <td>2015-06-30</td>\n",
       "      <td>9.358000e+10</td>\n",
       "      <td>1.219300e+10</td>\n",
       "    </tr>\n",
       "    <tr>\n",
       "      <td>2016-06-30</td>\n",
       "      <td>9.115400e+10</td>\n",
       "      <td>2.053900e+10</td>\n",
       "    </tr>\n",
       "    <tr>\n",
       "      <td>2017-06-30</td>\n",
       "      <td>9.657100e+10</td>\n",
       "      <td>2.548900e+10</td>\n",
       "    </tr>\n",
       "    <tr>\n",
       "      <td>2018-06-30</td>\n",
       "      <td>1.103600e+11</td>\n",
       "      <td>1.657100e+10</td>\n",
       "    </tr>\n",
       "    <tr>\n",
       "      <td>2019-06-30</td>\n",
       "      <td>1.258430e+11</td>\n",
       "      <td>3.924000e+10</td>\n",
       "    </tr>\n",
       "  </tbody>\n",
       "</table>\n",
       "</div>"
      ],
      "text/plain": [
       "                 Revenue    Net Income\n",
       "2008-06-30  6.042000e+10  1.768100e+10\n",
       "2009-06-30  5.843700e+10  1.456900e+10\n",
       "2010-06-30  6.248400e+10  1.876000e+10\n",
       "2011-06-30  6.994300e+10  2.315000e+10\n",
       "2012-06-30  7.372300e+10  1.697800e+10\n",
       "2013-06-30  7.784900e+10  2.186300e+10\n",
       "2014-06-30  8.683300e+10  2.207400e+10\n",
       "2015-06-30  9.358000e+10  1.219300e+10\n",
       "2016-06-30  9.115400e+10  2.053900e+10\n",
       "2017-06-30  9.657100e+10  2.548900e+10\n",
       "2018-06-30  1.103600e+11  1.657100e+10\n",
       "2019-06-30  1.258430e+11  3.924000e+10"
      ]
     },
     "execution_count": 40,
     "metadata": {},
     "output_type": "execute_result"
    }
   ],
   "source": [
    "# Index for the annual Income Statements.\n",
    "index_src = df_income.loc['MSFT'].index\n",
    "\n",
    "# Index for the valid trading-days of the Share-Prices.\n",
    "index_target = df_prices.loc['MSFT'].index\n",
    "\n",
    "# Union of the two indices.\n",
    "new_union_index = index_src.union(index_target)\n",
    "\n",
    "# Reindex the annual Income Statements using the union-index.\n",
    "# The new data-points are not filled so they are NaN.\n",
    "df_income2 = df_income.loc['MSFT'].reindex(index=new_union_index)\n",
    "\n",
    "# Remove NaN to show that the original data is preserved.\n",
    "df_income2.dropna()"
   ]
  },
  {
   "cell_type": "markdown",
   "metadata": {},
   "source": [
    "The reindexing function also allows us to specify the filling-logic for the missing data-points. For example, we can use 'ffill' (forward-fill) to use the last-known values. Note that the annual data-points have been upsampled beyond their original end-point on 2019-06-30, all the way up to the end of the share-price data on 2019-11-05, exactly as we wanted."
   ]
  },
  {
   "cell_type": "code",
   "execution_count": 41,
   "metadata": {},
   "outputs": [
    {
     "data": {
      "text/html": [
       "<div>\n",
       "<style scoped>\n",
       "    .dataframe tbody tr th:only-of-type {\n",
       "        vertical-align: middle;\n",
       "    }\n",
       "\n",
       "    .dataframe tbody tr th {\n",
       "        vertical-align: top;\n",
       "    }\n",
       "\n",
       "    .dataframe thead th {\n",
       "        text-align: right;\n",
       "    }\n",
       "</style>\n",
       "<table border=\"1\" class=\"dataframe\">\n",
       "  <thead>\n",
       "    <tr style=\"text-align: right;\">\n",
       "      <th></th>\n",
       "      <th>Revenue</th>\n",
       "      <th>Net Income</th>\n",
       "    </tr>\n",
       "  </thead>\n",
       "  <tbody>\n",
       "    <tr>\n",
       "      <td>2008-06-30</td>\n",
       "      <td>6.042000e+10</td>\n",
       "      <td>1.768100e+10</td>\n",
       "    </tr>\n",
       "    <tr>\n",
       "      <td>2008-07-01</td>\n",
       "      <td>6.042000e+10</td>\n",
       "      <td>1.768100e+10</td>\n",
       "    </tr>\n",
       "    <tr>\n",
       "      <td>2008-07-02</td>\n",
       "      <td>6.042000e+10</td>\n",
       "      <td>1.768100e+10</td>\n",
       "    </tr>\n",
       "    <tr>\n",
       "      <td>2008-07-03</td>\n",
       "      <td>6.042000e+10</td>\n",
       "      <td>1.768100e+10</td>\n",
       "    </tr>\n",
       "    <tr>\n",
       "      <td>2008-07-07</td>\n",
       "      <td>6.042000e+10</td>\n",
       "      <td>1.768100e+10</td>\n",
       "    </tr>\n",
       "    <tr>\n",
       "      <td>...</td>\n",
       "      <td>...</td>\n",
       "      <td>...</td>\n",
       "    </tr>\n",
       "    <tr>\n",
       "      <td>2019-10-30</td>\n",
       "      <td>1.258430e+11</td>\n",
       "      <td>3.924000e+10</td>\n",
       "    </tr>\n",
       "    <tr>\n",
       "      <td>2019-10-31</td>\n",
       "      <td>1.258430e+11</td>\n",
       "      <td>3.924000e+10</td>\n",
       "    </tr>\n",
       "    <tr>\n",
       "      <td>2019-11-01</td>\n",
       "      <td>1.258430e+11</td>\n",
       "      <td>3.924000e+10</td>\n",
       "    </tr>\n",
       "    <tr>\n",
       "      <td>2019-11-04</td>\n",
       "      <td>1.258430e+11</td>\n",
       "      <td>3.924000e+10</td>\n",
       "    </tr>\n",
       "    <tr>\n",
       "      <td>2019-11-05</td>\n",
       "      <td>1.258430e+11</td>\n",
       "      <td>3.924000e+10</td>\n",
       "    </tr>\n",
       "  </tbody>\n",
       "</table>\n",
       "<p>2863 rows × 2 columns</p>\n",
       "</div>"
      ],
      "text/plain": [
       "                 Revenue    Net Income\n",
       "2008-06-30  6.042000e+10  1.768100e+10\n",
       "2008-07-01  6.042000e+10  1.768100e+10\n",
       "2008-07-02  6.042000e+10  1.768100e+10\n",
       "2008-07-03  6.042000e+10  1.768100e+10\n",
       "2008-07-07  6.042000e+10  1.768100e+10\n",
       "...                  ...           ...\n",
       "2019-10-30  1.258430e+11  3.924000e+10\n",
       "2019-10-31  1.258430e+11  3.924000e+10\n",
       "2019-11-01  1.258430e+11  3.924000e+10\n",
       "2019-11-04  1.258430e+11  3.924000e+10\n",
       "2019-11-05  1.258430e+11  3.924000e+10\n",
       "\n",
       "[2863 rows x 2 columns]"
      ]
     },
     "execution_count": 41,
     "metadata": {},
     "output_type": "execute_result"
    }
   ],
   "source": [
    "df_income.loc['MSFT'].reindex(index=new_union_index,\n",
    "                              method='ffill').dropna()"
   ]
  },
  {
   "cell_type": "markdown",
   "metadata": {},
   "source": [
    "### Reindex on MultiIndex\n",
    "\n",
    "Unlike the `asfreq` and `resample` functions, we can actually perform a `reindex` operation directly on a DataFrame with MultiIndex. Here we use the union of the indices from the DataFrames with Income Statements and Share-Prices:"
   ]
  },
  {
   "cell_type": "code",
   "execution_count": 42,
   "metadata": {},
   "outputs": [
    {
     "data": {
      "text/html": [
       "<div>\n",
       "<style scoped>\n",
       "    .dataframe tbody tr th:only-of-type {\n",
       "        vertical-align: middle;\n",
       "    }\n",
       "\n",
       "    .dataframe tbody tr th {\n",
       "        vertical-align: top;\n",
       "    }\n",
       "\n",
       "    .dataframe thead th {\n",
       "        text-align: right;\n",
       "    }\n",
       "</style>\n",
       "<table border=\"1\" class=\"dataframe\">\n",
       "  <thead>\n",
       "    <tr style=\"text-align: right;\">\n",
       "      <th></th>\n",
       "      <th></th>\n",
       "      <th>Revenue</th>\n",
       "      <th>Net Income</th>\n",
       "    </tr>\n",
       "    <tr>\n",
       "      <th>Ticker</th>\n",
       "      <th>Date</th>\n",
       "      <th></th>\n",
       "      <th></th>\n",
       "    </tr>\n",
       "  </thead>\n",
       "  <tbody>\n",
       "    <tr>\n",
       "      <td rowspan=\"13\" valign=\"top\">AAPL</td>\n",
       "      <td>2007-09-30</td>\n",
       "      <td>2.457800e+10</td>\n",
       "      <td>3.495000e+09</td>\n",
       "    </tr>\n",
       "    <tr>\n",
       "      <td>2008-09-30</td>\n",
       "      <td>3.749100e+10</td>\n",
       "      <td>6.119000e+09</td>\n",
       "    </tr>\n",
       "    <tr>\n",
       "      <td>2009-09-30</td>\n",
       "      <td>4.290500e+10</td>\n",
       "      <td>8.235000e+09</td>\n",
       "    </tr>\n",
       "    <tr>\n",
       "      <td>2010-09-30</td>\n",
       "      <td>6.522500e+10</td>\n",
       "      <td>1.401300e+10</td>\n",
       "    </tr>\n",
       "    <tr>\n",
       "      <td>2011-09-30</td>\n",
       "      <td>1.082490e+11</td>\n",
       "      <td>2.592200e+10</td>\n",
       "    </tr>\n",
       "    <tr>\n",
       "      <td>2012-09-30</td>\n",
       "      <td>1.565080e+11</td>\n",
       "      <td>4.173300e+10</td>\n",
       "    </tr>\n",
       "    <tr>\n",
       "      <td>2013-09-30</td>\n",
       "      <td>1.709100e+11</td>\n",
       "      <td>3.703700e+10</td>\n",
       "    </tr>\n",
       "    <tr>\n",
       "      <td>2014-09-30</td>\n",
       "      <td>1.827950e+11</td>\n",
       "      <td>3.951000e+10</td>\n",
       "    </tr>\n",
       "    <tr>\n",
       "      <td>2015-09-30</td>\n",
       "      <td>2.337150e+11</td>\n",
       "      <td>5.339400e+10</td>\n",
       "    </tr>\n",
       "    <tr>\n",
       "      <td>2016-09-30</td>\n",
       "      <td>2.156390e+11</td>\n",
       "      <td>4.568700e+10</td>\n",
       "    </tr>\n",
       "    <tr>\n",
       "      <td>2017-09-30</td>\n",
       "      <td>2.292340e+11</td>\n",
       "      <td>4.835100e+10</td>\n",
       "    </tr>\n",
       "    <tr>\n",
       "      <td>2018-09-30</td>\n",
       "      <td>2.655950e+11</td>\n",
       "      <td>5.953100e+10</td>\n",
       "    </tr>\n",
       "    <tr>\n",
       "      <td>2019-09-30</td>\n",
       "      <td>2.601740e+11</td>\n",
       "      <td>5.525600e+10</td>\n",
       "    </tr>\n",
       "    <tr>\n",
       "      <td rowspan=\"12\" valign=\"top\">AMZN</td>\n",
       "      <td>2007-12-31</td>\n",
       "      <td>1.483500e+10</td>\n",
       "      <td>4.760000e+08</td>\n",
       "    </tr>\n",
       "    <tr>\n",
       "      <td>2008-12-31</td>\n",
       "      <td>1.916600e+10</td>\n",
       "      <td>6.450000e+08</td>\n",
       "    </tr>\n",
       "    <tr>\n",
       "      <td>2009-12-31</td>\n",
       "      <td>2.450900e+10</td>\n",
       "      <td>9.020000e+08</td>\n",
       "    </tr>\n",
       "    <tr>\n",
       "      <td>2010-12-31</td>\n",
       "      <td>3.420400e+10</td>\n",
       "      <td>1.152000e+09</td>\n",
       "    </tr>\n",
       "    <tr>\n",
       "      <td>2011-12-31</td>\n",
       "      <td>4.807700e+10</td>\n",
       "      <td>6.310000e+08</td>\n",
       "    </tr>\n",
       "    <tr>\n",
       "      <td>2012-12-31</td>\n",
       "      <td>6.109300e+10</td>\n",
       "      <td>-3.900000e+07</td>\n",
       "    </tr>\n",
       "    <tr>\n",
       "      <td>2013-12-31</td>\n",
       "      <td>7.445200e+10</td>\n",
       "      <td>2.740000e+08</td>\n",
       "    </tr>\n",
       "    <tr>\n",
       "      <td>2014-12-31</td>\n",
       "      <td>8.898800e+10</td>\n",
       "      <td>-2.410000e+08</td>\n",
       "    </tr>\n",
       "    <tr>\n",
       "      <td>2015-12-31</td>\n",
       "      <td>1.070060e+11</td>\n",
       "      <td>5.960000e+08</td>\n",
       "    </tr>\n",
       "    <tr>\n",
       "      <td>2016-12-31</td>\n",
       "      <td>1.359870e+11</td>\n",
       "      <td>2.371000e+09</td>\n",
       "    </tr>\n",
       "    <tr>\n",
       "      <td>2017-12-31</td>\n",
       "      <td>1.778660e+11</td>\n",
       "      <td>3.033000e+09</td>\n",
       "    </tr>\n",
       "    <tr>\n",
       "      <td>2018-12-31</td>\n",
       "      <td>2.328870e+11</td>\n",
       "      <td>1.007300e+10</td>\n",
       "    </tr>\n",
       "    <tr>\n",
       "      <td rowspan=\"12\" valign=\"top\">MSFT</td>\n",
       "      <td>2008-06-30</td>\n",
       "      <td>6.042000e+10</td>\n",
       "      <td>1.768100e+10</td>\n",
       "    </tr>\n",
       "    <tr>\n",
       "      <td>2009-06-30</td>\n",
       "      <td>5.843700e+10</td>\n",
       "      <td>1.456900e+10</td>\n",
       "    </tr>\n",
       "    <tr>\n",
       "      <td>2010-06-30</td>\n",
       "      <td>6.248400e+10</td>\n",
       "      <td>1.876000e+10</td>\n",
       "    </tr>\n",
       "    <tr>\n",
       "      <td>2011-06-30</td>\n",
       "      <td>6.994300e+10</td>\n",
       "      <td>2.315000e+10</td>\n",
       "    </tr>\n",
       "    <tr>\n",
       "      <td>2012-06-30</td>\n",
       "      <td>7.372300e+10</td>\n",
       "      <td>1.697800e+10</td>\n",
       "    </tr>\n",
       "    <tr>\n",
       "      <td>2013-06-30</td>\n",
       "      <td>7.784900e+10</td>\n",
       "      <td>2.186300e+10</td>\n",
       "    </tr>\n",
       "    <tr>\n",
       "      <td>2014-06-30</td>\n",
       "      <td>8.683300e+10</td>\n",
       "      <td>2.207400e+10</td>\n",
       "    </tr>\n",
       "    <tr>\n",
       "      <td>2015-06-30</td>\n",
       "      <td>9.358000e+10</td>\n",
       "      <td>1.219300e+10</td>\n",
       "    </tr>\n",
       "    <tr>\n",
       "      <td>2016-06-30</td>\n",
       "      <td>9.115400e+10</td>\n",
       "      <td>2.053900e+10</td>\n",
       "    </tr>\n",
       "    <tr>\n",
       "      <td>2017-06-30</td>\n",
       "      <td>9.657100e+10</td>\n",
       "      <td>2.548900e+10</td>\n",
       "    </tr>\n",
       "    <tr>\n",
       "      <td>2018-06-30</td>\n",
       "      <td>1.103600e+11</td>\n",
       "      <td>1.657100e+10</td>\n",
       "    </tr>\n",
       "    <tr>\n",
       "      <td>2019-06-30</td>\n",
       "      <td>1.258430e+11</td>\n",
       "      <td>3.924000e+10</td>\n",
       "    </tr>\n",
       "  </tbody>\n",
       "</table>\n",
       "</div>"
      ],
      "text/plain": [
       "                        Revenue    Net Income\n",
       "Ticker Date                                  \n",
       "AAPL   2007-09-30  2.457800e+10  3.495000e+09\n",
       "       2008-09-30  3.749100e+10  6.119000e+09\n",
       "       2009-09-30  4.290500e+10  8.235000e+09\n",
       "       2010-09-30  6.522500e+10  1.401300e+10\n",
       "       2011-09-30  1.082490e+11  2.592200e+10\n",
       "       2012-09-30  1.565080e+11  4.173300e+10\n",
       "       2013-09-30  1.709100e+11  3.703700e+10\n",
       "       2014-09-30  1.827950e+11  3.951000e+10\n",
       "       2015-09-30  2.337150e+11  5.339400e+10\n",
       "       2016-09-30  2.156390e+11  4.568700e+10\n",
       "       2017-09-30  2.292340e+11  4.835100e+10\n",
       "       2018-09-30  2.655950e+11  5.953100e+10\n",
       "       2019-09-30  2.601740e+11  5.525600e+10\n",
       "AMZN   2007-12-31  1.483500e+10  4.760000e+08\n",
       "       2008-12-31  1.916600e+10  6.450000e+08\n",
       "       2009-12-31  2.450900e+10  9.020000e+08\n",
       "       2010-12-31  3.420400e+10  1.152000e+09\n",
       "       2011-12-31  4.807700e+10  6.310000e+08\n",
       "       2012-12-31  6.109300e+10 -3.900000e+07\n",
       "       2013-12-31  7.445200e+10  2.740000e+08\n",
       "       2014-12-31  8.898800e+10 -2.410000e+08\n",
       "       2015-12-31  1.070060e+11  5.960000e+08\n",
       "       2016-12-31  1.359870e+11  2.371000e+09\n",
       "       2017-12-31  1.778660e+11  3.033000e+09\n",
       "       2018-12-31  2.328870e+11  1.007300e+10\n",
       "MSFT   2008-06-30  6.042000e+10  1.768100e+10\n",
       "       2009-06-30  5.843700e+10  1.456900e+10\n",
       "       2010-06-30  6.248400e+10  1.876000e+10\n",
       "       2011-06-30  6.994300e+10  2.315000e+10\n",
       "       2012-06-30  7.372300e+10  1.697800e+10\n",
       "       2013-06-30  7.784900e+10  2.186300e+10\n",
       "       2014-06-30  8.683300e+10  2.207400e+10\n",
       "       2015-06-30  9.358000e+10  1.219300e+10\n",
       "       2016-06-30  9.115400e+10  2.053900e+10\n",
       "       2017-06-30  9.657100e+10  2.548900e+10\n",
       "       2018-06-30  1.103600e+11  1.657100e+10\n",
       "       2019-06-30  1.258430e+11  3.924000e+10"
      ]
     },
     "execution_count": 42,
     "metadata": {},
     "output_type": "execute_result"
    }
   ],
   "source": [
    "# Index for the annual Income Statements.\n",
    "index_src = df_income.index\n",
    "\n",
    "# Index for the valid trading-days of the share-prices.\n",
    "index_target = df_prices.index\n",
    "\n",
    "# Union of the two indices.\n",
    "new_union_index = index_src.union(index_target)\n",
    "\n",
    "# Set the names of the new index, this is not set by union().\n",
    "new_union_index.names = index_target.names\n",
    "\n",
    "# Reindex the annual Income Statements using the union-index.\n",
    "# The new data-points are not filled so they are NaN.\n",
    "df_income2 = df_income.reindex(index=new_union_index)\n",
    "\n",
    "# Remove NaN to show that the original data is preserved.\n",
    "df_income2.dropna()"
   ]
  },
  {
   "cell_type": "markdown",
   "metadata": {},
   "source": [
    "But if we use forward-fill on the missing data-points and plot the result, something has gone very wrong, because the operation does not respect the grouping between tickers:"
   ]
  },
  {
   "cell_type": "code",
   "execution_count": 43,
   "metadata": {},
   "outputs": [
    {
     "data": {
      "text/plain": [
       "<matplotlib.axes._subplots.AxesSubplot at 0x7f7929f21748>"
      ]
     },
     "execution_count": 43,
     "metadata": {},
     "output_type": "execute_result"
    },
    {
     "data": {
      "image/png": "[encoded data removed]",
      "text/plain": [
       "<Figure size 432x288 with 1 Axes>"
      ]
     },
     "metadata": {},
     "output_type": "display_data"
    }
   ],
   "source": [
    "# Reindex and forward-fill the annual Income Statements.\n",
    "df_income2 = df_income.reindex(index=new_union_index,\n",
    "                               method='ffill').dropna()\n",
    "\n",
    "# Plot.\n",
    "sns.lineplot(x=DATE, y=REVENUE, hue=TICKER,\n",
    "             data=df_income2.reset_index())"
   ]
  },
  {
   "cell_type": "markdown",
   "metadata": {},
   "source": [
    "Pandas' `reindex` function provides an argument `level` which supports DataFrames with a MultiIndex, but it is unclear from the brief documentation how it is supposed to work, and regardless of whether we use `level=TICKER` or `level=DATE` it raises the same exception:"
   ]
  },
  {
   "cell_type": "code",
   "execution_count": 44,
   "metadata": {},
   "outputs": [
    {
     "name": "stdout",
     "output_type": "stream",
     "text": [
      "Fill method not supported if level passed\n"
     ]
    }
   ],
   "source": [
    "try:\n",
    "    df_income2 = df_income.reindex(index=new_union_index,\n",
    "                                   method='ffill', level=TICKER)\n",
    "except Exception as e:\n",
    "    print(e)"
   ]
  },
  {
   "cell_type": "markdown",
   "metadata": {},
   "source": [
    "We have to manually use the `groupby` function on the reindexed DataFrame to group them by Tickers, and then fill the missing NaN values on each of those sub-groups:"
   ]
  },
  {
   "cell_type": "code",
   "execution_count": 45,
   "metadata": {},
   "outputs": [
    {
     "data": {
      "text/plain": [
       "<matplotlib.axes._subplots.AxesSubplot at 0x7f7929d6fba8>"
      ]
     },
     "execution_count": 45,
     "metadata": {},
     "output_type": "execute_result"
    },
    {
     "data": {
      "image/png": "[encoded data removed]",
      "text/plain": [
       "<Figure size 432x288 with 1 Axes>"
      ]
     },
     "metadata": {},
     "output_type": "display_data"
    }
   ],
   "source": [
    "# Reindex the annual Income Statements using the union-index.\n",
    "# The new data-points are not filled so they are NaN.\n",
    "df_income2 = df_income.reindex(index=new_union_index)\n",
    "\n",
    "# Split the DataFrame into sub-groups and apply the ffill()\n",
    "# function on each of those sub-groups, and then glue the\n",
    "# results back together into a single DataFrame.\n",
    "df_income3 = df_income2.groupby(TICKER).ffill()\n",
    "\n",
    "# Remove empty rows.\n",
    "df_income3.dropna(inplace=True)\n",
    "\n",
    "# Plot.\n",
    "sns.lineplot(x=DATE, y=REVENUE, hue=TICKER,\n",
    "             data=df_income3.reset_index())"
   ]
  },
  {
   "cell_type": "markdown",
   "metadata": {},
   "source": [
    "### Reindex Helper-Function\n",
    "\n",
    "The above procedure for reindexing DataFrames using Pandas' native functions, is quite complicated and confusing. We have therefore provided a helper-function in the simfin package.\n",
    "\n",
    "For example, we can reindex the annual Income Statements to match the index of the daily share-prices using forward-fill of missing values. Note how the resulting DataFrame has values for the last dates of the target DataFrame with share-prices, exactly as we want."
   ]
  },
  {
   "cell_type": "code",
   "execution_count": 46,
   "metadata": {},
   "outputs": [
    {
     "data": {
      "text/html": [
       "<div>\n",
       "<style scoped>\n",
       "    .dataframe tbody tr th:only-of-type {\n",
       "        vertical-align: middle;\n",
       "    }\n",
       "\n",
       "    .dataframe tbody tr th {\n",
       "        vertical-align: top;\n",
       "    }\n",
       "\n",
       "    .dataframe thead th {\n",
       "        text-align: right;\n",
       "    }\n",
       "</style>\n",
       "<table border=\"1\" class=\"dataframe\">\n",
       "  <thead>\n",
       "    <tr style=\"text-align: right;\">\n",
       "      <th></th>\n",
       "      <th></th>\n",
       "      <th>Revenue</th>\n",
       "      <th>Net Income</th>\n",
       "    </tr>\n",
       "    <tr>\n",
       "      <th>Ticker</th>\n",
       "      <th>Date</th>\n",
       "      <th></th>\n",
       "      <th></th>\n",
       "    </tr>\n",
       "  </thead>\n",
       "  <tbody>\n",
       "    <tr>\n",
       "      <td rowspan=\"5\" valign=\"top\">AAPL</td>\n",
       "      <td>2007-10-01</td>\n",
       "      <td>2.457800e+10</td>\n",
       "      <td>3.495000e+09</td>\n",
       "    </tr>\n",
       "    <tr>\n",
       "      <td>2007-10-02</td>\n",
       "      <td>2.457800e+10</td>\n",
       "      <td>3.495000e+09</td>\n",
       "    </tr>\n",
       "    <tr>\n",
       "      <td>2007-10-03</td>\n",
       "      <td>2.457800e+10</td>\n",
       "      <td>3.495000e+09</td>\n",
       "    </tr>\n",
       "    <tr>\n",
       "      <td>2007-10-04</td>\n",
       "      <td>2.457800e+10</td>\n",
       "      <td>3.495000e+09</td>\n",
       "    </tr>\n",
       "    <tr>\n",
       "      <td>2007-10-05</td>\n",
       "      <td>2.457800e+10</td>\n",
       "      <td>3.495000e+09</td>\n",
       "    </tr>\n",
       "    <tr>\n",
       "      <td>...</td>\n",
       "      <td>...</td>\n",
       "      <td>...</td>\n",
       "      <td>...</td>\n",
       "    </tr>\n",
       "    <tr>\n",
       "      <td rowspan=\"5\" valign=\"top\">MSFT</td>\n",
       "      <td>2019-10-30</td>\n",
       "      <td>1.258430e+11</td>\n",
       "      <td>3.924000e+10</td>\n",
       "    </tr>\n",
       "    <tr>\n",
       "      <td>2019-10-31</td>\n",
       "      <td>1.258430e+11</td>\n",
       "      <td>3.924000e+10</td>\n",
       "    </tr>\n",
       "    <tr>\n",
       "      <td>2019-11-01</td>\n",
       "      <td>1.258430e+11</td>\n",
       "      <td>3.924000e+10</td>\n",
       "    </tr>\n",
       "    <tr>\n",
       "      <td>2019-11-04</td>\n",
       "      <td>1.258430e+11</td>\n",
       "      <td>3.924000e+10</td>\n",
       "    </tr>\n",
       "    <tr>\n",
       "      <td>2019-11-05</td>\n",
       "      <td>1.258430e+11</td>\n",
       "      <td>3.924000e+10</td>\n",
       "    </tr>\n",
       "  </tbody>\n",
       "</table>\n",
       "<p>8890 rows × 2 columns</p>\n",
       "</div>"
      ],
      "text/plain": [
       "                        Revenue    Net Income\n",
       "Ticker Date                                  \n",
       "AAPL   2007-10-01  2.457800e+10  3.495000e+09\n",
       "       2007-10-02  2.457800e+10  3.495000e+09\n",
       "       2007-10-03  2.457800e+10  3.495000e+09\n",
       "       2007-10-04  2.457800e+10  3.495000e+09\n",
       "       2007-10-05  2.457800e+10  3.495000e+09\n",
       "...                         ...           ...\n",
       "MSFT   2019-10-30  1.258430e+11  3.924000e+10\n",
       "       2019-10-31  1.258430e+11  3.924000e+10\n",
       "       2019-11-01  1.258430e+11  3.924000e+10\n",
       "       2019-11-04  1.258430e+11  3.924000e+10\n",
       "       2019-11-05  1.258430e+11  3.924000e+10\n",
       "\n",
       "[8890 rows x 2 columns]"
      ]
     },
     "execution_count": 46,
     "metadata": {},
     "output_type": "execute_result"
    }
   ],
   "source": [
    "df_daily = sf.reindex(df_src=df_income, df_target=df_prices,\n",
    "                      group_index=TICKER, method='ffill').dropna()\n",
    "df_daily"
   ]
  },
  {
   "cell_type": "markdown",
   "metadata": {},
   "source": [
    "We can also plot the reindexed DataFrame. Because we have used 'forward-fill' of the missing values, it looks like \"staircase\" patterns:"
   ]
  },
  {
   "cell_type": "code",
   "execution_count": 47,
   "metadata": {},
   "outputs": [
    {
     "data": {
      "text/plain": [
       "<matplotlib.axes._subplots.AxesSubplot at 0x7f7929dd7d30>"
      ]
     },
     "execution_count": 47,
     "metadata": {},
     "output_type": "execute_result"
    },
    {
     "data": {
      "image/png": "[encoded data removed]",
      "text/plain": [
       "<Figure size 432x288 with 1 Axes>"
      ]
     },
     "metadata": {},
     "output_type": "display_data"
    }
   ],
   "source": [
    "sns.lineplot(x=DATE, y=REVENUE, hue=TICKER,\n",
    "             data=df_daily.reset_index())"
   ]
  },
  {
   "cell_type": "markdown",
   "metadata": {},
   "source": [
    "Here is an example of reindexing with linear interpolation. As noted further above, this is a form of cheating called \"look-ahead bias\" because we are interpolating between last-known and future values to fill in the missing values. This should be avoided when making trading-strategies, but may still be useful for some forms of analysis.\n",
    "\n",
    "Note that the final segment after the last-known values just uses forward-fill."
   ]
  },
  {
   "cell_type": "code",
   "execution_count": 48,
   "metadata": {},
   "outputs": [
    {
     "data": {
      "text/plain": [
       "<matplotlib.axes._subplots.AxesSubplot at 0x7f7929b34da0>"
      ]
     },
     "execution_count": 48,
     "metadata": {},
     "output_type": "execute_result"
    },
    {
     "data": {
      "image/png": "[encoded data removed]",
      "text/plain": [
       "<Figure size 432x288 with 1 Axes>"
      ]
     },
     "metadata": {},
     "output_type": "display_data"
    }
   ],
   "source": [
    "# Reindex using linear interpolation.\n",
    "df_daily = sf.reindex(df_src=df_income, df_target=df_prices,\n",
    "                      group_index=TICKER, method='linear').dropna()\n",
    "\n",
    "# Plot.\n",
    "sns.lineplot(x=DATE, y=REVENUE, hue=TICKER,\n",
    "             data=df_daily.reset_index())"
   ]
  },
  {
   "cell_type": "markdown",
   "metadata": {},
   "source": [
    "We can also use a custom filling-method with the reindexing, e.g. quadratic interpolation.\n",
    "\n",
    "Note that the final segment beyond the last-known values is missing when using this filling-method, unlike the linear interpolation above, which just used forward-fill for the final segment."
   ]
  },
  {
   "cell_type": "code",
   "execution_count": 49,
   "metadata": {},
   "outputs": [
    {
     "data": {
      "text/plain": [
       "<matplotlib.axes._subplots.AxesSubplot at 0x7f7928a8ab38>"
      ]
     },
     "execution_count": 49,
     "metadata": {},
     "output_type": "execute_result"
    },
    {
     "data": {
      "image/png": "[encoded data removed]",
      "text/plain": [
       "<Figure size 432x288 with 1 Axes>"
      ]
     },
     "metadata": {},
     "output_type": "display_data"
    }
   ],
   "source": [
    "# Custom method for the reindexing.\n",
    "method = lambda x: x.interpolate(method='quadratic')\n",
    "\n",
    "# Do the resampling using the custom method.\n",
    "df_daily = sf.reindex(df_src=df_income, df_target=df_prices,\n",
    "                      group_index=TICKER, method=method).dropna()\n",
    "\n",
    "# Plot.\n",
    "sns.lineplot(x=DATE, y=REVENUE, hue=TICKER,\n",
    "             data=df_daily.reset_index())"
   ]
  },
  {
   "cell_type": "markdown",
   "metadata": {},
   "source": [
    "### Reindex Helper-Function Arguments\n",
    "\n",
    "By default the helper-function `sf.resample` has two arguments that are set to `union=True` and `only_target_index=True`. For upsampling quarterly or annual financial data so it can be used with daily share-prices, you would normally just leave them to their default `True` values. But sometimes you will need to change them, so they require some explanation.\n",
    "\n",
    "The first argument `union` is a boolean that determines whether the reindexing should use the union of the indices from `df_src` and `df_target`, or only use the index for `df_target`. As discussed further above, reindexing drops the data-points from `df_src` when their dates do not exist in `df_target`, which can create \"holes\" in the data, and that is why it is sometimes necessary to reindex with the union of the two indices.\n",
    "\n",
    "The second argument `only_target_index` is a boolean that determines whether to perform a second reindexing operation. This is only relevant if we have used the union of the indices from `df_src` and `df_target`, because the resulting DataFrame might have rows that do not exist in `df_target`. By setting `only_target_index=True` we ensure the resulting DataFrame matches the index of `df_target`.\n",
    "\n",
    "Normally you would leave these arguments to their default values, so you can ignore them altogether. But sometimes you need different behaviour.\n",
    "\n",
    "For example, let us say that we want to reindex the annual Income Statements, so that we have both the original data and a new data-point for the same date as the latest share-prices. This can be achieved by performing the reindexing with `union=True` so we use the indices of both the DataFrames, and `only_target_index=False` so we keep the rows from `df_income` whose dates were not in `df_prices_latest`."
   ]
  },
  {
   "cell_type": "code",
   "execution_count": 50,
   "metadata": {},
   "outputs": [
    {
     "data": {
      "text/html": [
       "<div>\n",
       "<style scoped>\n",
       "    .dataframe tbody tr th:only-of-type {\n",
       "        vertical-align: middle;\n",
       "    }\n",
       "\n",
       "    .dataframe tbody tr th {\n",
       "        vertical-align: top;\n",
       "    }\n",
       "\n",
       "    .dataframe thead th {\n",
       "        text-align: right;\n",
       "    }\n",
       "</style>\n",
       "<table border=\"1\" class=\"dataframe\">\n",
       "  <thead>\n",
       "    <tr style=\"text-align: right;\">\n",
       "      <th></th>\n",
       "      <th></th>\n",
       "      <th>Revenue</th>\n",
       "      <th>Net Income</th>\n",
       "    </tr>\n",
       "    <tr>\n",
       "      <th>Ticker</th>\n",
       "      <th>Date</th>\n",
       "      <th></th>\n",
       "      <th></th>\n",
       "    </tr>\n",
       "  </thead>\n",
       "  <tbody>\n",
       "    <tr>\n",
       "      <td rowspan=\"3\" valign=\"top\">AAPL</td>\n",
       "      <td>2018-09-30</td>\n",
       "      <td>2.655950e+11</td>\n",
       "      <td>5.953100e+10</td>\n",
       "    </tr>\n",
       "    <tr>\n",
       "      <td>2019-09-30</td>\n",
       "      <td>2.601740e+11</td>\n",
       "      <td>5.525600e+10</td>\n",
       "    </tr>\n",
       "    <tr>\n",
       "      <td>2019-11-05</td>\n",
       "      <td>2.601740e+11</td>\n",
       "      <td>5.525600e+10</td>\n",
       "    </tr>\n",
       "    <tr>\n",
       "      <td rowspan=\"3\" valign=\"top\">AMZN</td>\n",
       "      <td>2017-12-31</td>\n",
       "      <td>1.778660e+11</td>\n",
       "      <td>3.033000e+09</td>\n",
       "    </tr>\n",
       "    <tr>\n",
       "      <td>2018-12-31</td>\n",
       "      <td>2.328870e+11</td>\n",
       "      <td>1.007300e+10</td>\n",
       "    </tr>\n",
       "    <tr>\n",
       "      <td>2019-11-05</td>\n",
       "      <td>2.328870e+11</td>\n",
       "      <td>1.007300e+10</td>\n",
       "    </tr>\n",
       "    <tr>\n",
       "      <td rowspan=\"3\" valign=\"top\">MSFT</td>\n",
       "      <td>2018-06-30</td>\n",
       "      <td>1.103600e+11</td>\n",
       "      <td>1.657100e+10</td>\n",
       "    </tr>\n",
       "    <tr>\n",
       "      <td>2019-06-30</td>\n",
       "      <td>1.258430e+11</td>\n",
       "      <td>3.924000e+10</td>\n",
       "    </tr>\n",
       "    <tr>\n",
       "      <td>2019-11-05</td>\n",
       "      <td>1.258430e+11</td>\n",
       "      <td>3.924000e+10</td>\n",
       "    </tr>\n",
       "  </tbody>\n",
       "</table>\n",
       "</div>"
      ],
      "text/plain": [
       "                        Revenue    Net Income\n",
       "Ticker Date                                  \n",
       "AAPL   2018-09-30  2.655950e+11  5.953100e+10\n",
       "       2019-09-30  2.601740e+11  5.525600e+10\n",
       "       2019-11-05  2.601740e+11  5.525600e+10\n",
       "AMZN   2017-12-31  1.778660e+11  3.033000e+09\n",
       "       2018-12-31  2.328870e+11  1.007300e+10\n",
       "       2019-11-05  2.328870e+11  1.007300e+10\n",
       "MSFT   2018-06-30  1.103600e+11  1.657100e+10\n",
       "       2019-06-30  1.258430e+11  3.924000e+10\n",
       "       2019-11-05  1.258430e+11  3.924000e+10"
      ]
     },
     "execution_count": 50,
     "metadata": {},
     "output_type": "execute_result"
    }
   ],
   "source": [
    "# Reindex the annual Income Statements with latest Share-Prices.\n",
    "# Keep all the rows from the original DataFrame as well.\n",
    "df_latest = sf.reindex(df_src=df_income,\n",
    "                       df_target=df_prices_latest,\n",
    "                       union=True, only_target_index=False,\n",
    "                       method='ffill')\n",
    "\n",
    "# Show the last 3 rows for each Ticker.\n",
    "df_latest.groupby(TICKER).tail(3)"
   ]
  },
  {
   "cell_type": "markdown",
   "metadata": {},
   "source": [
    "## License (MIT)\n",
    "\n",
    "This is published under the\n",
    "[MIT License](https://github.com/simfin/simfin-tutorials/blob/master/LICENSE.txt)\n",
    "which allows very broad use for both academic and commercial purposes.\n",
    "\n",
    "You are very welcome to modify and use this source-code in your own project. Please keep a link to the [original repository](https://github.com/simfin/simfin-tutorials).\n"
   ]
  }
 ],
 "metadata": {
  "kernelspec": {
   "display_name": "Python 3",
   "language": "python",
   "name": "python3"
  },
  "language_info": {
   "codemirror_mode": {
    "name": "ipython",
    "version": 3
   },
   "file_extension": ".py",
   "mimetype": "text/x-python",
   "name": "python",
   "nbconvert_exporter": "python",
   "pygments_lexer": "ipython3",
   "version": "3.6.8"
  }
 },
 "nbformat": 4,
 "nbformat_minor": 2
}
