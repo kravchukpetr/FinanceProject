{
 "cells": [
  {
   "cell_type": "markdown",
   "metadata": {},
   "source": [
    "# SimFin Tutorial 05 - Data Hubs\n",
    "\n",
    "[Original repository on GitHub](https://github.com/simfin/simfin-tutorials)\n",
    "\n",
    "This tutorial was originally written by [Hvass Labs](https://github.com/Hvass-Labs)\n",
    "\n",
    "----\n",
    "\n",
    "\"I just have to type Y instead of Y-E-S ... Hey Miss-didn't-find-me-attractive-sexually-anymore, I just tripled my productivity!\" &ndash; [The Simpsons](https://www.youtube.com/watch?v=R_rF4kcqLkI)"
   ]
  },
  {
   "cell_type": "markdown",
   "metadata": {},
   "source": [
    "## Introduction\n",
    "\n",
    "In the previous tutorials we saw how to download and load financial data from the SimFin server using the `sf.load` functions, how to resample and reindex the data using the `sf.resample` and `sf.reindex` functions, how to calculate growth-rates and stock-returns using the `sf.rel_change` and `sf.mean_log_change` functions, and finally how to combine all of this to calculate signals using functions like `sf.price_signals` and `sf.val_signals`.\n",
    "\n",
    "Because we have to go through all these basic steps every time we want to work on the financial data, and this mostly consists of copy-pasting our previous code, the simfin package provides what we call *Data Hubs* to do most of the work for us.\n",
    "\n",
    "The data-hub also uses disk-caching for its slow computations, so the results are automatically saved to disk and will be reloaded very quickly the next time the slow functions are called. The data-hub also ensures the disk-cache is updated whenever new datasets are downloaded from the SimFin server. The data-hub's functions are also RAM-cached, so the second time you call them, they return the results nearly instantly.\n",
    "\n",
    "Altogether, the data-hub makes it much easier and faster to work with the financial data.\n",
    "\n",
    "It is not strictly necessary for you to be familiar with the previous tutorials on the basics of simfin, but it is helpful because you would have a better understanding of what exactly the data-hub is doing."
   ]
  },
  {
   "cell_type": "markdown",
   "metadata": {},
   "source": [
    "## Imports"
   ]
  },
  {
   "cell_type": "code",
   "execution_count": 1,
   "metadata": {},
   "outputs": [],
   "source": [
    "%matplotlib inline\n",
    "import pandas as pd\n",
    "import seaborn as sns\n",
    "\n",
    "# Import the main functionality from the SimFin Python API.\n",
    "import simfin as sf\n",
    "\n",
    "# Import names used for easy access to SimFin's data-columns.\n",
    "from simfin.names import *"
   ]
  },
  {
   "cell_type": "code",
   "execution_count": 2,
   "metadata": {},
   "outputs": [
    {
     "data": {
      "text/plain": [
       "'0.3.0'"
      ]
     },
     "execution_count": 2,
     "metadata": {},
     "output_type": "execute_result"
    }
   ],
   "source": [
    "# Version of the SimFin Python API.\n",
    "sf.__version__"
   ]
  },
  {
   "cell_type": "markdown",
   "metadata": {},
   "source": [
    "## Config"
   ]
  },
  {
   "cell_type": "code",
   "execution_count": 3,
   "metadata": {},
   "outputs": [],
   "source": [
    "# SimFin data-directory.\n",
    "sf.set_data_dir('~/simfin_data/')"
   ]
  },
  {
   "cell_type": "code",
   "execution_count": 4,
   "metadata": {},
   "outputs": [],
   "source": [
    "# SimFin load API key or use free data.\n",
    "sf.load_api_key(path='~/simfin_api_key.txt', default_key='free')"
   ]
  },
  {
   "cell_type": "code",
   "execution_count": 5,
   "metadata": {},
   "outputs": [],
   "source": [
    "# Seaborn set plotting style.\n",
    "sns.set_style(\"whitegrid\")"
   ]
  },
  {
   "cell_type": "markdown",
   "metadata": {},
   "source": [
    "## Data Hub\n",
    "\n",
    "In these examples, we are interested in US stock-market data for the tickers AAPL, AMZN and MSFT. We want to add a 60-day offset to the dates of the financial reports, to simulate the delay between the date of a financial report and when it was actually made available to the public. And finally we want to download the datasets from the SimFin server every 30 days, except for the share-prices which should be downloaded every 10 days."
   ]
  },
  {
   "cell_type": "code",
   "execution_count": 6,
   "metadata": {},
   "outputs": [],
   "source": [
    "# We are interested in the US stock-market.\n",
    "market = 'us'\n",
    "\n",
    "# List of tickers we want. If None then all tickers are used.\n",
    "tickers = ['AAPL', 'AMZN', 'MSFT']\n",
    "\n",
    "# Add this date-offset to the fundamental data such as\n",
    "# Income Statements etc., because the REPORT_DATE is not\n",
    "# when it was actually made available to the public,\n",
    "# which can be 1, 2 or even 3 months after the Report Date.\n",
    "offset = pd.DateOffset(days=60)\n",
    "\n",
    "# Refresh the fundamental datasets (Income Statements etc.)\n",
    "# every 30 days.\n",
    "refresh_days = 30\n",
    "\n",
    "# Refresh the dataset with shareprices every 10 days.\n",
    "refresh_days_shareprices = 10"
   ]
  },
  {
   "cell_type": "markdown",
   "metadata": {},
   "source": [
    "Using these settings, we can then create the data-hub object. This basically just creates and configures the data-hub. It does not load any data or perform any calculations at this point, so it returns nearly instantly."
   ]
  },
  {
   "cell_type": "code",
   "execution_count": 7,
   "metadata": {},
   "outputs": [
    {
     "name": "stdout",
     "output_type": "stream",
     "text": [
      "CPU times: user 20 µs, sys: 1 µs, total: 21 µs\n",
      "Wall time: 23.4 µs\n"
     ]
    }
   ],
   "source": [
    "%%time\n",
    "hub = sf.StockHub(market=market, tickers=tickers, offset=offset,\n",
    "                  refresh_days=refresh_days,\n",
    "                  refresh_days_shareprices=refresh_days_shareprices)"
   ]
  },
  {
   "cell_type": "markdown",
   "metadata": {},
   "source": [
    "## Load Datasets\n",
    "\n",
    "We can now use the data-hub to load financial datasets. This is very similar to the `sf.load` functions, except that we don't have to set the market-argument because that is already known by the data-hub. This is how we load the dataset with share-prices:"
   ]
  },
  {
   "cell_type": "code",
   "execution_count": 8,
   "metadata": {},
   "outputs": [
    {
     "name": "stdout",
     "output_type": "stream",
     "text": [
      "Dataset \"us-shareprices-daily\" on disk (0 days old).\n",
      "- Loading from disk ... Done!\n",
      "CPU times: user 15.2 s, sys: 1.24 s, total: 16.4 s\n",
      "Wall time: 14.9 s\n"
     ]
    }
   ],
   "source": [
    "%%time\n",
    "df_prices = hub.load_shareprices(variant='daily')"
   ]
  },
  {
   "cell_type": "code",
   "execution_count": 9,
   "metadata": {},
   "outputs": [
    {
     "data": {
      "text/html": [
       "<div>\n",
       "<style scoped>\n",
       "    .dataframe tbody tr th:only-of-type {\n",
       "        vertical-align: middle;\n",
       "    }\n",
       "\n",
       "    .dataframe tbody tr th {\n",
       "        vertical-align: top;\n",
       "    }\n",
       "\n",
       "    .dataframe thead th {\n",
       "        text-align: right;\n",
       "    }\n",
       "</style>\n",
       "<table border=\"1\" class=\"dataframe\">\n",
       "  <thead>\n",
       "    <tr style=\"text-align: right;\">\n",
       "      <th></th>\n",
       "      <th></th>\n",
       "      <th>SimFinId</th>\n",
       "      <th>Open</th>\n",
       "      <th>Low</th>\n",
       "      <th>High</th>\n",
       "      <th>Close</th>\n",
       "      <th>Adj. Close</th>\n",
       "      <th>Dividend</th>\n",
       "      <th>Volume</th>\n",
       "    </tr>\n",
       "    <tr>\n",
       "      <th>Ticker</th>\n",
       "      <th>Date</th>\n",
       "      <th></th>\n",
       "      <th></th>\n",
       "      <th></th>\n",
       "      <th></th>\n",
       "      <th></th>\n",
       "      <th></th>\n",
       "      <th></th>\n",
       "      <th></th>\n",
       "    </tr>\n",
       "  </thead>\n",
       "  <tbody>\n",
       "    <tr>\n",
       "      <td rowspan=\"5\" valign=\"top\">AAPL</td>\n",
       "      <td>2007-01-03</td>\n",
       "      <td>111052</td>\n",
       "      <td>12.3271</td>\n",
       "      <td>11.7000</td>\n",
       "      <td>12.3686</td>\n",
       "      <td>11.9714</td>\n",
       "      <td>10.42</td>\n",
       "      <td>NaN</td>\n",
       "      <td>44225700</td>\n",
       "    </tr>\n",
       "    <tr>\n",
       "      <td>2007-01-04</td>\n",
       "      <td>111052</td>\n",
       "      <td>12.0071</td>\n",
       "      <td>11.9743</td>\n",
       "      <td>12.2786</td>\n",
       "      <td>12.2371</td>\n",
       "      <td>10.65</td>\n",
       "      <td>NaN</td>\n",
       "      <td>30259300</td>\n",
       "    </tr>\n",
       "    <tr>\n",
       "      <td>2007-01-05</td>\n",
       "      <td>111052</td>\n",
       "      <td>12.2529</td>\n",
       "      <td>12.0571</td>\n",
       "      <td>12.3143</td>\n",
       "      <td>12.1500</td>\n",
       "      <td>10.57</td>\n",
       "      <td>NaN</td>\n",
       "      <td>29812200</td>\n",
       "    </tr>\n",
       "    <tr>\n",
       "      <td>2007-01-08</td>\n",
       "      <td>111052</td>\n",
       "      <td>12.2800</td>\n",
       "      <td>12.1829</td>\n",
       "      <td>12.3614</td>\n",
       "      <td>12.2100</td>\n",
       "      <td>10.62</td>\n",
       "      <td>NaN</td>\n",
       "      <td>28468100</td>\n",
       "    </tr>\n",
       "    <tr>\n",
       "      <td>2007-01-09</td>\n",
       "      <td>111052</td>\n",
       "      <td>12.3500</td>\n",
       "      <td>12.1643</td>\n",
       "      <td>13.2829</td>\n",
       "      <td>13.2243</td>\n",
       "      <td>11.51</td>\n",
       "      <td>NaN</td>\n",
       "      <td>119617800</td>\n",
       "    </tr>\n",
       "  </tbody>\n",
       "</table>\n",
       "</div>"
      ],
      "text/plain": [
       "                   SimFinId     Open      Low     High    Close  Adj. Close  \\\n",
       "Ticker Date                                                                   \n",
       "AAPL   2007-01-03    111052  12.3271  11.7000  12.3686  11.9714       10.42   \n",
       "       2007-01-04    111052  12.0071  11.9743  12.2786  12.2371       10.65   \n",
       "       2007-01-05    111052  12.2529  12.0571  12.3143  12.1500       10.57   \n",
       "       2007-01-08    111052  12.2800  12.1829  12.3614  12.2100       10.62   \n",
       "       2007-01-09    111052  12.3500  12.1643  13.2829  13.2243       11.51   \n",
       "\n",
       "                   Dividend     Volume  \n",
       "Ticker Date                             \n",
       "AAPL   2007-01-03       NaN   44225700  \n",
       "       2007-01-04       NaN   30259300  \n",
       "       2007-01-05       NaN   29812200  \n",
       "       2007-01-08       NaN   28468100  \n",
       "       2007-01-09       NaN  119617800  "
      ]
     },
     "execution_count": 9,
     "metadata": {},
     "output_type": "execute_result"
    }
   ],
   "source": [
    "df_prices.head()"
   ]
  },
  {
   "cell_type": "markdown",
   "metadata": {},
   "source": [
    "Note what happens if we call the exact same function again with the exact same argument - it returns the exact same result almost instantly. This is because the data-hub uses a RAM-cache for most of its functions, so the DataFrame is just taken from RAM instead of being reloaded from disk."
   ]
  },
  {
   "cell_type": "code",
   "execution_count": 10,
   "metadata": {},
   "outputs": [
    {
     "name": "stdout",
     "output_type": "stream",
     "text": [
      "CPU times: user 8 µs, sys: 0 ns, total: 8 µs\n",
      "Wall time: 12.4 µs\n"
     ]
    }
   ],
   "source": [
    "%%time\n",
    "df_prices = hub.load_shareprices(variant='daily')"
   ]
  },
  {
   "cell_type": "markdown",
   "metadata": {},
   "source": [
    "We can also use the data-hub to load other datasets such as the TTM Income Statements:"
   ]
  },
  {
   "cell_type": "code",
   "execution_count": 11,
   "metadata": {},
   "outputs": [
    {
     "name": "stdout",
     "output_type": "stream",
     "text": [
      "Dataset \"us-income-ttm\" on disk (6 days old).\n",
      "- Loading from disk ... Done!\n",
      "CPU times: user 307 ms, sys: 12.2 ms, total: 320 ms\n",
      "Wall time: 317 ms\n"
     ]
    }
   ],
   "source": [
    "%%time\n",
    "df_income_ttm = hub.load_income(variant='ttm')"
   ]
  },
  {
   "cell_type": "code",
   "execution_count": 12,
   "metadata": {},
   "outputs": [
    {
     "data": {
      "text/html": [
       "<div>\n",
       "<style scoped>\n",
       "    .dataframe tbody tr th:only-of-type {\n",
       "        vertical-align: middle;\n",
       "    }\n",
       "\n",
       "    .dataframe tbody tr th {\n",
       "        vertical-align: top;\n",
       "    }\n",
       "\n",
       "    .dataframe thead th {\n",
       "        text-align: right;\n",
       "    }\n",
       "</style>\n",
       "<table border=\"1\" class=\"dataframe\">\n",
       "  <thead>\n",
       "    <tr style=\"text-align: right;\">\n",
       "      <th></th>\n",
       "      <th></th>\n",
       "      <th>SimFinId</th>\n",
       "      <th>Currency</th>\n",
       "      <th>Fiscal Year</th>\n",
       "      <th>Fiscal Period</th>\n",
       "      <th>Publish Date</th>\n",
       "      <th>Shares (Basic)</th>\n",
       "      <th>Shares (Diluted)</th>\n",
       "      <th>Revenue</th>\n",
       "      <th>Cost of Revenue</th>\n",
       "      <th>Gross Profit</th>\n",
       "      <th>...</th>\n",
       "      <th>Non-Operating Income (Loss)</th>\n",
       "      <th>Interest Expense, Net</th>\n",
       "      <th>Pretax Income (Loss), Adj.</th>\n",
       "      <th>Abnormal Gains (Losses)</th>\n",
       "      <th>Pretax Income (Loss)</th>\n",
       "      <th>Income Tax (Expense) Benefit, Net</th>\n",
       "      <th>Income (Loss) from Continuing Operations</th>\n",
       "      <th>Net Extraordinary Gains (Losses)</th>\n",
       "      <th>Net Income</th>\n",
       "      <th>Net Income (Common)</th>\n",
       "    </tr>\n",
       "    <tr>\n",
       "      <th>Ticker</th>\n",
       "      <th>Report Date</th>\n",
       "      <th></th>\n",
       "      <th></th>\n",
       "      <th></th>\n",
       "      <th></th>\n",
       "      <th></th>\n",
       "      <th></th>\n",
       "      <th></th>\n",
       "      <th></th>\n",
       "      <th></th>\n",
       "      <th></th>\n",
       "      <th></th>\n",
       "      <th></th>\n",
       "      <th></th>\n",
       "      <th></th>\n",
       "      <th></th>\n",
       "      <th></th>\n",
       "      <th></th>\n",
       "      <th></th>\n",
       "      <th></th>\n",
       "      <th></th>\n",
       "      <th></th>\n",
       "    </tr>\n",
       "  </thead>\n",
       "  <tbody>\n",
       "    <tr>\n",
       "      <td rowspan=\"5\" valign=\"top\">AAPL</td>\n",
       "      <td>2010-03-31</td>\n",
       "      <td>111052</td>\n",
       "      <td>USD</td>\n",
       "      <td>2010</td>\n",
       "      <td>Q2</td>\n",
       "      <td>2010-04-21</td>\n",
       "      <td>6.304956e+09</td>\n",
       "      <td>6.415840e+09</td>\n",
       "      <td>5.112300e+10</td>\n",
       "      <td>-2.999900e+10</td>\n",
       "      <td>2.112400e+10</td>\n",
       "      <td>...</td>\n",
       "      <td>188000000.0</td>\n",
       "      <td>NaN</td>\n",
       "      <td>15208000000</td>\n",
       "      <td>NaN</td>\n",
       "      <td>15208000000</td>\n",
       "      <td>-4.396000e+09</td>\n",
       "      <td>10812000000</td>\n",
       "      <td>NaN</td>\n",
       "      <td>10812000000</td>\n",
       "      <td>10812000000</td>\n",
       "    </tr>\n",
       "    <tr>\n",
       "      <td>2010-06-30</td>\n",
       "      <td>111052</td>\n",
       "      <td>USD</td>\n",
       "      <td>2010</td>\n",
       "      <td>Q3</td>\n",
       "      <td>2010-07-21</td>\n",
       "      <td>6.337305e+09</td>\n",
       "      <td>6.447691e+09</td>\n",
       "      <td>5.708900e+10</td>\n",
       "      <td>-3.381200e+10</td>\n",
       "      <td>2.327700e+10</td>\n",
       "      <td>...</td>\n",
       "      <td>186000000.0</td>\n",
       "      <td>NaN</td>\n",
       "      <td>16808000000</td>\n",
       "      <td>NaN</td>\n",
       "      <td>16808000000</td>\n",
       "      <td>-4.571000e+09</td>\n",
       "      <td>12237000000</td>\n",
       "      <td>NaN</td>\n",
       "      <td>12237000000</td>\n",
       "      <td>12237000000</td>\n",
       "    </tr>\n",
       "    <tr>\n",
       "      <td>2010-09-30</td>\n",
       "      <td>111052</td>\n",
       "      <td>USD</td>\n",
       "      <td>2010</td>\n",
       "      <td>Q4</td>\n",
       "      <td>2010-10-27</td>\n",
       "      <td>6.366227e+09</td>\n",
       "      <td>6.472984e+09</td>\n",
       "      <td>6.522500e+10</td>\n",
       "      <td>-3.954100e+10</td>\n",
       "      <td>2.568400e+10</td>\n",
       "      <td>...</td>\n",
       "      <td>155000000.0</td>\n",
       "      <td>NaN</td>\n",
       "      <td>18540000000</td>\n",
       "      <td>NaN</td>\n",
       "      <td>18540000000</td>\n",
       "      <td>-4.527000e+09</td>\n",
       "      <td>14013000000</td>\n",
       "      <td>NaN</td>\n",
       "      <td>14013000000</td>\n",
       "      <td>14013000000</td>\n",
       "    </tr>\n",
       "    <tr>\n",
       "      <td>2010-12-31</td>\n",
       "      <td>111052</td>\n",
       "      <td>USD</td>\n",
       "      <td>2011</td>\n",
       "      <td>Q1</td>\n",
       "      <td>2011-01-19</td>\n",
       "      <td>6.393793e+09</td>\n",
       "      <td>6.496383e+09</td>\n",
       "      <td>7.628300e+10</td>\n",
       "      <td>-4.671200e+10</td>\n",
       "      <td>2.957100e+10</td>\n",
       "      <td>...</td>\n",
       "      <td>258000000.0</td>\n",
       "      <td>NaN</td>\n",
       "      <td>21745000000</td>\n",
       "      <td>NaN</td>\n",
       "      <td>21745000000</td>\n",
       "      <td>-5.106000e+09</td>\n",
       "      <td>16639000000</td>\n",
       "      <td>NaN</td>\n",
       "      <td>16639000000</td>\n",
       "      <td>16639000000</td>\n",
       "    </tr>\n",
       "    <tr>\n",
       "      <td>2011-03-31</td>\n",
       "      <td>111052</td>\n",
       "      <td>USD</td>\n",
       "      <td>2011</td>\n",
       "      <td>Q2</td>\n",
       "      <td>2011-04-21</td>\n",
       "      <td>6.421177e+09</td>\n",
       "      <td>6.519249e+09</td>\n",
       "      <td>8.745100e+10</td>\n",
       "      <td>-5.328700e+10</td>\n",
       "      <td>3.416400e+10</td>\n",
       "      <td>...</td>\n",
       "      <td>234000000.0</td>\n",
       "      <td>NaN</td>\n",
       "      <td>25616000000</td>\n",
       "      <td>NaN</td>\n",
       "      <td>25616000000</td>\n",
       "      <td>-6.064000e+09</td>\n",
       "      <td>19552000000</td>\n",
       "      <td>NaN</td>\n",
       "      <td>19552000000</td>\n",
       "      <td>19552000000</td>\n",
       "    </tr>\n",
       "  </tbody>\n",
       "</table>\n",
       "<p>5 rows × 25 columns</p>\n",
       "</div>"
      ],
      "text/plain": [
       "                    SimFinId Currency  Fiscal Year Fiscal Period Publish Date  \\\n",
       "Ticker Report Date                                                              \n",
       "AAPL   2010-03-31     111052      USD         2010            Q2   2010-04-21   \n",
       "       2010-06-30     111052      USD         2010            Q3   2010-07-21   \n",
       "       2010-09-30     111052      USD         2010            Q4   2010-10-27   \n",
       "       2010-12-31     111052      USD         2011            Q1   2011-01-19   \n",
       "       2011-03-31     111052      USD         2011            Q2   2011-04-21   \n",
       "\n",
       "                    Shares (Basic)  Shares (Diluted)       Revenue  \\\n",
       "Ticker Report Date                                                   \n",
       "AAPL   2010-03-31     6.304956e+09      6.415840e+09  5.112300e+10   \n",
       "       2010-06-30     6.337305e+09      6.447691e+09  5.708900e+10   \n",
       "       2010-09-30     6.366227e+09      6.472984e+09  6.522500e+10   \n",
       "       2010-12-31     6.393793e+09      6.496383e+09  7.628300e+10   \n",
       "       2011-03-31     6.421177e+09      6.519249e+09  8.745100e+10   \n",
       "\n",
       "                    Cost of Revenue  Gross Profit  ...  \\\n",
       "Ticker Report Date                                 ...   \n",
       "AAPL   2010-03-31     -2.999900e+10  2.112400e+10  ...   \n",
       "       2010-06-30     -3.381200e+10  2.327700e+10  ...   \n",
       "       2010-09-30     -3.954100e+10  2.568400e+10  ...   \n",
       "       2010-12-31     -4.671200e+10  2.957100e+10  ...   \n",
       "       2011-03-31     -5.328700e+10  3.416400e+10  ...   \n",
       "\n",
       "                    Non-Operating Income (Loss)  Interest Expense, Net  \\\n",
       "Ticker Report Date                                                       \n",
       "AAPL   2010-03-31                   188000000.0                    NaN   \n",
       "       2010-06-30                   186000000.0                    NaN   \n",
       "       2010-09-30                   155000000.0                    NaN   \n",
       "       2010-12-31                   258000000.0                    NaN   \n",
       "       2011-03-31                   234000000.0                    NaN   \n",
       "\n",
       "                    Pretax Income (Loss), Adj.  Abnormal Gains (Losses)  \\\n",
       "Ticker Report Date                                                        \n",
       "AAPL   2010-03-31                  15208000000                      NaN   \n",
       "       2010-06-30                  16808000000                      NaN   \n",
       "       2010-09-30                  18540000000                      NaN   \n",
       "       2010-12-31                  21745000000                      NaN   \n",
       "       2011-03-31                  25616000000                      NaN   \n",
       "\n",
       "                    Pretax Income (Loss)  Income Tax (Expense) Benefit, Net  \\\n",
       "Ticker Report Date                                                            \n",
       "AAPL   2010-03-31            15208000000                      -4.396000e+09   \n",
       "       2010-06-30            16808000000                      -4.571000e+09   \n",
       "       2010-09-30            18540000000                      -4.527000e+09   \n",
       "       2010-12-31            21745000000                      -5.106000e+09   \n",
       "       2011-03-31            25616000000                      -6.064000e+09   \n",
       "\n",
       "                    Income (Loss) from Continuing Operations  \\\n",
       "Ticker Report Date                                             \n",
       "AAPL   2010-03-31                                10812000000   \n",
       "       2010-06-30                                12237000000   \n",
       "       2010-09-30                                14013000000   \n",
       "       2010-12-31                                16639000000   \n",
       "       2011-03-31                                19552000000   \n",
       "\n",
       "                    Net Extraordinary Gains (Losses)   Net Income  \\\n",
       "Ticker Report Date                                                  \n",
       "AAPL   2010-03-31                                NaN  10812000000   \n",
       "       2010-06-30                                NaN  12237000000   \n",
       "       2010-09-30                                NaN  14013000000   \n",
       "       2010-12-31                                NaN  16639000000   \n",
       "       2011-03-31                                NaN  19552000000   \n",
       "\n",
       "                    Net Income (Common)  \n",
       "Ticker Report Date                       \n",
       "AAPL   2010-03-31           10812000000  \n",
       "       2010-06-30           12237000000  \n",
       "       2010-09-30           14013000000  \n",
       "       2010-12-31           16639000000  \n",
       "       2011-03-31           19552000000  \n",
       "\n",
       "[5 rows x 25 columns]"
      ]
     },
     "execution_count": 12,
     "metadata": {},
     "output_type": "execute_result"
    }
   ],
   "source": [
    "df_income_ttm.head()"
   ]
  },
  {
   "cell_type": "markdown",
   "metadata": {},
   "source": [
    "Again we see that the function returns nearly instantly when we call it the second time, provided the argument is exactly the same, because then the DataFrame is merely taken from the RAM-cache instead of being reloaded from disk:"
   ]
  },
  {
   "cell_type": "code",
   "execution_count": 13,
   "metadata": {},
   "outputs": [
    {
     "name": "stdout",
     "output_type": "stream",
     "text": [
      "CPU times: user 12 µs, sys: 1e+03 ns, total: 13 µs\n",
      "Wall time: 16.9 µs\n"
     ]
    }
   ],
   "source": [
    "%%time\n",
    "df_income_ttm = hub.load_income(variant='ttm')"
   ]
  },
  {
   "cell_type": "markdown",
   "metadata": {},
   "source": [
    "## RAM-Cache Warning\n",
    "\n",
    "Because the data-hub uses a RAM-cache for its functions, it means that you should **NEVER** modify the DataFrames returned by the data-hub's functions, because that would modify the DataFrames stored in the RAM-cache, which may interfere with the data-hubs' other functions that use the same data. If you want to modify the DataFrames returned by the data-hub, you should **ALWAYS** make a copy first!"
   ]
  },
  {
   "cell_type": "code",
   "execution_count": 14,
   "metadata": {},
   "outputs": [],
   "source": [
    "# Load the share-prices.\n",
    "df_prices = hub.load_shareprices(variant='daily')\n",
    "\n",
    "# Now we want to set the Closing share-prices to zero.\n",
    "\n",
    "# This is BAD because it changes the contents of the RAM-cache\n",
    "# inside the hub-object.\n",
    "# df_prices[CLOSE] = 0.0\n",
    "\n",
    "# This is fine because it only changes a copy of the data, so\n",
    "# the RAM-cache inside the hub-object remains unchanged.\n",
    "df_prices2 = df_prices.copy()\n",
    "df_prices2[CLOSE] = 0.0"
   ]
  },
  {
   "cell_type": "markdown",
   "metadata": {},
   "source": [
    "Although it is possible to clear the RAM-cache for the data-hubs' functions using the following command, it is recommended that you simply create a new data-hub and start over, if you accidentally modified any of the DataFrames returned by the data-hub."
   ]
  },
  {
   "cell_type": "code",
   "execution_count": 15,
   "metadata": {},
   "outputs": [],
   "source": [
    "# Clear the RAM-cache for the function.\n",
    "# hub.load_shareprices.cache_clear()"
   ]
  },
  {
   "cell_type": "markdown",
   "metadata": {},
   "source": [
    "## Calculate Signals\n",
    "\n",
    "The benefits of the data-hub are much greater for the functions that calculate signals such as valuation ratios, moving averages of the share-prices, sales and earnings growth, etc. The data-hub makes the syntax much simpler for these functions, because you only need to call a single function, which then loads the required datasets (or takes them from the RAM-cache if they have already been loaded), and then passes the datasets along with other relevant arguments to the lower-level functions that perform the actual computations.\n",
    "\n",
    "Furthermore, the data-hub also uses a disk-cache for its slow functions, so the results are automatically saved to a file on disk, which can be reloaded very quickly the next time you call the function. The cache-files are automatically updated by recomputing the slow functions, whenever the relevant datasets are downloaded again from the SimFin server.\n",
    "\n",
    "The disk-cache works in addition to the RAM-cache, so the data-hub uses two layers of caching to return the data as fast as possible, when the data does not have to be reloaded or calculated again.\n",
    "\n",
    "The filenames used by the disk-cache are automatically set from all the arguments to the data-hub and its functions, using a hashing-function that creates a short but nearly unique ID code, so the cache-files are kept separate when you call the same function but with different arguments."
   ]
  },
  {
   "cell_type": "markdown",
   "metadata": {},
   "source": [
    "### Price Signals\n",
    "\n",
    "This is how easily we may calculate price signals such as Moving Averages. Note that the function finished very quickly because we are only using data for 3 stocks, so there is no need for the disk-cache here. But if we had not specified a list of tickers when creating the data-hub object, this function would calculate the signals for thousands of stocks, which takes a while to compute, so the disk-cache is often very useful."
   ]
  },
  {
   "cell_type": "code",
   "execution_count": 16,
   "metadata": {},
   "outputs": [
    {
     "name": "stdout",
     "output_type": "stream",
     "text": [
      "Cache-file 'price_signals-d03458cf.pickle' not on disk.\n",
      "- Running function price_signals() ... Done!\n",
      "- Saving cache-file to disk ... Done!\n",
      "CPU times: user 53.4 ms, sys: 100 µs, total: 53.5 ms\n",
      "Wall time: 55.5 ms\n"
     ]
    }
   ],
   "source": [
    "%%time\n",
    "df_price_signals = hub.price_signals()"
   ]
  },
  {
   "cell_type": "code",
   "execution_count": 17,
   "metadata": {},
   "outputs": [
    {
     "data": {
      "text/html": [
       "<div>\n",
       "<style scoped>\n",
       "    .dataframe tbody tr th:only-of-type {\n",
       "        vertical-align: middle;\n",
       "    }\n",
       "\n",
       "    .dataframe tbody tr th {\n",
       "        vertical-align: top;\n",
       "    }\n",
       "\n",
       "    .dataframe thead th {\n",
       "        text-align: right;\n",
       "    }\n",
       "</style>\n",
       "<table border=\"1\" class=\"dataframe\">\n",
       "  <thead>\n",
       "    <tr style=\"text-align: right;\">\n",
       "      <th></th>\n",
       "      <th></th>\n",
       "      <th>EMA</th>\n",
       "      <th>MACD</th>\n",
       "      <th>MACD-EMA</th>\n",
       "      <th>MAVG 20</th>\n",
       "      <th>MAVG 200</th>\n",
       "    </tr>\n",
       "    <tr>\n",
       "      <th>Ticker</th>\n",
       "      <th>Date</th>\n",
       "      <th></th>\n",
       "      <th></th>\n",
       "      <th></th>\n",
       "      <th></th>\n",
       "      <th></th>\n",
       "    </tr>\n",
       "  </thead>\n",
       "  <tbody>\n",
       "    <tr>\n",
       "      <td rowspan=\"5\" valign=\"top\">AAPL</td>\n",
       "      <td>2007-01-03</td>\n",
       "      <td>11.971400</td>\n",
       "      <td>0.000000</td>\n",
       "      <td>0.000000</td>\n",
       "      <td>NaN</td>\n",
       "      <td>NaN</td>\n",
       "    </tr>\n",
       "    <tr>\n",
       "      <td>2007-01-04</td>\n",
       "      <td>12.110893</td>\n",
       "      <td>0.005961</td>\n",
       "      <td>0.003312</td>\n",
       "      <td>NaN</td>\n",
       "      <td>NaN</td>\n",
       "    </tr>\n",
       "    <tr>\n",
       "      <td>2007-01-05</td>\n",
       "      <td>12.125253</td>\n",
       "      <td>0.004895</td>\n",
       "      <td>0.003961</td>\n",
       "      <td>NaN</td>\n",
       "      <td>NaN</td>\n",
       "    </tr>\n",
       "    <tr>\n",
       "      <td>2007-01-08</td>\n",
       "      <td>12.149718</td>\n",
       "      <td>0.006456</td>\n",
       "      <td>0.004806</td>\n",
       "      <td>NaN</td>\n",
       "      <td>NaN</td>\n",
       "    </tr>\n",
       "    <tr>\n",
       "      <td>2007-01-09</td>\n",
       "      <td>12.409650</td>\n",
       "      <td>0.047530</td>\n",
       "      <td>0.017515</td>\n",
       "      <td>NaN</td>\n",
       "      <td>NaN</td>\n",
       "    </tr>\n",
       "  </tbody>\n",
       "</table>\n",
       "</div>"
      ],
      "text/plain": [
       "                         EMA      MACD  MACD-EMA  MAVG 20  MAVG 200\n",
       "Ticker Date                                                        \n",
       "AAPL   2007-01-03  11.971400  0.000000  0.000000      NaN       NaN\n",
       "       2007-01-04  12.110893  0.005961  0.003312      NaN       NaN\n",
       "       2007-01-05  12.125253  0.004895  0.003961      NaN       NaN\n",
       "       2007-01-08  12.149718  0.006456  0.004806      NaN       NaN\n",
       "       2007-01-09  12.409650  0.047530  0.017515      NaN       NaN"
      ]
     },
     "execution_count": 17,
     "metadata": {},
     "output_type": "execute_result"
    }
   ],
   "source": [
    "df_price_signals.head()"
   ]
  },
  {
   "cell_type": "markdown",
   "metadata": {},
   "source": [
    "### Volume Signals\n",
    "\n",
    "This is how easily we may calculate the volume signals:"
   ]
  },
  {
   "cell_type": "code",
   "execution_count": 18,
   "metadata": {
    "scrolled": true
   },
   "outputs": [
    {
     "name": "stdout",
     "output_type": "stream",
     "text": [
      "Cache-file 'volume_signals-0eb21bf8.pickle' not on disk.\n",
      "- Running function volume_signals() ... Done!\n",
      "- Saving cache-file to disk ... Done!\n",
      "CPU times: user 164 ms, sys: 12 ms, total: 176 ms\n",
      "Wall time: 173 ms\n"
     ]
    }
   ],
   "source": [
    "%%time\n",
    "df_vol_signals = hub.volume_signals(window=20)"
   ]
  },
  {
   "cell_type": "markdown",
   "metadata": {},
   "source": [
    "If we call the same function with a different argument, then the data-hub automatically changes the cache-name so as to keep the different results in separate cache-files:"
   ]
  },
  {
   "cell_type": "code",
   "execution_count": 19,
   "metadata": {},
   "outputs": [
    {
     "name": "stdout",
     "output_type": "stream",
     "text": [
      "Cache-file 'volume_signals-6bc2fe28.pickle' not on disk.\n",
      "- Running function volume_signals() ... Done!\n",
      "- Saving cache-file to disk ... Done!\n",
      "CPU times: user 141 ms, sys: 7.76 ms, total: 149 ms\n",
      "Wall time: 145 ms\n"
     ]
    }
   ],
   "source": [
    "%%time\n",
    "df_vol_signals2 = hub.volume_signals(window=30)"
   ]
  },
  {
   "cell_type": "code",
   "execution_count": 20,
   "metadata": {},
   "outputs": [
    {
     "data": {
      "text/html": [
       "<div>\n",
       "<style scoped>\n",
       "    .dataframe tbody tr th:only-of-type {\n",
       "        vertical-align: middle;\n",
       "    }\n",
       "\n",
       "    .dataframe tbody tr th {\n",
       "        vertical-align: top;\n",
       "    }\n",
       "\n",
       "    .dataframe thead th {\n",
       "        text-align: right;\n",
       "    }\n",
       "</style>\n",
       "<table border=\"1\" class=\"dataframe\">\n",
       "  <thead>\n",
       "    <tr style=\"text-align: right;\">\n",
       "      <th></th>\n",
       "      <th></th>\n",
       "      <th>Relative Volume</th>\n",
       "      <th>Volume Market-Cap</th>\n",
       "      <th>Volume Turnover</th>\n",
       "    </tr>\n",
       "    <tr>\n",
       "      <th>Ticker</th>\n",
       "      <th>Date</th>\n",
       "      <th></th>\n",
       "      <th></th>\n",
       "      <th></th>\n",
       "    </tr>\n",
       "  </thead>\n",
       "  <tbody>\n",
       "    <tr>\n",
       "      <td rowspan=\"5\" valign=\"top\">AAPL</td>\n",
       "      <td>2007-01-31</td>\n",
       "      <td>-0.463248</td>\n",
       "      <td>6.263896e+08</td>\n",
       "      <td>NaN</td>\n",
       "    </tr>\n",
       "    <tr>\n",
       "      <td>2007-02-01</td>\n",
       "      <td>-0.695482</td>\n",
       "      <td>6.142787e+08</td>\n",
       "      <td>NaN</td>\n",
       "    </tr>\n",
       "    <tr>\n",
       "      <td>2007-02-02</td>\n",
       "      <td>-0.753584</td>\n",
       "      <td>6.092018e+08</td>\n",
       "      <td>NaN</td>\n",
       "    </tr>\n",
       "    <tr>\n",
       "      <td>2007-02-05</td>\n",
       "      <td>-0.814985</td>\n",
       "      <td>6.034860e+08</td>\n",
       "      <td>NaN</td>\n",
       "    </tr>\n",
       "    <tr>\n",
       "      <td>2007-02-06</td>\n",
       "      <td>-0.416573</td>\n",
       "      <td>6.046619e+08</td>\n",
       "      <td>NaN</td>\n",
       "    </tr>\n",
       "  </tbody>\n",
       "</table>\n",
       "</div>"
      ],
      "text/plain": [
       "                   Relative Volume  Volume Market-Cap  Volume Turnover\n",
       "Ticker Date                                                           \n",
       "AAPL   2007-01-31        -0.463248       6.263896e+08              NaN\n",
       "       2007-02-01        -0.695482       6.142787e+08              NaN\n",
       "       2007-02-02        -0.753584       6.092018e+08              NaN\n",
       "       2007-02-05        -0.814985       6.034860e+08              NaN\n",
       "       2007-02-06        -0.416573       6.046619e+08              NaN"
      ]
     },
     "execution_count": 20,
     "metadata": {},
     "output_type": "execute_result"
    }
   ],
   "source": [
    "df_vol_signals.dropna(how='all').head()"
   ]
  },
  {
   "cell_type": "markdown",
   "metadata": {},
   "source": [
    "### Financial Signals\n",
    "\n",
    "The following shows how easily we may calculate financial signals such as Current Ratio, Debt Ratio, Net Profit Margin, etc. The function's argument `variant` determines the frequency of the resulting data-points:\n",
    "\n",
    "- `variant=daily` means the result has daily data-points for the same dates as the share-prices. By default this uses forward-filling with the last-known values, but this can be changed with the `fill_method` argument when constructing the data-hub.\n",
    "\n",
    "- `variant=latest` means the result only has data-points for the last date of the share-prices. This is much faster to compute than daily data-points.\n",
    "\n",
    "- `variant=quarterly` means the result has 4 data-points per year for the same dates as the company's quarterly financial reports (with the report date shifted if the `offset` argument was given when the data-hub object was created)."
   ]
  },
  {
   "cell_type": "code",
   "execution_count": 21,
   "metadata": {},
   "outputs": [
    {
     "name": "stdout",
     "output_type": "stream",
     "text": [
      "Dataset \"us-balance-ttm\" on disk (6 days old).\n",
      "- Loading from disk ... Done!\n",
      "Cache-file 'fin_signals-c549b5bd.pickle' not on disk.\n",
      "- Running function fin_signals() ... Done!\n",
      "- Saving cache-file to disk ... Done!\n",
      "CPU times: user 408 ms, sys: 4.2 ms, total: 412 ms\n",
      "Wall time: 408 ms\n"
     ]
    }
   ],
   "source": [
    "%%time\n",
    "df_fin_signals_daily = hub.fin_signals(variant='daily')"
   ]
  },
  {
   "cell_type": "code",
   "execution_count": 22,
   "metadata": {},
   "outputs": [
    {
     "data": {
      "text/html": [
       "<div>\n",
       "<style scoped>\n",
       "    .dataframe tbody tr th:only-of-type {\n",
       "        vertical-align: middle;\n",
       "    }\n",
       "\n",
       "    .dataframe tbody tr th {\n",
       "        vertical-align: top;\n",
       "    }\n",
       "\n",
       "    .dataframe thead th {\n",
       "        text-align: right;\n",
       "    }\n",
       "</style>\n",
       "<table border=\"1\" class=\"dataframe\">\n",
       "  <thead>\n",
       "    <tr style=\"text-align: right;\">\n",
       "      <th></th>\n",
       "      <th></th>\n",
       "      <th>Current Ratio</th>\n",
       "      <th>Debt Ratio</th>\n",
       "      <th>Gross Profit Margin</th>\n",
       "      <th>Net Profit Margin</th>\n",
       "      <th>Return on Assets</th>\n",
       "      <th>Return on Equity</th>\n",
       "    </tr>\n",
       "    <tr>\n",
       "      <th>Ticker</th>\n",
       "      <th>Date</th>\n",
       "      <th></th>\n",
       "      <th></th>\n",
       "      <th></th>\n",
       "      <th></th>\n",
       "      <th></th>\n",
       "      <th></th>\n",
       "    </tr>\n",
       "  </thead>\n",
       "  <tbody>\n",
       "    <tr>\n",
       "      <td rowspan=\"5\" valign=\"top\">AAPL</td>\n",
       "      <td>2010-06-01</td>\n",
       "      <td>2.644206</td>\n",
       "      <td>NaN</td>\n",
       "      <td>0.4132</td>\n",
       "      <td>0.21149</td>\n",
       "      <td>NaN</td>\n",
       "      <td>NaN</td>\n",
       "    </tr>\n",
       "    <tr>\n",
       "      <td>2010-06-02</td>\n",
       "      <td>2.644206</td>\n",
       "      <td>NaN</td>\n",
       "      <td>0.4132</td>\n",
       "      <td>0.21149</td>\n",
       "      <td>NaN</td>\n",
       "      <td>NaN</td>\n",
       "    </tr>\n",
       "    <tr>\n",
       "      <td>2010-06-03</td>\n",
       "      <td>2.644206</td>\n",
       "      <td>NaN</td>\n",
       "      <td>0.4132</td>\n",
       "      <td>0.21149</td>\n",
       "      <td>NaN</td>\n",
       "      <td>NaN</td>\n",
       "    </tr>\n",
       "    <tr>\n",
       "      <td>2010-06-04</td>\n",
       "      <td>2.644206</td>\n",
       "      <td>NaN</td>\n",
       "      <td>0.4132</td>\n",
       "      <td>0.21149</td>\n",
       "      <td>NaN</td>\n",
       "      <td>NaN</td>\n",
       "    </tr>\n",
       "    <tr>\n",
       "      <td>2010-06-07</td>\n",
       "      <td>2.644206</td>\n",
       "      <td>NaN</td>\n",
       "      <td>0.4132</td>\n",
       "      <td>0.21149</td>\n",
       "      <td>NaN</td>\n",
       "      <td>NaN</td>\n",
       "    </tr>\n",
       "  </tbody>\n",
       "</table>\n",
       "</div>"
      ],
      "text/plain": [
       "                   Current Ratio  Debt Ratio  Gross Profit Margin  \\\n",
       "Ticker Date                                                         \n",
       "AAPL   2010-06-01       2.644206         NaN               0.4132   \n",
       "       2010-06-02       2.644206         NaN               0.4132   \n",
       "       2010-06-03       2.644206         NaN               0.4132   \n",
       "       2010-06-04       2.644206         NaN               0.4132   \n",
       "       2010-06-07       2.644206         NaN               0.4132   \n",
       "\n",
       "                   Net Profit Margin  Return on Assets  Return on Equity  \n",
       "Ticker Date                                                               \n",
       "AAPL   2010-06-01            0.21149               NaN               NaN  \n",
       "       2010-06-02            0.21149               NaN               NaN  \n",
       "       2010-06-03            0.21149               NaN               NaN  \n",
       "       2010-06-04            0.21149               NaN               NaN  \n",
       "       2010-06-07            0.21149               NaN               NaN  "
      ]
     },
     "execution_count": 22,
     "metadata": {},
     "output_type": "execute_result"
    }
   ],
   "source": [
    "df_fin_signals_daily.dropna(how='all').head()"
   ]
  },
  {
   "cell_type": "markdown",
   "metadata": {},
   "source": [
    "### Growth Signals\n",
    "\n",
    "The following shows how easily we may calculate growth-signals. This function also takes the argument `variant` which has the same meaning as for the `fin_signals` function above. For example, when `variant=quarterly` it creates 4 data-points per yer:"
   ]
  },
  {
   "cell_type": "code",
   "execution_count": 23,
   "metadata": {
    "scrolled": true
   },
   "outputs": [
    {
     "name": "stdout",
     "output_type": "stream",
     "text": [
      "Dataset \"us-income-quarterly\" on disk (0 days old).\n",
      "- Loading from disk ... Done!\n",
      "Dataset \"us-cashflow-ttm\" on disk (0 days old).\n",
      "- Loading from disk ... Done!\n",
      "Dataset \"us-cashflow-quarterly\" on disk (26 days old).\n",
      "- Loading from disk ... Done!\n",
      "Cache-file 'growth_signals-70589cd4.pickle' not on disk.\n",
      "- Running function growth_signals() ... Done!\n",
      "- Saving cache-file to disk ... Done!\n",
      "CPU times: user 1.01 s, sys: 19.7 ms, total: 1.03 s\n",
      "Wall time: 1.02 s\n"
     ]
    }
   ],
   "source": [
    "%%time\n",
    "df_growth_signals_qrt = hub.growth_signals(variant='quarterly')"
   ]
  },
  {
   "cell_type": "code",
   "execution_count": 24,
   "metadata": {},
   "outputs": [
    {
     "data": {
      "text/html": [
       "<div>\n",
       "<style scoped>\n",
       "    .dataframe tbody tr th:only-of-type {\n",
       "        vertical-align: middle;\n",
       "    }\n",
       "\n",
       "    .dataframe tbody tr th {\n",
       "        vertical-align: top;\n",
       "    }\n",
       "\n",
       "    .dataframe thead th {\n",
       "        text-align: right;\n",
       "    }\n",
       "</style>\n",
       "<table border=\"1\" class=\"dataframe\">\n",
       "  <thead>\n",
       "    <tr style=\"text-align: right;\">\n",
       "      <th></th>\n",
       "      <th></th>\n",
       "      <th>Earnings Growth</th>\n",
       "      <th>Earnings Growth QOQ</th>\n",
       "      <th>Earnings Growth YOY</th>\n",
       "      <th>FCF Growth</th>\n",
       "      <th>FCF Growth QOQ</th>\n",
       "      <th>FCF Growth YOY</th>\n",
       "      <th>Sales Growth</th>\n",
       "      <th>Sales Growth QOQ</th>\n",
       "      <th>Sales Growth YOY</th>\n",
       "    </tr>\n",
       "    <tr>\n",
       "      <th>Ticker</th>\n",
       "      <th>Report Date</th>\n",
       "      <th></th>\n",
       "      <th></th>\n",
       "      <th></th>\n",
       "      <th></th>\n",
       "      <th></th>\n",
       "      <th></th>\n",
       "      <th></th>\n",
       "      <th></th>\n",
       "      <th></th>\n",
       "    </tr>\n",
       "  </thead>\n",
       "  <tbody>\n",
       "    <tr>\n",
       "      <td rowspan=\"5\" valign=\"top\">AAPL</td>\n",
       "      <td>2009-11-29</td>\n",
       "      <td>NaN</td>\n",
       "      <td>0.385120</td>\n",
       "      <td>NaN</td>\n",
       "      <td>NaN</td>\n",
       "      <td>0.320320</td>\n",
       "      <td>NaN</td>\n",
       "      <td>NaN</td>\n",
       "      <td>0.254058</td>\n",
       "      <td>NaN</td>\n",
       "    </tr>\n",
       "    <tr>\n",
       "      <td>2010-03-01</td>\n",
       "      <td>NaN</td>\n",
       "      <td>0.334123</td>\n",
       "      <td>NaN</td>\n",
       "      <td>NaN</td>\n",
       "      <td>1.047005</td>\n",
       "      <td>NaN</td>\n",
       "      <td>NaN</td>\n",
       "      <td>0.284755</td>\n",
       "      <td>NaN</td>\n",
       "    </tr>\n",
       "    <tr>\n",
       "      <td>2010-05-30</td>\n",
       "      <td>NaN</td>\n",
       "      <td>-0.089994</td>\n",
       "      <td>NaN</td>\n",
       "      <td>NaN</td>\n",
       "      <td>-0.624259</td>\n",
       "      <td>NaN</td>\n",
       "      <td>NaN</td>\n",
       "      <td>-0.139259</td>\n",
       "      <td>NaN</td>\n",
       "    </tr>\n",
       "    <tr>\n",
       "      <td>2010-08-29</td>\n",
       "      <td>NaN</td>\n",
       "      <td>0.058230</td>\n",
       "      <td>0.779540</td>\n",
       "      <td>NaN</td>\n",
       "      <td>1.057664</td>\n",
       "      <td>1.089590</td>\n",
       "      <td>NaN</td>\n",
       "      <td>0.163049</td>\n",
       "      <td>0.612903</td>\n",
       "    </tr>\n",
       "    <tr>\n",
       "      <td>2010-11-29</td>\n",
       "      <td>NaN</td>\n",
       "      <td>0.324316</td>\n",
       "      <td>0.701422</td>\n",
       "      <td>NaN</td>\n",
       "      <td>0.166467</td>\n",
       "      <td>0.846096</td>\n",
       "      <td>NaN</td>\n",
       "      <td>0.295732</td>\n",
       "      <td>0.666503</td>\n",
       "    </tr>\n",
       "  </tbody>\n",
       "</table>\n",
       "</div>"
      ],
      "text/plain": [
       "                    Earnings Growth  Earnings Growth QOQ  Earnings Growth YOY  \\\n",
       "Ticker Report Date                                                              \n",
       "AAPL   2009-11-29               NaN             0.385120                  NaN   \n",
       "       2010-03-01               NaN             0.334123                  NaN   \n",
       "       2010-05-30               NaN            -0.089994                  NaN   \n",
       "       2010-08-29               NaN             0.058230             0.779540   \n",
       "       2010-11-29               NaN             0.324316             0.701422   \n",
       "\n",
       "                    FCF Growth  FCF Growth QOQ  FCF Growth YOY  Sales Growth  \\\n",
       "Ticker Report Date                                                             \n",
       "AAPL   2009-11-29          NaN        0.320320             NaN           NaN   \n",
       "       2010-03-01          NaN        1.047005             NaN           NaN   \n",
       "       2010-05-30          NaN       -0.624259             NaN           NaN   \n",
       "       2010-08-29          NaN        1.057664        1.089590           NaN   \n",
       "       2010-11-29          NaN        0.166467        0.846096           NaN   \n",
       "\n",
       "                    Sales Growth QOQ  Sales Growth YOY  \n",
       "Ticker Report Date                                      \n",
       "AAPL   2009-11-29           0.254058               NaN  \n",
       "       2010-03-01           0.284755               NaN  \n",
       "       2010-05-30          -0.139259               NaN  \n",
       "       2010-08-29           0.163049          0.612903  \n",
       "       2010-11-29           0.295732          0.666503  "
      ]
     },
     "execution_count": 24,
     "metadata": {},
     "output_type": "execute_result"
    }
   ],
   "source": [
    "df_growth_signals_qrt.dropna(how='all').head()"
   ]
  },
  {
   "cell_type": "markdown",
   "metadata": {},
   "source": [
    "If we change the argument to `variant='daily'` then we get daily data-points where the growth-rates have been forward-filled from the last-known values (this may be changed by setting the argument `fill_method` when constructing the data-hub object). Note that the cache-filename is different to keep the files separate."
   ]
  },
  {
   "cell_type": "code",
   "execution_count": 25,
   "metadata": {},
   "outputs": [
    {
     "name": "stdout",
     "output_type": "stream",
     "text": [
      "Cache-file 'growth_signals-c549b5bd.pickle' not on disk.\n",
      "- Running function growth_signals() ... Done!\n",
      "- Saving cache-file to disk ... Done!\n",
      "CPU times: user 187 ms, sys: 4.5 ms, total: 192 ms\n",
      "Wall time: 186 ms\n"
     ]
    }
   ],
   "source": [
    "%%time\n",
    "df_growth_signals_daily = hub.growth_signals(variant='daily')"
   ]
  },
  {
   "cell_type": "code",
   "execution_count": 26,
   "metadata": {},
   "outputs": [
    {
     "data": {
      "text/html": [
       "<div>\n",
       "<style scoped>\n",
       "    .dataframe tbody tr th:only-of-type {\n",
       "        vertical-align: middle;\n",
       "    }\n",
       "\n",
       "    .dataframe tbody tr th {\n",
       "        vertical-align: top;\n",
       "    }\n",
       "\n",
       "    .dataframe thead th {\n",
       "        text-align: right;\n",
       "    }\n",
       "</style>\n",
       "<table border=\"1\" class=\"dataframe\">\n",
       "  <thead>\n",
       "    <tr style=\"text-align: right;\">\n",
       "      <th></th>\n",
       "      <th></th>\n",
       "      <th>Earnings Growth</th>\n",
       "      <th>Earnings Growth QOQ</th>\n",
       "      <th>Earnings Growth YOY</th>\n",
       "      <th>FCF Growth</th>\n",
       "      <th>FCF Growth QOQ</th>\n",
       "      <th>FCF Growth YOY</th>\n",
       "      <th>Sales Growth</th>\n",
       "      <th>Sales Growth QOQ</th>\n",
       "      <th>Sales Growth YOY</th>\n",
       "    </tr>\n",
       "    <tr>\n",
       "      <th>Ticker</th>\n",
       "      <th>Date</th>\n",
       "      <th></th>\n",
       "      <th></th>\n",
       "      <th></th>\n",
       "      <th></th>\n",
       "      <th></th>\n",
       "      <th></th>\n",
       "      <th></th>\n",
       "      <th></th>\n",
       "      <th></th>\n",
       "    </tr>\n",
       "  </thead>\n",
       "  <tbody>\n",
       "    <tr>\n",
       "      <td rowspan=\"5\" valign=\"top\">AAPL</td>\n",
       "      <td>2009-11-30</td>\n",
       "      <td>NaN</td>\n",
       "      <td>0.38512</td>\n",
       "      <td>NaN</td>\n",
       "      <td>NaN</td>\n",
       "      <td>0.32032</td>\n",
       "      <td>NaN</td>\n",
       "      <td>NaN</td>\n",
       "      <td>0.254058</td>\n",
       "      <td>NaN</td>\n",
       "    </tr>\n",
       "    <tr>\n",
       "      <td>2009-12-01</td>\n",
       "      <td>NaN</td>\n",
       "      <td>0.38512</td>\n",
       "      <td>NaN</td>\n",
       "      <td>NaN</td>\n",
       "      <td>0.32032</td>\n",
       "      <td>NaN</td>\n",
       "      <td>NaN</td>\n",
       "      <td>0.254058</td>\n",
       "      <td>NaN</td>\n",
       "    </tr>\n",
       "    <tr>\n",
       "      <td>2009-12-02</td>\n",
       "      <td>NaN</td>\n",
       "      <td>0.38512</td>\n",
       "      <td>NaN</td>\n",
       "      <td>NaN</td>\n",
       "      <td>0.32032</td>\n",
       "      <td>NaN</td>\n",
       "      <td>NaN</td>\n",
       "      <td>0.254058</td>\n",
       "      <td>NaN</td>\n",
       "    </tr>\n",
       "    <tr>\n",
       "      <td>2009-12-03</td>\n",
       "      <td>NaN</td>\n",
       "      <td>0.38512</td>\n",
       "      <td>NaN</td>\n",
       "      <td>NaN</td>\n",
       "      <td>0.32032</td>\n",
       "      <td>NaN</td>\n",
       "      <td>NaN</td>\n",
       "      <td>0.254058</td>\n",
       "      <td>NaN</td>\n",
       "    </tr>\n",
       "    <tr>\n",
       "      <td>2009-12-04</td>\n",
       "      <td>NaN</td>\n",
       "      <td>0.38512</td>\n",
       "      <td>NaN</td>\n",
       "      <td>NaN</td>\n",
       "      <td>0.32032</td>\n",
       "      <td>NaN</td>\n",
       "      <td>NaN</td>\n",
       "      <td>0.254058</td>\n",
       "      <td>NaN</td>\n",
       "    </tr>\n",
       "  </tbody>\n",
       "</table>\n",
       "</div>"
      ],
      "text/plain": [
       "                   Earnings Growth  Earnings Growth QOQ  Earnings Growth YOY  \\\n",
       "Ticker Date                                                                    \n",
       "AAPL   2009-11-30              NaN              0.38512                  NaN   \n",
       "       2009-12-01              NaN              0.38512                  NaN   \n",
       "       2009-12-02              NaN              0.38512                  NaN   \n",
       "       2009-12-03              NaN              0.38512                  NaN   \n",
       "       2009-12-04              NaN              0.38512                  NaN   \n",
       "\n",
       "                   FCF Growth  FCF Growth QOQ  FCF Growth YOY  Sales Growth  \\\n",
       "Ticker Date                                                                   \n",
       "AAPL   2009-11-30         NaN         0.32032             NaN           NaN   \n",
       "       2009-12-01         NaN         0.32032             NaN           NaN   \n",
       "       2009-12-02         NaN         0.32032             NaN           NaN   \n",
       "       2009-12-03         NaN         0.32032             NaN           NaN   \n",
       "       2009-12-04         NaN         0.32032             NaN           NaN   \n",
       "\n",
       "                   Sales Growth QOQ  Sales Growth YOY  \n",
       "Ticker Date                                            \n",
       "AAPL   2009-11-30          0.254058               NaN  \n",
       "       2009-12-01          0.254058               NaN  \n",
       "       2009-12-02          0.254058               NaN  \n",
       "       2009-12-03          0.254058               NaN  \n",
       "       2009-12-04          0.254058               NaN  "
      ]
     },
     "execution_count": 26,
     "metadata": {},
     "output_type": "execute_result"
    }
   ],
   "source": [
    "df_growth_signals_daily.dropna(how='all').head()"
   ]
  },
  {
   "cell_type": "markdown",
   "metadata": {},
   "source": [
    "### Valuation Signals\n",
    "\n",
    "The following shows how easily we may calculate valuation signals such as P/E and P/Sales ratios. This requires several datasets, but most of them have already been loaded by the data-hub in the function-calls we ran above, so the datasets are merely taken from the RAM-cache instead of being loaded again.\n",
    "\n",
    "By setting `variant='latest'` we only calculate the valuation signals for the latest day of the share-prices. This is much faster than calculating the signals for daily data-points, and is useful e.g. when making a stock-screener:"
   ]
  },
  {
   "cell_type": "code",
   "execution_count": 27,
   "metadata": {},
   "outputs": [
    {
     "name": "stdout",
     "output_type": "stream",
     "text": [
      "Dataset \"us-shareprices-latest\" on disk (2 days old).\n",
      "- Loading from disk ... Done!\n",
      "Cache-file 'val_signals-cac8146c.pickle' not on disk.\n",
      "- Running function val_signals() ... Done!\n",
      "- Saving cache-file to disk ... Done!\n",
      "CPU times: user 68.1 ms, sys: 284 µs, total: 68.4 ms\n",
      "Wall time: 66.2 ms\n"
     ]
    }
   ],
   "source": [
    "%%time\n",
    "df_val_signals_latest = hub.val_signals(variant='latest')"
   ]
  },
  {
   "cell_type": "code",
   "execution_count": 28,
   "metadata": {},
   "outputs": [
    {
     "data": {
      "text/html": [
       "<div>\n",
       "<style scoped>\n",
       "    .dataframe tbody tr th:only-of-type {\n",
       "        vertical-align: middle;\n",
       "    }\n",
       "\n",
       "    .dataframe tbody tr th {\n",
       "        vertical-align: top;\n",
       "    }\n",
       "\n",
       "    .dataframe thead th {\n",
       "        text-align: right;\n",
       "    }\n",
       "</style>\n",
       "<table border=\"1\" class=\"dataframe\">\n",
       "  <thead>\n",
       "    <tr style=\"text-align: right;\">\n",
       "      <th></th>\n",
       "      <th></th>\n",
       "      <th>Dividend Yield</th>\n",
       "      <th>Earnings Yield</th>\n",
       "      <th>FCF Yield</th>\n",
       "      <th>Market-Cap</th>\n",
       "      <th>P/Book</th>\n",
       "      <th>P/E</th>\n",
       "      <th>P/FCF</th>\n",
       "      <th>P/NCAV</th>\n",
       "      <th>P/NetNet</th>\n",
       "      <th>P/Sales</th>\n",
       "    </tr>\n",
       "    <tr>\n",
       "      <th>Ticker</th>\n",
       "      <th>Date</th>\n",
       "      <th></th>\n",
       "      <th></th>\n",
       "      <th></th>\n",
       "      <th></th>\n",
       "      <th></th>\n",
       "      <th></th>\n",
       "      <th></th>\n",
       "      <th></th>\n",
       "      <th></th>\n",
       "      <th></th>\n",
       "    </tr>\n",
       "  </thead>\n",
       "  <tbody>\n",
       "    <tr>\n",
       "      <td>AAPL</td>\n",
       "      <td>2019-12-20</td>\n",
       "      <td>0.010868</td>\n",
       "      <td>0.042534</td>\n",
       "      <td>0.045336</td>\n",
       "      <td>1.299092e+12</td>\n",
       "      <td>14.356514</td>\n",
       "      <td>23.510429</td>\n",
       "      <td>22.057394</td>\n",
       "      <td>-15.245951</td>\n",
       "      <td>-10.131468</td>\n",
       "      <td>4.993167</td>\n",
       "    </tr>\n",
       "    <tr>\n",
       "      <td>AMZN</td>\n",
       "      <td>2019-12-20</td>\n",
       "      <td>NaN</td>\n",
       "      <td>0.012640</td>\n",
       "      <td>0.022334</td>\n",
       "      <td>8.977162e+11</td>\n",
       "      <td>15.886534</td>\n",
       "      <td>79.114854</td>\n",
       "      <td>44.773878</td>\n",
       "      <td>-14.129031</td>\n",
       "      <td>-11.637230</td>\n",
       "      <td>3.381636</td>\n",
       "    </tr>\n",
       "    <tr>\n",
       "      <td>MSFT</td>\n",
       "      <td>2019-12-20</td>\n",
       "      <td>0.011575</td>\n",
       "      <td>0.033733</td>\n",
       "      <td>0.031717</td>\n",
       "      <td>1.218196e+12</td>\n",
       "      <td>11.485805</td>\n",
       "      <td>29.644133</td>\n",
       "      <td>31.528443</td>\n",
       "      <td>-174.077735</td>\n",
       "      <td>-59.044724</td>\n",
       "      <td>9.384165</td>\n",
       "    </tr>\n",
       "  </tbody>\n",
       "</table>\n",
       "</div>"
      ],
      "text/plain": [
       "                   Dividend Yield  Earnings Yield  FCF Yield    Market-Cap  \\\n",
       "Ticker Date                                                                  \n",
       "AAPL   2019-12-20        0.010868        0.042534   0.045336  1.299092e+12   \n",
       "AMZN   2019-12-20             NaN        0.012640   0.022334  8.977162e+11   \n",
       "MSFT   2019-12-20        0.011575        0.033733   0.031717  1.218196e+12   \n",
       "\n",
       "                      P/Book        P/E      P/FCF      P/NCAV   P/NetNet  \\\n",
       "Ticker Date                                                                 \n",
       "AAPL   2019-12-20  14.356514  23.510429  22.057394  -15.245951 -10.131468   \n",
       "AMZN   2019-12-20  15.886534  79.114854  44.773878  -14.129031 -11.637230   \n",
       "MSFT   2019-12-20  11.485805  29.644133  31.528443 -174.077735 -59.044724   \n",
       "\n",
       "                    P/Sales  \n",
       "Ticker Date                  \n",
       "AAPL   2019-12-20  4.993167  \n",
       "AMZN   2019-12-20  3.381636  \n",
       "MSFT   2019-12-20  9.384165  "
      ]
     },
     "execution_count": 28,
     "metadata": {},
     "output_type": "execute_result"
    }
   ],
   "source": [
    "df_val_signals_latest.head()"
   ]
  },
  {
   "cell_type": "markdown",
   "metadata": {},
   "source": [
    "We may also calculate the valuation signals for daily data-points, simply by setting the argument `variant='daily'`:"
   ]
  },
  {
   "cell_type": "code",
   "execution_count": 29,
   "metadata": {},
   "outputs": [
    {
     "name": "stdout",
     "output_type": "stream",
     "text": [
      "Cache-file 'val_signals-a6127cfd.pickle' not on disk.\n",
      "- Running function val_signals() ... Done!\n",
      "- Saving cache-file to disk ... Done!\n",
      "CPU times: user 222 ms, sys: 11.8 ms, total: 234 ms\n",
      "Wall time: 229 ms\n"
     ]
    }
   ],
   "source": [
    "%%time\n",
    "df_val_signals_daily = hub.val_signals(variant='daily')"
   ]
  },
  {
   "cell_type": "code",
   "execution_count": 30,
   "metadata": {},
   "outputs": [
    {
     "data": {
      "text/html": [
       "<div>\n",
       "<style scoped>\n",
       "    .dataframe tbody tr th:only-of-type {\n",
       "        vertical-align: middle;\n",
       "    }\n",
       "\n",
       "    .dataframe tbody tr th {\n",
       "        vertical-align: top;\n",
       "    }\n",
       "\n",
       "    .dataframe thead th {\n",
       "        text-align: right;\n",
       "    }\n",
       "</style>\n",
       "<table border=\"1\" class=\"dataframe\">\n",
       "  <thead>\n",
       "    <tr style=\"text-align: right;\">\n",
       "      <th></th>\n",
       "      <th></th>\n",
       "      <th>Dividend Yield</th>\n",
       "      <th>Earnings Yield</th>\n",
       "      <th>FCF Yield</th>\n",
       "      <th>Market-Cap</th>\n",
       "      <th>P/Book</th>\n",
       "      <th>P/E</th>\n",
       "      <th>P/FCF</th>\n",
       "      <th>P/NCAV</th>\n",
       "      <th>P/NetNet</th>\n",
       "      <th>P/Sales</th>\n",
       "    </tr>\n",
       "    <tr>\n",
       "      <th>Ticker</th>\n",
       "      <th>Date</th>\n",
       "      <th></th>\n",
       "      <th></th>\n",
       "      <th></th>\n",
       "      <th></th>\n",
       "      <th></th>\n",
       "      <th></th>\n",
       "      <th></th>\n",
       "      <th></th>\n",
       "      <th></th>\n",
       "      <th></th>\n",
       "    </tr>\n",
       "  </thead>\n",
       "  <tbody>\n",
       "    <tr>\n",
       "      <td rowspan=\"5\" valign=\"top\">AAPL</td>\n",
       "      <td>2010-06-01</td>\n",
       "      <td>NaN</td>\n",
       "      <td>0.045227</td>\n",
       "      <td>0.050468</td>\n",
       "      <td>2.390632e+11</td>\n",
       "      <td>6.075612</td>\n",
       "      <td>22.110910</td>\n",
       "      <td>19.814601</td>\n",
       "      <td>16.343964</td>\n",
       "      <td>30.148580</td>\n",
       "      <td>4.676235</td>\n",
       "    </tr>\n",
       "    <tr>\n",
       "      <td>2010-06-02</td>\n",
       "      <td>NaN</td>\n",
       "      <td>0.044692</td>\n",
       "      <td>0.049871</td>\n",
       "      <td>2.419227e+11</td>\n",
       "      <td>6.148285</td>\n",
       "      <td>22.375389</td>\n",
       "      <td>20.051612</td>\n",
       "      <td>16.539461</td>\n",
       "      <td>30.509200</td>\n",
       "      <td>4.732170</td>\n",
       "    </tr>\n",
       "    <tr>\n",
       "      <td>2010-06-03</td>\n",
       "      <td>NaN</td>\n",
       "      <td>0.044833</td>\n",
       "      <td>0.050029</td>\n",
       "      <td>2.411624e+11</td>\n",
       "      <td>6.128963</td>\n",
       "      <td>22.305071</td>\n",
       "      <td>19.988597</td>\n",
       "      <td>16.487484</td>\n",
       "      <td>30.413320</td>\n",
       "      <td>4.717298</td>\n",
       "    </tr>\n",
       "    <tr>\n",
       "      <td>2010-06-04</td>\n",
       "      <td>NaN</td>\n",
       "      <td>0.046086</td>\n",
       "      <td>0.051427</td>\n",
       "      <td>2.346042e+11</td>\n",
       "      <td>5.962289</td>\n",
       "      <td>21.698497</td>\n",
       "      <td>19.445019</td>\n",
       "      <td>16.039116</td>\n",
       "      <td>29.586248</td>\n",
       "      <td>4.589014</td>\n",
       "    </tr>\n",
       "    <tr>\n",
       "      <td>2010-06-07</td>\n",
       "      <td>NaN</td>\n",
       "      <td>0.047009</td>\n",
       "      <td>0.052457</td>\n",
       "      <td>2.299989e+11</td>\n",
       "      <td>5.845249</td>\n",
       "      <td>21.272555</td>\n",
       "      <td>19.063312</td>\n",
       "      <td>15.724268</td>\n",
       "      <td>29.005469</td>\n",
       "      <td>4.498931</td>\n",
       "    </tr>\n",
       "  </tbody>\n",
       "</table>\n",
       "</div>"
      ],
      "text/plain": [
       "                   Dividend Yield  Earnings Yield  FCF Yield    Market-Cap  \\\n",
       "Ticker Date                                                                  \n",
       "AAPL   2010-06-01             NaN        0.045227   0.050468  2.390632e+11   \n",
       "       2010-06-02             NaN        0.044692   0.049871  2.419227e+11   \n",
       "       2010-06-03             NaN        0.044833   0.050029  2.411624e+11   \n",
       "       2010-06-04             NaN        0.046086   0.051427  2.346042e+11   \n",
       "       2010-06-07             NaN        0.047009   0.052457  2.299989e+11   \n",
       "\n",
       "                     P/Book        P/E      P/FCF     P/NCAV   P/NetNet  \\\n",
       "Ticker Date                                                               \n",
       "AAPL   2010-06-01  6.075612  22.110910  19.814601  16.343964  30.148580   \n",
       "       2010-06-02  6.148285  22.375389  20.051612  16.539461  30.509200   \n",
       "       2010-06-03  6.128963  22.305071  19.988597  16.487484  30.413320   \n",
       "       2010-06-04  5.962289  21.698497  19.445019  16.039116  29.586248   \n",
       "       2010-06-07  5.845249  21.272555  19.063312  15.724268  29.005469   \n",
       "\n",
       "                    P/Sales  \n",
       "Ticker Date                  \n",
       "AAPL   2010-06-01  4.676235  \n",
       "       2010-06-02  4.732170  \n",
       "       2010-06-03  4.717298  \n",
       "       2010-06-04  4.589014  \n",
       "       2010-06-07  4.498931  "
      ]
     },
     "execution_count": 30,
     "metadata": {},
     "output_type": "execute_result"
    }
   ],
   "source": [
    "df_val_signals_daily.dropna(how='all').head()"
   ]
  },
  {
   "cell_type": "markdown",
   "metadata": {},
   "source": [
    "## Calculate Returns\n",
    "\n",
    "The data-hub also provides functions for easily calculating stock-returns for different investment durations. Let us first calculate the annualized future stock-returns for all 3-year investment periods."
   ]
  },
  {
   "cell_type": "code",
   "execution_count": 31,
   "metadata": {},
   "outputs": [],
   "source": [
    "# Name of the new Pandas Series with the stock-returns.\n",
    "TOTAL_RETURN_3Y = 'Total Return 3-Year'"
   ]
  },
  {
   "cell_type": "code",
   "execution_count": 32,
   "metadata": {},
   "outputs": [
    {
     "name": "stdout",
     "output_type": "stream",
     "text": [
      "Cache-file 'rel_change-2ab9d7a6.pickle' not on disk.\n",
      "- Running function rel_change() ... Done!\n",
      "- Saving cache-file to disk ... Done!\n",
      "CPU times: user 15.4 ms, sys: 0 ns, total: 15.4 ms\n",
      "Wall time: 14 ms\n"
     ]
    }
   ],
   "source": [
    "%%time\n",
    "df_returns_3y = hub.returns(name=TOTAL_RETURN_3Y, years=3,\n",
    "                            future=True, annualized=True)"
   ]
  },
  {
   "cell_type": "markdown",
   "metadata": {},
   "source": [
    "For example, the calculated return for AAPL on 2007-01-03 is 0.359641, which means that between 2007-01-03 and 2010-01-03 (or the closest trading-day), the annualized return was about 35.96% per year. This is the so-called Total Return which assumes dividends are reinvested without having to pay any taxes."
   ]
  },
  {
   "cell_type": "code",
   "execution_count": 33,
   "metadata": {},
   "outputs": [
    {
     "data": {
      "text/plain": [
       "Date\n",
       "2007-01-03    0.359641\n",
       "2007-01-04    0.356789\n",
       "2007-01-05    0.360885\n",
       "2007-01-08    0.351568\n",
       "2007-01-09    0.314955\n",
       "Name: Total Return 3-Year, dtype: float64"
      ]
     },
     "execution_count": 33,
     "metadata": {},
     "output_type": "execute_result"
    }
   ],
   "source": [
    "df_returns_3y.loc['AAPL']['2007-01-03':'2007-01-09']"
   ]
  },
  {
   "cell_type": "markdown",
   "metadata": {},
   "source": [
    "We can also plot these 3-year annualized returns for the AAPL stock:"
   ]
  },
  {
   "cell_type": "code",
   "execution_count": 34,
   "metadata": {},
   "outputs": [
    {
     "data": {
      "text/plain": [
       "<matplotlib.axes._subplots.AxesSubplot at 0x7fb76ffd3ef0>"
      ]
     },
     "execution_count": 34,
     "metadata": {},
     "output_type": "execute_result"
    },
    {
     "data": {
      "image/png": "[encoded data removed]",
      "text/plain": [
       "<Figure size 432x288 with 1 Axes>"
      ]
     },
     "metadata": {},
     "output_type": "display_data"
    }
   ],
   "source": [
    "df_returns_3y.loc['AAPL'].dropna().plot(grid=True)"
   ]
  },
  {
   "cell_type": "markdown",
   "metadata": {},
   "source": [
    "### Mean-Log Returns\n",
    "\n",
    "It is often useful to consider the average returns e.g. over 1-3 year periods. It is much faster to compute the mean-log returns, and the results are close to the mean returns."
   ]
  },
  {
   "cell_type": "code",
   "execution_count": 35,
   "metadata": {},
   "outputs": [],
   "source": [
    "# Name of the new Pandas Series with the stock-returns.\n",
    "TOTAL_RETURN_1_3Y = 'Total Return 1-3 Years'"
   ]
  },
  {
   "cell_type": "code",
   "execution_count": 36,
   "metadata": {},
   "outputs": [
    {
     "name": "stdout",
     "output_type": "stream",
     "text": [
      "Cache-file 'mean_log_change-257ab99e.pickle' not on disk.\n",
      "- Running function mean_log_change() ... Done!\n",
      "- Saving cache-file to disk ... Done!\n",
      "CPU times: user 71.1 ms, sys: 199 µs, total: 71.3 ms\n",
      "Wall time: 69.3 ms\n"
     ]
    }
   ],
   "source": [
    "%%time\n",
    "df_returns_1_3y = \\\n",
    "    hub.mean_log_returns(name=TOTAL_RETURN_1_3Y,\n",
    "                         min_years=1, max_years=3,\n",
    "                         future=True, annualized=True)"
   ]
  },
  {
   "cell_type": "markdown",
   "metadata": {},
   "source": [
    "For ticker AAPL, the mean-log return was 0.277523 for all 1-3 year investment periods between 2007-01-03 and 2010-01-03. This means that if you had bought AAPL stock on 2007-01-03 and sold them somewhere between 2008-01-03 and 2010-01-03, then on average you would have made roughly 28% per year, depending on exactly when you had sold the stocks in this 1-3 year period. Note that the mean-log return corresponds roughly to the (non-log) mean returns for values in this range."
   ]
  },
  {
   "cell_type": "code",
   "execution_count": 37,
   "metadata": {},
   "outputs": [
    {
     "data": {
      "text/plain": [
       "Date\n",
       "2007-01-03    0.277523\n",
       "2007-01-04    0.265312\n",
       "2007-01-05    0.269260\n",
       "2007-01-08    0.266535\n",
       "2007-01-09    0.222106\n",
       "Name: Total Return 1-3 Years, dtype: float64"
      ]
     },
     "execution_count": 37,
     "metadata": {},
     "output_type": "execute_result"
    }
   ],
   "source": [
    "df_returns_1_3y.loc['AAPL']['2007-01-03':'2007-01-09']"
   ]
  },
  {
   "cell_type": "markdown",
   "metadata": {},
   "source": [
    "We can also plot the mean-log returns for 1-3 year investment periods for the AAPL stock:"
   ]
  },
  {
   "cell_type": "code",
   "execution_count": 38,
   "metadata": {},
   "outputs": [
    {
     "data": {
      "text/plain": [
       "<matplotlib.axes._subplots.AxesSubplot at 0x7fb76f35a080>"
      ]
     },
     "execution_count": 38,
     "metadata": {},
     "output_type": "execute_result"
    },
    {
     "data": {
      "image/png": "[encoded data removed]",
      "text/plain": [
       "<Figure size 432x288 with 1 Axes>"
      ]
     },
     "metadata": {},
     "output_type": "display_data"
    }
   ],
   "source": [
    "df_returns_1_3y.loc['AAPL'].dropna().plot(grid=True)"
   ]
  },
  {
   "cell_type": "markdown",
   "metadata": {},
   "source": [
    "## Combine Signals and Returns\n",
    "\n",
    "Let us now combine the stock-returns and the signals we are interested in, into a single DataFrame that is easier to work with:"
   ]
  },
  {
   "cell_type": "code",
   "execution_count": 39,
   "metadata": {},
   "outputs": [],
   "source": [
    "# List of all the DataFrames with different signals.\n",
    "dfs = [df_price_signals, df_fin_signals_daily,\n",
    "       df_growth_signals_daily, df_val_signals_daily]\n",
    "\n",
    "# Combine all the signal DataFrames into a single DataFrame.\n",
    "df_all_signals = pd.concat(dfs, axis=1)\n",
    "\n",
    "# DataFrame with the signals we are interested in, for example.\n",
    "signals = [PE, PSALES, CURRENT_RATIO, MAVG_20]\n",
    "df_signals = df_all_signals[signals]\n",
    "\n",
    "# DataFrame with the signals and stock-returns.\n",
    "dfs = [df_signals, df_returns_3y, df_returns_1_3y]\n",
    "df_combined = pd.concat(dfs, axis=1)\n",
    "\n",
    "# Remove rows with any NaN values.\n",
    "df_combined = df_combined.dropna(how='any')"
   ]
  },
  {
   "cell_type": "code",
   "execution_count": 40,
   "metadata": {},
   "outputs": [
    {
     "data": {
      "text/html": [
       "<div>\n",
       "<style scoped>\n",
       "    .dataframe tbody tr th:only-of-type {\n",
       "        vertical-align: middle;\n",
       "    }\n",
       "\n",
       "    .dataframe tbody tr th {\n",
       "        vertical-align: top;\n",
       "    }\n",
       "\n",
       "    .dataframe thead th {\n",
       "        text-align: right;\n",
       "    }\n",
       "</style>\n",
       "<table border=\"1\" class=\"dataframe\">\n",
       "  <thead>\n",
       "    <tr style=\"text-align: right;\">\n",
       "      <th></th>\n",
       "      <th></th>\n",
       "      <th>P/E</th>\n",
       "      <th>P/Sales</th>\n",
       "      <th>Current Ratio</th>\n",
       "      <th>MAVG 20</th>\n",
       "      <th>Total Return 3-Year</th>\n",
       "      <th>Total Return 1-3 Years</th>\n",
       "    </tr>\n",
       "    <tr>\n",
       "      <th>Ticker</th>\n",
       "      <th>Date</th>\n",
       "      <th></th>\n",
       "      <th></th>\n",
       "      <th></th>\n",
       "      <th></th>\n",
       "      <th></th>\n",
       "      <th></th>\n",
       "    </tr>\n",
       "  </thead>\n",
       "  <tbody>\n",
       "    <tr>\n",
       "      <td rowspan=\"5\" valign=\"top\">AAPL</td>\n",
       "      <td>2010-06-01</td>\n",
       "      <td>22.110910</td>\n",
       "      <td>4.676235</td>\n",
       "      <td>2.644206</td>\n",
       "      <td>35.883590</td>\n",
       "      <td>0.207653</td>\n",
       "      <td>0.314334</td>\n",
       "    </tr>\n",
       "    <tr>\n",
       "      <td>2010-06-02</td>\n",
       "      <td>22.375389</td>\n",
       "      <td>4.732170</td>\n",
       "      <td>2.644206</td>\n",
       "      <td>35.921230</td>\n",
       "      <td>0.203691</td>\n",
       "      <td>0.308274</td>\n",
       "    </tr>\n",
       "    <tr>\n",
       "      <td>2010-06-03</td>\n",
       "      <td>22.305071</td>\n",
       "      <td>4.717298</td>\n",
       "      <td>2.644206</td>\n",
       "      <td>35.972195</td>\n",
       "      <td>0.203844</td>\n",
       "      <td>0.310623</td>\n",
       "    </tr>\n",
       "    <tr>\n",
       "      <td>2010-06-04</td>\n",
       "      <td>21.698497</td>\n",
       "      <td>4.589014</td>\n",
       "      <td>2.644206</td>\n",
       "      <td>36.041585</td>\n",
       "      <td>0.211123</td>\n",
       "      <td>0.326294</td>\n",
       "    </tr>\n",
       "    <tr>\n",
       "      <td>2010-06-07</td>\n",
       "      <td>21.272555</td>\n",
       "      <td>4.498931</td>\n",
       "      <td>2.644206</td>\n",
       "      <td>36.149300</td>\n",
       "      <td>0.213025</td>\n",
       "      <td>0.337643</td>\n",
       "    </tr>\n",
       "  </tbody>\n",
       "</table>\n",
       "</div>"
      ],
      "text/plain": [
       "                         P/E   P/Sales  Current Ratio    MAVG 20  \\\n",
       "Ticker Date                                                        \n",
       "AAPL   2010-06-01  22.110910  4.676235       2.644206  35.883590   \n",
       "       2010-06-02  22.375389  4.732170       2.644206  35.921230   \n",
       "       2010-06-03  22.305071  4.717298       2.644206  35.972195   \n",
       "       2010-06-04  21.698497  4.589014       2.644206  36.041585   \n",
       "       2010-06-07  21.272555  4.498931       2.644206  36.149300   \n",
       "\n",
       "                   Total Return 3-Year  Total Return 1-3 Years  \n",
       "Ticker Date                                                     \n",
       "AAPL   2010-06-01             0.207653                0.314334  \n",
       "       2010-06-02             0.203691                0.308274  \n",
       "       2010-06-03             0.203844                0.310623  \n",
       "       2010-06-04             0.211123                0.326294  \n",
       "       2010-06-07             0.213025                0.337643  "
      ]
     },
     "execution_count": 40,
     "metadata": {},
     "output_type": "execute_result"
    }
   ],
   "source": [
    "df_combined.head()"
   ]
  },
  {
   "cell_type": "markdown",
   "metadata": {},
   "source": [
    "We can then plot e.g. the P/Sales ratios versus the future 1-3 year stock-returns:"
   ]
  },
  {
   "cell_type": "code",
   "execution_count": 41,
   "metadata": {},
   "outputs": [
    {
     "data": {
      "text/plain": [
       "<matplotlib.axes._subplots.AxesSubplot at 0x7fb76d036f28>"
      ]
     },
     "execution_count": 41,
     "metadata": {},
     "output_type": "execute_result"
    },
    {
     "data": {
      "image/png": "[encoded data removed]",
      "text/plain": [
       "<Figure size 432x288 with 1 Axes>"
      ]
     },
     "metadata": {},
     "output_type": "display_data"
    }
   ],
   "source": [
    "sns.scatterplot(x=PSALES, y=TOTAL_RETURN_1_3Y, hue=TICKER,\n",
    "                data=df_combined.reset_index())"
   ]
  },
  {
   "cell_type": "markdown",
   "metadata": {},
   "source": [
    "### NumPy Arrays\n",
    "\n",
    "If you want to use the signals and stock-returns with functions that accept NumPy arrays instead of Pandas DataFrames, it is very easy to convert from Pandas to NumPy, because Pandas uses NumPy internally:"
   ]
  },
  {
   "cell_type": "code",
   "execution_count": 42,
   "metadata": {},
   "outputs": [],
   "source": [
    "# Get the numpy array with the signals and stock-returns\n",
    "# from the Pandas DataFrame.\n",
    "arr = df_combined.values\n",
    "\n",
    "# Number of signals in the DataFrame.\n",
    "num_signals = 4\n",
    "\n",
    "# Numpy array with the signals.\n",
    "arr_signals = arr[:, :num_signals]\n",
    "\n",
    "# Numpy array with the returns.\n",
    "arr_returns = arr[:, num_signals:]"
   ]
  },
  {
   "cell_type": "markdown",
   "metadata": {},
   "source": [
    "This is the NumPy array with the signals that we are interested in:"
   ]
  },
  {
   "cell_type": "code",
   "execution_count": 43,
   "metadata": {},
   "outputs": [
    {
     "data": {
      "text/plain": [
       "array([[22.11091028,  4.676235  ,  2.64420639, 35.88359   ],\n",
       "       [22.37538861,  4.73216951,  2.64420639, 35.92123   ],\n",
       "       [22.30507072,  4.71729798,  2.64420639, 35.972195  ],\n",
       "       ...,\n",
       "       [23.28061866,  5.35009978,  2.68507057, 61.045     ],\n",
       "       [23.77388378,  5.46345663,  2.68507057, 61.2085    ],\n",
       "       [23.74398892,  5.45658652,  2.68507057, 61.3425    ]])"
      ]
     },
     "execution_count": 43,
     "metadata": {},
     "output_type": "execute_result"
    }
   ],
   "source": [
    "arr_signals"
   ]
  },
  {
   "cell_type": "code",
   "execution_count": 44,
   "metadata": {},
   "outputs": [
    {
     "data": {
      "text/plain": [
       "(4959, 4)"
      ]
     },
     "execution_count": 44,
     "metadata": {},
     "output_type": "execute_result"
    }
   ],
   "source": [
    "arr_signals.shape"
   ]
  },
  {
   "cell_type": "markdown",
   "metadata": {},
   "source": [
    "This is the NumPy array with the two kinds of stock-returns that we calculated:"
   ]
  },
  {
   "cell_type": "code",
   "execution_count": 45,
   "metadata": {},
   "outputs": [
    {
     "data": {
      "text/plain": [
       "array([[0.20765287, 0.31433411],\n",
       "       [0.2036908 , 0.30827427],\n",
       "       [0.20384442, 0.31062266],\n",
       "       ...,\n",
       "       [0.37773349, 0.32155831],\n",
       "       [0.37209097, 0.31072557],\n",
       "       [0.37767608, 0.31214757]])"
      ]
     },
     "execution_count": 45,
     "metadata": {},
     "output_type": "execute_result"
    }
   ],
   "source": [
    "arr_returns"
   ]
  },
  {
   "cell_type": "code",
   "execution_count": 46,
   "metadata": {},
   "outputs": [
    {
     "data": {
      "text/plain": [
       "(4959, 2)"
      ]
     },
     "execution_count": 46,
     "metadata": {},
     "output_type": "execute_result"
    }
   ],
   "source": [
    "arr_returns.shape"
   ]
  },
  {
   "cell_type": "markdown",
   "metadata": {},
   "source": [
    "Because the two NumPy arrays have the same number of rows, they can easily be fed into different Machine Learning libraries, which we might do in a future tutorial."
   ]
  },
  {
   "cell_type": "markdown",
   "metadata": {},
   "source": [
    "## License (MIT)\n",
    "\n",
    "This is published under the\n",
    "[MIT License](https://github.com/simfin/simfin-tutorials/blob/master/LICENSE.txt)\n",
    "which allows very broad use for both academic and commercial purposes.\n",
    "\n",
    "You are very welcome to modify and use this source-code in your own project. Please keep a link to the [original repository](https://github.com/simfin/simfin-tutorials).\n"
   ]
  }
 ],
 "metadata": {
  "kernelspec": {
   "display_name": "Python 3",
   "language": "python",
   "name": "python3"
  },
  "language_info": {
   "codemirror_mode": {
    "name": "ipython",
    "version": 3
   },
   "file_extension": ".py",
   "mimetype": "text/x-python",
   "name": "python",
   "nbconvert_exporter": "python",
   "pygments_lexer": "ipython3",
   "version": "3.6.8"
  }
 },
 "nbformat": 4,
 "nbformat_minor": 2
}
