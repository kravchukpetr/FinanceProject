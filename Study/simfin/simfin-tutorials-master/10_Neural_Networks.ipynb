{
 "cells": [
  {
   "cell_type": "markdown",
   "metadata": {},
   "source": [
    "# SimFin Tutorial 10 - Neural Networks\n",
    "\n",
    "[Original repository on GitHub](https://github.com/simfin/simfin-tutorials)\n",
    "\n",
    "This tutorial was originally written by [Hvass Labs](https://github.com/Hvass-Labs)\n",
    "\n",
    "----\n",
    "\n",
    "\"The attackers can be stopped by removing the head or destroying the brain.\" &ndash; [Shaun of The Dead](https://www.youtube.com/watch?v=ONEZfj6h1xc)"
   ]
  },
  {
   "cell_type": "markdown",
   "metadata": {},
   "source": [
    "## Introduction\n",
    "\n",
    "In the previous tutorial we used a Machine Learning (ML) model to try and predict future stock-returns for 1-3 year investment periods given various signals. This worked quite well on the training-set, but unfortunately it failed to generalize to the test-set.\n",
    "\n",
    "In this tutorial we will use a so-called Neural Network, which has become very fashionable in recent years, because they have been able to solve extremely hard problems, that were previously impossible to solve.\n",
    "\n",
    "Unfortunately, Neural Networks have become so hyped, that people sometimes misunderstand what they really are: A Neural Network is just a function approximator that maps some input x (e.g. signals) to some output y (e.g. stock-returns). It consists of a number of layers of both linear and non-linear mappings, whose parameters will be learned during the training process, so it learns to map from x to y in the training-set, and the learned mapping hopefully generalizes to new data.\n",
    "\n",
    "In theory, a Neural Network is capable of approximating any function to any desired degree of precision - but what is truly important, is not how well it performs on the training-set, but how well it performs on new data that it has not seen during the training.\n",
    "\n",
    "This tutorial shows how to use financial data from SimFin with the TensorFlow library for creating Neural Networks. It is assumed you are already familiar with both."
   ]
  },
  {
   "cell_type": "markdown",
   "metadata": {},
   "source": [
    "## Imports"
   ]
  },
  {
   "cell_type": "code",
   "execution_count": 1,
   "metadata": {},
   "outputs": [],
   "source": [
    "%matplotlib inline\n",
    "import pandas as pd\n",
    "import numpy as np\n",
    "import seaborn as sns\n",
    "\n",
    "# TensorFlow and Keras imports.\n",
    "import tensorflow as tf\n",
    "from tensorflow import keras\n",
    "from tensorflow.keras import Sequential\n",
    "from tensorflow.keras.optimizers import RMSprop\n",
    "from tensorflow.keras.layers import Dense, InputLayer\n",
    "from tensorflow.keras.utils import to_categorical\n",
    "\n",
    "# Scikit-learn imports.\n",
    "from sklearn.model_selection import train_test_split\n",
    "from sklearn.metrics import confusion_matrix\n",
    "from sklearn.metrics import r2_score, accuracy_score\n",
    "from sklearn.preprocessing import StandardScaler\n",
    "from sklearn.utils.class_weight import compute_class_weight\n",
    "\n",
    "# Import the main functionality from the SimFin Python API.\n",
    "import simfin as sf\n",
    "\n",
    "# Import names used for easy access to SimFin's data-columns.\n",
    "from simfin.names import *"
   ]
  },
  {
   "cell_type": "code",
   "execution_count": 2,
   "metadata": {},
   "outputs": [
    {
     "data": {
      "text/plain": [
       "'0.3.0'"
      ]
     },
     "execution_count": 2,
     "metadata": {},
     "output_type": "execute_result"
    }
   ],
   "source": [
    "# Version of the SimFin Python API.\n",
    "sf.__version__"
   ]
  },
  {
   "cell_type": "code",
   "execution_count": 3,
   "metadata": {},
   "outputs": [
    {
     "data": {
      "text/plain": [
       "'2.0.0'"
      ]
     },
     "execution_count": 3,
     "metadata": {},
     "output_type": "execute_result"
    }
   ],
   "source": [
    "# TensorFlow version.\n",
    "tf.__version__"
   ]
  },
  {
   "cell_type": "markdown",
   "metadata": {},
   "source": [
    "## SimFin Config"
   ]
  },
  {
   "cell_type": "code",
   "execution_count": 4,
   "metadata": {},
   "outputs": [],
   "source": [
    "# SimFin data-directory.\n",
    "sf.set_data_dir('~/simfin_data/')"
   ]
  },
  {
   "cell_type": "code",
   "execution_count": 5,
   "metadata": {},
   "outputs": [],
   "source": [
    "# SimFin load API key or use free data.\n",
    "sf.load_api_key(path='~/simfin_api_key.txt', default_key='free')"
   ]
  },
  {
   "cell_type": "code",
   "execution_count": 6,
   "metadata": {},
   "outputs": [],
   "source": [
    "# Seaborn set plotting style.\n",
    "sns.set_style(\"whitegrid\")"
   ]
  },
  {
   "cell_type": "markdown",
   "metadata": {},
   "source": [
    "## Data Hub\n",
    "\n",
    "We use a `StockHub` object to easily load and process financial data with these settings:"
   ]
  },
  {
   "cell_type": "code",
   "execution_count": 7,
   "metadata": {},
   "outputs": [],
   "source": [
    "# We are interested in the US stock-market.\n",
    "market = 'us'\n",
    "\n",
    "# Add this date-offset to the fundamental data such as\n",
    "# Income Statements etc., because the REPORT_DATE is not\n",
    "# when it was actually made available to the public,\n",
    "# which can be 1, 2 or even 3 months after the Report Date.\n",
    "offset = pd.DateOffset(days=60)\n",
    "\n",
    "# Refresh the fundamental datasets (Income Statements etc.)\n",
    "# every 30 days.\n",
    "refresh_days = 30\n",
    "\n",
    "# Refresh the dataset with shareprices every 10 days.\n",
    "refresh_days_shareprices = 10"
   ]
  },
  {
   "cell_type": "code",
   "execution_count": 8,
   "metadata": {},
   "outputs": [
    {
     "name": "stdout",
     "output_type": "stream",
     "text": [
      "CPU times: user 23 µs, sys: 4 µs, total: 27 µs\n",
      "Wall time: 33.4 µs\n"
     ]
    }
   ],
   "source": [
    "%%time\n",
    "hub = sf.StockHub(market=market, offset=offset,\n",
    "                  refresh_days=refresh_days,\n",
    "                  refresh_days_shareprices=refresh_days_shareprices)"
   ]
  },
  {
   "cell_type": "markdown",
   "metadata": {},
   "source": [
    "## Signals\n",
    "\n",
    "First we calculate financial signals for the stocks, such as the Current Ratio, Debt Ratio, Net Profit Margin, Return on Assets, etc. These are calculated using data from the financial reports: Income Statements, Balance Sheets and Cash-Flow Statements, which are automatically downloaded and loaded by the data-hub."
   ]
  },
  {
   "cell_type": "code",
   "execution_count": 9,
   "metadata": {},
   "outputs": [
    {
     "name": "stdout",
     "output_type": "stream",
     "text": [
      "Dataset \"us-income-ttm\" on disk (1 days old).\n",
      "- Loading from disk ... Done!\n",
      "Dataset \"us-balance-ttm\" on disk (1 days old).\n",
      "- Loading from disk ... Done!\n",
      "Dataset \"us-shareprices-daily\" on disk (1 days old).\n",
      "- Loading from disk ... Done!\n",
      "Cache-file 'fin_signals-2a38bb7d.pickle' on disk (1 days old).\n",
      "- Loading from disk ... Done!\n",
      "CPU times: user 14.4 s, sys: 1.05 s, total: 15.5 s\n",
      "Wall time: 15.5 s\n"
     ]
    }
   ],
   "source": [
    "%%time\n",
    "df_fin_signals = hub.fin_signals(variant='daily')"
   ]
  },
  {
   "cell_type": "markdown",
   "metadata": {},
   "source": [
    "Now we calculate growth signals for the stocks, such as Earnings Growth, FCF Growth, Sales Growth, etc. These are also calculated using data from the financial reports: Income Statements, Balance Sheets and Cash-Flow Statements, which are automatically downloaded and loaded by the data-hub."
   ]
  },
  {
   "cell_type": "code",
   "execution_count": 10,
   "metadata": {},
   "outputs": [
    {
     "name": "stdout",
     "output_type": "stream",
     "text": [
      "Dataset \"us-income-quarterly\" on disk (1 days old).\n",
      "- Loading from disk ... Done!\n",
      "Dataset \"us-cashflow-ttm\" on disk (1 days old).\n",
      "- Loading from disk ... Done!\n",
      "Dataset \"us-cashflow-quarterly\" on disk (1 days old).\n",
      "- Loading from disk ... Done!\n",
      "Cache-file 'growth_signals-2a38bb7d.pickle' on disk (1 days old).\n",
      "- Loading from disk ... Done!\n",
      "CPU times: user 817 ms, sys: 296 ms, total: 1.11 s\n",
      "Wall time: 1.11 s\n"
     ]
    }
   ],
   "source": [
    "%%time\n",
    "df_growth_signals = hub.growth_signals(variant='daily')"
   ]
  },
  {
   "cell_type": "markdown",
   "metadata": {},
   "source": [
    "Now we calculate valuation signals for the stocks, such as P/E, P/Sales, etc. These are calculated from the share-prices and data from the financial reports. Because the data-hub has already loaded the required datasets in the function-calls above, the data is merely reused here, and the data-hub can proceed directly to computing the signals."
   ]
  },
  {
   "cell_type": "code",
   "execution_count": 11,
   "metadata": {},
   "outputs": [
    {
     "name": "stdout",
     "output_type": "stream",
     "text": [
      "Cache-file 'val_signals-739b68a6.pickle' on disk (1 days old).\n",
      "- Loading from disk ... Done!\n",
      "CPU times: user 137 ms, sys: 276 ms, total: 413 ms\n",
      "Wall time: 413 ms\n"
     ]
    }
   ],
   "source": [
    "%%time\n",
    "df_val_signals = hub.val_signals(variant='daily')"
   ]
  },
  {
   "cell_type": "markdown",
   "metadata": {},
   "source": [
    "We now combine all the signals into a single DataFrame:"
   ]
  },
  {
   "cell_type": "code",
   "execution_count": 12,
   "metadata": {},
   "outputs": [
    {
     "name": "stdout",
     "output_type": "stream",
     "text": [
      "CPU times: user 1.39 s, sys: 219 ms, total: 1.61 s\n",
      "Wall time: 1.61 s\n"
     ]
    }
   ],
   "source": [
    "%%time\n",
    "# Combine the DataFrames.\n",
    "dfs = [df_fin_signals, df_growth_signals, df_val_signals]\n",
    "df_signals = pd.concat(dfs, axis=1)"
   ]
  },
  {
   "cell_type": "markdown",
   "metadata": {},
   "source": [
    "We can then show the results:"
   ]
  },
  {
   "cell_type": "code",
   "execution_count": 13,
   "metadata": {
    "scrolled": true
   },
   "outputs": [
    {
     "data": {
      "text/html": [
       "<div>\n",
       "<style scoped>\n",
       "    .dataframe tbody tr th:only-of-type {\n",
       "        vertical-align: middle;\n",
       "    }\n",
       "\n",
       "    .dataframe tbody tr th {\n",
       "        vertical-align: top;\n",
       "    }\n",
       "\n",
       "    .dataframe thead th {\n",
       "        text-align: right;\n",
       "    }\n",
       "</style>\n",
       "<table border=\"1\" class=\"dataframe\">\n",
       "  <thead>\n",
       "    <tr style=\"text-align: right;\">\n",
       "      <th></th>\n",
       "      <th></th>\n",
       "      <th>Asset Turnover</th>\n",
       "      <th>Current Ratio</th>\n",
       "      <th>Debt Ratio</th>\n",
       "      <th>Gross Profit Margin</th>\n",
       "      <th>Net Profit Margin</th>\n",
       "      <th>Return on Assets</th>\n",
       "      <th>Return on Equity</th>\n",
       "      <th>Earnings Growth</th>\n",
       "      <th>Earnings Growth QOQ</th>\n",
       "      <th>Earnings Growth YOY</th>\n",
       "      <th>...</th>\n",
       "      <th>Dividend Yield</th>\n",
       "      <th>Earnings Yield</th>\n",
       "      <th>FCF Yield</th>\n",
       "      <th>Market-Cap</th>\n",
       "      <th>P/Book</th>\n",
       "      <th>P/E</th>\n",
       "      <th>P/FCF</th>\n",
       "      <th>P/NCAV</th>\n",
       "      <th>P/NetNet</th>\n",
       "      <th>P/Sales</th>\n",
       "    </tr>\n",
       "    <tr>\n",
       "      <th>Ticker</th>\n",
       "      <th>Date</th>\n",
       "      <th></th>\n",
       "      <th></th>\n",
       "      <th></th>\n",
       "      <th></th>\n",
       "      <th></th>\n",
       "      <th></th>\n",
       "      <th></th>\n",
       "      <th></th>\n",
       "      <th></th>\n",
       "      <th></th>\n",
       "      <th></th>\n",
       "      <th></th>\n",
       "      <th></th>\n",
       "      <th></th>\n",
       "      <th></th>\n",
       "      <th></th>\n",
       "      <th></th>\n",
       "      <th></th>\n",
       "      <th></th>\n",
       "      <th></th>\n",
       "      <th></th>\n",
       "    </tr>\n",
       "  </thead>\n",
       "  <tbody>\n",
       "    <tr>\n",
       "      <th rowspan=\"5\" valign=\"top\">A</th>\n",
       "      <th>2011-06-29</th>\n",
       "      <td>NaN</td>\n",
       "      <td>3.201005</td>\n",
       "      <td>0.24789</td>\n",
       "      <td>0.532001</td>\n",
       "      <td>0.144574</td>\n",
       "      <td>NaN</td>\n",
       "      <td>NaN</td>\n",
       "      <td>NaN</td>\n",
       "      <td>NaN</td>\n",
       "      <td>NaN</td>\n",
       "      <td>...</td>\n",
       "      <td>NaN</td>\n",
       "      <td>0.049626</td>\n",
       "      <td>0.045221</td>\n",
       "      <td>1.793416e+10</td>\n",
       "      <td>4.527684</td>\n",
       "      <td>20.150736</td>\n",
       "      <td>22.113631</td>\n",
       "      <td>43.956262</td>\n",
       "      <td>-29.990226</td>\n",
       "      <td>2.913281</td>\n",
       "    </tr>\n",
       "    <tr>\n",
       "      <th>2011-06-30</th>\n",
       "      <td>NaN</td>\n",
       "      <td>3.201005</td>\n",
       "      <td>0.24789</td>\n",
       "      <td>0.532001</td>\n",
       "      <td>0.144574</td>\n",
       "      <td>NaN</td>\n",
       "      <td>NaN</td>\n",
       "      <td>NaN</td>\n",
       "      <td>NaN</td>\n",
       "      <td>NaN</td>\n",
       "      <td>...</td>\n",
       "      <td>NaN</td>\n",
       "      <td>0.049121</td>\n",
       "      <td>0.044761</td>\n",
       "      <td>1.811850e+10</td>\n",
       "      <td>4.574222</td>\n",
       "      <td>20.357860</td>\n",
       "      <td>22.340931</td>\n",
       "      <td>44.408076</td>\n",
       "      <td>-30.298487</td>\n",
       "      <td>2.943225</td>\n",
       "    </tr>\n",
       "    <tr>\n",
       "      <th>2011-07-01</th>\n",
       "      <td>NaN</td>\n",
       "      <td>3.201005</td>\n",
       "      <td>0.24789</td>\n",
       "      <td>0.532001</td>\n",
       "      <td>0.144574</td>\n",
       "      <td>NaN</td>\n",
       "      <td>NaN</td>\n",
       "      <td>NaN</td>\n",
       "      <td>NaN</td>\n",
       "      <td>NaN</td>\n",
       "      <td>...</td>\n",
       "      <td>NaN</td>\n",
       "      <td>0.048280</td>\n",
       "      <td>0.043995</td>\n",
       "      <td>1.843400e+10</td>\n",
       "      <td>4.653875</td>\n",
       "      <td>20.712360</td>\n",
       "      <td>22.729963</td>\n",
       "      <td>45.181373</td>\n",
       "      <td>-30.826087</td>\n",
       "      <td>2.994477</td>\n",
       "    </tr>\n",
       "    <tr>\n",
       "      <th>2011-07-05</th>\n",
       "      <td>NaN</td>\n",
       "      <td>3.201005</td>\n",
       "      <td>0.24789</td>\n",
       "      <td>0.532001</td>\n",
       "      <td>0.144574</td>\n",
       "      <td>NaN</td>\n",
       "      <td>NaN</td>\n",
       "      <td>NaN</td>\n",
       "      <td>NaN</td>\n",
       "      <td>NaN</td>\n",
       "      <td>...</td>\n",
       "      <td>NaN</td>\n",
       "      <td>0.048598</td>\n",
       "      <td>0.044284</td>\n",
       "      <td>1.831347e+10</td>\n",
       "      <td>4.623446</td>\n",
       "      <td>20.576933</td>\n",
       "      <td>22.581344</td>\n",
       "      <td>44.885956</td>\n",
       "      <td>-30.624532</td>\n",
       "      <td>2.974898</td>\n",
       "    </tr>\n",
       "    <tr>\n",
       "      <th>2011-07-06</th>\n",
       "      <td>NaN</td>\n",
       "      <td>3.201005</td>\n",
       "      <td>0.24789</td>\n",
       "      <td>0.532001</td>\n",
       "      <td>0.144574</td>\n",
       "      <td>NaN</td>\n",
       "      <td>NaN</td>\n",
       "      <td>NaN</td>\n",
       "      <td>NaN</td>\n",
       "      <td>NaN</td>\n",
       "      <td>...</td>\n",
       "      <td>NaN</td>\n",
       "      <td>0.048448</td>\n",
       "      <td>0.044148</td>\n",
       "      <td>1.837019e+10</td>\n",
       "      <td>4.637766</td>\n",
       "      <td>20.640663</td>\n",
       "      <td>22.651282</td>\n",
       "      <td>45.024975</td>\n",
       "      <td>-30.719381</td>\n",
       "      <td>2.984111</td>\n",
       "    </tr>\n",
       "  </tbody>\n",
       "</table>\n",
       "<p>5 rows × 26 columns</p>\n",
       "</div>"
      ],
      "text/plain": [
       "                   Asset Turnover  Current Ratio  Debt Ratio  \\\n",
       "Ticker Date                                                    \n",
       "A      2011-06-29             NaN       3.201005     0.24789   \n",
       "       2011-06-30             NaN       3.201005     0.24789   \n",
       "       2011-07-01             NaN       3.201005     0.24789   \n",
       "       2011-07-05             NaN       3.201005     0.24789   \n",
       "       2011-07-06             NaN       3.201005     0.24789   \n",
       "\n",
       "                   Gross Profit Margin  Net Profit Margin  Return on Assets  \\\n",
       "Ticker Date                                                                   \n",
       "A      2011-06-29             0.532001           0.144574               NaN   \n",
       "       2011-06-30             0.532001           0.144574               NaN   \n",
       "       2011-07-01             0.532001           0.144574               NaN   \n",
       "       2011-07-05             0.532001           0.144574               NaN   \n",
       "       2011-07-06             0.532001           0.144574               NaN   \n",
       "\n",
       "                   Return on Equity  Earnings Growth  Earnings Growth QOQ  \\\n",
       "Ticker Date                                                                 \n",
       "A      2011-06-29               NaN              NaN                  NaN   \n",
       "       2011-06-30               NaN              NaN                  NaN   \n",
       "       2011-07-01               NaN              NaN                  NaN   \n",
       "       2011-07-05               NaN              NaN                  NaN   \n",
       "       2011-07-06               NaN              NaN                  NaN   \n",
       "\n",
       "                   Earnings Growth YOY  ...  Dividend Yield  Earnings Yield  \\\n",
       "Ticker Date                             ...                                   \n",
       "A      2011-06-29                  NaN  ...             NaN        0.049626   \n",
       "       2011-06-30                  NaN  ...             NaN        0.049121   \n",
       "       2011-07-01                  NaN  ...             NaN        0.048280   \n",
       "       2011-07-05                  NaN  ...             NaN        0.048598   \n",
       "       2011-07-06                  NaN  ...             NaN        0.048448   \n",
       "\n",
       "                   FCF Yield    Market-Cap    P/Book        P/E      P/FCF  \\\n",
       "Ticker Date                                                                  \n",
       "A      2011-06-29   0.045221  1.793416e+10  4.527684  20.150736  22.113631   \n",
       "       2011-06-30   0.044761  1.811850e+10  4.574222  20.357860  22.340931   \n",
       "       2011-07-01   0.043995  1.843400e+10  4.653875  20.712360  22.729963   \n",
       "       2011-07-05   0.044284  1.831347e+10  4.623446  20.576933  22.581344   \n",
       "       2011-07-06   0.044148  1.837019e+10  4.637766  20.640663  22.651282   \n",
       "\n",
       "                      P/NCAV   P/NetNet   P/Sales  \n",
       "Ticker Date                                        \n",
       "A      2011-06-29  43.956262 -29.990226  2.913281  \n",
       "       2011-06-30  44.408076 -30.298487  2.943225  \n",
       "       2011-07-01  45.181373 -30.826087  2.994477  \n",
       "       2011-07-05  44.885956 -30.624532  2.974898  \n",
       "       2011-07-06  45.024975 -30.719381  2.984111  \n",
       "\n",
       "[5 rows x 26 columns]"
      ]
     },
     "execution_count": 13,
     "metadata": {},
     "output_type": "execute_result"
    }
   ],
   "source": [
    "df_signals.dropna(how='all').head()"
   ]
  },
  {
   "cell_type": "markdown",
   "metadata": {},
   "source": [
    "## Missing Data\n",
    "\n",
    "Some of the signals have a lot of missing data which cannot be handled by TensorFlow. Let us first see the fraction of each signal-column that is missing:"
   ]
  },
  {
   "cell_type": "code",
   "execution_count": 14,
   "metadata": {},
   "outputs": [
    {
     "data": {
      "text/plain": [
       "Dividend Yield         0.533772\n",
       "Debt Ratio             0.324557\n",
       "Sales Growth           0.227931\n",
       "Asset Turnover         0.224232\n",
       "Earnings Growth        0.212780\n",
       "Return on Assets       0.212388\n",
       "Return on Equity       0.212388\n",
       "FCF Growth             0.212388\n",
       "Sales Growth YOY       0.198149\n",
       "Earnings Growth YOY    0.184320\n",
       "FCF Growth YOY         0.183868\n",
       "P/Sales                0.105850\n",
       "Sales Growth QOQ       0.095425\n",
       "Earnings Yield         0.091799\n",
       "P/NetNet               0.091799\n",
       "FCF Yield              0.091799\n",
       "Market-Cap             0.091799\n",
       "P/Book                 0.091799\n",
       "P/E                    0.091799\n",
       "P/FCF                  0.091799\n",
       "P/NCAV                 0.091799\n",
       "Gross Profit Margin    0.083246\n",
       "Net Profit Margin      0.080159\n",
       "Earnings Growth QOQ    0.077892\n",
       "FCF Growth QOQ         0.077380\n",
       "Current Ratio          0.065622\n",
       "dtype: float64"
      ]
     },
     "execution_count": 14,
     "metadata": {},
     "output_type": "execute_result"
    }
   ],
   "source": [
    "# Remove all rows with only NaN values.\n",
    "df = df_signals.dropna(how='all').reset_index(drop=True)\n",
    "\n",
    "# For each column, show the fraction of the rows that are NaN.\n",
    "(df.isnull().sum() / len(df)).sort_values(ascending=False)"
   ]
  },
  {
   "cell_type": "markdown",
   "metadata": {},
   "source": [
    "Let us remove all signals that have more than 25% missing data:"
   ]
  },
  {
   "cell_type": "code",
   "execution_count": 15,
   "metadata": {},
   "outputs": [
    {
     "data": {
      "text/plain": [
       "Index(['Debt Ratio', 'Dividend Yield'], dtype='object')"
      ]
     },
     "execution_count": 15,
     "metadata": {},
     "output_type": "execute_result"
    }
   ],
   "source": [
    "# List of the columns before removing any.\n",
    "columns_before = df_signals.columns\n",
    "\n",
    "# Threshold for the number of rows that must be NaN for each column.\n",
    "thresh = 0.75 * len(df_signals.dropna(how='all'))\n",
    "\n",
    "# Remove all columns which don't have sufficient data.\n",
    "df_signals = df_signals.dropna(axis='columns', thresh=thresh)\n",
    "\n",
    "# List of the columns after the removal.\n",
    "columns_after = df_signals.columns\n",
    "\n",
    "# Show the columns that were removed.\n",
    "columns_before.difference(columns_after)"
   ]
  },
  {
   "cell_type": "markdown",
   "metadata": {},
   "source": [
    "## 1-3 Year Returns\n",
    "\n",
    "We want to try and predict the average 1-3 year returns. We will actually consider the mean log-returns, because that is easier to calculate, but the result is nearly the same as the non-log mean returns."
   ]
  },
  {
   "cell_type": "code",
   "execution_count": 16,
   "metadata": {},
   "outputs": [],
   "source": [
    "# Name of the new column for the returns.\n",
    "TOTAL_RETURN_1_3Y = 'Total Return 1-3 Years'"
   ]
  },
  {
   "cell_type": "code",
   "execution_count": 17,
   "metadata": {},
   "outputs": [
    {
     "name": "stdout",
     "output_type": "stream",
     "text": [
      "Cache-file 'mean_log_change-5cec82bd.pickle' on disk (1 days old).\n",
      "- Loading from disk ... Done!\n",
      "CPU times: user 70.7 ms, sys: 32.4 ms, total: 103 ms\n",
      "Wall time: 105 ms\n"
     ]
    }
   ],
   "source": [
    "%%time\n",
    "# Calculate the mean log-returns for all 1-3 year periods.\n",
    "df_returns_1_3y = \\\n",
    "    hub.mean_log_returns(name=TOTAL_RETURN_1_3Y,\n",
    "                         future=True, annualized=True,\n",
    "                         min_years=1, max_years=3)"
   ]
  },
  {
   "cell_type": "markdown",
   "metadata": {},
   "source": [
    "## Combine Signals & Returns\n",
    "\n",
    "We then combine the signals and returns into a single DataFrame to align the data."
   ]
  },
  {
   "cell_type": "code",
   "execution_count": 18,
   "metadata": {},
   "outputs": [
    {
     "name": "stdout",
     "output_type": "stream",
     "text": [
      "CPU times: user 766 ms, sys: 112 ms, total: 878 ms\n",
      "Wall time: 884 ms\n"
     ]
    }
   ],
   "source": [
    "%%time\n",
    "dfs = [df_signals, df_returns_1_3y]\n",
    "df_sig_rets = pd.concat(dfs, axis=1)"
   ]
  },
  {
   "cell_type": "markdown",
   "metadata": {},
   "source": [
    "## Data Cleaning\n",
    "\n",
    "The data also contains outliers and still has missing values, so let us fix that now. A common method for removing outliers is so-called *Winsorization* of the data. It basically just limits or clips the data between e.g. the 5% and 95% quantiles of the data. We will Winsorize both the stock-returns and all the signals. Then we remove all rows with missing values, and finally we remove tickers that have less than 200 rows of data.\n",
    "\n",
    "There are more than 5 million data-rows before this cleaning:"
   ]
  },
  {
   "cell_type": "code",
   "execution_count": 19,
   "metadata": {
    "scrolled": true
   },
   "outputs": [
    {
     "data": {
      "text/plain": [
       "(5450093, 25)"
      ]
     },
     "execution_count": 19,
     "metadata": {},
     "output_type": "execute_result"
    }
   ],
   "source": [
    "df_sig_rets.shape"
   ]
  },
  {
   "cell_type": "code",
   "execution_count": 20,
   "metadata": {},
   "outputs": [
    {
     "name": "stdout",
     "output_type": "stream",
     "text": [
      "CPU times: user 4.27 s, sys: 1.06 s, total: 5.33 s\n",
      "Wall time: 5.33 s\n"
     ]
    }
   ],
   "source": [
    "%%time\n",
    "\n",
    "# Clip both the signals and returns at their 5% and 95% quantiles.\n",
    "# We do not set them to NaN because it would remove too much data.\n",
    "df_sig_rets = sf.winsorize(df_sig_rets)\n",
    "\n",
    "# Remove all rows with missing values (NaN)\n",
    "# because TensorFlow cannot handle that.\n",
    "df_sig_rets = df_sig_rets.dropna(how='any')\n",
    "\n",
    "# Remove all tickers which have less than 200 data-rows.\n",
    "df_sig_rets = df_sig_rets.groupby(TICKER) \\\n",
    "                .filter(lambda df: len(df)>200)"
   ]
  },
  {
   "cell_type": "markdown",
   "metadata": {},
   "source": [
    "This data-cleaning has removed about 80% of the rows, which is a lot:"
   ]
  },
  {
   "cell_type": "code",
   "execution_count": 21,
   "metadata": {},
   "outputs": [
    {
     "data": {
      "text/plain": [
       "(1109909, 25)"
      ]
     },
     "execution_count": 21,
     "metadata": {},
     "output_type": "execute_result"
    }
   ],
   "source": [
    "df_sig_rets.shape"
   ]
  },
  {
   "cell_type": "markdown",
   "metadata": {},
   "source": [
    "The reason that so many rows have been removed, is that TensorFlow cannot handle rows with missing values (NaN). Some missing values could be set to a default value, e.g. the Dividend Yield could be set to 0. Other columns could be omitted because they don't have any predictive power anyway."
   ]
  },
  {
   "cell_type": "markdown",
   "metadata": {},
   "source": [
    "## Split Training / Test-Sets\n",
    "\n",
    "When training a Machine Learning model, we typically split the dataset into training- and test-sets. Only the training-set is used to train the model, after which the model is used on the test-set, to assess how the model performs on data it has not seen during training.\n",
    "\n",
    "If we randomly divide all the data-rows into training- and test-sets, we would most likely get data for every stock-ticker in both the training- and test-sets, which would probably make them highly correlated. To avoid this, we split the dataset according to stock-tickers, so a ticker belongs to either the training- or test-set, but not both. We use 80% of all the tickers in the training-set, and 20% in the test-set."
   ]
  },
  {
   "cell_type": "code",
   "execution_count": 22,
   "metadata": {},
   "outputs": [],
   "source": [
    "# List of all unique stock-tickers in the dataset.\n",
    "tickers = df_sig_rets.reset_index()[TICKER].unique()\n",
    "\n",
    "# Split the tickers into training- and test-sets.\n",
    "tickers_train, tickers_test = \\\n",
    "    train_test_split(tickers, train_size=0.8, random_state=1234)"
   ]
  },
  {
   "cell_type": "markdown",
   "metadata": {},
   "source": [
    "Now that we have lists of tickers for the training- and test-sets, we can select those rows from the DataFrame with signals and stock-returns:"
   ]
  },
  {
   "cell_type": "code",
   "execution_count": 23,
   "metadata": {
    "scrolled": true
   },
   "outputs": [
    {
     "name": "stdout",
     "output_type": "stream",
     "text": [
      "CPU times: user 3.07 s, sys: 19.9 ms, total: 3.09 s\n",
      "Wall time: 3.09 s\n"
     ]
    }
   ],
   "source": [
    "%%time\n",
    "df_train = df_sig_rets.loc[tickers_train]\n",
    "df_test = df_sig_rets.loc[tickers_test]"
   ]
  },
  {
   "cell_type": "markdown",
   "metadata": {},
   "source": [
    "We can then split these DataFrames into signals X and stock-returns y, that the Machine Learning model must try and find a mapping between. We use a common notation where the capital X indicates a 2-dimensional array or matrix, and the lower-case y indicates a 1-dimensional array."
   ]
  },
  {
   "cell_type": "code",
   "execution_count": 24,
   "metadata": {},
   "outputs": [],
   "source": [
    "# DataFrames with signals for training- and test-sets.\n",
    "X_train = df_train.drop(columns=[TOTAL_RETURN_1_3Y])\n",
    "X_test = df_test.drop(columns=[TOTAL_RETURN_1_3Y])\n",
    "\n",
    "# DataFrames with returns for training- and test-sets.\n",
    "y_train = df_train[TOTAL_RETURN_1_3Y]\n",
    "y_test = df_test[TOTAL_RETURN_1_3Y]"
   ]
  },
  {
   "cell_type": "markdown",
   "metadata": {},
   "source": [
    "Let us check that the shapes of these arrays look reasonable:"
   ]
  },
  {
   "cell_type": "code",
   "execution_count": 25,
   "metadata": {},
   "outputs": [
    {
     "data": {
      "text/plain": [
       "((890400, 24), (890400,))"
      ]
     },
     "execution_count": 25,
     "metadata": {},
     "output_type": "execute_result"
    }
   ],
   "source": [
    "X_train.shape, y_train.shape"
   ]
  },
  {
   "cell_type": "code",
   "execution_count": 26,
   "metadata": {},
   "outputs": [
    {
     "data": {
      "text/plain": [
       "((219509, 24), (219509,))"
      ]
     },
     "execution_count": 26,
     "metadata": {},
     "output_type": "execute_result"
    }
   ],
   "source": [
    "X_test.shape, y_test.shape"
   ]
  },
  {
   "cell_type": "markdown",
   "metadata": {},
   "source": [
    "Let us also get the number of signals, which will be convenient later:"
   ]
  },
  {
   "cell_type": "code",
   "execution_count": 27,
   "metadata": {},
   "outputs": [
    {
     "data": {
      "text/plain": [
       "24"
      ]
     },
     "execution_count": 27,
     "metadata": {},
     "output_type": "execute_result"
    }
   ],
   "source": [
    "num_signals = X_train.shape[1]\n",
    "num_signals"
   ]
  },
  {
   "cell_type": "markdown",
   "metadata": {},
   "source": [
    "## Scale Signals\n",
    "\n",
    "Neural Networks require that the input has \"moderate\" values e.g. between 0 and 1, or mean 0 and 1 standard deviation, which is the method we use here. It is not necessary to scale the stock-returns because they have already been Winsorized to remove outliers, and they are centered around 0 with a small standard deviation.\n",
    "\n",
    "If you want to input new data to the Neural Network, then you have to run the signals through the scaler first, because the Neural Network has been tuned to the scaled signals."
   ]
  },
  {
   "cell_type": "code",
   "execution_count": 28,
   "metadata": {},
   "outputs": [],
   "source": [
    "# Create a scaler and fit it to the signals in the training-data.\n",
    "signal_scaler = StandardScaler()\n",
    "signal_scaler.fit(X_train)\n",
    "\n",
    "def scale_signal(df):\n",
    "    \"\"\"Apply the signal-scaler to the given DataFrame.\"\"\"\n",
    "\n",
    "    # Apply the scaler. This returns a numpy array.\n",
    "    array = signal_scaler.transform(df)\n",
    "    \n",
    "    # Create a DataFrame with the correct column-names and index.\n",
    "    df_scaled = pd.DataFrame(data=array,\n",
    "                             columns=df.columns,\n",
    "                             index=df.index)\n",
    "    return df_scaled\n",
    "\n",
    "# Scale the signals in the training- and test-sets.\n",
    "X_train = scale_signal(X_train)\n",
    "X_test = scale_signal(X_test)"
   ]
  },
  {
   "cell_type": "markdown",
   "metadata": {},
   "source": [
    "Except for small rounding errors, the signals in the training-set now have 0 mean and 1 standard deviation:"
   ]
  },
  {
   "cell_type": "code",
   "execution_count": 29,
   "metadata": {},
   "outputs": [
    {
     "data": {
      "text/html": [
       "<div>\n",
       "<style scoped>\n",
       "    .dataframe tbody tr th:only-of-type {\n",
       "        vertical-align: middle;\n",
       "    }\n",
       "\n",
       "    .dataframe tbody tr th {\n",
       "        vertical-align: top;\n",
       "    }\n",
       "\n",
       "    .dataframe thead th {\n",
       "        text-align: right;\n",
       "    }\n",
       "</style>\n",
       "<table border=\"1\" class=\"dataframe\">\n",
       "  <thead>\n",
       "    <tr style=\"text-align: right;\">\n",
       "      <th></th>\n",
       "      <th>Asset Turnover</th>\n",
       "      <th>Current Ratio</th>\n",
       "      <th>Gross Profit Margin</th>\n",
       "      <th>Net Profit Margin</th>\n",
       "      <th>Return on Assets</th>\n",
       "      <th>Return on Equity</th>\n",
       "      <th>Earnings Growth</th>\n",
       "      <th>Earnings Growth QOQ</th>\n",
       "      <th>Earnings Growth YOY</th>\n",
       "      <th>FCF Growth</th>\n",
       "      <th>...</th>\n",
       "      <th>Sales Growth YOY</th>\n",
       "      <th>Earnings Yield</th>\n",
       "      <th>FCF Yield</th>\n",
       "      <th>Market-Cap</th>\n",
       "      <th>P/Book</th>\n",
       "      <th>P/E</th>\n",
       "      <th>P/FCF</th>\n",
       "      <th>P/NCAV</th>\n",
       "      <th>P/NetNet</th>\n",
       "      <th>P/Sales</th>\n",
       "    </tr>\n",
       "  </thead>\n",
       "  <tbody>\n",
       "    <tr>\n",
       "      <th>count</th>\n",
       "      <td>8.904000e+05</td>\n",
       "      <td>8.904000e+05</td>\n",
       "      <td>8.904000e+05</td>\n",
       "      <td>8.904000e+05</td>\n",
       "      <td>8.904000e+05</td>\n",
       "      <td>8.904000e+05</td>\n",
       "      <td>8.904000e+05</td>\n",
       "      <td>8.904000e+05</td>\n",
       "      <td>8.904000e+05</td>\n",
       "      <td>8.904000e+05</td>\n",
       "      <td>...</td>\n",
       "      <td>8.904000e+05</td>\n",
       "      <td>8.904000e+05</td>\n",
       "      <td>8.904000e+05</td>\n",
       "      <td>8.904000e+05</td>\n",
       "      <td>8.904000e+05</td>\n",
       "      <td>8.904000e+05</td>\n",
       "      <td>8.904000e+05</td>\n",
       "      <td>8.904000e+05</td>\n",
       "      <td>8.904000e+05</td>\n",
       "      <td>8.904000e+05</td>\n",
       "    </tr>\n",
       "    <tr>\n",
       "      <th>mean</th>\n",
       "      <td>5.720092e-17</td>\n",
       "      <td>-5.377908e-16</td>\n",
       "      <td>2.553613e-18</td>\n",
       "      <td>9.908017e-17</td>\n",
       "      <td>-2.962191e-16</td>\n",
       "      <td>-2.266331e-18</td>\n",
       "      <td>4.290069e-17</td>\n",
       "      <td>2.719598e-17</td>\n",
       "      <td>2.042890e-17</td>\n",
       "      <td>-3.843187e-17</td>\n",
       "      <td>...</td>\n",
       "      <td>9.448367e-17</td>\n",
       "      <td>-2.088855e-16</td>\n",
       "      <td>-2.911118e-17</td>\n",
       "      <td>-1.082732e-16</td>\n",
       "      <td>-2.493603e-16</td>\n",
       "      <td>-2.694061e-16</td>\n",
       "      <td>-5.822237e-17</td>\n",
       "      <td>9.512207e-18</td>\n",
       "      <td>-1.398103e-17</td>\n",
       "      <td>2.788545e-16</td>\n",
       "    </tr>\n",
       "    <tr>\n",
       "      <th>std</th>\n",
       "      <td>1.000001e+00</td>\n",
       "      <td>1.000001e+00</td>\n",
       "      <td>1.000001e+00</td>\n",
       "      <td>1.000001e+00</td>\n",
       "      <td>1.000001e+00</td>\n",
       "      <td>1.000001e+00</td>\n",
       "      <td>1.000001e+00</td>\n",
       "      <td>1.000001e+00</td>\n",
       "      <td>1.000001e+00</td>\n",
       "      <td>1.000001e+00</td>\n",
       "      <td>...</td>\n",
       "      <td>1.000001e+00</td>\n",
       "      <td>1.000001e+00</td>\n",
       "      <td>1.000001e+00</td>\n",
       "      <td>1.000001e+00</td>\n",
       "      <td>1.000001e+00</td>\n",
       "      <td>1.000001e+00</td>\n",
       "      <td>1.000001e+00</td>\n",
       "      <td>1.000001e+00</td>\n",
       "      <td>1.000001e+00</td>\n",
       "      <td>1.000001e+00</td>\n",
       "    </tr>\n",
       "    <tr>\n",
       "      <th>min</th>\n",
       "      <td>-1.289389e+00</td>\n",
       "      <td>-1.112665e+00</td>\n",
       "      <td>-1.418441e+00</td>\n",
       "      <td>-4.276321e+00</td>\n",
       "      <td>-3.908327e+00</td>\n",
       "      <td>-3.357029e+00</td>\n",
       "      <td>-2.558049e+00</td>\n",
       "      <td>-2.631511e+00</td>\n",
       "      <td>-2.639940e+00</td>\n",
       "      <td>-2.512918e+00</td>\n",
       "      <td>...</td>\n",
       "      <td>-1.836140e+00</td>\n",
       "      <td>-4.257038e+00</td>\n",
       "      <td>-3.393204e+00</td>\n",
       "      <td>-6.855607e-01</td>\n",
       "      <td>-1.102352e+00</td>\n",
       "      <td>-2.636409e+00</td>\n",
       "      <td>-2.457002e+00</td>\n",
       "      <td>-2.251178e+00</td>\n",
       "      <td>-2.297130e+00</td>\n",
       "      <td>-8.794930e-01</td>\n",
       "    </tr>\n",
       "    <tr>\n",
       "      <th>25%</th>\n",
       "      <td>-7.636819e-01</td>\n",
       "      <td>-6.884963e-01</td>\n",
       "      <td>-7.695973e-01</td>\n",
       "      <td>-1.134641e-01</td>\n",
       "      <td>-2.152307e-01</td>\n",
       "      <td>-2.446826e-01</td>\n",
       "      <td>-3.020091e-01</td>\n",
       "      <td>-3.061496e-01</td>\n",
       "      <td>-3.094782e-01</td>\n",
       "      <td>-3.337451e-01</td>\n",
       "      <td>...</td>\n",
       "      <td>-5.360124e-01</td>\n",
       "      <td>-8.971649e-03</td>\n",
       "      <td>-2.344496e-01</td>\n",
       "      <td>-6.328744e-01</td>\n",
       "      <td>-6.496472e-01</td>\n",
       "      <td>-3.117574e-01</td>\n",
       "      <td>-3.297937e-01</td>\n",
       "      <td>-3.420120e-01</td>\n",
       "      <td>-2.983202e-01</td>\n",
       "      <td>-6.456978e-01</td>\n",
       "    </tr>\n",
       "    <tr>\n",
       "      <th>50%</th>\n",
       "      <td>-2.548889e-01</td>\n",
       "      <td>-3.129784e-01</td>\n",
       "      <td>-2.323587e-01</td>\n",
       "      <td>1.299692e-01</td>\n",
       "      <td>1.061240e-01</td>\n",
       "      <td>7.290451e-02</td>\n",
       "      <td>3.647427e-02</td>\n",
       "      <td>4.296695e-02</td>\n",
       "      <td>4.286700e-02</td>\n",
       "      <td>1.840948e-02</td>\n",
       "      <td>...</td>\n",
       "      <td>-1.232627e-01</td>\n",
       "      <td>2.363103e-01</td>\n",
       "      <td>1.365973e-01</td>\n",
       "      <td>-4.356544e-01</td>\n",
       "      <td>-3.040989e-01</td>\n",
       "      <td>2.220294e-02</td>\n",
       "      <td>1.934255e-02</td>\n",
       "      <td>-8.798291e-02</td>\n",
       "      <td>-5.791425e-02</td>\n",
       "      <td>-3.515289e-01</td>\n",
       "    </tr>\n",
       "    <tr>\n",
       "      <th>75%</th>\n",
       "      <td>5.391371e-01</td>\n",
       "      <td>3.496738e-01</td>\n",
       "      <td>6.911947e-01</td>\n",
       "      <td>4.196976e-01</td>\n",
       "      <td>5.122451e-01</td>\n",
       "      <td>4.369811e-01</td>\n",
       "      <td>2.758701e-01</td>\n",
       "      <td>3.026659e-01</td>\n",
       "      <td>2.745033e-01</td>\n",
       "      <td>3.263090e-01</td>\n",
       "      <td>...</td>\n",
       "      <td>3.922545e-01</td>\n",
       "      <td>4.308233e-01</td>\n",
       "      <td>4.652162e-01</td>\n",
       "      <td>1.275690e-01</td>\n",
       "      <td>2.687979e-01</td>\n",
       "      <td>3.688783e-01</td>\n",
       "      <td>3.747462e-01</td>\n",
       "      <td>3.765118e-01</td>\n",
       "      <td>1.092467e-01</td>\n",
       "      <td>2.030451e-01</td>\n",
       "    </tr>\n",
       "    <tr>\n",
       "      <th>max</th>\n",
       "      <td>2.359459e+00</td>\n",
       "      <td>3.038246e+00</td>\n",
       "      <td>2.062386e+00</td>\n",
       "      <td>1.264991e+00</td>\n",
       "      <td>1.421640e+00</td>\n",
       "      <td>2.050068e+00</td>\n",
       "      <td>2.644496e+00</td>\n",
       "      <td>2.565916e+00</td>\n",
       "      <td>2.617264e+00</td>\n",
       "      <td>2.465788e+00</td>\n",
       "      <td>...</td>\n",
       "      <td>2.736179e+00</td>\n",
       "      <td>1.081616e+00</td>\n",
       "      <td>1.703814e+00</td>\n",
       "      <td>2.910829e+00</td>\n",
       "      <td>3.171427e+00</td>\n",
       "      <td>2.434734e+00</td>\n",
       "      <td>2.342218e+00</td>\n",
       "      <td>2.425320e+00</td>\n",
       "      <td>2.479116e+00</td>\n",
       "      <td>3.322991e+00</td>\n",
       "    </tr>\n",
       "  </tbody>\n",
       "</table>\n",
       "<p>8 rows × 24 columns</p>\n",
       "</div>"
      ],
      "text/plain": [
       "       Asset Turnover  Current Ratio  Gross Profit Margin  Net Profit Margin  \\\n",
       "count    8.904000e+05   8.904000e+05         8.904000e+05       8.904000e+05   \n",
       "mean     5.720092e-17  -5.377908e-16         2.553613e-18       9.908017e-17   \n",
       "std      1.000001e+00   1.000001e+00         1.000001e+00       1.000001e+00   \n",
       "min     -1.289389e+00  -1.112665e+00        -1.418441e+00      -4.276321e+00   \n",
       "25%     -7.636819e-01  -6.884963e-01        -7.695973e-01      -1.134641e-01   \n",
       "50%     -2.548889e-01  -3.129784e-01        -2.323587e-01       1.299692e-01   \n",
       "75%      5.391371e-01   3.496738e-01         6.911947e-01       4.196976e-01   \n",
       "max      2.359459e+00   3.038246e+00         2.062386e+00       1.264991e+00   \n",
       "\n",
       "       Return on Assets  Return on Equity  Earnings Growth  \\\n",
       "count      8.904000e+05      8.904000e+05     8.904000e+05   \n",
       "mean      -2.962191e-16     -2.266331e-18     4.290069e-17   \n",
       "std        1.000001e+00      1.000001e+00     1.000001e+00   \n",
       "min       -3.908327e+00     -3.357029e+00    -2.558049e+00   \n",
       "25%       -2.152307e-01     -2.446826e-01    -3.020091e-01   \n",
       "50%        1.061240e-01      7.290451e-02     3.647427e-02   \n",
       "75%        5.122451e-01      4.369811e-01     2.758701e-01   \n",
       "max        1.421640e+00      2.050068e+00     2.644496e+00   \n",
       "\n",
       "       Earnings Growth QOQ  Earnings Growth YOY    FCF Growth  ...  \\\n",
       "count         8.904000e+05         8.904000e+05  8.904000e+05  ...   \n",
       "mean          2.719598e-17         2.042890e-17 -3.843187e-17  ...   \n",
       "std           1.000001e+00         1.000001e+00  1.000001e+00  ...   \n",
       "min          -2.631511e+00        -2.639940e+00 -2.512918e+00  ...   \n",
       "25%          -3.061496e-01        -3.094782e-01 -3.337451e-01  ...   \n",
       "50%           4.296695e-02         4.286700e-02  1.840948e-02  ...   \n",
       "75%           3.026659e-01         2.745033e-01  3.263090e-01  ...   \n",
       "max           2.565916e+00         2.617264e+00  2.465788e+00  ...   \n",
       "\n",
       "       Sales Growth YOY  Earnings Yield     FCF Yield    Market-Cap  \\\n",
       "count      8.904000e+05    8.904000e+05  8.904000e+05  8.904000e+05   \n",
       "mean       9.448367e-17   -2.088855e-16 -2.911118e-17 -1.082732e-16   \n",
       "std        1.000001e+00    1.000001e+00  1.000001e+00  1.000001e+00   \n",
       "min       -1.836140e+00   -4.257038e+00 -3.393204e+00 -6.855607e-01   \n",
       "25%       -5.360124e-01   -8.971649e-03 -2.344496e-01 -6.328744e-01   \n",
       "50%       -1.232627e-01    2.363103e-01  1.365973e-01 -4.356544e-01   \n",
       "75%        3.922545e-01    4.308233e-01  4.652162e-01  1.275690e-01   \n",
       "max        2.736179e+00    1.081616e+00  1.703814e+00  2.910829e+00   \n",
       "\n",
       "             P/Book           P/E         P/FCF        P/NCAV      P/NetNet  \\\n",
       "count  8.904000e+05  8.904000e+05  8.904000e+05  8.904000e+05  8.904000e+05   \n",
       "mean  -2.493603e-16 -2.694061e-16 -5.822237e-17  9.512207e-18 -1.398103e-17   \n",
       "std    1.000001e+00  1.000001e+00  1.000001e+00  1.000001e+00  1.000001e+00   \n",
       "min   -1.102352e+00 -2.636409e+00 -2.457002e+00 -2.251178e+00 -2.297130e+00   \n",
       "25%   -6.496472e-01 -3.117574e-01 -3.297937e-01 -3.420120e-01 -2.983202e-01   \n",
       "50%   -3.040989e-01  2.220294e-02  1.934255e-02 -8.798291e-02 -5.791425e-02   \n",
       "75%    2.687979e-01  3.688783e-01  3.747462e-01  3.765118e-01  1.092467e-01   \n",
       "max    3.171427e+00  2.434734e+00  2.342218e+00  2.425320e+00  2.479116e+00   \n",
       "\n",
       "            P/Sales  \n",
       "count  8.904000e+05  \n",
       "mean   2.788545e-16  \n",
       "std    1.000001e+00  \n",
       "min   -8.794930e-01  \n",
       "25%   -6.456978e-01  \n",
       "50%   -3.515289e-01  \n",
       "75%    2.030451e-01  \n",
       "max    3.322991e+00  \n",
       "\n",
       "[8 rows x 24 columns]"
      ]
     },
     "execution_count": 29,
     "metadata": {},
     "output_type": "execute_result"
    }
   ],
   "source": [
    "X_train.describe()"
   ]
  },
  {
   "cell_type": "markdown",
   "metadata": {},
   "source": [
    "Using the same scaler on the test-data, also gives means that are close to 0 and standard deviations close to 1:"
   ]
  },
  {
   "cell_type": "code",
   "execution_count": 30,
   "metadata": {},
   "outputs": [
    {
     "data": {
      "text/html": [
       "<div>\n",
       "<style scoped>\n",
       "    .dataframe tbody tr th:only-of-type {\n",
       "        vertical-align: middle;\n",
       "    }\n",
       "\n",
       "    .dataframe tbody tr th {\n",
       "        vertical-align: top;\n",
       "    }\n",
       "\n",
       "    .dataframe thead th {\n",
       "        text-align: right;\n",
       "    }\n",
       "</style>\n",
       "<table border=\"1\" class=\"dataframe\">\n",
       "  <thead>\n",
       "    <tr style=\"text-align: right;\">\n",
       "      <th></th>\n",
       "      <th>Asset Turnover</th>\n",
       "      <th>Current Ratio</th>\n",
       "      <th>Gross Profit Margin</th>\n",
       "      <th>Net Profit Margin</th>\n",
       "      <th>Return on Assets</th>\n",
       "      <th>Return on Equity</th>\n",
       "      <th>Earnings Growth</th>\n",
       "      <th>Earnings Growth QOQ</th>\n",
       "      <th>Earnings Growth YOY</th>\n",
       "      <th>FCF Growth</th>\n",
       "      <th>...</th>\n",
       "      <th>Sales Growth YOY</th>\n",
       "      <th>Earnings Yield</th>\n",
       "      <th>FCF Yield</th>\n",
       "      <th>Market-Cap</th>\n",
       "      <th>P/Book</th>\n",
       "      <th>P/E</th>\n",
       "      <th>P/FCF</th>\n",
       "      <th>P/NCAV</th>\n",
       "      <th>P/NetNet</th>\n",
       "      <th>P/Sales</th>\n",
       "    </tr>\n",
       "  </thead>\n",
       "  <tbody>\n",
       "    <tr>\n",
       "      <th>count</th>\n",
       "      <td>219509.000000</td>\n",
       "      <td>219509.000000</td>\n",
       "      <td>219509.000000</td>\n",
       "      <td>219509.000000</td>\n",
       "      <td>219509.000000</td>\n",
       "      <td>219509.000000</td>\n",
       "      <td>219509.000000</td>\n",
       "      <td>219509.000000</td>\n",
       "      <td>219509.000000</td>\n",
       "      <td>219509.000000</td>\n",
       "      <td>...</td>\n",
       "      <td>219509.000000</td>\n",
       "      <td>219509.000000</td>\n",
       "      <td>219509.000000</td>\n",
       "      <td>219509.000000</td>\n",
       "      <td>219509.000000</td>\n",
       "      <td>219509.000000</td>\n",
       "      <td>219509.000000</td>\n",
       "      <td>219509.000000</td>\n",
       "      <td>219509.000000</td>\n",
       "      <td>219509.000000</td>\n",
       "    </tr>\n",
       "    <tr>\n",
       "      <th>mean</th>\n",
       "      <td>-0.073532</td>\n",
       "      <td>0.101292</td>\n",
       "      <td>0.082474</td>\n",
       "      <td>-0.040152</td>\n",
       "      <td>-0.015602</td>\n",
       "      <td>-0.087059</td>\n",
       "      <td>0.036525</td>\n",
       "      <td>-0.019496</td>\n",
       "      <td>-0.008481</td>\n",
       "      <td>-0.018176</td>\n",
       "      <td>...</td>\n",
       "      <td>-0.012192</td>\n",
       "      <td>-0.050717</td>\n",
       "      <td>-0.015696</td>\n",
       "      <td>-0.169045</td>\n",
       "      <td>0.039496</td>\n",
       "      <td>-0.052480</td>\n",
       "      <td>-0.020469</td>\n",
       "      <td>-0.007880</td>\n",
       "      <td>-0.072173</td>\n",
       "      <td>0.073102</td>\n",
       "    </tr>\n",
       "    <tr>\n",
       "      <th>std</th>\n",
       "      <td>0.937071</td>\n",
       "      <td>1.055220</td>\n",
       "      <td>0.978228</td>\n",
       "      <td>1.072309</td>\n",
       "      <td>1.028253</td>\n",
       "      <td>1.115918</td>\n",
       "      <td>1.011748</td>\n",
       "      <td>1.029467</td>\n",
       "      <td>1.023818</td>\n",
       "      <td>1.049672</td>\n",
       "      <td>...</td>\n",
       "      <td>1.014780</td>\n",
       "      <td>1.035817</td>\n",
       "      <td>0.966917</td>\n",
       "      <td>0.799262</td>\n",
       "      <td>1.002008</td>\n",
       "      <td>1.081207</td>\n",
       "      <td>1.015491</td>\n",
       "      <td>1.046830</td>\n",
       "      <td>0.996451</td>\n",
       "      <td>1.041276</td>\n",
       "    </tr>\n",
       "    <tr>\n",
       "      <th>min</th>\n",
       "      <td>-1.289389</td>\n",
       "      <td>-1.112665</td>\n",
       "      <td>-1.418441</td>\n",
       "      <td>-4.276321</td>\n",
       "      <td>-3.908327</td>\n",
       "      <td>-3.357029</td>\n",
       "      <td>-2.558049</td>\n",
       "      <td>-2.631511</td>\n",
       "      <td>-2.639940</td>\n",
       "      <td>-2.512918</td>\n",
       "      <td>...</td>\n",
       "      <td>-1.836140</td>\n",
       "      <td>-4.257038</td>\n",
       "      <td>-3.393204</td>\n",
       "      <td>-0.685561</td>\n",
       "      <td>-1.102352</td>\n",
       "      <td>-2.636409</td>\n",
       "      <td>-2.457002</td>\n",
       "      <td>-2.251178</td>\n",
       "      <td>-2.297130</td>\n",
       "      <td>-0.879493</td>\n",
       "    </tr>\n",
       "    <tr>\n",
       "      <th>25%</th>\n",
       "      <td>-0.778601</td>\n",
       "      <td>-0.634935</td>\n",
       "      <td>-0.713012</td>\n",
       "      <td>-0.147471</td>\n",
       "      <td>-0.257038</td>\n",
       "      <td>-0.342831</td>\n",
       "      <td>-0.336577</td>\n",
       "      <td>-0.352551</td>\n",
       "      <td>-0.336894</td>\n",
       "      <td>-0.393597</td>\n",
       "      <td>...</td>\n",
       "      <td>-0.574930</td>\n",
       "      <td>-0.080457</td>\n",
       "      <td>-0.278461</td>\n",
       "      <td>-0.648587</td>\n",
       "      <td>-0.582690</td>\n",
       "      <td>-0.383735</td>\n",
       "      <td>-0.363888</td>\n",
       "      <td>-0.399488</td>\n",
       "      <td>-0.399617</td>\n",
       "      <td>-0.634951</td>\n",
       "    </tr>\n",
       "    <tr>\n",
       "      <th>50%</th>\n",
       "      <td>-0.264721</td>\n",
       "      <td>-0.228923</td>\n",
       "      <td>-0.005686</td>\n",
       "      <td>0.111629</td>\n",
       "      <td>0.117563</td>\n",
       "      <td>0.055753</td>\n",
       "      <td>0.037830</td>\n",
       "      <td>0.037644</td>\n",
       "      <td>0.032183</td>\n",
       "      <td>0.023868</td>\n",
       "      <td>...</td>\n",
       "      <td>-0.166401</td>\n",
       "      <td>0.221903</td>\n",
       "      <td>0.119017</td>\n",
       "      <td>-0.497031</td>\n",
       "      <td>-0.273378</td>\n",
       "      <td>-0.003164</td>\n",
       "      <td>0.009331</td>\n",
       "      <td>-0.098033</td>\n",
       "      <td>-0.084065</td>\n",
       "      <td>-0.302029</td>\n",
       "    </tr>\n",
       "    <tr>\n",
       "      <th>75%</th>\n",
       "      <td>0.362259</td>\n",
       "      <td>0.458257</td>\n",
       "      <td>0.697248</td>\n",
       "      <td>0.453733</td>\n",
       "      <td>0.555522</td>\n",
       "      <td>0.416461</td>\n",
       "      <td>0.311117</td>\n",
       "      <td>0.300353</td>\n",
       "      <td>0.299220</td>\n",
       "      <td>0.348709</td>\n",
       "      <td>...</td>\n",
       "      <td>0.400847</td>\n",
       "      <td>0.424382</td>\n",
       "      <td>0.459260</td>\n",
       "      <td>-0.087066</td>\n",
       "      <td>0.313428</td>\n",
       "      <td>0.348195</td>\n",
       "      <td>0.392931</td>\n",
       "      <td>0.389160</td>\n",
       "      <td>0.085461</td>\n",
       "      <td>0.338123</td>\n",
       "    </tr>\n",
       "    <tr>\n",
       "      <th>max</th>\n",
       "      <td>2.359459</td>\n",
       "      <td>3.038246</td>\n",
       "      <td>2.062386</td>\n",
       "      <td>1.264991</td>\n",
       "      <td>1.421640</td>\n",
       "      <td>2.050068</td>\n",
       "      <td>2.644496</td>\n",
       "      <td>2.565916</td>\n",
       "      <td>2.617264</td>\n",
       "      <td>2.465788</td>\n",
       "      <td>...</td>\n",
       "      <td>2.736179</td>\n",
       "      <td>1.081616</td>\n",
       "      <td>1.703814</td>\n",
       "      <td>2.910829</td>\n",
       "      <td>3.171427</td>\n",
       "      <td>2.434734</td>\n",
       "      <td>2.342218</td>\n",
       "      <td>2.425320</td>\n",
       "      <td>2.479116</td>\n",
       "      <td>3.322991</td>\n",
       "    </tr>\n",
       "  </tbody>\n",
       "</table>\n",
       "<p>8 rows × 24 columns</p>\n",
       "</div>"
      ],
      "text/plain": [
       "       Asset Turnover  Current Ratio  Gross Profit Margin  Net Profit Margin  \\\n",
       "count   219509.000000  219509.000000        219509.000000      219509.000000   \n",
       "mean        -0.073532       0.101292             0.082474          -0.040152   \n",
       "std          0.937071       1.055220             0.978228           1.072309   \n",
       "min         -1.289389      -1.112665            -1.418441          -4.276321   \n",
       "25%         -0.778601      -0.634935            -0.713012          -0.147471   \n",
       "50%         -0.264721      -0.228923            -0.005686           0.111629   \n",
       "75%          0.362259       0.458257             0.697248           0.453733   \n",
       "max          2.359459       3.038246             2.062386           1.264991   \n",
       "\n",
       "       Return on Assets  Return on Equity  Earnings Growth  \\\n",
       "count     219509.000000     219509.000000    219509.000000   \n",
       "mean          -0.015602         -0.087059         0.036525   \n",
       "std            1.028253          1.115918         1.011748   \n",
       "min           -3.908327         -3.357029        -2.558049   \n",
       "25%           -0.257038         -0.342831        -0.336577   \n",
       "50%            0.117563          0.055753         0.037830   \n",
       "75%            0.555522          0.416461         0.311117   \n",
       "max            1.421640          2.050068         2.644496   \n",
       "\n",
       "       Earnings Growth QOQ  Earnings Growth YOY     FCF Growth  ...  \\\n",
       "count        219509.000000        219509.000000  219509.000000  ...   \n",
       "mean             -0.019496            -0.008481      -0.018176  ...   \n",
       "std               1.029467             1.023818       1.049672  ...   \n",
       "min              -2.631511            -2.639940      -2.512918  ...   \n",
       "25%              -0.352551            -0.336894      -0.393597  ...   \n",
       "50%               0.037644             0.032183       0.023868  ...   \n",
       "75%               0.300353             0.299220       0.348709  ...   \n",
       "max               2.565916             2.617264       2.465788  ...   \n",
       "\n",
       "       Sales Growth YOY  Earnings Yield      FCF Yield     Market-Cap  \\\n",
       "count     219509.000000   219509.000000  219509.000000  219509.000000   \n",
       "mean          -0.012192       -0.050717      -0.015696      -0.169045   \n",
       "std            1.014780        1.035817       0.966917       0.799262   \n",
       "min           -1.836140       -4.257038      -3.393204      -0.685561   \n",
       "25%           -0.574930       -0.080457      -0.278461      -0.648587   \n",
       "50%           -0.166401        0.221903       0.119017      -0.497031   \n",
       "75%            0.400847        0.424382       0.459260      -0.087066   \n",
       "max            2.736179        1.081616       1.703814       2.910829   \n",
       "\n",
       "              P/Book            P/E          P/FCF         P/NCAV  \\\n",
       "count  219509.000000  219509.000000  219509.000000  219509.000000   \n",
       "mean        0.039496      -0.052480      -0.020469      -0.007880   \n",
       "std         1.002008       1.081207       1.015491       1.046830   \n",
       "min        -1.102352      -2.636409      -2.457002      -2.251178   \n",
       "25%        -0.582690      -0.383735      -0.363888      -0.399488   \n",
       "50%        -0.273378      -0.003164       0.009331      -0.098033   \n",
       "75%         0.313428       0.348195       0.392931       0.389160   \n",
       "max         3.171427       2.434734       2.342218       2.425320   \n",
       "\n",
       "            P/NetNet        P/Sales  \n",
       "count  219509.000000  219509.000000  \n",
       "mean       -0.072173       0.073102  \n",
       "std         0.996451       1.041276  \n",
       "min        -2.297130      -0.879493  \n",
       "25%        -0.399617      -0.634951  \n",
       "50%        -0.084065      -0.302029  \n",
       "75%         0.085461       0.338123  \n",
       "max         2.479116       3.322991  \n",
       "\n",
       "[8 rows x 24 columns]"
      ]
     },
     "execution_count": 30,
     "metadata": {},
     "output_type": "execute_result"
    }
   ],
   "source": [
    "X_test.describe()"
   ]
  },
  {
   "cell_type": "markdown",
   "metadata": {},
   "source": [
    "## Neural Network: Regression\n",
    "\n",
    "Let us now build a Neural Network to learn the mapping from signals X to stock-returns y. We will use Keras and TensorFlow. If you are new to this, you can watch [this tutorial](https://www.youtube.com/watch?v=3yfRJKA1BiQ) for a basic explanation."
   ]
  },
  {
   "cell_type": "code",
   "execution_count": 31,
   "metadata": {},
   "outputs": [],
   "source": [
    "# This so-called \"activation function\" is applied after each layer.\n",
    "# It is important to use a non-linear function, otherwise\n",
    "# the Neural Network cannot learn non-linear mappings.\n",
    "activation = 'relu'"
   ]
  },
  {
   "cell_type": "code",
   "execution_count": 32,
   "metadata": {},
   "outputs": [
    {
     "name": "stdout",
     "output_type": "stream",
     "text": [
      "Model: \"sequential\"\n",
      "_________________________________________________________________\n",
      "Layer (type)                 Output Shape              Param #   \n",
      "=================================================================\n",
      "dense (Dense)                (None, 128)               3200      \n",
      "_________________________________________________________________\n",
      "dense_1 (Dense)              (None, 64)                8256      \n",
      "_________________________________________________________________\n",
      "dense_2 (Dense)              (None, 32)                2080      \n",
      "_________________________________________________________________\n",
      "dense_3 (Dense)              (None, 16)                528       \n",
      "_________________________________________________________________\n",
      "dense_4 (Dense)              (None, 8)                 136       \n",
      "_________________________________________________________________\n",
      "dense_5 (Dense)              (None, 1)                 9         \n",
      "=================================================================\n",
      "Total params: 14,209\n",
      "Trainable params: 14,209\n",
      "Non-trainable params: 0\n",
      "_________________________________________________________________\n"
     ]
    }
   ],
   "source": [
    "# Create a new Keras model.\n",
    "model_regr = Sequential()\n",
    "\n",
    "# Add an input layer for the signals.\n",
    "# Note how we set the dimensionality of the input here.\n",
    "model_regr.add(InputLayer(input_shape=(num_signals,)))\n",
    "\n",
    "# Add several dense aka. fully-connected layers.\n",
    "# You can experiment with different designs.\n",
    "model_regr.add(Dense(128, activation=activation))\n",
    "model_regr.add(Dense(64, activation=activation))\n",
    "model_regr.add(Dense(32, activation=activation))\n",
    "model_regr.add(Dense(16, activation=activation))\n",
    "model_regr.add(Dense(8, activation=activation))\n",
    "\n",
    "# Add a layer for the output of the Neural Network.\n",
    "# This is 1-dimensional to match the stock-return data.\n",
    "model_regr.add(Dense(1))\n",
    "\n",
    "# Compile the model but don't train it yet.\n",
    "model_regr.compile(loss='mse', metrics=['mae'],\n",
    "                   optimizer=RMSprop(0.001))\n",
    "\n",
    "# Show the model.\n",
    "model_regr.summary()"
   ]
  },
  {
   "cell_type": "markdown",
   "metadata": {},
   "source": [
    "These are common arguments for training both our regression and classification models:"
   ]
  },
  {
   "cell_type": "code",
   "execution_count": 33,
   "metadata": {},
   "outputs": [],
   "source": [
    "fit_args = \\\n",
    "{\n",
    "    # For efficiency, the model is trained on batches of data.\n",
    "    'batch_size': 4096,\n",
    "    \n",
    "    # Number of iterations aka. epochs over the training-set.\n",
    "    'epochs': 40,\n",
    "    \n",
    "    # Fraction of the training-set used for validation after\n",
    "    # each training-epoch, to assess how well the model performs\n",
    "    # on unseen data.\n",
    "    'validation_split': 0.2,\n",
    "\n",
    "    # Show status during training.\n",
    "    'verbose': 1,\n",
    "}"
   ]
  },
  {
   "cell_type": "markdown",
   "metadata": {},
   "source": [
    "We can now train the model. This takes a minute or two on an ordinary computer:"
   ]
  },
  {
   "cell_type": "code",
   "execution_count": 34,
   "metadata": {},
   "outputs": [
    {
     "name": "stdout",
     "output_type": "stream",
     "text": [
      "Train on 712320 samples, validate on 178080 samples\n",
      "Epoch 1/40\n",
      "712320/712320 [==============================] - 2s 3us/sample - loss: 0.0374 - mae: 0.1462 - val_loss: 0.0668 - val_mae: 0.1940\n",
      "Epoch 2/40\n",
      "712320/712320 [==============================] - 1s 2us/sample - loss: 0.0273 - mae: 0.1252 - val_loss: 0.0747 - val_mae: 0.2033\n",
      "Epoch 3/40\n",
      "712320/712320 [==============================] - 1s 2us/sample - loss: 0.0225 - mae: 0.1141 - val_loss: 0.0770 - val_mae: 0.2102\n",
      "Epoch 4/40\n",
      "712320/712320 [==============================] - 1s 2us/sample - loss: 0.0194 - mae: 0.1063 - val_loss: 0.0794 - val_mae: 0.2115\n",
      "Epoch 5/40\n",
      "712320/712320 [==============================] - 1s 2us/sample - loss: 0.0173 - mae: 0.1005 - val_loss: 0.0815 - val_mae: 0.2145\n",
      "Epoch 6/40\n",
      "712320/712320 [==============================] - 1s 2us/sample - loss: 0.0157 - mae: 0.0961 - val_loss: 0.0847 - val_mae: 0.2185\n",
      "Epoch 7/40\n",
      "712320/712320 [==============================] - 1s 2us/sample - loss: 0.0145 - mae: 0.0925 - val_loss: 0.0841 - val_mae: 0.2169\n",
      "Epoch 8/40\n",
      "712320/712320 [==============================] - 1s 2us/sample - loss: 0.0136 - mae: 0.0895 - val_loss: 0.0871 - val_mae: 0.2219\n",
      "Epoch 9/40\n",
      "712320/712320 [==============================] - 1s 2us/sample - loss: 0.0128 - mae: 0.0870 - val_loss: 0.0883 - val_mae: 0.2232\n",
      "Epoch 10/40\n",
      "712320/712320 [==============================] - 1s 2us/sample - loss: 0.0121 - mae: 0.0847 - val_loss: 0.0897 - val_mae: 0.2239\n",
      "Epoch 11/40\n",
      "712320/712320 [==============================] - 1s 2us/sample - loss: 0.0115 - mae: 0.0828 - val_loss: 0.0885 - val_mae: 0.2237\n",
      "Epoch 12/40\n",
      "712320/712320 [==============================] - 1s 2us/sample - loss: 0.0110 - mae: 0.0809 - val_loss: 0.0893 - val_mae: 0.2241\n",
      "Epoch 13/40\n",
      "712320/712320 [==============================] - 1s 2us/sample - loss: 0.0105 - mae: 0.0793 - val_loss: 0.0932 - val_mae: 0.2296\n",
      "Epoch 14/40\n",
      "712320/712320 [==============================] - 1s 2us/sample - loss: 0.0102 - mae: 0.0778 - val_loss: 0.0919 - val_mae: 0.2274\n",
      "Epoch 15/40\n",
      "712320/712320 [==============================] - 1s 2us/sample - loss: 0.0098 - mae: 0.0765 - val_loss: 0.0915 - val_mae: 0.2279\n",
      "Epoch 16/40\n",
      "712320/712320 [==============================] - 1s 2us/sample - loss: 0.0095 - mae: 0.0750 - val_loss: 0.0912 - val_mae: 0.2263\n",
      "Epoch 17/40\n",
      "712320/712320 [==============================] - 1s 2us/sample - loss: 0.0092 - mae: 0.0740 - val_loss: 0.0916 - val_mae: 0.2276\n",
      "Epoch 18/40\n",
      "712320/712320 [==============================] - 1s 2us/sample - loss: 0.0089 - mae: 0.0728 - val_loss: 0.0922 - val_mae: 0.2281\n",
      "Epoch 19/40\n",
      "712320/712320 [==============================] - 1s 2us/sample - loss: 0.0087 - mae: 0.0720 - val_loss: 0.0921 - val_mae: 0.2281\n",
      "Epoch 20/40\n",
      "712320/712320 [==============================] - 1s 2us/sample - loss: 0.0085 - mae: 0.0709 - val_loss: 0.0941 - val_mae: 0.2300\n",
      "Epoch 21/40\n",
      "712320/712320 [==============================] - 1s 2us/sample - loss: 0.0083 - mae: 0.0702 - val_loss: 0.0921 - val_mae: 0.2274\n",
      "Epoch 22/40\n",
      "712320/712320 [==============================] - 1s 2us/sample - loss: 0.0081 - mae: 0.0693 - val_loss: 0.0957 - val_mae: 0.2321\n",
      "Epoch 23/40\n",
      "712320/712320 [==============================] - 1s 2us/sample - loss: 0.0079 - mae: 0.0684 - val_loss: 0.0937 - val_mae: 0.2293\n",
      "Epoch 24/40\n",
      "712320/712320 [==============================] - 1s 2us/sample - loss: 0.0077 - mae: 0.0676 - val_loss: 0.0938 - val_mae: 0.2294\n",
      "Epoch 25/40\n",
      "712320/712320 [==============================] - 1s 2us/sample - loss: 0.0075 - mae: 0.0669 - val_loss: 0.0924 - val_mae: 0.2282\n",
      "Epoch 26/40\n",
      "712320/712320 [==============================] - 1s 2us/sample - loss: 0.0074 - mae: 0.0663 - val_loss: 0.0967 - val_mae: 0.2329\n",
      "Epoch 27/40\n",
      "712320/712320 [==============================] - 1s 2us/sample - loss: 0.0072 - mae: 0.0655 - val_loss: 0.0938 - val_mae: 0.2295\n",
      "Epoch 28/40\n",
      "712320/712320 [==============================] - 1s 2us/sample - loss: 0.0071 - mae: 0.0651 - val_loss: 0.0944 - val_mae: 0.2308\n",
      "Epoch 29/40\n",
      "712320/712320 [==============================] - 1s 2us/sample - loss: 0.0070 - mae: 0.0642 - val_loss: 0.0944 - val_mae: 0.2303\n",
      "Epoch 30/40\n",
      "712320/712320 [==============================] - 1s 2us/sample - loss: 0.0068 - mae: 0.0636 - val_loss: 0.0965 - val_mae: 0.2329\n",
      "Epoch 31/40\n",
      "712320/712320 [==============================] - 1s 2us/sample - loss: 0.0068 - mae: 0.0632 - val_loss: 0.0931 - val_mae: 0.2291\n",
      "Epoch 32/40\n",
      "712320/712320 [==============================] - 1s 2us/sample - loss: 0.0066 - mae: 0.0626 - val_loss: 0.0945 - val_mae: 0.2310\n",
      "Epoch 33/40\n",
      "712320/712320 [==============================] - 1s 2us/sample - loss: 0.0065 - mae: 0.0620 - val_loss: 0.0936 - val_mae: 0.2297\n",
      "Epoch 34/40\n",
      "712320/712320 [==============================] - 1s 2us/sample - loss: 0.0064 - mae: 0.0615 - val_loss: 0.0949 - val_mae: 0.2310\n",
      "Epoch 35/40\n",
      "712320/712320 [==============================] - 1s 2us/sample - loss: 0.0064 - mae: 0.0613 - val_loss: 0.0942 - val_mae: 0.2307\n",
      "Epoch 36/40\n",
      "712320/712320 [==============================] - 1s 2us/sample - loss: 0.0062 - mae: 0.0606 - val_loss: 0.0940 - val_mae: 0.2300\n",
      "Epoch 37/40\n",
      "712320/712320 [==============================] - 1s 2us/sample - loss: 0.0062 - mae: 0.0604 - val_loss: 0.0950 - val_mae: 0.2320\n",
      "Epoch 38/40\n",
      "712320/712320 [==============================] - 1s 2us/sample - loss: 0.0061 - mae: 0.0598 - val_loss: 0.0942 - val_mae: 0.2312\n",
      "Epoch 39/40\n",
      "712320/712320 [==============================] - 1s 2us/sample - loss: 0.0060 - mae: 0.0594 - val_loss: 0.0949 - val_mae: 0.2318\n",
      "Epoch 40/40\n",
      "712320/712320 [==============================] - 1s 2us/sample - loss: 0.0059 - mae: 0.0589 - val_loss: 0.0964 - val_mae: 0.2337\n",
      "CPU times: user 3min 10s, sys: 7.33 s, total: 3min 17s\n",
      "Wall time: 46.3 s\n"
     ]
    }
   ],
   "source": [
    "%%time\n",
    "history_regr = model_regr.fit(x=X_train.values,\n",
    "                              y=y_train.values, **fit_args)"
   ]
  },
  {
   "cell_type": "markdown",
   "metadata": {},
   "source": [
    "We can then plot the training-progress as the Mean Absolute Error (MAE) which is supposed to be minimized. After 40 epochs through the training-set, the model has learned to map from signals to stock-returns for the training-set, with an average absolute error of about 6%, which would be very good if it generalized to unseen data. Unfortunately, the performance on the validation-set gets worse during optimization and ends with a MAE about 24%, so the model is clearly not learning the underlying relation between signals and stock-returns, but it has instead learned peculiarities and noise in the training-data."
   ]
  },
  {
   "cell_type": "code",
   "execution_count": 35,
   "metadata": {},
   "outputs": [
    {
     "data": {
      "text/plain": [
       "<matplotlib.axes._subplots.AxesSubplot at 0x7f3751014470>"
      ]
     },
     "execution_count": 35,
     "metadata": {},
     "output_type": "execute_result"
    },
    {
     "data": {
      "image/png": "[encoded data removed]",
      "text/plain": [
       "<Figure size 432x288 with 1 Axes>"
      ]
     },
     "metadata": {},
     "output_type": "display_data"
    }
   ],
   "source": [
    "# Convert training history to a DataFrame.\n",
    "df = pd.DataFrame(history_regr.history)\n",
    "\n",
    "# Rename the relevant columns.\n",
    "names = {'mae': 'Training MAE', 'val_mae': 'Validation MAE'}\n",
    "df = df[['mae', 'val_mae']].rename(columns=names)\n",
    "\n",
    "# Plot the results.\n",
    "df.plot()"
   ]
  },
  {
   "cell_type": "markdown",
   "metadata": {},
   "source": [
    "### Regression Results\n",
    "\n",
    "Let us now compute some performance measures for the Neural Network. First we use the fitted model to predict the stock-returns for the training- and test-sets:"
   ]
  },
  {
   "cell_type": "code",
   "execution_count": 36,
   "metadata": {},
   "outputs": [
    {
     "name": "stdout",
     "output_type": "stream",
     "text": [
      "CPU times: user 29.6 s, sys: 2.01 s, total: 31.6 s\n",
      "Wall time: 21.2 s\n"
     ]
    }
   ],
   "source": [
    "%%time\n",
    "y_train_pred = model_regr.predict(X_train.values)\n",
    "y_test_pred = model_regr.predict(X_test.values)"
   ]
  },
  {
   "cell_type": "markdown",
   "metadata": {},
   "source": [
    "We can then calculate the $R^2$ value (aka. the coefficient of determination) between the actual stock-returns and those predicted by the model. A value of 1 means a perfect prediction, while a value of 0 means the model basically predicted the average stock-return, and a negative value means the model's prediction was worse than just using the average stock-return.\n",
    "\n",
    "The $R^2$ value is about 0.5 for the training-set, which is OK but could be much higher if we trained it more, and if we used a bigger Neural Network with more parameters to optimize."
   ]
  },
  {
   "cell_type": "code",
   "execution_count": 37,
   "metadata": {},
   "outputs": [
    {
     "data": {
      "text/plain": [
       "0.4976140337851359"
      ]
     },
     "execution_count": 37,
     "metadata": {},
     "output_type": "execute_result"
    }
   ],
   "source": [
    "r2_score(y_true=y_train, y_pred=y_train_pred)"
   ]
  },
  {
   "cell_type": "markdown",
   "metadata": {},
   "source": [
    "But the $R^2$ value is very negative for the test-set, which is so bad, that it would be much better to just use the average stock-return. This shows the model has not learned the underlying relation between the signals X and stock-returns y. The model has merely learned noise or peculiarities in the training-data, which do not generalize to the unseen data in the test-set:"
   ]
  },
  {
   "cell_type": "code",
   "execution_count": 38,
   "metadata": {},
   "outputs": [
    {
     "data": {
      "text/plain": [
       "-0.7089485805293441"
      ]
     },
     "execution_count": 38,
     "metadata": {},
     "output_type": "execute_result"
    }
   ],
   "source": [
    "r2_score(y_true=y_test, y_pred=y_test_pred)"
   ]
  },
  {
   "cell_type": "markdown",
   "metadata": {},
   "source": [
    "### Regression Examples\n",
    "\n",
    "We can also try and plot the model's predicted versus actual stock-returns for a stock in the training-set. As we can see, the model has learned this mapping reasonably well:"
   ]
  },
  {
   "cell_type": "code",
   "execution_count": 39,
   "metadata": {},
   "outputs": [
    {
     "data": {
      "image/png": "[encoded data removed]",
      "text/plain": [
       "<Figure size 432x288 with 1 Axes>"
      ]
     },
     "metadata": {},
     "output_type": "display_data"
    }
   ],
   "source": [
    "# Column-name for the models' predicted stock-returns.\n",
    "TOTAL_RETURN_PRED = 'Total Return Predicted'\n",
    "\n",
    "# Create a DataFrame with actual and predicted stock-returns.\n",
    "# This is for the training-set.\n",
    "df_y_train = pd.DataFrame(y_train)\n",
    "df_y_train[TOTAL_RETURN_PRED] = y_train_pred\n",
    "\n",
    "# Plot the actual and predicted stock-returns for the first stock.\n",
    "ticker = tickers_train[0]\n",
    "_ = df_y_train.loc[ticker].plot(title=ticker)"
   ]
  },
  {
   "cell_type": "markdown",
   "metadata": {},
   "source": [
    "Now let us try and plot the model's predicted versus actual stock-returns for the first stock in the test-set. As we can see, the model is mostly unable to predict the stock-returns, for this data that it has not seen during its training:"
   ]
  },
  {
   "cell_type": "code",
   "execution_count": 40,
   "metadata": {},
   "outputs": [
    {
     "data": {
      "image/png": "[encoded data removed]",
      "text/plain": [
       "<Figure size 432x288 with 1 Axes>"
      ]
     },
     "metadata": {},
     "output_type": "display_data"
    }
   ],
   "source": [
    "# Create a DataFrame with actual and predicted stock-returns.\n",
    "# This is for the test-set.\n",
    "df_y_test = pd.DataFrame(y_test)\n",
    "df_y_test[TOTAL_RETURN_PRED] = y_test_pred\n",
    "\n",
    "# Plot the actual and predicted stock-returns for the first stock.\n",
    "ticker = tickers_test[0]\n",
    "_ = df_y_test.loc[ticker].plot(title=ticker)"
   ]
  },
  {
   "cell_type": "markdown",
   "metadata": {},
   "source": [
    "## Neural Network: Classification\n",
    "\n",
    "Instead of mapping from signals X to a continuous variable y for the stock-return, we can try and map to discrete output-classes that indicate if the stock-return was a gain or loss. This is a so-called binary classification problem, and perhaps that is easier for the Neural Network.\n",
    "\n",
    "### Convert Output Data\n",
    "\n",
    "First we need to convert the stock-returns into 1 for gains and 0 for losses, and then split into training- and test-sets:"
   ]
  },
  {
   "cell_type": "code",
   "execution_count": 41,
   "metadata": {},
   "outputs": [
    {
     "name": "stdout",
     "output_type": "stream",
     "text": [
      "CPU times: user 2.98 s, sys: 9.1 ms, total: 2.99 s\n",
      "Wall time: 2.99 s\n"
     ]
    }
   ],
   "source": [
    "%%time\n",
    "# Convert stock-returns to binary classes where loss=0 and gain=1\n",
    "# In the previous tutorial we just used the sign directly, but it\n",
    "# is easier in TensorFlow / Keras to use class-values of 0 and 1.\n",
    "df_cls = (np.sign(df_sig_rets[TOTAL_RETURN_1_3Y]) + 1) * 0.5\n",
    "\n",
    "# Split the classes into training- and test-sets.\n",
    "y_train_cls = df_cls.loc[tickers_train]\n",
    "y_test_cls = df_cls.loc[tickers_test]"
   ]
  },
  {
   "cell_type": "markdown",
   "metadata": {},
   "source": [
    "Because this is a binary classification problem (the result is either a gain or a loss), we could build a Neural Network to use `y_train_cls` directly. But instead we want to build a more general type of Neural Network which supports any number of output classes. For this we must convert the output to so-called one-hot encoded arrays, so a class of 0 (loss) becomes the array `[1,0]` and a class of 1 (gain) becomes the array `[0,1]`."
   ]
  },
  {
   "cell_type": "code",
   "execution_count": 42,
   "metadata": {},
   "outputs": [
    {
     "data": {
      "text/plain": [
       "array([[0., 1.],\n",
       "       [0., 1.],\n",
       "       [0., 1.],\n",
       "       ...,\n",
       "       [0., 1.],\n",
       "       [0., 1.],\n",
       "       [0., 1.]], dtype=float32)"
      ]
     },
     "execution_count": 42,
     "metadata": {},
     "output_type": "execute_result"
    }
   ],
   "source": [
    "# Convert classes to one-hot-encoded arrays.\n",
    "y_train_one_hot = to_categorical(y=y_train_cls.values,\n",
    "                                 num_classes=2)\n",
    "\n",
    "# Show the result.\n",
    "y_train_one_hot"
   ]
  },
  {
   "cell_type": "markdown",
   "metadata": {},
   "source": [
    "The training-set is also biased because it contains many more samples with gains compared to losses:"
   ]
  },
  {
   "cell_type": "code",
   "execution_count": 43,
   "metadata": {},
   "outputs": [
    {
     "data": {
      "text/plain": [
       "0.7068901617250674"
      ]
     },
     "execution_count": 43,
     "metadata": {},
     "output_type": "execute_result"
    }
   ],
   "source": [
    "# Fraction of the training-set that is classified as gains.\n",
    "gain_fraction = (y_train_cls == 1.0).sum() / len(y_train_cls)\n",
    "loss_fraction = 1.0 - gain_fraction\n",
    "\n",
    "# Show it.\n",
    "gain_fraction"
   ]
  },
  {
   "cell_type": "markdown",
   "metadata": {},
   "source": [
    "When we train the Neural Network further below, we need to provide new class-weights to counter this imbalance between the two classes:"
   ]
  },
  {
   "cell_type": "code",
   "execution_count": 44,
   "metadata": {},
   "outputs": [
    {
     "data": {
      "text/plain": [
       "array([1.70584516, 0.70732347])"
      ]
     },
     "execution_count": 44,
     "metadata": {},
     "output_type": "execute_result"
    }
   ],
   "source": [
    "# Calculate the class-weights.\n",
    "class_weight = compute_class_weight('balanced',\n",
    "                                    y=y_train_cls,\n",
    "                                    classes=[0.0, 1.0])\n",
    "\n",
    "# Show them.\n",
    "class_weight"
   ]
  },
  {
   "cell_type": "markdown",
   "metadata": {},
   "source": [
    "We can check that when we multiply these weights by the class-fractions for losses and gains, they both end up with the same weights:"
   ]
  },
  {
   "cell_type": "code",
   "execution_count": 45,
   "metadata": {},
   "outputs": [
    {
     "data": {
      "text/plain": [
       "array([0.5, 0.5])"
      ]
     },
     "execution_count": 45,
     "metadata": {},
     "output_type": "execute_result"
    }
   ],
   "source": [
    "class_weight * [loss_fraction, gain_fraction]"
   ]
  },
  {
   "cell_type": "markdown",
   "metadata": {},
   "source": [
    "### Build and Train Neural Network: Classification\n",
    "\n",
    "Now that we have prepared the classification data, we can proceed to build the Neural Network. We will use the same overall design as for the regression model above, with minor changes for the classification task."
   ]
  },
  {
   "cell_type": "code",
   "execution_count": 46,
   "metadata": {},
   "outputs": [],
   "source": [
    "# The activation function applied after each layer.\n",
    "# It is important to use a non-linear function, otherwise\n",
    "# the Neural Network cannot learn non-linear mappings.\n",
    "activation = 'relu'"
   ]
  },
  {
   "cell_type": "code",
   "execution_count": 47,
   "metadata": {},
   "outputs": [
    {
     "name": "stdout",
     "output_type": "stream",
     "text": [
      "Model: \"sequential_1\"\n",
      "_________________________________________________________________\n",
      "Layer (type)                 Output Shape              Param #   \n",
      "=================================================================\n",
      "dense_6 (Dense)              (None, 128)               3200      \n",
      "_________________________________________________________________\n",
      "dense_7 (Dense)              (None, 64)                8256      \n",
      "_________________________________________________________________\n",
      "dense_8 (Dense)              (None, 32)                2080      \n",
      "_________________________________________________________________\n",
      "dense_9 (Dense)              (None, 16)                528       \n",
      "_________________________________________________________________\n",
      "dense_10 (Dense)             (None, 8)                 136       \n",
      "_________________________________________________________________\n",
      "dense_11 (Dense)             (None, 2)                 18        \n",
      "=================================================================\n",
      "Total params: 14,218\n",
      "Trainable params: 14,218\n",
      "Non-trainable params: 0\n",
      "_________________________________________________________________\n"
     ]
    }
   ],
   "source": [
    "# Create a new Keras model.\n",
    "model_clf = keras.Sequential()\n",
    "\n",
    "# Add an input layer for the signals.\n",
    "# Note how we set the dimensionality of the input here.\n",
    "model_clf.add(InputLayer(input_shape=(num_signals,)))\n",
    "\n",
    "# Add several dense aka. fully-connected layers.\n",
    "# You can experiment with different designs.\n",
    "model_clf.add(Dense(128, activation=activation))\n",
    "model_clf.add(Dense(64, activation=activation))\n",
    "model_clf.add(Dense(32, activation=activation))\n",
    "model_clf.add(Dense(16, activation=activation))\n",
    "model_clf.add(Dense(8, activation=activation))\n",
    "\n",
    "# Add a layer for the output of the Neural Network.\n",
    "# This has 2 outputs, one for each possible class, and it uses\n",
    "# the softmax activation function for classification.\n",
    "model_clf.add(Dense(2, activation='softmax'))\n",
    "\n",
    "# Compile the model but don't train it yet.\n",
    "# Note that it uses a different loss-function and metric\n",
    "# than the regression-model above.\n",
    "model_clf.compile(loss='categorical_crossentropy',\n",
    "                  metrics=['accuracy'],\n",
    "                  optimizer=RMSprop(0.001))\n",
    "\n",
    "# Show the model.\n",
    "model_clf.summary()"
   ]
  },
  {
   "cell_type": "markdown",
   "metadata": {},
   "source": [
    "We can now train the model. This takes a minute or two on an ordinary computer:"
   ]
  },
  {
   "cell_type": "code",
   "execution_count": 48,
   "metadata": {
    "scrolled": true
   },
   "outputs": [
    {
     "name": "stdout",
     "output_type": "stream",
     "text": [
      "Train on 712320 samples, validate on 178080 samples\n",
      "Epoch 1/40\n",
      "712320/712320 [==============================] - 2s 3us/sample - loss: 0.5485 - accuracy: 0.7389 - val_loss: 0.6236 - val_accuracy: 0.6729\n",
      "Epoch 2/40\n",
      "712320/712320 [==============================] - 1s 2us/sample - loss: 0.4801 - accuracy: 0.7778 - val_loss: 0.6679 - val_accuracy: 0.6533\n",
      "Epoch 3/40\n",
      "712320/712320 [==============================] - 1s 2us/sample - loss: 0.4369 - accuracy: 0.8045 - val_loss: 0.7097 - val_accuracy: 0.6524\n",
      "Epoch 4/40\n",
      "712320/712320 [==============================] - 1s 2us/sample - loss: 0.4043 - accuracy: 0.8239 - val_loss: 0.7599 - val_accuracy: 0.6606\n",
      "Epoch 5/40\n",
      "712320/712320 [==============================] - 1s 2us/sample - loss: 0.3756 - accuracy: 0.8403 - val_loss: 0.8002 - val_accuracy: 0.6617\n",
      "Epoch 6/40\n",
      "712320/712320 [==============================] - 1s 2us/sample - loss: 0.3505 - accuracy: 0.8540 - val_loss: 0.8559 - val_accuracy: 0.6635\n",
      "Epoch 7/40\n",
      "712320/712320 [==============================] - 1s 2us/sample - loss: 0.3281 - accuracy: 0.8656 - val_loss: 0.9290 - val_accuracy: 0.6155\n",
      "Epoch 8/40\n",
      "712320/712320 [==============================] - 1s 2us/sample - loss: 0.3086 - accuracy: 0.8754 - val_loss: 0.9807 - val_accuracy: 0.6066\n",
      "Epoch 9/40\n",
      "712320/712320 [==============================] - 1s 2us/sample - loss: 0.2912 - accuracy: 0.8845 - val_loss: 1.0285 - val_accuracy: 0.6112\n",
      "Epoch 10/40\n",
      "712320/712320 [==============================] - 1s 2us/sample - loss: 0.2737 - accuracy: 0.8937 - val_loss: 1.0722 - val_accuracy: 0.6119\n",
      "Epoch 11/40\n",
      "712320/712320 [==============================] - 1s 2us/sample - loss: 0.2606 - accuracy: 0.8997 - val_loss: 1.0686 - val_accuracy: 0.6597\n",
      "Epoch 12/40\n",
      "712320/712320 [==============================] - 1s 2us/sample - loss: 0.2465 - accuracy: 0.9065 - val_loss: 1.1256 - val_accuracy: 0.6408\n",
      "Epoch 13/40\n",
      "712320/712320 [==============================] - 1s 2us/sample - loss: 0.2355 - accuracy: 0.9117 - val_loss: 1.1427 - val_accuracy: 0.6448\n",
      "Epoch 14/40\n",
      "712320/712320 [==============================] - 1s 2us/sample - loss: 0.2244 - accuracy: 0.9161 - val_loss: 1.1987 - val_accuracy: 0.6523\n",
      "Epoch 15/40\n",
      "712320/712320 [==============================] - 1s 2us/sample - loss: 0.2149 - accuracy: 0.9204 - val_loss: 1.3874 - val_accuracy: 0.5823\n",
      "Epoch 16/40\n",
      "712320/712320 [==============================] - 1s 2us/sample - loss: 0.2062 - accuracy: 0.9243 - val_loss: 1.3780 - val_accuracy: 0.5971\n",
      "Epoch 17/40\n",
      "712320/712320 [==============================] - 1s 2us/sample - loss: 0.1989 - accuracy: 0.9272 - val_loss: 1.3306 - val_accuracy: 0.6281\n",
      "Epoch 18/40\n",
      "712320/712320 [==============================] - 1s 2us/sample - loss: 0.1919 - accuracy: 0.9302 - val_loss: 1.3303 - val_accuracy: 0.6639\n",
      "Epoch 19/40\n",
      "712320/712320 [==============================] - 1s 2us/sample - loss: 0.1870 - accuracy: 0.9316 - val_loss: 1.3558 - val_accuracy: 0.6296\n",
      "Epoch 20/40\n",
      "712320/712320 [==============================] - 1s 2us/sample - loss: 0.1800 - accuracy: 0.9343 - val_loss: 1.3655 - val_accuracy: 0.6415\n",
      "Epoch 21/40\n",
      "712320/712320 [==============================] - 1s 2us/sample - loss: 0.1735 - accuracy: 0.9372 - val_loss: 1.4403 - val_accuracy: 0.6323\n",
      "Epoch 22/40\n",
      "712320/712320 [==============================] - 1s 2us/sample - loss: 0.1690 - accuracy: 0.9389 - val_loss: 1.4594 - val_accuracy: 0.6650\n",
      "Epoch 23/40\n",
      "712320/712320 [==============================] - 1s 2us/sample - loss: 0.1655 - accuracy: 0.9403 - val_loss: 1.4784 - val_accuracy: 0.6461\n",
      "Epoch 24/40\n",
      "712320/712320 [==============================] - 1s 2us/sample - loss: 0.1597 - accuracy: 0.9425 - val_loss: 1.6489 - val_accuracy: 0.6042\n",
      "Epoch 25/40\n",
      "712320/712320 [==============================] - 1s 2us/sample - loss: 0.1569 - accuracy: 0.9435 - val_loss: 1.7294 - val_accuracy: 0.5939\n",
      "Epoch 26/40\n",
      "712320/712320 [==============================] - 1s 2us/sample - loss: 0.1534 - accuracy: 0.9450 - val_loss: 1.6694 - val_accuracy: 0.6080\n",
      "Epoch 27/40\n",
      "712320/712320 [==============================] - 1s 2us/sample - loss: 0.1485 - accuracy: 0.9465 - val_loss: 1.7625 - val_accuracy: 0.5981\n",
      "Epoch 28/40\n",
      "712320/712320 [==============================] - 1s 2us/sample - loss: 0.1469 - accuracy: 0.9474 - val_loss: 1.7854 - val_accuracy: 0.6033\n",
      "Epoch 29/40\n",
      "712320/712320 [==============================] - 1s 2us/sample - loss: 0.1447 - accuracy: 0.9484 - val_loss: 1.7102 - val_accuracy: 0.6137\n",
      "Epoch 30/40\n",
      "712320/712320 [==============================] - 1s 2us/sample - loss: 0.1412 - accuracy: 0.9494 - val_loss: 1.6183 - val_accuracy: 0.6378\n",
      "Epoch 31/40\n",
      "712320/712320 [==============================] - 1s 2us/sample - loss: 0.1387 - accuracy: 0.9503 - val_loss: 1.8300 - val_accuracy: 0.6053\n",
      "Epoch 32/40\n",
      "712320/712320 [==============================] - 1s 2us/sample - loss: 0.1368 - accuracy: 0.9510 - val_loss: 1.8711 - val_accuracy: 0.6003\n",
      "Epoch 33/40\n",
      "712320/712320 [==============================] - 1s 2us/sample - loss: 0.1331 - accuracy: 0.9522 - val_loss: 1.8598 - val_accuracy: 0.6160\n",
      "Epoch 34/40\n",
      "712320/712320 [==============================] - 1s 2us/sample - loss: 0.1341 - accuracy: 0.9520 - val_loss: 1.7861 - val_accuracy: 0.6177\n",
      "Epoch 35/40\n",
      "712320/712320 [==============================] - 1s 2us/sample - loss: 0.1293 - accuracy: 0.9538 - val_loss: 1.7999 - val_accuracy: 0.6243\n",
      "Epoch 36/40\n",
      "712320/712320 [==============================] - 1s 2us/sample - loss: 0.1281 - accuracy: 0.9540 - val_loss: 1.8664 - val_accuracy: 0.6126\n",
      "Epoch 37/40\n",
      "712320/712320 [==============================] - 1s 2us/sample - loss: 0.1274 - accuracy: 0.9542 - val_loss: 2.2020 - val_accuracy: 0.5787\n",
      "Epoch 38/40\n",
      "712320/712320 [==============================] - 1s 2us/sample - loss: 0.1264 - accuracy: 0.9546 - val_loss: 1.9973 - val_accuracy: 0.5971\n",
      "Epoch 39/40\n",
      "712320/712320 [==============================] - 1s 2us/sample - loss: 0.1224 - accuracy: 0.9562 - val_loss: 1.9357 - val_accuracy: 0.6076\n",
      "Epoch 40/40\n",
      "712320/712320 [==============================] - 1s 2us/sample - loss: 0.1224 - accuracy: 0.9559 - val_loss: 1.9765 - val_accuracy: 0.6109\n",
      "CPU times: user 3min 21s, sys: 7.42 s, total: 3min 29s\n",
      "Wall time: 51.5 s\n"
     ]
    }
   ],
   "source": [
    "%%time\n",
    "history_clf = model_clf.fit(x=X_train.values, y=y_train_one_hot,\n",
    "                            class_weight=class_weight, **fit_args)"
   ]
  },
  {
   "cell_type": "markdown",
   "metadata": {},
   "source": [
    "We can then plot the training-progress as the classification accuracy which is supposed to be maximized. After 40 epochs through the training-set, the model has learned to map from signals to stock gain/loss for the training-set, with an accuracy of about 96% (this is not for the entire training-set, but only for one or more batches of data).\n",
    "\n",
    "Unfortunately, the performance on the validation-set gets worse during optimization and ends with an accuracy of about 60%, so the model is clearly not learning the underlying relation between signals and stock gain/loss, but it has instead learned peculiarities and noise in the training-data."
   ]
  },
  {
   "cell_type": "code",
   "execution_count": 49,
   "metadata": {},
   "outputs": [
    {
     "data": {
      "text/plain": [
       "<matplotlib.axes._subplots.AxesSubplot at 0x7f36e0232b38>"
      ]
     },
     "execution_count": 49,
     "metadata": {},
     "output_type": "execute_result"
    },
    {
     "data": {
      "image/png": "[encoded data removed]",
      "text/plain": [
       "<Figure size 432x288 with 1 Axes>"
      ]
     },
     "metadata": {},
     "output_type": "display_data"
    }
   ],
   "source": [
    "# Convert training history to a DataFrame.\n",
    "df = pd.DataFrame(history_clf.history)\n",
    "\n",
    "# Rename the relevant columns.\n",
    "names = {'accuracy': 'Training Accuracy',\n",
    "         'val_accuracy': 'Validation Accuracy'}\n",
    "df = df[['accuracy', 'val_accuracy']].rename(columns=names)\n",
    "\n",
    "# Plot the results.\n",
    "df.plot()"
   ]
  },
  {
   "cell_type": "markdown",
   "metadata": {},
   "source": [
    "### Classification Results\n",
    "\n",
    "We can then use the fitted model to predict the classes for the training- and test-sets:"
   ]
  },
  {
   "cell_type": "code",
   "execution_count": 50,
   "metadata": {},
   "outputs": [
    {
     "name": "stdout",
     "output_type": "stream",
     "text": [
      "CPU times: user 32 s, sys: 2.25 s, total: 34.2 s\n",
      "Wall time: 23 s\n"
     ]
    }
   ],
   "source": [
    "%%time\n",
    "y_train_pred_cls = model_clf.predict(X_train.values)\n",
    "y_test_pred_cls = model_clf.predict(X_test.values)"
   ]
  },
  {
   "cell_type": "markdown",
   "metadata": {},
   "source": [
    "The Neural Network has 2 outputs which is a likelihood score for each of the two classes:"
   ]
  },
  {
   "cell_type": "code",
   "execution_count": 51,
   "metadata": {},
   "outputs": [
    {
     "data": {
      "text/plain": [
       "array([[0.00180785, 0.99819213],\n",
       "       [0.00175658, 0.99824345],\n",
       "       [0.00175229, 0.99824774],\n",
       "       ...,\n",
       "       [0.51388144, 0.48611856],\n",
       "       [0.5675287 , 0.4324713 ],\n",
       "       [0.55133164, 0.44866836]], dtype=float32)"
      ]
     },
     "execution_count": 51,
     "metadata": {},
     "output_type": "execute_result"
    }
   ],
   "source": [
    "y_test_pred_cls"
   ]
  },
  {
   "cell_type": "markdown",
   "metadata": {},
   "source": [
    "Let us convert this to a single integer class-number, by taking the so-called argmax, which is the index of the largest element in each row:"
   ]
  },
  {
   "cell_type": "code",
   "execution_count": 52,
   "metadata": {},
   "outputs": [
    {
     "data": {
      "text/plain": [
       "array([1, 1, 1, ..., 0, 0, 0])"
      ]
     },
     "execution_count": 52,
     "metadata": {},
     "output_type": "execute_result"
    }
   ],
   "source": [
    "# Convert one-hot-encoded arrays to integer class-numbers.\n",
    "y_train_pred_cls = y_train_pred_cls.argmax(axis=1)\n",
    "y_test_pred_cls = y_test_pred_cls.argmax(axis=1)\n",
    "\n",
    "# Show the result.\n",
    "y_test_pred_cls"
   ]
  },
  {
   "cell_type": "markdown",
   "metadata": {},
   "source": [
    "We can now calculate the classification accuracy for the entire training-set, which is almost 90%, so the model has learned to map financial signals to gain/loss classifications for 1-3 year investment periods:"
   ]
  },
  {
   "cell_type": "code",
   "execution_count": 53,
   "metadata": {},
   "outputs": [
    {
     "data": {
      "text/plain": [
       "0.8960455974842767"
      ]
     },
     "execution_count": 53,
     "metadata": {},
     "output_type": "execute_result"
    }
   ],
   "source": [
    "accuracy_score(y_true=y_train_cls, y_pred=y_train_pred_cls)"
   ]
  },
  {
   "cell_type": "markdown",
   "metadata": {},
   "source": [
    "Unfortunately this performance does not generalize to the test-set, which the model has not seen during training. Here the classification accuracy is much lower:"
   ]
  },
  {
   "cell_type": "code",
   "execution_count": 54,
   "metadata": {},
   "outputs": [
    {
     "data": {
      "text/plain": [
       "0.6093554250622981"
      ]
     },
     "execution_count": 54,
     "metadata": {},
     "output_type": "execute_result"
    }
   ],
   "source": [
    "accuracy_score(y_true=y_test_cls, y_pred=y_test_pred_cls)"
   ]
  },
  {
   "cell_type": "markdown",
   "metadata": {},
   "source": [
    "This is even worse than simply guessing that the stock-returns are always gains, which would give a classification accuracy of about 70%:"
   ]
  },
  {
   "cell_type": "code",
   "execution_count": 55,
   "metadata": {},
   "outputs": [
    {
     "data": {
      "text/plain": [
       "0.7024723359862238"
      ]
     },
     "execution_count": 55,
     "metadata": {},
     "output_type": "execute_result"
    }
   ],
   "source": [
    "# Fraction of the test-set that is classified as gains.\n",
    "(y_test_cls == 1.0).sum() / len(y_test_cls)"
   ]
  },
  {
   "cell_type": "markdown",
   "metadata": {},
   "source": [
    "### Confusion Matrix\n",
    "\n",
    "We can also plot a so-called Confusion Matrix, which shows how well the classes were predicted. First we need a small helper-function for making the plot:"
   ]
  },
  {
   "cell_type": "code",
   "execution_count": 56,
   "metadata": {},
   "outputs": [],
   "source": [
    "def plot_confusion_matrix(y_true, y_pred):\n",
    "    \"\"\"\n",
    "    Plot a classification confusion matrix.\n",
    "    \n",
    "    :param y_true: Array of true classes.\n",
    "    :param y_pred: Array of predicted classes.\n",
    "    \"\"\"\n",
    "    \n",
    "    # Class labels.\n",
    "    labels = [1.0, 0.0]\n",
    "    labels_text = ['Gain', 'Loss']\n",
    "\n",
    "    # Create confusion matrix.\n",
    "    mat = confusion_matrix(y_true=y_true, y_pred=y_pred,\n",
    "                           labels=labels)\n",
    "    \n",
    "    # Normalize so all matrix entries sum to 1.0\n",
    "    mat = mat / len(y_true)\n",
    "    \n",
    "    # Plot the matrix as a heatmap.\n",
    "    sns.heatmap(mat, robust=True,\n",
    "                xticklabels=labels_text,\n",
    "                yticklabels=labels_text)"
   ]
  },
  {
   "cell_type": "markdown",
   "metadata": {},
   "source": [
    "For the training-set, we again see that the model has learned to accurately classify gains and losses. Note how the colours are different, because the training-set contains many more gains than losses."
   ]
  },
  {
   "cell_type": "code",
   "execution_count": 57,
   "metadata": {},
   "outputs": [
    {
     "data": {
      "image/png": "[encoded data removed]",
      "text/plain": [
       "<Figure size 432x288 with 2 Axes>"
      ]
     },
     "metadata": {},
     "output_type": "display_data"
    }
   ],
   "source": [
    "plot_confusion_matrix(y_true=y_train_cls, y_pred=y_train_pred_cls)"
   ]
  },
  {
   "cell_type": "markdown",
   "metadata": {},
   "source": [
    "The confusion matrix for the test-set, shows that many classes were correctly predicted as gains, and there were a lot of errors in the rest of the predictions:"
   ]
  },
  {
   "cell_type": "code",
   "execution_count": 58,
   "metadata": {},
   "outputs": [
    {
     "data": {
      "image/png": "[encoded data removed]",
      "text/plain": [
       "<Figure size 432x288 with 2 Axes>"
      ]
     },
     "metadata": {},
     "output_type": "display_data"
    }
   ],
   "source": [
    "plot_confusion_matrix(y_true=y_test_cls, y_pred=y_test_pred_cls)"
   ]
  },
  {
   "cell_type": "markdown",
   "metadata": {},
   "source": [
    "### Classification Examples\n",
    "\n",
    "We can also try and plot the model's predicted versus actual gain/loss classification for a stock in the training-set. As we can see, the model has learned this mapping quite well:"
   ]
  },
  {
   "cell_type": "code",
   "execution_count": 59,
   "metadata": {},
   "outputs": [
    {
     "data": {
      "image/png": "[encoded data removed]",
      "text/plain": [
       "<Figure size 432x288 with 1 Axes>"
      ]
     },
     "metadata": {},
     "output_type": "display_data"
    }
   ],
   "source": [
    "# Create a DataFrame with actual and predicted classifications.\n",
    "# This is for the training-set.\n",
    "df_y_train_cls = pd.DataFrame(y_train_cls)\n",
    "df_y_train_cls[TOTAL_RETURN_PRED] = y_train_pred_cls\n",
    "\n",
    "# Plot the actual and predicted stock-returns for the first stock.\n",
    "ticker = tickers_train[0]\n",
    "_ = df_y_train_cls.loc[ticker].plot(title=ticker)"
   ]
  },
  {
   "cell_type": "markdown",
   "metadata": {},
   "source": [
    "Now let us try and plot the model's predicted versus actual gain/loss classifications for the first stock in the test-set. As we can see, the model is quite bad at predicting this for data that it has not seen during its training:"
   ]
  },
  {
   "cell_type": "code",
   "execution_count": 60,
   "metadata": {},
   "outputs": [
    {
     "data": {
      "image/png": "[encoded data removed]",
      "text/plain": [
       "<Figure size 432x288 with 1 Axes>"
      ]
     },
     "metadata": {},
     "output_type": "display_data"
    }
   ],
   "source": [
    "# Create a DataFrame with actual and predicted classifications.\n",
    "# This is for the test-set.\n",
    "df_y_test_cls = pd.DataFrame(y_test_cls)\n",
    "df_y_test_cls[TOTAL_RETURN_PRED] = y_test_pred_cls\n",
    "\n",
    "# Plot the actual and predicted stock-returns for the first stock.\n",
    "ticker = tickers_test[0]\n",
    "_ = df_y_test_cls.loc[ticker].plot(title=ticker)"
   ]
  },
  {
   "cell_type": "markdown",
   "metadata": {},
   "source": [
    "## Discussion\n",
    "\n",
    "We used a Neural Network to learn the relation between signals and future stock-returns. This worked reasonably well on the training-data, but it did not generalize to the test-data, where the Neural Network performed worse than just guessing. In fact, the result was even worse than the previous tutorial which used a Machine Learning (ML) model called a Random Forest.\n",
    "\n",
    "The problem might be the design of the Neural Network, that is, the number and size of the layers, their activation functions, etc. You can try and use so-called Hyper-Parameter Optimization such as the [Keras Tuner](https://keras-team.github.io/keras-tuner/), to try and find a better design for the Neural Network.\n",
    "\n",
    "But we have now seen two very different ML models having the same problem with this dataset, so perhaps it means that these financial signals simply cannot be used to predict future stock-returns for 1-3 year investment periods.\n",
    "\n",
    "\n",
    "### Machine Learning vs. Good Science\n",
    "\n",
    "In the previous tutorial, we had a brief discussion about Machine Learning versus Good Science. We made an important point that is worth repeating here.\n",
    "\n",
    "In general, these experiments show that Machine Learning cannot replace good science. Even if the ML model had performed well on the test-data, it would not have provided an explanation for the underlying relation between signals and stock-returns, so we would not know whether it was truly something that would work in the future. To explain this we need proper scientific reasoning.\n",
    "\n",
    "A good example of scientific reasoning is the discovery and formulation of the Law of Gravity. A simple experiment would be to drop various items from different heights and take lots of measurements of how fast the items fall to the ground.\n",
    "\n",
    "You can then make a noisy scatter-plot that shows the relation between item-size, item-weight, drop-height, and drop-speed. Statistical analysis would be able to give you a rough idea whether there is some relation in the data and if it is statistically significant, so the observed data is probably not just due to random chance. \n",
    "\n",
    "Machine Learning takes this one step further, in that it might be able to create a mathematical or computational model for the non-linear relation in the data, so you could use the ML model to predict the drop-speed if you input the other data. But the ML model would not be able to explain *why* this relation exists in the data. For this we need a proper theoretical framework such as Classical Mechanics in the case of the Law of Gravity.\n",
    "\n",
    "\n",
    "### Predicting Long-Term Stock Returns\n",
    "\n",
    "When it comes to predicting long-term stock-returns, there are actually only 3 factors that matter: The future dividends, sales-growth, and change in the P/Sales valuation ratio. (You could instead use earnings-growth or book-value growth, and the P/E or P/Book valuation ratios.) If we can predict the future dividend, sales-growth and P/Sales ratio, then we can predict the future stock-return.\n",
    "\n",
    "When making scatter-plots of historical P/Sales ratios versus long-term stock-returns, we often see a particular downwards-sloping curve, and it turns out there is a certain formula for this curve, which is derived from the mathematical definition of Annualized Return, see [here](https://github.com/Hvass-Labs/FinanceOps/blob/master/01C_Theory_of_Long-Term_Stock_Forecasting.ipynb). The formula takes as input the average dividend yield, sales-growth and P/Sales ratios that you predict for the future, and produces a curve that can be used to predict future stock-returns from these 3 factors and the P/Sales ratio today. The accuracy of the prediction depends on how well you have predicted these 3 factors.\n",
    "\n",
    "Machine Learning cannot uncover and explain such relations, whether it is the Law of Gravity, or the formula for long-term stock-returns. Human reasoning is still needed for this."
   ]
  },
  {
   "cell_type": "markdown",
   "metadata": {},
   "source": [
    "## License (MIT)\n",
    "\n",
    "This is published under the\n",
    "[MIT License](https://github.com/simfin/simfin-tutorials/blob/master/LICENSE.txt)\n",
    "which allows very broad use for both academic and commercial purposes.\n",
    "\n",
    "You are very welcome to modify and use this source-code in your own project. Please keep a link to the [original repository](https://github.com/simfin/simfin-tutorials).\n"
   ]
  }
 ],
 "metadata": {
  "kernelspec": {
   "display_name": "Python 3",
   "language": "python",
   "name": "python3"
  },
  "language_info": {
   "codemirror_mode": {
    "name": "ipython",
    "version": 3
   },
   "file_extension": ".py",
   "mimetype": "text/x-python",
   "name": "python",
   "nbconvert_exporter": "python",
   "pygments_lexer": "ipython3",
   "version": "3.6.8"
  }
 },
 "nbformat": 4,
 "nbformat_minor": 2
}
