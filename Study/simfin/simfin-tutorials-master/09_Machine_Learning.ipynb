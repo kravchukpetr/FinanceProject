{
 "cells": [
  {
   "cell_type": "markdown",
   "metadata": {},
   "source": [
    "# SimFin Tutorial 09 - Machine Learning\n",
    "\n",
    "[Original repository on GitHub](https://github.com/simfin/simfin-tutorials)\n",
    "\n",
    "This tutorial was originally written by [Hvass Labs](https://github.com/Hvass-Labs)\n",
    "\n",
    "----\n",
    "\n",
    "\"I hate these bloody automated machines. I'm not a machine, I'm a human being! It's remarkable the technology these days, it says it's not a machine, it says it's a human being!\"\n",
    "&ndash; [Fonejacker](https://www.youtube.com/watch?v=MFqxdvggAxM)"
   ]
  },
  {
   "cell_type": "markdown",
   "metadata": {},
   "source": [
    "## Introduction\n",
    "\n",
    "In the previous tutorial on Statistical Analysis, we tried to find a linear relation between signals and future stock-returns for all 1-3 year investment periods. But it was clear from the scatter-plots in that tutorial, that the relations were not linear as assumed by the statistical model. Although it is possible to use non-linear statistical models, we would need to provide the exact mathematical formula, which we often do not know.\n",
    "\n",
    "In this tutorial we will try and use so-called Machine Learning (ML) to automatically try and discover the non-linear relations between signals and stock-returns. Machine Learning has become a fashionable buzz-word, that people sometimes think is a super-intelligent robot that can solve any problem. In reality, ML models are more or less flexible algorithms that can map from some input x (e.g. signals) to some output y (e.g. stock-returns). The ML model may change parts of its algorithm and/or tune its parameters to the dataset, to achieve a good mapping between input x and output y. There are pro's and con's to different ML models, and each ML model may work on some problems but not on others.\n",
    "\n",
    "This tutorial shows how to use financial data from SimFin with the scikit-learn library for doing the Machine Learning. It is assumed you are already familiar with both."
   ]
  },
  {
   "cell_type": "markdown",
   "metadata": {},
   "source": [
    "## Imports"
   ]
  },
  {
   "cell_type": "code",
   "execution_count": 1,
   "metadata": {},
   "outputs": [],
   "source": [
    "%matplotlib inline\n",
    "import pandas as pd\n",
    "import numpy as np\n",
    "import seaborn as sns\n",
    "\n",
    "# Scikit-learn imports.\n",
    "from sklearn.ensemble import RandomForestRegressor\n",
    "from sklearn.ensemble import RandomForestClassifier\n",
    "from sklearn.model_selection import train_test_split\n",
    "from sklearn.tree import export_text\n",
    "from sklearn.metrics import confusion_matrix\n",
    "from sklearn.metrics import r2_score, accuracy_score\n",
    "\n",
    "# Import the main functionality from the SimFin Python API.\n",
    "import simfin as sf\n",
    "\n",
    "# Import names used for easy access to SimFin's data-columns.\n",
    "from simfin.names import *"
   ]
  },
  {
   "cell_type": "code",
   "execution_count": 2,
   "metadata": {},
   "outputs": [
    {
     "data": {
      "text/plain": [
       "'0.3.0'"
      ]
     },
     "execution_count": 2,
     "metadata": {},
     "output_type": "execute_result"
    }
   ],
   "source": [
    "# Version of the SimFin Python API.\n",
    "sf.__version__"
   ]
  },
  {
   "cell_type": "markdown",
   "metadata": {},
   "source": [
    "## SimFin Config"
   ]
  },
  {
   "cell_type": "code",
   "execution_count": 3,
   "metadata": {},
   "outputs": [],
   "source": [
    "# SimFin data-directory.\n",
    "sf.set_data_dir('~/simfin_data/')"
   ]
  },
  {
   "cell_type": "code",
   "execution_count": 4,
   "metadata": {},
   "outputs": [],
   "source": [
    "# SimFin load API key or use free data.\n",
    "sf.load_api_key(path='~/simfin_api_key.txt', default_key='free')"
   ]
  },
  {
   "cell_type": "code",
   "execution_count": 5,
   "metadata": {},
   "outputs": [],
   "source": [
    "# Seaborn set plotting style.\n",
    "sns.set_style(\"whitegrid\")"
   ]
  },
  {
   "cell_type": "markdown",
   "metadata": {},
   "source": [
    "## Data Hub\n",
    "\n",
    "We use a `StockHub` object to easily load and process financial data with these settings:"
   ]
  },
  {
   "cell_type": "code",
   "execution_count": 6,
   "metadata": {},
   "outputs": [],
   "source": [
    "# We are interested in the US stock-market.\n",
    "market = 'us'\n",
    "\n",
    "# Add this date-offset to the fundamental data such as\n",
    "# Income Statements etc., because the REPORT_DATE is not\n",
    "# when it was actually made available to the public,\n",
    "# which can be 1, 2 or even 3 months after the Report Date.\n",
    "offset = pd.DateOffset(days=60)\n",
    "\n",
    "# Refresh the fundamental datasets (Income Statements etc.)\n",
    "# every 30 days.\n",
    "refresh_days = 30\n",
    "\n",
    "# Refresh the dataset with shareprices every 10 days.\n",
    "refresh_days_shareprices = 10"
   ]
  },
  {
   "cell_type": "code",
   "execution_count": 7,
   "metadata": {},
   "outputs": [
    {
     "name": "stdout",
     "output_type": "stream",
     "text": [
      "CPU times: user 11 µs, sys: 3 µs, total: 14 µs\n",
      "Wall time: 17.2 µs\n"
     ]
    }
   ],
   "source": [
    "%%time\n",
    "hub = sf.StockHub(market=market, offset=offset,\n",
    "                  refresh_days=refresh_days,\n",
    "                  refresh_days_shareprices=refresh_days_shareprices)"
   ]
  },
  {
   "cell_type": "markdown",
   "metadata": {},
   "source": [
    "## Signals\n",
    "\n",
    "First we calculate financial signals for the stocks, such as the Current Ratio, Debt Ratio, Net Profit Margin, Return on Assets, etc. These are calculated using data from the financial reports: Income Statements, Balance Sheets and Cash-Flow Statements, which are automatically downloaded and loaded by the data-hub."
   ]
  },
  {
   "cell_type": "code",
   "execution_count": 8,
   "metadata": {},
   "outputs": [
    {
     "name": "stdout",
     "output_type": "stream",
     "text": [
      "Dataset \"us-income-ttm\" on disk (1 days old).\n",
      "- Loading from disk ... Done!\n",
      "Dataset \"us-balance-ttm\" on disk (1 days old).\n",
      "- Loading from disk ... Done!\n",
      "Dataset \"us-shareprices-daily\" on disk (1 days old).\n",
      "- Loading from disk ... Done!\n",
      "Cache-file 'fin_signals-2a38bb7d.pickle' on disk (1 days old).\n",
      "- Loading from disk ... Done!\n",
      "CPU times: user 14.3 s, sys: 1 s, total: 15.3 s\n",
      "Wall time: 15.3 s\n"
     ]
    }
   ],
   "source": [
    "%%time\n",
    "df_fin_signals = hub.fin_signals(variant='daily')"
   ]
  },
  {
   "cell_type": "markdown",
   "metadata": {},
   "source": [
    "Now we calculate growth signals for the stocks, such as Earnings Growth, FCF Growth, Sales Growth, etc. These are also calculated using data from the financial reports: Income Statements, Balance Sheets and Cash-Flow Statements, which are automatically downloaded and loaded by the data-hub."
   ]
  },
  {
   "cell_type": "code",
   "execution_count": 9,
   "metadata": {},
   "outputs": [
    {
     "name": "stdout",
     "output_type": "stream",
     "text": [
      "Dataset \"us-income-quarterly\" on disk (1 days old).\n",
      "- Loading from disk ... Done!\n",
      "Dataset \"us-cashflow-ttm\" on disk (1 days old).\n",
      "- Loading from disk ... Done!\n",
      "Dataset \"us-cashflow-quarterly\" on disk (1 days old).\n",
      "- Loading from disk ... Done!\n",
      "Cache-file 'growth_signals-2a38bb7d.pickle' on disk (1 days old).\n",
      "- Loading from disk ... Done!\n",
      "CPU times: user 830 ms, sys: 292 ms, total: 1.12 s\n",
      "Wall time: 1.12 s\n"
     ]
    }
   ],
   "source": [
    "%%time\n",
    "df_growth_signals = hub.growth_signals(variant='daily')"
   ]
  },
  {
   "cell_type": "markdown",
   "metadata": {},
   "source": [
    "Now we calculate valuation signals for the stocks, such as P/E, P/Sales, etc. These are calculated from the share-prices and data from the financial reports. Because the data-hub has already loaded the required datasets in the function-calls above, the data is merely reused here, and the data-hub can proceed directly to computing the signals."
   ]
  },
  {
   "cell_type": "code",
   "execution_count": 10,
   "metadata": {},
   "outputs": [
    {
     "name": "stdout",
     "output_type": "stream",
     "text": [
      "Cache-file 'val_signals-739b68a6.pickle' on disk (1 days old).\n",
      "- Loading from disk ... Done!\n",
      "CPU times: user 110 ms, sys: 309 ms, total: 419 ms\n",
      "Wall time: 416 ms\n"
     ]
    }
   ],
   "source": [
    "%%time\n",
    "df_val_signals = hub.val_signals(variant='daily')"
   ]
  },
  {
   "cell_type": "markdown",
   "metadata": {},
   "source": [
    "We now combine all the signals into a single DataFrame:"
   ]
  },
  {
   "cell_type": "code",
   "execution_count": 11,
   "metadata": {},
   "outputs": [
    {
     "name": "stdout",
     "output_type": "stream",
     "text": [
      "CPU times: user 1.61 s, sys: 216 ms, total: 1.83 s\n",
      "Wall time: 1.82 s\n"
     ]
    }
   ],
   "source": [
    "%%time\n",
    "# Combine the DataFrames.\n",
    "dfs = [df_fin_signals, df_growth_signals, df_val_signals]\n",
    "df_signals = pd.concat(dfs, axis=1)"
   ]
  },
  {
   "cell_type": "markdown",
   "metadata": {},
   "source": [
    "We can then show the results:"
   ]
  },
  {
   "cell_type": "code",
   "execution_count": 12,
   "metadata": {
    "scrolled": true
   },
   "outputs": [
    {
     "data": {
      "text/html": [
       "<div>\n",
       "<style scoped>\n",
       "    .dataframe tbody tr th:only-of-type {\n",
       "        vertical-align: middle;\n",
       "    }\n",
       "\n",
       "    .dataframe tbody tr th {\n",
       "        vertical-align: top;\n",
       "    }\n",
       "\n",
       "    .dataframe thead th {\n",
       "        text-align: right;\n",
       "    }\n",
       "</style>\n",
       "<table border=\"1\" class=\"dataframe\">\n",
       "  <thead>\n",
       "    <tr style=\"text-align: right;\">\n",
       "      <th></th>\n",
       "      <th></th>\n",
       "      <th>Asset Turnover</th>\n",
       "      <th>Current Ratio</th>\n",
       "      <th>Debt Ratio</th>\n",
       "      <th>Gross Profit Margin</th>\n",
       "      <th>Net Profit Margin</th>\n",
       "      <th>Return on Assets</th>\n",
       "      <th>Return on Equity</th>\n",
       "      <th>Earnings Growth</th>\n",
       "      <th>Earnings Growth QOQ</th>\n",
       "      <th>Earnings Growth YOY</th>\n",
       "      <th>...</th>\n",
       "      <th>Dividend Yield</th>\n",
       "      <th>Earnings Yield</th>\n",
       "      <th>FCF Yield</th>\n",
       "      <th>Market-Cap</th>\n",
       "      <th>P/Book</th>\n",
       "      <th>P/E</th>\n",
       "      <th>P/FCF</th>\n",
       "      <th>P/NCAV</th>\n",
       "      <th>P/NetNet</th>\n",
       "      <th>P/Sales</th>\n",
       "    </tr>\n",
       "    <tr>\n",
       "      <th>Ticker</th>\n",
       "      <th>Date</th>\n",
       "      <th></th>\n",
       "      <th></th>\n",
       "      <th></th>\n",
       "      <th></th>\n",
       "      <th></th>\n",
       "      <th></th>\n",
       "      <th></th>\n",
       "      <th></th>\n",
       "      <th></th>\n",
       "      <th></th>\n",
       "      <th></th>\n",
       "      <th></th>\n",
       "      <th></th>\n",
       "      <th></th>\n",
       "      <th></th>\n",
       "      <th></th>\n",
       "      <th></th>\n",
       "      <th></th>\n",
       "      <th></th>\n",
       "      <th></th>\n",
       "      <th></th>\n",
       "    </tr>\n",
       "  </thead>\n",
       "  <tbody>\n",
       "    <tr>\n",
       "      <th rowspan=\"5\" valign=\"top\">A</th>\n",
       "      <th>2011-06-29</th>\n",
       "      <td>NaN</td>\n",
       "      <td>3.201005</td>\n",
       "      <td>0.24789</td>\n",
       "      <td>0.532001</td>\n",
       "      <td>0.144574</td>\n",
       "      <td>NaN</td>\n",
       "      <td>NaN</td>\n",
       "      <td>NaN</td>\n",
       "      <td>NaN</td>\n",
       "      <td>NaN</td>\n",
       "      <td>...</td>\n",
       "      <td>NaN</td>\n",
       "      <td>0.049626</td>\n",
       "      <td>0.045221</td>\n",
       "      <td>1.793416e+10</td>\n",
       "      <td>4.527684</td>\n",
       "      <td>20.150736</td>\n",
       "      <td>22.113631</td>\n",
       "      <td>43.956262</td>\n",
       "      <td>-29.990226</td>\n",
       "      <td>2.913281</td>\n",
       "    </tr>\n",
       "    <tr>\n",
       "      <th>2011-06-30</th>\n",
       "      <td>NaN</td>\n",
       "      <td>3.201005</td>\n",
       "      <td>0.24789</td>\n",
       "      <td>0.532001</td>\n",
       "      <td>0.144574</td>\n",
       "      <td>NaN</td>\n",
       "      <td>NaN</td>\n",
       "      <td>NaN</td>\n",
       "      <td>NaN</td>\n",
       "      <td>NaN</td>\n",
       "      <td>...</td>\n",
       "      <td>NaN</td>\n",
       "      <td>0.049121</td>\n",
       "      <td>0.044761</td>\n",
       "      <td>1.811850e+10</td>\n",
       "      <td>4.574222</td>\n",
       "      <td>20.357860</td>\n",
       "      <td>22.340931</td>\n",
       "      <td>44.408076</td>\n",
       "      <td>-30.298487</td>\n",
       "      <td>2.943225</td>\n",
       "    </tr>\n",
       "    <tr>\n",
       "      <th>2011-07-01</th>\n",
       "      <td>NaN</td>\n",
       "      <td>3.201005</td>\n",
       "      <td>0.24789</td>\n",
       "      <td>0.532001</td>\n",
       "      <td>0.144574</td>\n",
       "      <td>NaN</td>\n",
       "      <td>NaN</td>\n",
       "      <td>NaN</td>\n",
       "      <td>NaN</td>\n",
       "      <td>NaN</td>\n",
       "      <td>...</td>\n",
       "      <td>NaN</td>\n",
       "      <td>0.048280</td>\n",
       "      <td>0.043995</td>\n",
       "      <td>1.843400e+10</td>\n",
       "      <td>4.653875</td>\n",
       "      <td>20.712360</td>\n",
       "      <td>22.729963</td>\n",
       "      <td>45.181373</td>\n",
       "      <td>-30.826087</td>\n",
       "      <td>2.994477</td>\n",
       "    </tr>\n",
       "    <tr>\n",
       "      <th>2011-07-05</th>\n",
       "      <td>NaN</td>\n",
       "      <td>3.201005</td>\n",
       "      <td>0.24789</td>\n",
       "      <td>0.532001</td>\n",
       "      <td>0.144574</td>\n",
       "      <td>NaN</td>\n",
       "      <td>NaN</td>\n",
       "      <td>NaN</td>\n",
       "      <td>NaN</td>\n",
       "      <td>NaN</td>\n",
       "      <td>...</td>\n",
       "      <td>NaN</td>\n",
       "      <td>0.048598</td>\n",
       "      <td>0.044284</td>\n",
       "      <td>1.831347e+10</td>\n",
       "      <td>4.623446</td>\n",
       "      <td>20.576933</td>\n",
       "      <td>22.581344</td>\n",
       "      <td>44.885956</td>\n",
       "      <td>-30.624532</td>\n",
       "      <td>2.974898</td>\n",
       "    </tr>\n",
       "    <tr>\n",
       "      <th>2011-07-06</th>\n",
       "      <td>NaN</td>\n",
       "      <td>3.201005</td>\n",
       "      <td>0.24789</td>\n",
       "      <td>0.532001</td>\n",
       "      <td>0.144574</td>\n",
       "      <td>NaN</td>\n",
       "      <td>NaN</td>\n",
       "      <td>NaN</td>\n",
       "      <td>NaN</td>\n",
       "      <td>NaN</td>\n",
       "      <td>...</td>\n",
       "      <td>NaN</td>\n",
       "      <td>0.048448</td>\n",
       "      <td>0.044148</td>\n",
       "      <td>1.837019e+10</td>\n",
       "      <td>4.637766</td>\n",
       "      <td>20.640663</td>\n",
       "      <td>22.651282</td>\n",
       "      <td>45.024975</td>\n",
       "      <td>-30.719381</td>\n",
       "      <td>2.984111</td>\n",
       "    </tr>\n",
       "  </tbody>\n",
       "</table>\n",
       "<p>5 rows × 26 columns</p>\n",
       "</div>"
      ],
      "text/plain": [
       "                   Asset Turnover  Current Ratio  Debt Ratio  \\\n",
       "Ticker Date                                                    \n",
       "A      2011-06-29             NaN       3.201005     0.24789   \n",
       "       2011-06-30             NaN       3.201005     0.24789   \n",
       "       2011-07-01             NaN       3.201005     0.24789   \n",
       "       2011-07-05             NaN       3.201005     0.24789   \n",
       "       2011-07-06             NaN       3.201005     0.24789   \n",
       "\n",
       "                   Gross Profit Margin  Net Profit Margin  Return on Assets  \\\n",
       "Ticker Date                                                                   \n",
       "A      2011-06-29             0.532001           0.144574               NaN   \n",
       "       2011-06-30             0.532001           0.144574               NaN   \n",
       "       2011-07-01             0.532001           0.144574               NaN   \n",
       "       2011-07-05             0.532001           0.144574               NaN   \n",
       "       2011-07-06             0.532001           0.144574               NaN   \n",
       "\n",
       "                   Return on Equity  Earnings Growth  Earnings Growth QOQ  \\\n",
       "Ticker Date                                                                 \n",
       "A      2011-06-29               NaN              NaN                  NaN   \n",
       "       2011-06-30               NaN              NaN                  NaN   \n",
       "       2011-07-01               NaN              NaN                  NaN   \n",
       "       2011-07-05               NaN              NaN                  NaN   \n",
       "       2011-07-06               NaN              NaN                  NaN   \n",
       "\n",
       "                   Earnings Growth YOY  ...  Dividend Yield  Earnings Yield  \\\n",
       "Ticker Date                             ...                                   \n",
       "A      2011-06-29                  NaN  ...             NaN        0.049626   \n",
       "       2011-06-30                  NaN  ...             NaN        0.049121   \n",
       "       2011-07-01                  NaN  ...             NaN        0.048280   \n",
       "       2011-07-05                  NaN  ...             NaN        0.048598   \n",
       "       2011-07-06                  NaN  ...             NaN        0.048448   \n",
       "\n",
       "                   FCF Yield    Market-Cap    P/Book        P/E      P/FCF  \\\n",
       "Ticker Date                                                                  \n",
       "A      2011-06-29   0.045221  1.793416e+10  4.527684  20.150736  22.113631   \n",
       "       2011-06-30   0.044761  1.811850e+10  4.574222  20.357860  22.340931   \n",
       "       2011-07-01   0.043995  1.843400e+10  4.653875  20.712360  22.729963   \n",
       "       2011-07-05   0.044284  1.831347e+10  4.623446  20.576933  22.581344   \n",
       "       2011-07-06   0.044148  1.837019e+10  4.637766  20.640663  22.651282   \n",
       "\n",
       "                      P/NCAV   P/NetNet   P/Sales  \n",
       "Ticker Date                                        \n",
       "A      2011-06-29  43.956262 -29.990226  2.913281  \n",
       "       2011-06-30  44.408076 -30.298487  2.943225  \n",
       "       2011-07-01  45.181373 -30.826087  2.994477  \n",
       "       2011-07-05  44.885956 -30.624532  2.974898  \n",
       "       2011-07-06  45.024975 -30.719381  2.984111  \n",
       "\n",
       "[5 rows x 26 columns]"
      ]
     },
     "execution_count": 12,
     "metadata": {},
     "output_type": "execute_result"
    }
   ],
   "source": [
    "df_signals.dropna(how='all').head()"
   ]
  },
  {
   "cell_type": "markdown",
   "metadata": {},
   "source": [
    "## Missing Data\n",
    "\n",
    "Some of the signals have a lot of missing data which cannot be handled by scikit-learn. Let us first see the fraction of each signal-column that is missing:"
   ]
  },
  {
   "cell_type": "code",
   "execution_count": 13,
   "metadata": {},
   "outputs": [
    {
     "data": {
      "text/plain": [
       "Dividend Yield         0.533772\n",
       "Debt Ratio             0.324557\n",
       "Sales Growth           0.227931\n",
       "Asset Turnover         0.224232\n",
       "Earnings Growth        0.212780\n",
       "Return on Assets       0.212388\n",
       "Return on Equity       0.212388\n",
       "FCF Growth             0.212388\n",
       "Sales Growth YOY       0.198149\n",
       "Earnings Growth YOY    0.184320\n",
       "FCF Growth YOY         0.183868\n",
       "P/Sales                0.105850\n",
       "Sales Growth QOQ       0.095425\n",
       "Earnings Yield         0.091799\n",
       "P/NetNet               0.091799\n",
       "FCF Yield              0.091799\n",
       "Market-Cap             0.091799\n",
       "P/Book                 0.091799\n",
       "P/E                    0.091799\n",
       "P/FCF                  0.091799\n",
       "P/NCAV                 0.091799\n",
       "Gross Profit Margin    0.083246\n",
       "Net Profit Margin      0.080159\n",
       "Earnings Growth QOQ    0.077892\n",
       "FCF Growth QOQ         0.077380\n",
       "Current Ratio          0.065622\n",
       "dtype: float64"
      ]
     },
     "execution_count": 13,
     "metadata": {},
     "output_type": "execute_result"
    }
   ],
   "source": [
    "# Remove all rows with only NaN values.\n",
    "df = df_signals.dropna(how='all').reset_index(drop=True)\n",
    "\n",
    "# For each column, show the fraction of the rows that are NaN.\n",
    "(df.isnull().sum() / len(df)).sort_values(ascending=False)"
   ]
  },
  {
   "cell_type": "markdown",
   "metadata": {},
   "source": [
    "Let us remove all signals that have more than 25% missing data:"
   ]
  },
  {
   "cell_type": "code",
   "execution_count": 14,
   "metadata": {},
   "outputs": [
    {
     "data": {
      "text/plain": [
       "Index(['Debt Ratio', 'Dividend Yield'], dtype='object')"
      ]
     },
     "execution_count": 14,
     "metadata": {},
     "output_type": "execute_result"
    }
   ],
   "source": [
    "# List of the columns before removing any.\n",
    "columns_before = df_signals.columns\n",
    "\n",
    "# Threshold for the number of rows that must be NaN for each column.\n",
    "thresh = 0.75 * len(df_signals.dropna(how='all'))\n",
    "\n",
    "# Remove all columns which don't have sufficient data.\n",
    "df_signals = df_signals.dropna(axis='columns', thresh=thresh)\n",
    "\n",
    "# List of the columns after the removal.\n",
    "columns_after = df_signals.columns\n",
    "\n",
    "# Show the columns that were removed.\n",
    "columns_before.difference(columns_after)"
   ]
  },
  {
   "cell_type": "markdown",
   "metadata": {},
   "source": [
    "## 1-3 Year Returns\n",
    "\n",
    "We want to try and predict the average 1-3 year returns. We will actually consider the mean log-returns, because that is easier to calculate, but the result is nearly the same as the non-log mean returns."
   ]
  },
  {
   "cell_type": "code",
   "execution_count": 15,
   "metadata": {},
   "outputs": [],
   "source": [
    "# Name of the new column for the returns.\n",
    "TOTAL_RETURN_1_3Y = 'Total Return 1-3 Years'"
   ]
  },
  {
   "cell_type": "code",
   "execution_count": 16,
   "metadata": {},
   "outputs": [
    {
     "name": "stdout",
     "output_type": "stream",
     "text": [
      "Cache-file 'mean_log_change-5cec82bd.pickle' on disk (1 days old).\n",
      "- Loading from disk ... Done!\n",
      "CPU times: user 61.5 ms, sys: 40.2 ms, total: 102 ms\n",
      "Wall time: 102 ms\n"
     ]
    }
   ],
   "source": [
    "%%time\n",
    "# Calculate the mean log-returns for all 1-3 year periods.\n",
    "df_returns_1_3y = \\\n",
    "    hub.mean_log_returns(name=TOTAL_RETURN_1_3Y,\n",
    "                         future=True, annualized=True,\n",
    "                         min_years=1, max_years=3)"
   ]
  },
  {
   "cell_type": "markdown",
   "metadata": {},
   "source": [
    "## Combine Signals & Returns\n",
    "\n",
    "We then combine the signals and returns into a single DataFrame to align the data."
   ]
  },
  {
   "cell_type": "code",
   "execution_count": 17,
   "metadata": {},
   "outputs": [
    {
     "name": "stdout",
     "output_type": "stream",
     "text": [
      "CPU times: user 840 ms, sys: 103 ms, total: 944 ms\n",
      "Wall time: 945 ms\n"
     ]
    }
   ],
   "source": [
    "%%time\n",
    "dfs = [df_signals, df_returns_1_3y]\n",
    "df_sig_rets = pd.concat(dfs, axis=1)"
   ]
  },
  {
   "cell_type": "markdown",
   "metadata": {},
   "source": [
    "## Data Cleaning\n",
    "\n",
    "The data also contains outliers and still has missing values, so let us fix that now. A common method for removing outliers is so-called *Winsorization* of the data. It basically just limits or clips the data between e.g. the 5% and 95% quantiles of the data. We will Winsorize both the stock-returns and all the signals. After that, we will remove all rows with missing values, because scikit-learn cannot handle that. Finally we will remove tickers that have less than 200 rows of data.\n",
    "\n",
    "There are more than 5 million data-rows before this cleaning:"
   ]
  },
  {
   "cell_type": "code",
   "execution_count": 18,
   "metadata": {
    "scrolled": true
   },
   "outputs": [
    {
     "data": {
      "text/plain": [
       "(5450093, 25)"
      ]
     },
     "execution_count": 18,
     "metadata": {},
     "output_type": "execute_result"
    }
   ],
   "source": [
    "df_sig_rets.shape"
   ]
  },
  {
   "cell_type": "code",
   "execution_count": 19,
   "metadata": {},
   "outputs": [
    {
     "name": "stdout",
     "output_type": "stream",
     "text": [
      "CPU times: user 4.4 s, sys: 973 ms, total: 5.37 s\n",
      "Wall time: 5.37 s\n"
     ]
    }
   ],
   "source": [
    "%%time\n",
    "\n",
    "# Clip the signals and returns at their 5% and 95% quantiles.\n",
    "# We do not set them to NaN because it would remove too much data.\n",
    "df_sig_rets = sf.winsorize(df_sig_rets)\n",
    "\n",
    "# Remove all rows with missing values (NaN)\n",
    "# because scikit-learn cannot handle that.\n",
    "df_sig_rets = df_sig_rets.dropna(how='any')\n",
    "\n",
    "# Remove all tickers which have less than 200 data-rows.\n",
    "df_sig_rets = df_sig_rets.groupby(TICKER) \\\n",
    "                .filter(lambda df: len(df)>200)"
   ]
  },
  {
   "cell_type": "markdown",
   "metadata": {},
   "source": [
    "This data-cleaning has removed about 80% of the rows, which is a lot:"
   ]
  },
  {
   "cell_type": "code",
   "execution_count": 20,
   "metadata": {},
   "outputs": [
    {
     "data": {
      "text/plain": [
       "(1109909, 25)"
      ]
     },
     "execution_count": 20,
     "metadata": {},
     "output_type": "execute_result"
    }
   ],
   "source": [
    "df_sig_rets.shape"
   ]
  },
  {
   "cell_type": "markdown",
   "metadata": {},
   "source": [
    "The reason that so many rows have been removed, is that scikit-learn cannot handle rows with missing values (NaN). Some missing values could be set to a default value, e.g. the Dividend Yield could be set to 0. Other columns could be omitted because they don't have any predictive power anyway. Or you could try another Machine Learning library that can handle missing values, such as [XGBoost](https://xgboost.readthedocs.io/en/latest/)."
   ]
  },
  {
   "cell_type": "markdown",
   "metadata": {},
   "source": [
    "## Correlation: Signals vs. Return\n",
    "\n",
    "Linear correlation (aka. Pearson correlation) is a simple statistical measure of how two variables change together. The linear correlation between the signals and stock-returns can be used to assess which signals might be the best predictors for stock-returns.\n",
    "\n",
    "A correlation value of +1 means the two variables are perfectly correlated, so they always increase and decrease together in a linear way. Conversely, a correlation value of -1 means the two variables are perfectly inversely correlated, so they always increase and decrease in the opposite direction of each other. A correlation value of zero means that there is no linear relation between the signal and stock-returns, but there may still be a strong non-linear relation (see examples [here](https://en.wikipedia.org/wiki/Correlation_and_dependence)).\n",
    "\n",
    "We use the Winsorized data when studying the correlation, because data-outliers may falsely indicate a strong overall correlation, when in fact there is no correlation for the majority of the data.\n",
    "\n",
    "The following calculates the correlation between all the signals and the 1-3 year average stock-returns, sorted according to the absolute correlation strength:"
   ]
  },
  {
   "cell_type": "code",
   "execution_count": 21,
   "metadata": {
    "scrolled": true
   },
   "outputs": [
    {
     "data": {
      "text/plain": [
       "Net Profit Margin      0.148644\n",
       "Return on Assets       0.127358\n",
       "Earnings Yield         0.121156\n",
       "FCF Yield              0.108249\n",
       "Return on Equity       0.088707\n",
       "P/E                    0.079911\n",
       "Market-Cap             0.077844\n",
       "P/FCF                  0.058703\n",
       "Asset Turnover         0.042455\n",
       "FCF Growth             0.038051\n",
       "P/Book                 0.037959\n",
       "Earnings Growth        0.034542\n",
       "P/NetNet               0.027178\n",
       "Current Ratio          0.027121\n",
       "Earnings Growth QOQ    0.022299\n",
       "P/NCAV                 0.022142\n",
       "FCF Growth QOQ         0.021533\n",
       "FCF Growth YOY         0.019968\n",
       "Earnings Growth YOY    0.019081\n",
       "Sales Growth YOY       0.017120\n",
       "Sales Growth           0.012584\n",
       "Gross Profit Margin    0.010173\n",
       "Sales Growth QOQ       0.003194\n",
       "P/Sales                0.000482\n",
       "Name: Return Correlation, dtype: float64"
      ]
     },
     "execution_count": 21,
     "metadata": {},
     "output_type": "execute_result"
    }
   ],
   "source": [
    "# New column-name for correlation between signals and returns.\n",
    "RETURN_CORR = 'Return Correlation'\n",
    "\n",
    "# Calculate the correlation between all data-columns.\n",
    "df_corr = df_sig_rets.corr()\n",
    "\n",
    "# Correlation between signals and returns.\n",
    "# Sorted to show the strongest absolute correlations first.\n",
    "df_corr_returns = df_corr[TOTAL_RETURN_1_3Y] \\\n",
    "                    .abs() \\\n",
    "                    .drop(TOTAL_RETURN_1_3Y) \\\n",
    "                    .sort_values(ascending=False) \\\n",
    "                    .rename(RETURN_CORR)\n",
    "\n",
    "# Show the correlations between signals and returns.\n",
    "df_corr_returns"
   ]
  },
  {
   "cell_type": "markdown",
   "metadata": {},
   "source": [
    "## Split Training / Test-Sets\n",
    "\n",
    "When training a Machine Learning model, we typically split the dataset into training- and test-sets. Only the training-set is used to train the model, after which the model is used on the test-set, to assess how the model performs on data it has not seen during training.\n",
    "\n",
    "If we randomly divide all the data-rows into training- and test-sets, we would most likely get data for every stock-ticker in both the training- and test-sets, which would probably make them highly correlated. To avoid this, we split the dataset according to stock-tickers, so a ticker belongs to either the training- or test-set, but not both. We use 80% of all the tickers in the training-set, and 20% in the test-set."
   ]
  },
  {
   "cell_type": "code",
   "execution_count": 22,
   "metadata": {},
   "outputs": [],
   "source": [
    "# List of all unique stock-tickers in the dataset.\n",
    "tickers = df_sig_rets.reset_index()[TICKER].unique()\n",
    "\n",
    "# Split the tickers into training- and test-sets.\n",
    "tickers_train, tickers_test = \\\n",
    "    train_test_split(tickers, train_size=0.8, random_state=1234)"
   ]
  },
  {
   "cell_type": "markdown",
   "metadata": {},
   "source": [
    "Now that we have lists of tickers for the training- and test-sets, we can select those rows from the DataFrame with signals and stock-returns:"
   ]
  },
  {
   "cell_type": "code",
   "execution_count": 23,
   "metadata": {
    "scrolled": true
   },
   "outputs": [
    {
     "name": "stdout",
     "output_type": "stream",
     "text": [
      "CPU times: user 3.05 s, sys: 15.8 ms, total: 3.07 s\n",
      "Wall time: 3.06 s\n"
     ]
    }
   ],
   "source": [
    "%%time\n",
    "df_train = df_sig_rets.loc[tickers_train]\n",
    "df_test = df_sig_rets.loc[tickers_test]"
   ]
  },
  {
   "cell_type": "markdown",
   "metadata": {},
   "source": [
    "We can then split these DataFrames into signals and stock-returns; that is, X and y-values that the Machine Learning model must try and find a mapping between. In scikit-learn's notation, the capital X indicates a 2-dimensional array or matrix, and the lower-case y indicates a 1-dimensional array."
   ]
  },
  {
   "cell_type": "code",
   "execution_count": 24,
   "metadata": {},
   "outputs": [],
   "source": [
    "# DataFrames with signals for training- and test-sets.\n",
    "X_train = df_train.drop(columns=[TOTAL_RETURN_1_3Y])\n",
    "X_test = df_test.drop(columns=[TOTAL_RETURN_1_3Y])\n",
    "\n",
    "# DataFrames with stock-returns for training- and test-sets.\n",
    "y_train = df_train[TOTAL_RETURN_1_3Y]\n",
    "y_test = df_test[TOTAL_RETURN_1_3Y]"
   ]
  },
  {
   "cell_type": "markdown",
   "metadata": {},
   "source": [
    "Let us check that the shapes of these arrays look reasonable:"
   ]
  },
  {
   "cell_type": "code",
   "execution_count": 25,
   "metadata": {},
   "outputs": [
    {
     "data": {
      "text/plain": [
       "((890400, 24), (890400,))"
      ]
     },
     "execution_count": 25,
     "metadata": {},
     "output_type": "execute_result"
    }
   ],
   "source": [
    "X_train.shape, y_train.shape"
   ]
  },
  {
   "cell_type": "code",
   "execution_count": 26,
   "metadata": {},
   "outputs": [
    {
     "data": {
      "text/plain": [
       "((219509, 24), (219509,))"
      ]
     },
     "execution_count": 26,
     "metadata": {},
     "output_type": "execute_result"
    }
   ],
   "source": [
    "X_test.shape, y_test.shape"
   ]
  },
  {
   "cell_type": "markdown",
   "metadata": {},
   "source": [
    "## Helper Functions\n",
    "\n",
    "These are some helper-functions for printing and plotting the results."
   ]
  },
  {
   "cell_type": "code",
   "execution_count": 27,
   "metadata": {},
   "outputs": [],
   "source": [
    "# List of signal names.\n",
    "signal_names = X_train.columns.values\n",
    "\n",
    "# List of signal names where spaces are replaced with _\n",
    "signal_names_ = [s.replace(' ', '_') for s in signal_names]"
   ]
  },
  {
   "cell_type": "code",
   "execution_count": 28,
   "metadata": {},
   "outputs": [],
   "source": [
    "# Column-name.\n",
    "FEATURE_IMPORTANCE = 'Feature Importance'"
   ]
  },
  {
   "cell_type": "code",
   "execution_count": 29,
   "metadata": {},
   "outputs": [],
   "source": [
    "def compare_feature_imp_corr(estimator):\n",
    "    \"\"\"\n",
    "    Return a DataFrame which compares the signals' Feature\n",
    "    Importance in the Machine Learning model, to the absolute\n",
    "    correlation of the signals and stock-returns.\n",
    "    \n",
    "    :param estimator: Sklearn ensemble estimator.\n",
    "    :return: Pandas DataFrame.\n",
    "    \"\"\"\n",
    "    \n",
    "    # Wrap the list of Feature Importance in a Pandas Series.\n",
    "    df_feat_imp = pd.Series(estimator.feature_importances_,\n",
    "                            index=signal_names,\n",
    "                            name=FEATURE_IMPORTANCE)\n",
    "\n",
    "    # Concatenate the DataFrames with Feature Importance\n",
    "    # and Return Correlation.\n",
    "    dfs = [df_feat_imp, df_corr_returns]\n",
    "    df_compare = pd.concat(dfs, axis=1, sort=True)\n",
    "    \n",
    "    # Sort by Feature Importance.\n",
    "    df_compare.sort_values(by=FEATURE_IMPORTANCE,\n",
    "                           ascending=False, inplace=True)\n",
    "    \n",
    "    return df_compare"
   ]
  },
  {
   "cell_type": "code",
   "execution_count": 30,
   "metadata": {},
   "outputs": [],
   "source": [
    "def print_tree(estimator, max_depth=6, **kwargs):\n",
    "    \"\"\"\n",
    "    Print the first Decision Tree from a Random Forest.\n",
    "    :param estimator: Sklearn ensemble estimator.\n",
    "    \"\"\"\n",
    "    s = export_text(estimator.estimators_[0],\n",
    "                    max_depth=max_depth,\n",
    "                    feature_names=signal_names_,\n",
    "                    **kwargs)\n",
    "    print(s)"
   ]
  },
  {
   "cell_type": "code",
   "execution_count": 31,
   "metadata": {},
   "outputs": [],
   "source": [
    "def plot_confusion_matrix(y_true, y_pred):\n",
    "    \"\"\"\n",
    "    Plot a classification confusion matrix.\n",
    "    \n",
    "    :param y_true: Array of true classes.\n",
    "    :param y_pred: Array of predicted classes.\n",
    "    \"\"\"\n",
    "    \n",
    "    # Class labels.\n",
    "    labels = [1.0, -1.0]\n",
    "    labels_text = ['Gain', 'Loss']\n",
    "\n",
    "    # Create confusion matrix.\n",
    "    mat = confusion_matrix(y_true=y_true, y_pred=y_pred,\n",
    "                           labels=labels)\n",
    "    \n",
    "    # Normalize so all matrix entries sum to 1.0\n",
    "    mat = mat / len(y_true)\n",
    "    \n",
    "    # Plot the matrix as a heatmap.\n",
    "    sns.heatmap(mat, robust=True,\n",
    "                xticklabels=labels_text,\n",
    "                yticklabels=labels_text)"
   ]
  },
  {
   "cell_type": "markdown",
   "metadata": {},
   "source": [
    "## Machine Learning: Regression\n",
    "\n",
    "Now that the data has been prepared, we can create a Machine Learning model using scikit-learn. Because we want to map financial signals x to stock-returns y that are continuous values, we need to use a so-called Regression model. In this example, we will use a Random Forest which is an ensemble of many Decision Trees, because it computes fairly quickly. An example of a Decision Tree will be shown further below, once the model has been fitted to the training-data.\n",
    "\n",
    "The model has many parameters that adjust its ability to fit the training-data, possibly at the cost of having a worse fit on the test-data. This is the usual dilemma between over- and under-fitting the model to the training-data. If we overfit the model, it means that it has learned to recognize noise in the training-data which does not generalize to the test-set. Conversely, if we underfit the model, it means that it has not learned some essential features in the training-data that also generalize to the test-data.\n",
    "\n",
    "You can tweak these parameters to try and improve the model's performance on the training- and test-sets."
   ]
  },
  {
   "cell_type": "code",
   "execution_count": 32,
   "metadata": {},
   "outputs": [],
   "source": [
    "# Parameters for scikit-learn's Random Forest models.\n",
    "model_args = \\\n",
    "{\n",
    "    # Random Forest parameters to adjust between\n",
    "    # over- and under-fitting.\n",
    "    'n_estimators': 100,\n",
    "    'max_depth': 15,\n",
    "    'min_samples_split': 100,\n",
    "    'min_samples_leaf': 10,\n",
    "\n",
    "    # Use all available CPU cores.\n",
    "    'n_jobs': -1,\n",
    "\n",
    "    # Set random seed to make the experiments repeatable.\n",
    "    'random_state': 1234,\n",
    "}"
   ]
  },
  {
   "cell_type": "code",
   "execution_count": 33,
   "metadata": {},
   "outputs": [],
   "source": [
    "# Create the estimator, but don't do any computations yet.\n",
    "regr = RandomForestRegressor(**model_args)"
   ]
  },
  {
   "cell_type": "code",
   "execution_count": 34,
   "metadata": {},
   "outputs": [
    {
     "name": "stdout",
     "output_type": "stream",
     "text": [
      "CPU times: user 31min 58s, sys: 3.1 s, total: 32min 1s\n",
      "Wall time: 4min 21s\n"
     ]
    }
   ],
   "source": [
    "%%time\n",
    "# Fit the estimator to the training-data.\n",
    "# This may take several minutes on a 4-core CPU.\n",
    "_ = regr.fit(X=X_train, y=y_train)"
   ]
  },
  {
   "cell_type": "markdown",
   "metadata": {},
   "source": [
    "Now that the Random Forest model has been fitted to the training-data, we can show one of the 100 Decision Trees that it found. These are deeply nested if-then-else statements on the signals, which result in some output value. The output of 100 such Decision Trees are averaged to create the output of the entire ensemble known as a Random Forest.\n",
    "\n",
    "Clearly, the model does not contain any profound insight. It does not understand anything about finance. The model has just found that it could estimate the mapping between signals x and stock-returns y in the training-data, using many of these finely tuned if-then-else statements."
   ]
  },
  {
   "cell_type": "code",
   "execution_count": 35,
   "metadata": {},
   "outputs": [
    {
     "name": "stdout",
     "output_type": "stream",
     "text": [
      "|--- P/FCF <= 5.57\n",
      "|   |--- Net_Profit_Margin <= 0.01\n",
      "|   |   |--- Asset_Turnover <= 0.43\n",
      "|   |   |   |--- Return_on_Equity <= 0.00\n",
      "|   |   |   |   |--- Sales_Growth_YOY <= -0.24\n",
      "|   |   |   |   |   |--- Current_Ratio <= 7.63\n",
      "|   |   |   |   |   |   |--- P/Sales <= 0.68\n",
      "|   |   |   |   |   |   |   |--- truncated branch of depth 7\n",
      "|   |   |   |   |   |   |--- P/Sales >  0.68\n",
      "|   |   |   |   |   |   |   |--- truncated branch of depth 9\n",
      "|   |   |   |   |   |--- Current_Ratio >  7.63\n",
      "|   |   |   |   |   |   |--- FCF_Yield <= -0.17\n",
      "|   |   |   |   |   |   |   |--- truncated branch of depth 9\n",
      "|   |   |   |   |   |   |--- FCF_Yield >  -0.17\n",
      "|   |   |   |   |   |   |   |--- truncated branch of depth 9\n",
      "|   |   |   |   |--- Sales_Growth_YOY >  -0.24\n",
      "|   |   |   |   |   |--- Return_on_Assets <= -0.07\n",
      "|   |   |   |   |   |   |--- P/NCAV <= 1.44\n",
      "|   |   |   |   |   |   |   |--- truncated branch of depth 9\n",
      "|   |   |   |   |   |   |--- P/NCAV >  1.44\n",
      "|   |   |   |   |   |   |   |--- truncated branch of depth 9\n",
      "|   |   |   |   |   |--- Return_on_Assets >  -0.07\n",
      "|   |   |   |   |   |   |--- Sales_Growth_YOY <= 0.17\n",
      "|   |   |   |   |   |   |   |--- truncated branch of depth 9\n",
      "|   |   |   |   |   |   |--- Sales_Growth_YOY >  0.17\n",
      "|   |   |   |   |   |   |   |--- truncated branch of depth 7\n",
      "|   |   |   |--- Return_on_Equity >  0.00\n",
      "|   |   |   |   |--- Sales_Growth_YOY <= -0.15\n",
      "|   |   |   |   |   |--- FCF_Growth_QOQ <= 0.48\n",
      "|   |   |   |   |   |   |--- Earnings_Yield <= -0.10\n",
      "|   |   |   |   |   |   |   |--- truncated branch of depth 2\n",
      "|   |   |   |   |   |   |--- Earnings_Yield >  -0.10\n",
      "|   |   |   |   |   |   |   |--- value: [-0.29]\n",
      "|   |   |   |   |   |--- FCF_Growth_QOQ >  0.48\n",
      "|   |   |   |   |   |   |--- Earnings_Growth <= -1.81\n",
      "|   |   |   |   |   |   |   |--- value: [0.03]\n",
      "|   |   |   |   |   |   |--- Earnings_Growth >  -1.81\n",
      "|   |   |   |   |   |   |   |--- value: [0.16]\n",
      "|   |   |   |   |--- Sales_Growth_YOY >  -0.15\n",
      "|   |   |   |   |   |--- Market-Cap <= 25298019.00\n",
      "|   |   |   |   |   |   |--- value: [0.04]\n",
      "|   |   |   |   |   |--- Market-Cap >  25298019.00\n",
      "|   |   |   |   |   |   |--- Sales_Growth <= -0.21\n",
      "|   |   |   |   |   |   |   |--- value: [-0.06]\n",
      "|   |   |   |   |   |   |--- Sales_Growth >  -0.21\n",
      "|   |   |   |   |   |   |   |--- truncated branch of depth 5\n",
      "|   |   |--- Asset_Turnover >  0.43\n",
      "|   |   |   |--- Gross_Profit_Margin <= 0.78\n",
      "|   |   |   |   |--- Return_on_Equity <= 0.47\n",
      "|   |   |   |   |   |--- Asset_Turnover <= 0.66\n",
      "|   |   |   |   |   |   |--- P/NetNet <= -23.80\n",
      "|   |   |   |   |   |   |   |--- truncated branch of depth 6\n",
      "|   |   |   |   |   |   |--- P/NetNet >  -23.80\n",
      "|   |   |   |   |   |   |   |--- truncated branch of depth 9\n",
      "|   |   |   |   |   |--- Asset_Turnover >  0.66\n",
      "|   |   |   |   |   |   |--- Asset_Turnover <= 0.66\n",
      "|   |   |   |   |   |   |   |--- truncated branch of depth 6\n",
      "|   |   |   |   |   |   |--- Asset_Turnover >  0.66\n",
      "|   |   |   |   |   |   |   |--- truncated branch of depth 9\n",
      "|   |   |   |   |--- Return_on_Equity >  0.47\n",
      "|   |   |   |   |   |--- Current_Ratio <= 3.24\n",
      "|   |   |   |   |   |   |--- Market-Cap <= 129130316.00\n",
      "|   |   |   |   |   |   |   |--- truncated branch of depth 8\n",
      "|   |   |   |   |   |   |--- Market-Cap >  129130316.00\n",
      "|   |   |   |   |   |   |   |--- truncated branch of depth 7\n",
      "|   |   |   |   |   |--- Current_Ratio >  3.24\n",
      "|   |   |   |   |   |   |--- P/NCAV <= 34.20\n",
      "|   |   |   |   |   |   |   |--- truncated branch of depth 3\n",
      "|   |   |   |   |   |   |--- P/NCAV >  34.20\n",
      "|   |   |   |   |   |   |   |--- value: [-0.29]\n",
      "|   |   |   |--- Gross_Profit_Margin >  0.78\n",
      "|   |   |   |   |--- Sales_Growth <= 0.07\n",
      "|   |   |   |   |   |--- P/NCAV <= 5.46\n",
      "|   |   |   |   |   |   |--- Sales_Growth_YOY <= 0.02\n",
      "|   |   |   |   |   |   |   |--- truncated branch of depth 7\n",
      "|   |   |   |   |   |   |--- Sales_Growth_YOY >  0.02\n",
      "|   |   |   |   |   |   |   |--- value: [0.02]\n",
      "|   |   |   |   |   |--- P/NCAV >  5.46\n",
      "|   |   |   |   |   |   |--- Gross_Profit_Margin <= 0.82\n",
      "|   |   |   |   |   |   |   |--- truncated branch of depth 4\n",
      "|   |   |   |   |   |   |--- Gross_Profit_Margin >  0.82\n",
      "|   |   |   |   |   |   |   |--- truncated branch of depth 3\n",
      "|   |   |   |   |--- Sales_Growth >  0.07\n",
      "|   |   |   |   |   |--- FCF_Growth_YOY <= 3.20\n",
      "|   |   |   |   |   |   |--- FCF_Growth <= -1.06\n",
      "|   |   |   |   |   |   |   |--- truncated branch of depth 3\n",
      "|   |   |   |   |   |   |--- FCF_Growth >  -1.06\n",
      "|   |   |   |   |   |   |   |--- truncated branch of depth 9\n",
      "|   |   |   |   |   |--- FCF_Growth_YOY >  3.20\n",
      "|   |   |   |   |   |   |--- value: [-0.42]\n",
      "|   |--- Net_Profit_Margin >  0.01\n",
      "|   |   |--- P/NetNet <= 0.72\n",
      "|   |   |   |--- Return_on_Assets <= 0.06\n",
      "|   |   |   |   |--- Current_Ratio <= 4.96\n",
      "|   |   |   |   |   |--- P/Book <= 10.93\n",
      "|   |   |   |   |   |   |--- Sales_Growth <= 0.27\n",
      "|   |   |   |   |   |   |   |--- truncated branch of depth 9\n",
      "|   |   |   |   |   |   |--- Sales_Growth >  0.27\n",
      "|   |   |   |   |   |   |   |--- truncated branch of depth 9\n",
      "|   |   |   |   |   |--- P/Book >  10.93\n",
      "|   |   |   |   |   |   |--- Current_Ratio <= 1.01\n",
      "|   |   |   |   |   |   |   |--- truncated branch of depth 2\n",
      "|   |   |   |   |   |   |--- Current_Ratio >  1.01\n",
      "|   |   |   |   |   |   |   |--- truncated branch of depth 9\n",
      "|   |   |   |   |--- Current_Ratio >  4.96\n",
      "|   |   |   |   |   |--- P/Book <= 1.14\n",
      "|   |   |   |   |   |   |--- Gross_Profit_Margin <= 0.29\n",
      "|   |   |   |   |   |   |   |--- truncated branch of depth 4\n",
      "|   |   |   |   |   |   |--- Gross_Profit_Margin >  0.29\n",
      "|   |   |   |   |   |   |   |--- truncated branch of depth 5\n",
      "|   |   |   |   |   |--- P/Book >  1.14\n",
      "|   |   |   |   |   |   |--- P/Book <= 1.89\n",
      "|   |   |   |   |   |   |   |--- truncated branch of depth 7\n",
      "|   |   |   |   |   |   |--- P/Book >  1.89\n",
      "|   |   |   |   |   |   |   |--- truncated branch of depth 2\n",
      "|   |   |   |--- Return_on_Assets >  0.06\n",
      "|   |   |   |   |--- P/E <= 28.60\n",
      "|   |   |   |   |   |--- Sales_Growth <= 0.48\n",
      "|   |   |   |   |   |   |--- FCF_Yield <= -0.09\n",
      "|   |   |   |   |   |   |   |--- truncated branch of depth 9\n",
      "|   |   |   |   |   |   |--- FCF_Yield >  -0.09\n",
      "|   |   |   |   |   |   |   |--- truncated branch of depth 9\n",
      "|   |   |   |   |   |--- Sales_Growth >  0.48\n",
      "|   |   |   |   |   |   |--- Market-Cap <= 2849869696.00\n",
      "|   |   |   |   |   |   |   |--- truncated branch of depth 7\n",
      "|   |   |   |   |   |   |--- Market-Cap >  2849869696.00\n",
      "|   |   |   |   |   |   |   |--- truncated branch of depth 6\n",
      "|   |   |   |   |--- P/E >  28.60\n",
      "|   |   |   |   |   |--- Current_Ratio <= 0.80\n",
      "|   |   |   |   |   |   |--- P/Book <= 5.78\n",
      "|   |   |   |   |   |   |   |--- truncated branch of depth 2\n",
      "|   |   |   |   |   |   |--- P/Book >  5.78\n",
      "|   |   |   |   |   |   |   |--- truncated branch of depth 5\n",
      "|   |   |   |   |   |--- Current_Ratio >  0.80\n",
      "|   |   |   |   |   |   |--- Return_on_Equity <= 0.16\n",
      "|   |   |   |   |   |   |   |--- truncated branch of depth 9\n",
      "|   |   |   |   |   |   |--- Return_on_Equity >  0.16\n",
      "|   |   |   |   |   |   |   |--- truncated branch of depth 8\n",
      "|   |   |--- P/NetNet >  0.72\n",
      "|   |   |   |--- Market-Cap <= 14692195.00\n",
      "|   |   |   |   |--- Return_on_Equity <= 0.17\n",
      "|   |   |   |   |   |--- P/FCF <= -21.44\n",
      "|   |   |   |   |   |   |--- Asset_Turnover <= 1.08\n",
      "|   |   |   |   |   |   |   |--- value: [0.24]\n",
      "|   |   |   |   |   |   |--- Asset_Turnover >  1.08\n",
      "|   |   |   |   |   |   |   |--- value: [-0.02]\n",
      "|   |   |   |   |   |--- P/FCF >  -21.44\n",
      "|   |   |   |   |   |   |--- Gross_Profit_Margin <= 0.50\n",
      "|   |   |   |   |   |   |   |--- truncated branch of depth 4\n",
      "|   |   |   |   |   |   |--- Gross_Profit_Margin >  0.50\n",
      "|   |   |   |   |   |   |   |--- value: [0.19]\n",
      "|   |   |   |   |--- Return_on_Equity >  0.17\n",
      "|   |   |   |   |   |--- Net_Profit_Margin <= 0.12\n",
      "|   |   |   |   |   |   |--- P/FCF <= -3.31\n",
      "|   |   |   |   |   |   |   |--- truncated branch of depth 2\n",
      "|   |   |   |   |   |   |--- P/FCF >  -3.31\n",
      "|   |   |   |   |   |   |   |--- value: [0.27]\n",
      "|   |   |   |   |   |--- Net_Profit_Margin >  0.12\n",
      "|   |   |   |   |   |   |--- value: [-0.18]\n",
      "|   |   |   |--- Market-Cap >  14692195.00\n",
      "|   |   |   |   |--- P/Book <= 0.52\n",
      "|   |   |   |   |   |--- Net_Profit_Margin <= 0.03\n",
      "|   |   |   |   |   |   |--- P/E <= 5.01\n",
      "|   |   |   |   |   |   |   |--- value: [-0.35]\n",
      "|   |   |   |   |   |   |--- P/E >  5.01\n",
      "|   |   |   |   |   |   |   |--- truncated branch of depth 4\n",
      "|   |   |   |   |   |--- Net_Profit_Margin >  0.03\n",
      "|   |   |   |   |   |   |--- Gross_Profit_Margin <= 0.36\n",
      "|   |   |   |   |   |   |   |--- truncated branch of depth 4\n",
      "|   |   |   |   |   |   |--- Gross_Profit_Margin >  0.36\n",
      "|   |   |   |   |   |   |   |--- truncated branch of depth 7\n",
      "|   |   |   |   |--- P/Book >  0.52\n",
      "|   |   |   |   |   |--- Gross_Profit_Margin <= 0.35\n",
      "|   |   |   |   |   |   |--- Net_Profit_Margin <= 0.12\n",
      "|   |   |   |   |   |   |   |--- truncated branch of depth 9\n",
      "|   |   |   |   |   |   |--- Net_Profit_Margin >  0.12\n",
      "|   |   |   |   |   |   |   |--- truncated branch of depth 7\n",
      "|   |   |   |   |   |--- Gross_Profit_Margin >  0.35\n",
      "|   |   |   |   |   |   |--- P/E <= 10.09\n",
      "|   |   |   |   |   |   |   |--- truncated branch of depth 9\n",
      "|   |   |   |   |   |   |--- P/E >  10.09\n",
      "|   |   |   |   |   |   |   |--- truncated branch of depth 9\n",
      "|--- P/FCF >  5.57\n",
      "|   |--- FCF_Growth <= -0.89\n",
      "|   |   |--- P/NetNet <= 4.00\n",
      "|   |   |   |--- Asset_Turnover <= 1.51\n",
      "|   |   |   |   |--- Net_Profit_Margin <= -0.58\n",
      "|   |   |   |   |   |--- Sales_Growth_QOQ <= -0.27\n",
      "|   |   |   |   |   |   |--- value: [0.37]\n",
      "|   |   |   |   |   |--- Sales_Growth_QOQ >  -0.27\n",
      "|   |   |   |   |   |   |--- FCF_Growth_QOQ <= -2.75\n",
      "|   |   |   |   |   |   |   |--- truncated branch of depth 2\n",
      "|   |   |   |   |   |   |--- FCF_Growth_QOQ >  -2.75\n",
      "|   |   |   |   |   |   |   |--- truncated branch of depth 4\n",
      "|   |   |   |   |--- Net_Profit_Margin >  -0.58\n",
      "|   |   |   |   |   |--- Gross_Profit_Margin <= 0.13\n",
      "|   |   |   |   |   |   |--- Earnings_Growth <= -0.49\n",
      "|   |   |   |   |   |   |   |--- truncated branch of depth 6\n",
      "|   |   |   |   |   |   |--- Earnings_Growth >  -0.49\n",
      "|   |   |   |   |   |   |   |--- truncated branch of depth 6\n",
      "|   |   |   |   |   |--- Gross_Profit_Margin >  0.13\n",
      "|   |   |   |   |   |   |--- Sales_Growth_YOY <= -0.01\n",
      "|   |   |   |   |   |   |   |--- truncated branch of depth 9\n",
      "|   |   |   |   |   |   |--- Sales_Growth_YOY >  -0.01\n",
      "|   |   |   |   |   |   |   |--- truncated branch of depth 9\n",
      "|   |   |   |--- Asset_Turnover >  1.51\n",
      "|   |   |   |   |--- Gross_Profit_Margin <= 0.24\n",
      "|   |   |   |   |   |--- Market-Cap <= 20815721.00\n",
      "|   |   |   |   |   |   |--- P/NetNet <= -3.46\n",
      "|   |   |   |   |   |   |   |--- value: [-0.50]\n",
      "|   |   |   |   |   |   |--- P/NetNet >  -3.46\n",
      "|   |   |   |   |   |   |   |--- value: [-0.30]\n",
      "|   |   |   |   |   |--- Market-Cap >  20815721.00\n",
      "|   |   |   |   |   |   |--- Earnings_Yield <= 0.10\n",
      "|   |   |   |   |   |   |   |--- truncated branch of depth 9\n",
      "|   |   |   |   |   |   |--- Earnings_Yield >  0.10\n",
      "|   |   |   |   |   |   |   |--- truncated branch of depth 2\n",
      "|   |   |   |   |--- Gross_Profit_Margin >  0.24\n",
      "|   |   |   |   |   |--- FCF_Growth_YOY <= -1.11\n",
      "|   |   |   |   |   |   |--- Earnings_Growth <= 2.63\n",
      "|   |   |   |   |   |   |   |--- truncated branch of depth 9\n",
      "|   |   |   |   |   |   |--- Earnings_Growth >  2.63\n",
      "|   |   |   |   |   |   |   |--- truncated branch of depth 3\n",
      "|   |   |   |   |   |--- FCF_Growth_YOY >  -1.11\n",
      "|   |   |   |   |   |   |--- Earnings_Growth_QOQ <= -0.68\n",
      "|   |   |   |   |   |   |   |--- truncated branch of depth 9\n",
      "|   |   |   |   |   |   |--- Earnings_Growth_QOQ >  -0.68\n",
      "|   |   |   |   |   |   |   |--- truncated branch of depth 8\n",
      "|   |   |--- P/NetNet >  4.00\n",
      "|   |   |   |--- Asset_Turnover <= 2.29\n",
      "|   |   |   |   |--- Sales_Growth <= 0.29\n",
      "|   |   |   |   |   |--- Net_Profit_Margin <= 0.25\n",
      "|   |   |   |   |   |   |--- Market-Cap <= 19530951.00\n",
      "|   |   |   |   |   |   |   |--- truncated branch of depth 6\n",
      "|   |   |   |   |   |   |--- Market-Cap >  19530951.00\n",
      "|   |   |   |   |   |   |   |--- truncated branch of depth 9\n",
      "|   |   |   |   |   |--- Net_Profit_Margin >  0.25\n",
      "|   |   |   |   |   |   |--- value: [-0.53]\n",
      "|   |   |   |   |--- Sales_Growth >  0.29\n",
      "|   |   |   |   |   |--- P/FCF <= 17.57\n",
      "|   |   |   |   |   |   |--- Earnings_Growth_YOY <= -0.49\n",
      "|   |   |   |   |   |   |   |--- truncated branch of depth 2\n",
      "|   |   |   |   |   |   |--- Earnings_Growth_YOY >  -0.49\n",
      "|   |   |   |   |   |   |   |--- truncated branch of depth 3\n",
      "|   |   |   |   |   |--- P/FCF >  17.57\n",
      "|   |   |   |   |   |   |--- Current_Ratio <= 2.47\n",
      "|   |   |   |   |   |   |   |--- truncated branch of depth 6\n",
      "|   |   |   |   |   |   |--- Current_Ratio >  2.47\n",
      "|   |   |   |   |   |   |   |--- truncated branch of depth 9\n",
      "|   |   |   |--- Asset_Turnover >  2.29\n",
      "|   |   |   |   |--- Earnings_Growth <= -0.33\n",
      "|   |   |   |   |   |--- Market-Cap <= 76624706.00\n",
      "|   |   |   |   |   |   |--- value: [-0.07]\n",
      "|   |   |   |   |   |--- Market-Cap >  76624706.00\n",
      "|   |   |   |   |   |   |--- Current_Ratio <= 1.79\n",
      "|   |   |   |   |   |   |   |--- truncated branch of depth 2\n",
      "|   |   |   |   |   |   |--- Current_Ratio >  1.79\n",
      "|   |   |   |   |   |   |   |--- truncated branch of depth 8\n",
      "|   |   |   |   |--- Earnings_Growth >  -0.33\n",
      "|   |   |   |   |   |--- Current_Ratio <= 4.77\n",
      "|   |   |   |   |   |   |--- FCF_Yield <= 0.01\n",
      "|   |   |   |   |   |   |   |--- truncated branch of depth 4\n",
      "|   |   |   |   |   |   |--- FCF_Yield >  0.01\n",
      "|   |   |   |   |   |   |   |--- truncated branch of depth 5\n",
      "|   |   |   |   |   |--- Current_Ratio >  4.77\n",
      "|   |   |   |   |   |   |--- value: [0.30]\n",
      "|   |--- FCF_Growth >  -0.89\n",
      "|   |   |--- Asset_Turnover <= 1.02\n",
      "|   |   |   |--- Return_on_Equity <= -0.04\n",
      "|   |   |   |   |--- Asset_Turnover <= 0.67\n",
      "|   |   |   |   |   |--- Gross_Profit_Margin <= 0.85\n",
      "|   |   |   |   |   |   |--- Sales_Growth_QOQ <= 0.33\n",
      "|   |   |   |   |   |   |   |--- truncated branch of depth 9\n",
      "|   |   |   |   |   |   |--- Sales_Growth_QOQ >  0.33\n",
      "|   |   |   |   |   |   |   |--- truncated branch of depth 5\n",
      "|   |   |   |   |   |--- Gross_Profit_Margin >  0.85\n",
      "|   |   |   |   |   |   |--- P/NCAV <= -7.99\n",
      "|   |   |   |   |   |   |   |--- value: [0.42]\n",
      "|   |   |   |   |   |   |--- P/NCAV >  -7.99\n",
      "|   |   |   |   |   |   |   |--- truncated branch of depth 8\n",
      "|   |   |   |   |--- Asset_Turnover >  0.67\n",
      "|   |   |   |   |   |--- FCF_Growth <= -0.73\n",
      "|   |   |   |   |   |   |--- Return_on_Assets <= -0.09\n",
      "|   |   |   |   |   |   |   |--- truncated branch of depth 4\n",
      "|   |   |   |   |   |   |--- Return_on_Assets >  -0.09\n",
      "|   |   |   |   |   |   |   |--- truncated branch of depth 6\n",
      "|   |   |   |   |   |--- FCF_Growth >  -0.73\n",
      "|   |   |   |   |   |   |--- Earnings_Yield <= -0.21\n",
      "|   |   |   |   |   |   |   |--- truncated branch of depth 8\n",
      "|   |   |   |   |   |   |--- Earnings_Yield >  -0.21\n",
      "|   |   |   |   |   |   |   |--- truncated branch of depth 9\n",
      "|   |   |   |--- Return_on_Equity >  -0.04\n",
      "|   |   |   |   |--- Market-Cap <= 556175872.00\n",
      "|   |   |   |   |   |--- Sales_Growth <= -0.05\n",
      "|   |   |   |   |   |   |--- Asset_Turnover <= 0.48\n",
      "|   |   |   |   |   |   |   |--- truncated branch of depth 6\n",
      "|   |   |   |   |   |   |--- Asset_Turnover >  0.48\n",
      "|   |   |   |   |   |   |   |--- truncated branch of depth 9\n",
      "|   |   |   |   |   |--- Sales_Growth >  -0.05\n",
      "|   |   |   |   |   |   |--- Sales_Growth_QOQ <= -0.24\n",
      "|   |   |   |   |   |   |   |--- truncated branch of depth 6\n",
      "|   |   |   |   |   |   |--- Sales_Growth_QOQ >  -0.24\n",
      "|   |   |   |   |   |   |   |--- truncated branch of depth 9\n",
      "|   |   |   |   |--- Market-Cap >  556175872.00\n",
      "|   |   |   |   |   |--- Current_Ratio <= 4.78\n",
      "|   |   |   |   |   |   |--- FCF_Growth <= 0.55\n",
      "|   |   |   |   |   |   |   |--- truncated branch of depth 9\n",
      "|   |   |   |   |   |   |--- FCF_Growth >  0.55\n",
      "|   |   |   |   |   |   |   |--- truncated branch of depth 9\n",
      "|   |   |   |   |   |--- Current_Ratio >  4.78\n",
      "|   |   |   |   |   |   |--- Gross_Profit_Margin <= 0.33\n",
      "|   |   |   |   |   |   |   |--- truncated branch of depth 5\n",
      "|   |   |   |   |   |   |--- Gross_Profit_Margin >  0.33\n",
      "|   |   |   |   |   |   |   |--- truncated branch of depth 9\n",
      "|   |   |--- Asset_Turnover >  1.02\n",
      "|   |   |   |--- Current_Ratio <= 1.52\n",
      "|   |   |   |   |--- Net_Profit_Margin <= 0.12\n",
      "|   |   |   |   |   |--- Return_on_Equity <= -0.24\n",
      "|   |   |   |   |   |   |--- Net_Profit_Margin <= 0.02\n",
      "|   |   |   |   |   |   |   |--- truncated branch of depth 9\n",
      "|   |   |   |   |   |   |--- Net_Profit_Margin >  0.02\n",
      "|   |   |   |   |   |   |   |--- truncated branch of depth 9\n",
      "|   |   |   |   |   |--- Return_on_Equity >  -0.24\n",
      "|   |   |   |   |   |   |--- P/E <= 80.15\n",
      "|   |   |   |   |   |   |   |--- truncated branch of depth 9\n",
      "|   |   |   |   |   |   |--- P/E >  80.15\n",
      "|   |   |   |   |   |   |   |--- truncated branch of depth 9\n",
      "|   |   |   |   |--- Net_Profit_Margin >  0.12\n",
      "|   |   |   |   |   |--- P/NetNet <= -8.01\n",
      "|   |   |   |   |   |   |--- Gross_Profit_Margin <= 0.57\n",
      "|   |   |   |   |   |   |   |--- truncated branch of depth 5\n",
      "|   |   |   |   |   |   |--- Gross_Profit_Margin >  0.57\n",
      "|   |   |   |   |   |   |   |--- truncated branch of depth 8\n",
      "|   |   |   |   |   |--- P/NetNet >  -8.01\n",
      "|   |   |   |   |   |   |--- Asset_Turnover <= 1.09\n",
      "|   |   |   |   |   |   |   |--- truncated branch of depth 3\n",
      "|   |   |   |   |   |   |--- Asset_Turnover >  1.09\n",
      "|   |   |   |   |   |   |   |--- truncated branch of depth 7\n",
      "|   |   |   |--- Current_Ratio >  1.52\n",
      "|   |   |   |   |--- Gross_Profit_Margin <= 0.23\n",
      "|   |   |   |   |   |--- Sales_Growth <= -0.17\n",
      "|   |   |   |   |   |   |--- P/Sales <= 0.62\n",
      "|   |   |   |   |   |   |   |--- truncated branch of depth 7\n",
      "|   |   |   |   |   |   |--- P/Sales >  0.62\n",
      "|   |   |   |   |   |   |   |--- truncated branch of depth 4\n",
      "|   |   |   |   |   |--- Sales_Growth >  -0.17\n",
      "|   |   |   |   |   |   |--- Market-Cap <= 28176545.00\n",
      "|   |   |   |   |   |   |   |--- truncated branch of depth 4\n",
      "|   |   |   |   |   |   |--- Market-Cap >  28176545.00\n",
      "|   |   |   |   |   |   |   |--- truncated branch of depth 9\n",
      "|   |   |   |   |--- Gross_Profit_Margin >  0.23\n",
      "|   |   |   |   |   |--- Asset_Turnover <= 1.41\n",
      "|   |   |   |   |   |   |--- Sales_Growth <= 0.42\n",
      "|   |   |   |   |   |   |   |--- truncated branch of depth 9\n",
      "|   |   |   |   |   |   |--- Sales_Growth >  0.42\n",
      "|   |   |   |   |   |   |   |--- truncated branch of depth 9\n",
      "|   |   |   |   |   |--- Asset_Turnover >  1.41\n",
      "|   |   |   |   |   |   |--- Earnings_Growth <= 0.05\n",
      "|   |   |   |   |   |   |   |--- truncated branch of depth 9\n",
      "|   |   |   |   |   |   |--- Earnings_Growth >  0.05\n",
      "|   |   |   |   |   |   |   |--- truncated branch of depth 9\n",
      "\n"
     ]
    }
   ],
   "source": [
    "print_tree(regr)"
   ]
  },
  {
   "cell_type": "markdown",
   "metadata": {},
   "source": [
    "We can also show the mutual importance of the signals (aka. features) in the model, and compare it to their correlation with the stock-returns. These are often quite different. The signals with highest correlations to the future stock-returns, are not necessarily the ones that were most important to the model. But remember that correlation only measures the linear relation between signals and stock-returns, while the Random Forest can find complicated non-linear relations."
   ]
  },
  {
   "cell_type": "code",
   "execution_count": 36,
   "metadata": {},
   "outputs": [
    {
     "data": {
      "text/html": [
       "<div>\n",
       "<style scoped>\n",
       "    .dataframe tbody tr th:only-of-type {\n",
       "        vertical-align: middle;\n",
       "    }\n",
       "\n",
       "    .dataframe tbody tr th {\n",
       "        vertical-align: top;\n",
       "    }\n",
       "\n",
       "    .dataframe thead th {\n",
       "        text-align: right;\n",
       "    }\n",
       "</style>\n",
       "<table border=\"1\" class=\"dataframe\">\n",
       "  <thead>\n",
       "    <tr style=\"text-align: right;\">\n",
       "      <th></th>\n",
       "      <th>Feature Importance</th>\n",
       "      <th>Return Correlation</th>\n",
       "    </tr>\n",
       "  </thead>\n",
       "  <tbody>\n",
       "    <tr>\n",
       "      <th>Gross Profit Margin</th>\n",
       "      <td>0.093591</td>\n",
       "      <td>0.010173</td>\n",
       "    </tr>\n",
       "    <tr>\n",
       "      <th>Market-Cap</th>\n",
       "      <td>0.078742</td>\n",
       "      <td>0.077844</td>\n",
       "    </tr>\n",
       "    <tr>\n",
       "      <th>Asset Turnover</th>\n",
       "      <td>0.073532</td>\n",
       "      <td>0.042455</td>\n",
       "    </tr>\n",
       "    <tr>\n",
       "      <th>Current Ratio</th>\n",
       "      <td>0.066175</td>\n",
       "      <td>0.027121</td>\n",
       "    </tr>\n",
       "    <tr>\n",
       "      <th>Sales Growth</th>\n",
       "      <td>0.056123</td>\n",
       "      <td>0.012584</td>\n",
       "    </tr>\n",
       "    <tr>\n",
       "      <th>Return on Equity</th>\n",
       "      <td>0.053956</td>\n",
       "      <td>0.088707</td>\n",
       "    </tr>\n",
       "    <tr>\n",
       "      <th>P/FCF</th>\n",
       "      <td>0.052208</td>\n",
       "      <td>0.058703</td>\n",
       "    </tr>\n",
       "    <tr>\n",
       "      <th>Earnings Growth</th>\n",
       "      <td>0.046735</td>\n",
       "      <td>0.034542</td>\n",
       "    </tr>\n",
       "    <tr>\n",
       "      <th>Net Profit Margin</th>\n",
       "      <td>0.045677</td>\n",
       "      <td>0.148644</td>\n",
       "    </tr>\n",
       "    <tr>\n",
       "      <th>P/NetNet</th>\n",
       "      <td>0.045224</td>\n",
       "      <td>0.027178</td>\n",
       "    </tr>\n",
       "    <tr>\n",
       "      <th>P/NCAV</th>\n",
       "      <td>0.043739</td>\n",
       "      <td>0.022142</td>\n",
       "    </tr>\n",
       "    <tr>\n",
       "      <th>P/Sales</th>\n",
       "      <td>0.040975</td>\n",
       "      <td>0.000482</td>\n",
       "    </tr>\n",
       "    <tr>\n",
       "      <th>FCF Growth</th>\n",
       "      <td>0.040406</td>\n",
       "      <td>0.038051</td>\n",
       "    </tr>\n",
       "    <tr>\n",
       "      <th>P/Book</th>\n",
       "      <td>0.038385</td>\n",
       "      <td>0.037959</td>\n",
       "    </tr>\n",
       "    <tr>\n",
       "      <th>Return on Assets</th>\n",
       "      <td>0.033828</td>\n",
       "      <td>0.127358</td>\n",
       "    </tr>\n",
       "    <tr>\n",
       "      <th>Sales Growth YOY</th>\n",
       "      <td>0.031451</td>\n",
       "      <td>0.017120</td>\n",
       "    </tr>\n",
       "    <tr>\n",
       "      <th>P/E</th>\n",
       "      <td>0.025333</td>\n",
       "      <td>0.079911</td>\n",
       "    </tr>\n",
       "    <tr>\n",
       "      <th>FCF Yield</th>\n",
       "      <td>0.022331</td>\n",
       "      <td>0.108249</td>\n",
       "    </tr>\n",
       "    <tr>\n",
       "      <th>Earnings Growth YOY</th>\n",
       "      <td>0.021706</td>\n",
       "      <td>0.019081</td>\n",
       "    </tr>\n",
       "    <tr>\n",
       "      <th>FCF Growth YOY</th>\n",
       "      <td>0.020701</td>\n",
       "      <td>0.019968</td>\n",
       "    </tr>\n",
       "    <tr>\n",
       "      <th>Earnings Yield</th>\n",
       "      <td>0.020668</td>\n",
       "      <td>0.121156</td>\n",
       "    </tr>\n",
       "    <tr>\n",
       "      <th>Sales Growth QOQ</th>\n",
       "      <td>0.017712</td>\n",
       "      <td>0.003194</td>\n",
       "    </tr>\n",
       "    <tr>\n",
       "      <th>Earnings Growth QOQ</th>\n",
       "      <td>0.016002</td>\n",
       "      <td>0.022299</td>\n",
       "    </tr>\n",
       "    <tr>\n",
       "      <th>FCF Growth QOQ</th>\n",
       "      <td>0.014802</td>\n",
       "      <td>0.021533</td>\n",
       "    </tr>\n",
       "  </tbody>\n",
       "</table>\n",
       "</div>"
      ],
      "text/plain": [
       "                     Feature Importance  Return Correlation\n",
       "Gross Profit Margin            0.093591            0.010173\n",
       "Market-Cap                     0.078742            0.077844\n",
       "Asset Turnover                 0.073532            0.042455\n",
       "Current Ratio                  0.066175            0.027121\n",
       "Sales Growth                   0.056123            0.012584\n",
       "Return on Equity               0.053956            0.088707\n",
       "P/FCF                          0.052208            0.058703\n",
       "Earnings Growth                0.046735            0.034542\n",
       "Net Profit Margin              0.045677            0.148644\n",
       "P/NetNet                       0.045224            0.027178\n",
       "P/NCAV                         0.043739            0.022142\n",
       "P/Sales                        0.040975            0.000482\n",
       "FCF Growth                     0.040406            0.038051\n",
       "P/Book                         0.038385            0.037959\n",
       "Return on Assets               0.033828            0.127358\n",
       "Sales Growth YOY               0.031451            0.017120\n",
       "P/E                            0.025333            0.079911\n",
       "FCF Yield                      0.022331            0.108249\n",
       "Earnings Growth YOY            0.021706            0.019081\n",
       "FCF Growth YOY                 0.020701            0.019968\n",
       "Earnings Yield                 0.020668            0.121156\n",
       "Sales Growth QOQ               0.017712            0.003194\n",
       "Earnings Growth QOQ            0.016002            0.022299\n",
       "FCF Growth QOQ                 0.014802            0.021533"
      ]
     },
     "execution_count": 36,
     "metadata": {},
     "output_type": "execute_result"
    }
   ],
   "source": [
    "compare_feature_imp_corr(regr)"
   ]
  },
  {
   "cell_type": "markdown",
   "metadata": {},
   "source": [
    "### Regression Results\n",
    "\n",
    "Let us now see how well the Machine Learning model performs. First we use the fitted model to predict the stock-returns for the training- and test-sets:"
   ]
  },
  {
   "cell_type": "code",
   "execution_count": 37,
   "metadata": {},
   "outputs": [
    {
     "name": "stdout",
     "output_type": "stream",
     "text": [
      "CPU times: user 7.61 s, sys: 67.7 ms, total: 7.68 s\n",
      "Wall time: 1.19 s\n"
     ]
    }
   ],
   "source": [
    "%%time\n",
    "y_train_pred = regr.predict(X_train)\n",
    "y_test_pred = regr.predict(X_test)"
   ]
  },
  {
   "cell_type": "markdown",
   "metadata": {},
   "source": [
    "We can then calculate the $R^2$ value (aka. the coefficient of determination) between the actual stock-returns and those predicted by the model. A value of 1 means a perfect prediction, while a value of 0 means the model basically predicted the average stock-return, and a negative value means the model's prediction was worse than just using the average stock-return.\n",
    "\n",
    "As we can see, the $R^2$ value is quite high for the training-set, so the model has learned to map the signals X to stock-returns y quite well for the training-set:"
   ]
  },
  {
   "cell_type": "code",
   "execution_count": 38,
   "metadata": {},
   "outputs": [
    {
     "data": {
      "text/plain": [
       "0.8439779739975598"
      ]
     },
     "execution_count": 38,
     "metadata": {},
     "output_type": "execute_result"
    }
   ],
   "source": [
    "r2_score(y_true=y_train, y_pred=y_train_pred)"
   ]
  },
  {
   "cell_type": "markdown",
   "metadata": {},
   "source": [
    "But the $R^2$ value is very bad for the test-set, so the model has not really learned the underlying relation between the signals X and stock-returns y. The model has merely learned noise or peculiarities in the training-data, which do not generalize to the unseen data in the test-set:"
   ]
  },
  {
   "cell_type": "code",
   "execution_count": 39,
   "metadata": {},
   "outputs": [
    {
     "data": {
      "text/plain": [
       "-0.09531061662990048"
      ]
     },
     "execution_count": 39,
     "metadata": {},
     "output_type": "execute_result"
    }
   ],
   "source": [
    "r2_score(y_true=y_test, y_pred=y_test_pred)"
   ]
  },
  {
   "cell_type": "markdown",
   "metadata": {},
   "source": [
    "### Regression Examples\n",
    "\n",
    "We can also try and plot the model's predicted versus actual stock-returns for a stock in the training-set. As we can see, the model has learned this mapping quite well:"
   ]
  },
  {
   "cell_type": "code",
   "execution_count": 40,
   "metadata": {},
   "outputs": [
    {
     "data": {
      "image/png": "[encoded data removed]",
      "text/plain": [
       "<Figure size 432x288 with 1 Axes>"
      ]
     },
     "metadata": {},
     "output_type": "display_data"
    }
   ],
   "source": [
    "# Column-name for the models' predicted stock-returns.\n",
    "TOTAL_RETURN_PRED = 'Total Return Predicted'\n",
    "\n",
    "# Create a DataFrame with actual and predicted stock-returns.\n",
    "# This is for the training-set.\n",
    "df_y_train = pd.DataFrame(y_train)\n",
    "df_y_train[TOTAL_RETURN_PRED] = y_train_pred\n",
    "\n",
    "# Plot the actual and predicted stock-returns for the first stock.\n",
    "ticker = tickers_train[0]\n",
    "_ = df_y_train.loc[ticker].plot(title=ticker)"
   ]
  },
  {
   "cell_type": "markdown",
   "metadata": {},
   "source": [
    "Now let us try and plot the model's predicted versus actual stock-returns for the first stock in the test-set. As we can see, the model is completely unable to predict the stock-returns, for this data that it has not seen during its training:"
   ]
  },
  {
   "cell_type": "code",
   "execution_count": 41,
   "metadata": {},
   "outputs": [
    {
     "data": {
      "image/png": "[encoded data removed]",
      "text/plain": [
       "<Figure size 432x288 with 1 Axes>"
      ]
     },
     "metadata": {},
     "output_type": "display_data"
    }
   ],
   "source": [
    "# Create a DataFrame with actual and predicted stock-returns.\n",
    "# This is for the test-set.\n",
    "df_y_test = pd.DataFrame(y_test)\n",
    "df_y_test[TOTAL_RETURN_PRED] = y_test_pred\n",
    "\n",
    "# Plot the actual and predicted stock-returns for the first stock.\n",
    "ticker = tickers_test[0]\n",
    "_ = df_y_test.loc[ticker].plot(title=ticker)"
   ]
  },
  {
   "cell_type": "markdown",
   "metadata": {},
   "source": [
    "## Machine Learning: Classification\n",
    "\n",
    "Instead of mapping from signals x to a continuous variable y for the stock-return, we can try and map to discrete output-classes that indicate if the stock-return was a gain or loss. This is a so-called binary classification problem, and perhaps that is easier for the Machine Learning model.\n",
    "\n",
    "First we need to convert the stock-returns into values of either 1.0 for gains or -1.0 for losses, and then split into training- and test-sets:"
   ]
  },
  {
   "cell_type": "code",
   "execution_count": 42,
   "metadata": {},
   "outputs": [
    {
     "name": "stdout",
     "output_type": "stream",
     "text": [
      "CPU times: user 3.01 s, sys: 12 ms, total: 3.02 s\n",
      "Wall time: 3.02 s\n"
     ]
    }
   ],
   "source": [
    "%%time\n",
    "# Convert stock-returns to binary classes by taking the sign.\n",
    "df_cls = np.sign(df_sig_rets[TOTAL_RETURN_1_3Y])\n",
    "\n",
    "# Split the classes into training- and test-sets.\n",
    "y_train_cls = df_cls.loc[tickers_train]\n",
    "y_test_cls = df_cls.loc[tickers_test]"
   ]
  },
  {
   "cell_type": "markdown",
   "metadata": {},
   "source": [
    "The training-set is biased because it contains many more stocks with gains than losses:"
   ]
  },
  {
   "cell_type": "code",
   "execution_count": 43,
   "metadata": {},
   "outputs": [
    {
     "data": {
      "text/plain": [
       "0.7068901617250674"
      ]
     },
     "execution_count": 43,
     "metadata": {},
     "output_type": "execute_result"
    }
   ],
   "source": [
    "# Fraction of the training-set that is classified as gains.\n",
    "(y_train_cls == 1.0).sum() / len(y_train_cls)"
   ]
  },
  {
   "cell_type": "markdown",
   "metadata": {},
   "source": [
    "We instruct the Machine Learning model to take this bias into account, by setting `class_weight='balanced'`, and otherwise use the same arguments as above:"
   ]
  },
  {
   "cell_type": "code",
   "execution_count": 44,
   "metadata": {},
   "outputs": [],
   "source": [
    "clf = RandomForestClassifier(class_weight='balanced', **model_args)"
   ]
  },
  {
   "cell_type": "markdown",
   "metadata": {},
   "source": [
    "We can then fit the model to the training-data. This is much faster then for the regression model above, because we only have a binary class as output:"
   ]
  },
  {
   "cell_type": "code",
   "execution_count": 45,
   "metadata": {
    "scrolled": true
   },
   "outputs": [
    {
     "name": "stdout",
     "output_type": "stream",
     "text": [
      "CPU times: user 5min 40s, sys: 777 ms, total: 5min 41s\n",
      "Wall time: 46.1 s\n"
     ]
    }
   ],
   "source": [
    "%%time\n",
    "_ = clf.fit(X=X_train, y=y_train_cls)"
   ]
  },
  {
   "cell_type": "markdown",
   "metadata": {},
   "source": [
    "As for the regression model above, the Random Forest consists of 100 Decision Trees, which are basically just nested if-then-else statements that split the input signals, to try and find a mapping that fits the input and output of the training-data."
   ]
  },
  {
   "cell_type": "code",
   "execution_count": 46,
   "metadata": {},
   "outputs": [
    {
     "name": "stdout",
     "output_type": "stream",
     "text": [
      "|--- Net_Profit_Margin <= 0.01\n",
      "|   |--- FCF_Yield <= 0.00\n",
      "|   |   |--- Sales_Growth <= -0.01\n",
      "|   |   |   |--- Return_on_Equity <= -0.21\n",
      "|   |   |   |   |--- P/E <= -37.03\n",
      "|   |   |   |   |   |--- Earnings_Growth <= 1.23\n",
      "|   |   |   |   |   |   |--- FCF_Growth_YOY <= 1.04\n",
      "|   |   |   |   |   |   |   |--- class: 1.0\n",
      "|   |   |   |   |   |   |--- FCF_Growth_YOY >  1.04\n",
      "|   |   |   |   |   |   |   |--- class: 1.0\n",
      "|   |   |   |   |   |--- Earnings_Growth >  1.23\n",
      "|   |   |   |   |   |   |--- P/NCAV <= 8.30\n",
      "|   |   |   |   |   |   |   |--- class: 1.0\n",
      "|   |   |   |   |   |   |--- P/NCAV >  8.30\n",
      "|   |   |   |   |   |   |   |--- class: 0.0\n",
      "|   |   |   |   |--- P/E >  -37.03\n",
      "|   |   |   |   |   |--- FCF_Growth_QOQ <= -0.38\n",
      "|   |   |   |   |   |   |--- Gross_Profit_Margin <= 0.25\n",
      "|   |   |   |   |   |   |   |--- truncated branch of depth 9\n",
      "|   |   |   |   |   |   |--- Gross_Profit_Margin >  0.25\n",
      "|   |   |   |   |   |   |   |--- truncated branch of depth 9\n",
      "|   |   |   |   |   |--- FCF_Growth_QOQ >  -0.38\n",
      "|   |   |   |   |   |   |--- P/E <= -12.10\n",
      "|   |   |   |   |   |   |   |--- truncated branch of depth 8\n",
      "|   |   |   |   |   |   |--- P/E >  -12.10\n",
      "|   |   |   |   |   |   |   |--- truncated branch of depth 9\n",
      "|   |   |   |--- Return_on_Equity >  -0.21\n",
      "|   |   |   |   |--- Net_Profit_Margin <= -0.05\n",
      "|   |   |   |   |   |--- Current_Ratio <= 1.24\n",
      "|   |   |   |   |   |   |--- Asset_Turnover <= 0.19\n",
      "|   |   |   |   |   |   |   |--- truncated branch of depth 4\n",
      "|   |   |   |   |   |   |--- Asset_Turnover >  0.19\n",
      "|   |   |   |   |   |   |   |--- truncated branch of depth 7\n",
      "|   |   |   |   |   |--- Current_Ratio >  1.24\n",
      "|   |   |   |   |   |   |--- Sales_Growth_QOQ <= -0.18\n",
      "|   |   |   |   |   |   |   |--- truncated branch of depth 7\n",
      "|   |   |   |   |   |   |--- Sales_Growth_QOQ >  -0.18\n",
      "|   |   |   |   |   |   |   |--- truncated branch of depth 9\n",
      "|   |   |   |   |--- Net_Profit_Margin >  -0.05\n",
      "|   |   |   |   |   |--- P/NetNet <= 1.77\n",
      "|   |   |   |   |   |   |--- Sales_Growth <= -0.05\n",
      "|   |   |   |   |   |   |   |--- truncated branch of depth 9\n",
      "|   |   |   |   |   |   |--- Sales_Growth >  -0.05\n",
      "|   |   |   |   |   |   |   |--- truncated branch of depth 9\n",
      "|   |   |   |   |   |--- P/NetNet >  1.77\n",
      "|   |   |   |   |   |   |--- P/E <= 78.47\n",
      "|   |   |   |   |   |   |   |--- truncated branch of depth 9\n",
      "|   |   |   |   |   |   |--- P/E >  78.47\n",
      "|   |   |   |   |   |   |   |--- truncated branch of depth 2\n",
      "|   |   |--- Sales_Growth >  -0.01\n",
      "|   |   |   |--- Net_Profit_Margin <= -0.46\n",
      "|   |   |   |   |--- P/NCAV <= -19.55\n",
      "|   |   |   |   |   |--- P/NetNet <= -8.38\n",
      "|   |   |   |   |   |   |--- P/FCF <= -29.75\n",
      "|   |   |   |   |   |   |   |--- class: 0.0\n",
      "|   |   |   |   |   |   |--- P/FCF >  -29.75\n",
      "|   |   |   |   |   |   |   |--- truncated branch of depth 3\n",
      "|   |   |   |   |   |--- P/NetNet >  -8.38\n",
      "|   |   |   |   |   |   |--- class: 0.0\n",
      "|   |   |   |   |--- P/NCAV >  -19.55\n",
      "|   |   |   |   |   |--- Return_on_Assets <= -0.04\n",
      "|   |   |   |   |   |   |--- Earnings_Growth <= -0.31\n",
      "|   |   |   |   |   |   |   |--- truncated branch of depth 9\n",
      "|   |   |   |   |   |   |--- Earnings_Growth >  -0.31\n",
      "|   |   |   |   |   |   |   |--- truncated branch of depth 9\n",
      "|   |   |   |   |   |--- Return_on_Assets >  -0.04\n",
      "|   |   |   |   |   |   |--- class: 1.0\n",
      "|   |   |   |--- Net_Profit_Margin >  -0.46\n",
      "|   |   |   |   |--- Return_on_Assets <= 0.05\n",
      "|   |   |   |   |   |--- Asset_Turnover <= 0.17\n",
      "|   |   |   |   |   |   |--- class: 1.0\n",
      "|   |   |   |   |   |--- Asset_Turnover >  0.17\n",
      "|   |   |   |   |   |   |--- Market-Cap <= 92825328.00\n",
      "|   |   |   |   |   |   |   |--- truncated branch of depth 9\n",
      "|   |   |   |   |   |   |--- Market-Cap >  92825328.00\n",
      "|   |   |   |   |   |   |   |--- truncated branch of depth 9\n",
      "|   |   |   |   |--- Return_on_Assets >  0.05\n",
      "|   |   |   |   |   |--- class: 1.0\n",
      "|   |--- FCF_Yield >  0.00\n",
      "|   |   |--- P/Sales <= 1.93\n",
      "|   |   |   |--- Gross_Profit_Margin <= 0.37\n",
      "|   |   |   |   |--- P/NetNet <= 4.33\n",
      "|   |   |   |   |   |--- Gross_Profit_Margin <= 0.12\n",
      "|   |   |   |   |   |   |--- Net_Profit_Margin <= 0.01\n",
      "|   |   |   |   |   |   |   |--- truncated branch of depth 9\n",
      "|   |   |   |   |   |   |--- Net_Profit_Margin >  0.01\n",
      "|   |   |   |   |   |   |   |--- truncated branch of depth 9\n",
      "|   |   |   |   |   |--- Gross_Profit_Margin >  0.12\n",
      "|   |   |   |   |   |   |--- P/FCF <= 0.07\n",
      "|   |   |   |   |   |   |   |--- truncated branch of depth 5\n",
      "|   |   |   |   |   |   |--- P/FCF >  0.07\n",
      "|   |   |   |   |   |   |   |--- truncated branch of depth 9\n",
      "|   |   |   |   |--- P/NetNet >  4.33\n",
      "|   |   |   |   |   |--- Current_Ratio <= 2.01\n",
      "|   |   |   |   |   |   |--- Sales_Growth_QOQ <= 0.01\n",
      "|   |   |   |   |   |   |   |--- class: 0.0\n",
      "|   |   |   |   |   |   |--- Sales_Growth_QOQ >  0.01\n",
      "|   |   |   |   |   |   |   |--- class: 1.0\n",
      "|   |   |   |   |   |--- Current_Ratio >  2.01\n",
      "|   |   |   |   |   |   |--- Earnings_Yield <= 0.04\n",
      "|   |   |   |   |   |   |   |--- truncated branch of depth 6\n",
      "|   |   |   |   |   |   |--- Earnings_Yield >  0.04\n",
      "|   |   |   |   |   |   |   |--- class: 1.0\n",
      "|   |   |   |--- Gross_Profit_Margin >  0.37\n",
      "|   |   |   |   |--- Net_Profit_Margin <= -0.02\n",
      "|   |   |   |   |   |--- FCF_Growth_YOY <= 0.76\n",
      "|   |   |   |   |   |   |--- Return_on_Equity <= -0.43\n",
      "|   |   |   |   |   |   |   |--- truncated branch of depth 6\n",
      "|   |   |   |   |   |   |--- Return_on_Equity >  -0.43\n",
      "|   |   |   |   |   |   |   |--- truncated branch of depth 9\n",
      "|   |   |   |   |   |--- FCF_Growth_YOY >  0.76\n",
      "|   |   |   |   |   |   |--- Current_Ratio <= 4.18\n",
      "|   |   |   |   |   |   |   |--- truncated branch of depth 6\n",
      "|   |   |   |   |   |   |--- Current_Ratio >  4.18\n",
      "|   |   |   |   |   |   |   |--- class: 1.0\n",
      "|   |   |   |   |--- Net_Profit_Margin >  -0.02\n",
      "|   |   |   |   |   |--- P/NCAV <= -0.86\n",
      "|   |   |   |   |   |   |--- P/Book <= 1.69\n",
      "|   |   |   |   |   |   |   |--- truncated branch of depth 7\n",
      "|   |   |   |   |   |   |--- P/Book >  1.69\n",
      "|   |   |   |   |   |   |   |--- truncated branch of depth 6\n",
      "|   |   |   |   |   |--- P/NCAV >  -0.86\n",
      "|   |   |   |   |   |   |--- Sales_Growth_YOY <= -0.02\n",
      "|   |   |   |   |   |   |   |--- truncated branch of depth 6\n",
      "|   |   |   |   |   |   |--- Sales_Growth_YOY >  -0.02\n",
      "|   |   |   |   |   |   |   |--- truncated branch of depth 9\n",
      "|   |   |--- P/Sales >  1.93\n",
      "|   |   |   |--- Net_Profit_Margin <= -0.64\n",
      "|   |   |   |   |--- Market-Cap <= 417208672.00\n",
      "|   |   |   |   |   |--- class: 1.0\n",
      "|   |   |   |   |--- Market-Cap >  417208672.00\n",
      "|   |   |   |   |   |--- Return_on_Equity <= -0.24\n",
      "|   |   |   |   |   |   |--- FCF_Yield <= 0.17\n",
      "|   |   |   |   |   |   |   |--- class: 0.0\n",
      "|   |   |   |   |   |   |--- FCF_Yield >  0.17\n",
      "|   |   |   |   |   |   |   |--- truncated branch of depth 2\n",
      "|   |   |   |   |   |--- Return_on_Equity >  -0.24\n",
      "|   |   |   |   |   |   |--- class: 0.0\n",
      "|   |   |   |--- Net_Profit_Margin >  -0.64\n",
      "|   |   |   |   |--- P/Sales <= 10.25\n",
      "|   |   |   |   |   |--- FCF_Yield <= 0.04\n",
      "|   |   |   |   |   |   |--- P/NCAV <= -1.37\n",
      "|   |   |   |   |   |   |   |--- truncated branch of depth 8\n",
      "|   |   |   |   |   |   |--- P/NCAV >  -1.37\n",
      "|   |   |   |   |   |   |   |--- truncated branch of depth 9\n",
      "|   |   |   |   |   |--- FCF_Yield >  0.04\n",
      "|   |   |   |   |   |   |--- Sales_Growth <= -0.23\n",
      "|   |   |   |   |   |   |   |--- truncated branch of depth 7\n",
      "|   |   |   |   |   |   |--- Sales_Growth >  -0.23\n",
      "|   |   |   |   |   |   |   |--- truncated branch of depth 9\n",
      "|   |   |   |   |--- P/Sales >  10.25\n",
      "|   |   |   |   |   |--- Earnings_Growth <= 0.47\n",
      "|   |   |   |   |   |   |--- Return_on_Equity <= -0.07\n",
      "|   |   |   |   |   |   |   |--- truncated branch of depth 6\n",
      "|   |   |   |   |   |   |--- Return_on_Equity >  -0.07\n",
      "|   |   |   |   |   |   |   |--- truncated branch of depth 5\n",
      "|   |   |   |   |   |--- Earnings_Growth >  0.47\n",
      "|   |   |   |   |   |   |--- Return_on_Assets <= -0.07\n",
      "|   |   |   |   |   |   |   |--- truncated branch of depth 3\n",
      "|   |   |   |   |   |   |--- Return_on_Assets >  -0.07\n",
      "|   |   |   |   |   |   |   |--- class: 0.0\n",
      "|--- Net_Profit_Margin >  0.01\n",
      "|   |--- P/NCAV <= -0.54\n",
      "|   |   |--- Sales_Growth_YOY <= 0.15\n",
      "|   |   |   |--- P/E <= 13.16\n",
      "|   |   |   |   |--- Return_on_Assets <= 0.18\n",
      "|   |   |   |   |   |--- FCF_Yield <= 0.03\n",
      "|   |   |   |   |   |   |--- Market-Cap <= 7847567616.00\n",
      "|   |   |   |   |   |   |   |--- truncated branch of depth 9\n",
      "|   |   |   |   |   |   |--- Market-Cap >  7847567616.00\n",
      "|   |   |   |   |   |   |   |--- truncated branch of depth 9\n",
      "|   |   |   |   |   |--- FCF_Yield >  0.03\n",
      "|   |   |   |   |   |   |--- P/NCAV <= -26.97\n",
      "|   |   |   |   |   |   |   |--- truncated branch of depth 9\n",
      "|   |   |   |   |   |   |--- P/NCAV >  -26.97\n",
      "|   |   |   |   |   |   |   |--- truncated branch of depth 9\n",
      "|   |   |   |   |--- Return_on_Assets >  0.18\n",
      "|   |   |   |   |   |--- FCF_Yield <= 0.08\n",
      "|   |   |   |   |   |   |--- Net_Profit_Margin <= 0.28\n",
      "|   |   |   |   |   |   |   |--- truncated branch of depth 4\n",
      "|   |   |   |   |   |   |--- Net_Profit_Margin >  0.28\n",
      "|   |   |   |   |   |   |   |--- truncated branch of depth 3\n",
      "|   |   |   |   |   |--- FCF_Yield >  0.08\n",
      "|   |   |   |   |   |   |--- Earnings_Growth <= 0.33\n",
      "|   |   |   |   |   |   |   |--- truncated branch of depth 6\n",
      "|   |   |   |   |   |   |--- Earnings_Growth >  0.33\n",
      "|   |   |   |   |   |   |   |--- truncated branch of depth 6\n",
      "|   |   |   |--- P/E >  13.16\n",
      "|   |   |   |   |--- Earnings_Growth <= -0.21\n",
      "|   |   |   |   |   |--- P/Sales <= 0.88\n",
      "|   |   |   |   |   |   |--- P/E <= 23.76\n",
      "|   |   |   |   |   |   |   |--- truncated branch of depth 9\n",
      "|   |   |   |   |   |   |--- P/E >  23.76\n",
      "|   |   |   |   |   |   |   |--- truncated branch of depth 9\n",
      "|   |   |   |   |   |--- P/Sales >  0.88\n",
      "|   |   |   |   |   |   |--- Net_Profit_Margin <= 0.02\n",
      "|   |   |   |   |   |   |   |--- truncated branch of depth 4\n",
      "|   |   |   |   |   |   |--- Net_Profit_Margin >  0.02\n",
      "|   |   |   |   |   |   |   |--- truncated branch of depth 9\n",
      "|   |   |   |   |--- Earnings_Growth >  -0.21\n",
      "|   |   |   |   |   |--- P/NetNet <= -0.78\n",
      "|   |   |   |   |   |   |--- Market-Cap <= 1836467136.00\n",
      "|   |   |   |   |   |   |   |--- truncated branch of depth 9\n",
      "|   |   |   |   |   |   |--- Market-Cap >  1836467136.00\n",
      "|   |   |   |   |   |   |   |--- truncated branch of depth 9\n",
      "|   |   |   |   |   |--- P/NetNet >  -0.78\n",
      "|   |   |   |   |   |   |--- Net_Profit_Margin <= 0.06\n",
      "|   |   |   |   |   |   |   |--- truncated branch of depth 7\n",
      "|   |   |   |   |   |   |--- Net_Profit_Margin >  0.06\n",
      "|   |   |   |   |   |   |   |--- truncated branch of depth 5\n",
      "|   |   |--- Sales_Growth_YOY >  0.15\n",
      "|   |   |   |--- P/Sales <= 5.14\n",
      "|   |   |   |   |--- Sales_Growth_YOY <= 0.56\n",
      "|   |   |   |   |   |--- P/FCF <= 3.96\n",
      "|   |   |   |   |   |   |--- Sales_Growth_YOY <= 0.17\n",
      "|   |   |   |   |   |   |   |--- truncated branch of depth 9\n",
      "|   |   |   |   |   |   |--- Sales_Growth_YOY >  0.17\n",
      "|   |   |   |   |   |   |   |--- truncated branch of depth 9\n",
      "|   |   |   |   |   |--- P/FCF >  3.96\n",
      "|   |   |   |   |   |   |--- Earnings_Yield <= 0.03\n",
      "|   |   |   |   |   |   |   |--- truncated branch of depth 9\n",
      "|   |   |   |   |   |   |--- Earnings_Yield >  0.03\n",
      "|   |   |   |   |   |   |   |--- truncated branch of depth 9\n",
      "|   |   |   |   |--- Sales_Growth_YOY >  0.56\n",
      "|   |   |   |   |   |--- P/NetNet <= -0.75\n",
      "|   |   |   |   |   |   |--- Market-Cap <= 6012008192.00\n",
      "|   |   |   |   |   |   |   |--- truncated branch of depth 9\n",
      "|   |   |   |   |   |   |--- Market-Cap >  6012008192.00\n",
      "|   |   |   |   |   |   |   |--- truncated branch of depth 9\n",
      "|   |   |   |   |   |--- P/NetNet >  -0.75\n",
      "|   |   |   |   |   |   |--- Asset_Turnover <= 0.56\n",
      "|   |   |   |   |   |   |   |--- truncated branch of depth 3\n",
      "|   |   |   |   |   |   |--- Asset_Turnover >  0.56\n",
      "|   |   |   |   |   |   |   |--- class: 0.0\n",
      "|   |   |   |--- P/Sales >  5.14\n",
      "|   |   |   |   |--- Return_on_Assets <= 0.06\n",
      "|   |   |   |   |   |--- FCF_Yield <= -0.00\n",
      "|   |   |   |   |   |   |--- Current_Ratio <= 0.59\n",
      "|   |   |   |   |   |   |   |--- truncated branch of depth 6\n",
      "|   |   |   |   |   |   |--- Current_Ratio >  0.59\n",
      "|   |   |   |   |   |   |   |--- truncated branch of depth 6\n",
      "|   |   |   |   |   |--- FCF_Yield >  -0.00\n",
      "|   |   |   |   |   |   |--- P/NetNet <= -3.50\n",
      "|   |   |   |   |   |   |   |--- truncated branch of depth 9\n",
      "|   |   |   |   |   |   |--- P/NetNet >  -3.50\n",
      "|   |   |   |   |   |   |   |--- truncated branch of depth 8\n",
      "|   |   |   |   |--- Return_on_Assets >  0.06\n",
      "|   |   |   |   |   |--- Earnings_Growth <= 0.55\n",
      "|   |   |   |   |   |   |--- Earnings_Yield <= 0.02\n",
      "|   |   |   |   |   |   |   |--- truncated branch of depth 7\n",
      "|   |   |   |   |   |   |--- Earnings_Yield >  0.02\n",
      "|   |   |   |   |   |   |   |--- truncated branch of depth 7\n",
      "|   |   |   |   |   |--- Earnings_Growth >  0.55\n",
      "|   |   |   |   |   |   |--- Sales_Growth_QOQ <= 0.22\n",
      "|   |   |   |   |   |   |   |--- truncated branch of depth 7\n",
      "|   |   |   |   |   |   |--- Sales_Growth_QOQ >  0.22\n",
      "|   |   |   |   |   |   |   |--- truncated branch of depth 3\n",
      "|   |--- P/NCAV >  -0.54\n",
      "|   |   |--- FCF_Yield <= 0.02\n",
      "|   |   |   |--- FCF_Growth <= -1.07\n",
      "|   |   |   |   |--- Asset_Turnover <= 2.10\n",
      "|   |   |   |   |   |--- Earnings_Growth <= 2.65\n",
      "|   |   |   |   |   |   |--- Current_Ratio <= 7.50\n",
      "|   |   |   |   |   |   |   |--- truncated branch of depth 9\n",
      "|   |   |   |   |   |   |--- Current_Ratio >  7.50\n",
      "|   |   |   |   |   |   |   |--- truncated branch of depth 2\n",
      "|   |   |   |   |   |--- Earnings_Growth >  2.65\n",
      "|   |   |   |   |   |   |--- Current_Ratio <= 4.97\n",
      "|   |   |   |   |   |   |   |--- truncated branch of depth 6\n",
      "|   |   |   |   |   |   |--- Current_Ratio >  4.97\n",
      "|   |   |   |   |   |   |   |--- class: 0.0\n",
      "|   |   |   |   |--- Asset_Turnover >  2.10\n",
      "|   |   |   |   |   |--- P/Sales <= 0.37\n",
      "|   |   |   |   |   |   |--- P/FCF <= 44.69\n",
      "|   |   |   |   |   |   |   |--- truncated branch of depth 3\n",
      "|   |   |   |   |   |   |--- P/FCF >  44.69\n",
      "|   |   |   |   |   |   |   |--- truncated branch of depth 2\n",
      "|   |   |   |   |   |--- P/Sales >  0.37\n",
      "|   |   |   |   |   |   |--- Market-Cap <= 6858996608.00\n",
      "|   |   |   |   |   |   |   |--- truncated branch of depth 5\n",
      "|   |   |   |   |   |   |--- Market-Cap >  6858996608.00\n",
      "|   |   |   |   |   |   |   |--- class: 1.0\n",
      "|   |   |   |--- FCF_Growth >  -1.07\n",
      "|   |   |   |   |--- Current_Ratio <= 1.93\n",
      "|   |   |   |   |   |--- P/E <= 8.42\n",
      "|   |   |   |   |   |   |--- Net_Profit_Margin <= 0.09\n",
      "|   |   |   |   |   |   |   |--- truncated branch of depth 3\n",
      "|   |   |   |   |   |   |--- Net_Profit_Margin >  0.09\n",
      "|   |   |   |   |   |   |   |--- truncated branch of depth 4\n",
      "|   |   |   |   |   |--- P/E >  8.42\n",
      "|   |   |   |   |   |   |--- Earnings_Growth <= 0.11\n",
      "|   |   |   |   |   |   |   |--- truncated branch of depth 8\n",
      "|   |   |   |   |   |   |--- Earnings_Growth >  0.11\n",
      "|   |   |   |   |   |   |   |--- truncated branch of depth 8\n",
      "|   |   |   |   |--- Current_Ratio >  1.93\n",
      "|   |   |   |   |   |--- Asset_Turnover <= 1.34\n",
      "|   |   |   |   |   |   |--- FCF_Yield <= 0.01\n",
      "|   |   |   |   |   |   |   |--- truncated branch of depth 9\n",
      "|   |   |   |   |   |   |--- FCF_Yield >  0.01\n",
      "|   |   |   |   |   |   |   |--- truncated branch of depth 9\n",
      "|   |   |   |   |   |--- Asset_Turnover >  1.34\n",
      "|   |   |   |   |   |   |--- Current_Ratio <= 2.66\n",
      "|   |   |   |   |   |   |   |--- truncated branch of depth 9\n",
      "|   |   |   |   |   |   |--- Current_Ratio >  2.66\n",
      "|   |   |   |   |   |   |   |--- truncated branch of depth 9\n",
      "|   |   |--- FCF_Yield >  0.02\n",
      "|   |   |   |--- Earnings_Growth <= -0.20\n",
      "|   |   |   |   |--- Current_Ratio <= 7.59\n",
      "|   |   |   |   |   |--- Sales_Growth_QOQ <= -0.26\n",
      "|   |   |   |   |   |   |--- P/Sales <= 1.49\n",
      "|   |   |   |   |   |   |   |--- truncated branch of depth 8\n",
      "|   |   |   |   |   |   |--- P/Sales >  1.49\n",
      "|   |   |   |   |   |   |   |--- truncated branch of depth 7\n",
      "|   |   |   |   |   |--- Sales_Growth_QOQ >  -0.26\n",
      "|   |   |   |   |   |   |--- Earnings_Growth <= -0.21\n",
      "|   |   |   |   |   |   |   |--- truncated branch of depth 9\n",
      "|   |   |   |   |   |   |--- Earnings_Growth >  -0.21\n",
      "|   |   |   |   |   |   |   |--- truncated branch of depth 4\n",
      "|   |   |   |   |--- Current_Ratio >  7.59\n",
      "|   |   |   |   |   |--- FCF_Yield <= 0.05\n",
      "|   |   |   |   |   |   |--- P/Sales <= 1.60\n",
      "|   |   |   |   |   |   |   |--- class: 0.0\n",
      "|   |   |   |   |   |   |--- P/Sales >  1.60\n",
      "|   |   |   |   |   |   |   |--- truncated branch of depth 3\n",
      "|   |   |   |   |   |--- FCF_Yield >  0.05\n",
      "|   |   |   |   |   |   |--- Sales_Growth_YOY <= -0.02\n",
      "|   |   |   |   |   |   |   |--- truncated branch of depth 9\n",
      "|   |   |   |   |   |   |--- Sales_Growth_YOY >  -0.02\n",
      "|   |   |   |   |   |   |   |--- truncated branch of depth 2\n",
      "|   |   |   |--- Earnings_Growth >  -0.20\n",
      "|   |   |   |   |--- Return_on_Assets <= 0.20\n",
      "|   |   |   |   |   |--- FCF_Growth_QOQ <= -1.01\n",
      "|   |   |   |   |   |   |--- Net_Profit_Margin <= 0.19\n",
      "|   |   |   |   |   |   |   |--- truncated branch of depth 9\n",
      "|   |   |   |   |   |   |--- Net_Profit_Margin >  0.19\n",
      "|   |   |   |   |   |   |   |--- truncated branch of depth 6\n",
      "|   |   |   |   |   |--- FCF_Growth_QOQ >  -1.01\n",
      "|   |   |   |   |   |   |--- Net_Profit_Margin <= 0.12\n",
      "|   |   |   |   |   |   |   |--- truncated branch of depth 9\n",
      "|   |   |   |   |   |   |--- Net_Profit_Margin >  0.12\n",
      "|   |   |   |   |   |   |   |--- truncated branch of depth 9\n",
      "|   |   |   |   |--- Return_on_Assets >  0.20\n",
      "|   |   |   |   |   |--- Gross_Profit_Margin <= 0.81\n",
      "|   |   |   |   |   |   |--- Market-Cap <= 2665281792.00\n",
      "|   |   |   |   |   |   |   |--- truncated branch of depth 9\n",
      "|   |   |   |   |   |   |--- Market-Cap >  2665281792.00\n",
      "|   |   |   |   |   |   |   |--- truncated branch of depth 9\n",
      "|   |   |   |   |   |--- Gross_Profit_Margin >  0.81\n",
      "|   |   |   |   |   |   |--- Market-Cap <= 20721978368.00\n",
      "|   |   |   |   |   |   |   |--- truncated branch of depth 9\n",
      "|   |   |   |   |   |   |--- Market-Cap >  20721978368.00\n",
      "|   |   |   |   |   |   |   |--- truncated branch of depth 9\n",
      "\n"
     ]
    }
   ],
   "source": [
    "print_tree(clf)"
   ]
  },
  {
   "cell_type": "markdown",
   "metadata": {},
   "source": [
    "We can also show the signals (or features) that the model found were most important. These are not necessarily the signals that are best correlated with stock-returns, because the Random Forest is a non-linear mapping from signals to the gain/loss classification."
   ]
  },
  {
   "cell_type": "code",
   "execution_count": 47,
   "metadata": {},
   "outputs": [
    {
     "data": {
      "text/html": [
       "<div>\n",
       "<style scoped>\n",
       "    .dataframe tbody tr th:only-of-type {\n",
       "        vertical-align: middle;\n",
       "    }\n",
       "\n",
       "    .dataframe tbody tr th {\n",
       "        vertical-align: top;\n",
       "    }\n",
       "\n",
       "    .dataframe thead th {\n",
       "        text-align: right;\n",
       "    }\n",
       "</style>\n",
       "<table border=\"1\" class=\"dataframe\">\n",
       "  <thead>\n",
       "    <tr style=\"text-align: right;\">\n",
       "      <th></th>\n",
       "      <th>Feature Importance</th>\n",
       "      <th>Return Correlation</th>\n",
       "    </tr>\n",
       "  </thead>\n",
       "  <tbody>\n",
       "    <tr>\n",
       "      <th>Market-Cap</th>\n",
       "      <td>0.080069</td>\n",
       "      <td>0.077844</td>\n",
       "    </tr>\n",
       "    <tr>\n",
       "      <th>Gross Profit Margin</th>\n",
       "      <td>0.060903</td>\n",
       "      <td>0.010173</td>\n",
       "    </tr>\n",
       "    <tr>\n",
       "      <th>Net Profit Margin</th>\n",
       "      <td>0.058858</td>\n",
       "      <td>0.148644</td>\n",
       "    </tr>\n",
       "    <tr>\n",
       "      <th>Asset Turnover</th>\n",
       "      <td>0.057307</td>\n",
       "      <td>0.042455</td>\n",
       "    </tr>\n",
       "    <tr>\n",
       "      <th>Return on Equity</th>\n",
       "      <td>0.050487</td>\n",
       "      <td>0.088707</td>\n",
       "    </tr>\n",
       "    <tr>\n",
       "      <th>Current Ratio</th>\n",
       "      <td>0.049986</td>\n",
       "      <td>0.027121</td>\n",
       "    </tr>\n",
       "    <tr>\n",
       "      <th>Sales Growth</th>\n",
       "      <td>0.048909</td>\n",
       "      <td>0.012584</td>\n",
       "    </tr>\n",
       "    <tr>\n",
       "      <th>Return on Assets</th>\n",
       "      <td>0.047656</td>\n",
       "      <td>0.127358</td>\n",
       "    </tr>\n",
       "    <tr>\n",
       "      <th>P/NCAV</th>\n",
       "      <td>0.044325</td>\n",
       "      <td>0.022142</td>\n",
       "    </tr>\n",
       "    <tr>\n",
       "      <th>P/Sales</th>\n",
       "      <td>0.041323</td>\n",
       "      <td>0.000482</td>\n",
       "    </tr>\n",
       "    <tr>\n",
       "      <th>Earnings Growth</th>\n",
       "      <td>0.041127</td>\n",
       "      <td>0.034542</td>\n",
       "    </tr>\n",
       "    <tr>\n",
       "      <th>P/NetNet</th>\n",
       "      <td>0.040995</td>\n",
       "      <td>0.027178</td>\n",
       "    </tr>\n",
       "    <tr>\n",
       "      <th>FCF Growth</th>\n",
       "      <td>0.039850</td>\n",
       "      <td>0.038051</td>\n",
       "    </tr>\n",
       "    <tr>\n",
       "      <th>Sales Growth YOY</th>\n",
       "      <td>0.039353</td>\n",
       "      <td>0.017120</td>\n",
       "    </tr>\n",
       "    <tr>\n",
       "      <th>P/Book</th>\n",
       "      <td>0.037266</td>\n",
       "      <td>0.037959</td>\n",
       "    </tr>\n",
       "    <tr>\n",
       "      <th>P/E</th>\n",
       "      <td>0.035640</td>\n",
       "      <td>0.079911</td>\n",
       "    </tr>\n",
       "    <tr>\n",
       "      <th>P/FCF</th>\n",
       "      <td>0.035380</td>\n",
       "      <td>0.058703</td>\n",
       "    </tr>\n",
       "    <tr>\n",
       "      <th>Earnings Yield</th>\n",
       "      <td>0.034614</td>\n",
       "      <td>0.121156</td>\n",
       "    </tr>\n",
       "    <tr>\n",
       "      <th>FCF Yield</th>\n",
       "      <td>0.033024</td>\n",
       "      <td>0.108249</td>\n",
       "    </tr>\n",
       "    <tr>\n",
       "      <th>Earnings Growth YOY</th>\n",
       "      <td>0.028397</td>\n",
       "      <td>0.019081</td>\n",
       "    </tr>\n",
       "    <tr>\n",
       "      <th>FCF Growth QOQ</th>\n",
       "      <td>0.024888</td>\n",
       "      <td>0.021533</td>\n",
       "    </tr>\n",
       "    <tr>\n",
       "      <th>FCF Growth YOY</th>\n",
       "      <td>0.023383</td>\n",
       "      <td>0.019968</td>\n",
       "    </tr>\n",
       "    <tr>\n",
       "      <th>Earnings Growth QOQ</th>\n",
       "      <td>0.023188</td>\n",
       "      <td>0.022299</td>\n",
       "    </tr>\n",
       "    <tr>\n",
       "      <th>Sales Growth QOQ</th>\n",
       "      <td>0.023072</td>\n",
       "      <td>0.003194</td>\n",
       "    </tr>\n",
       "  </tbody>\n",
       "</table>\n",
       "</div>"
      ],
      "text/plain": [
       "                     Feature Importance  Return Correlation\n",
       "Market-Cap                     0.080069            0.077844\n",
       "Gross Profit Margin            0.060903            0.010173\n",
       "Net Profit Margin              0.058858            0.148644\n",
       "Asset Turnover                 0.057307            0.042455\n",
       "Return on Equity               0.050487            0.088707\n",
       "Current Ratio                  0.049986            0.027121\n",
       "Sales Growth                   0.048909            0.012584\n",
       "Return on Assets               0.047656            0.127358\n",
       "P/NCAV                         0.044325            0.022142\n",
       "P/Sales                        0.041323            0.000482\n",
       "Earnings Growth                0.041127            0.034542\n",
       "P/NetNet                       0.040995            0.027178\n",
       "FCF Growth                     0.039850            0.038051\n",
       "Sales Growth YOY               0.039353            0.017120\n",
       "P/Book                         0.037266            0.037959\n",
       "P/E                            0.035640            0.079911\n",
       "P/FCF                          0.035380            0.058703\n",
       "Earnings Yield                 0.034614            0.121156\n",
       "FCF Yield                      0.033024            0.108249\n",
       "Earnings Growth YOY            0.028397            0.019081\n",
       "FCF Growth QOQ                 0.024888            0.021533\n",
       "FCF Growth YOY                 0.023383            0.019968\n",
       "Earnings Growth QOQ            0.023188            0.022299\n",
       "Sales Growth QOQ               0.023072            0.003194"
      ]
     },
     "execution_count": 47,
     "metadata": {},
     "output_type": "execute_result"
    }
   ],
   "source": [
    "compare_feature_imp_corr(clf)"
   ]
  },
  {
   "cell_type": "markdown",
   "metadata": {},
   "source": [
    "### Classification Results\n",
    "\n",
    "We can then use the fitted model to predict the classes for the training- and test-sets:"
   ]
  },
  {
   "cell_type": "code",
   "execution_count": 48,
   "metadata": {},
   "outputs": [
    {
     "name": "stdout",
     "output_type": "stream",
     "text": [
      "CPU times: user 11.7 s, sys: 35.9 ms, total: 11.8 s\n",
      "Wall time: 1.78 s\n"
     ]
    }
   ],
   "source": [
    "%%time\n",
    "y_train_pred_cls = clf.predict(X_train)\n",
    "y_test_pred_cls = clf.predict(X_test)"
   ]
  },
  {
   "cell_type": "markdown",
   "metadata": {},
   "source": [
    "The model has a very high classification accuracy on the training-set, so the model has learned to map financial signals to gain/loss classifications for 1-3 year investment periods:"
   ]
  },
  {
   "cell_type": "code",
   "execution_count": 49,
   "metadata": {},
   "outputs": [
    {
     "data": {
      "text/plain": [
       "0.9711758760107817"
      ]
     },
     "execution_count": 49,
     "metadata": {},
     "output_type": "execute_result"
    }
   ],
   "source": [
    "accuracy_score(y_true=y_train_cls, y_pred=y_train_pred_cls)"
   ]
  },
  {
   "cell_type": "markdown",
   "metadata": {},
   "source": [
    "Unfortunately this performance does not generalize to the test-set, which the model has not seen during training. Here the classification accuracy is much lower:"
   ]
  },
  {
   "cell_type": "code",
   "execution_count": 50,
   "metadata": {},
   "outputs": [
    {
     "data": {
      "text/plain": [
       "0.6710749900915225"
      ]
     },
     "execution_count": 50,
     "metadata": {},
     "output_type": "execute_result"
    }
   ],
   "source": [
    "accuracy_score(y_true=y_test_cls, y_pred=y_test_pred_cls)"
   ]
  },
  {
   "cell_type": "markdown",
   "metadata": {},
   "source": [
    "This is about the same score as simply guessing that the stock-returns are always gains:"
   ]
  },
  {
   "cell_type": "code",
   "execution_count": 51,
   "metadata": {},
   "outputs": [
    {
     "data": {
      "text/plain": [
       "0.7024723359862238"
      ]
     },
     "execution_count": 51,
     "metadata": {},
     "output_type": "execute_result"
    }
   ],
   "source": [
    "# Fraction of the test-set that is classified as gains.\n",
    "(y_test_cls == 1.0).sum() / len(y_test_cls)"
   ]
  },
  {
   "cell_type": "markdown",
   "metadata": {},
   "source": [
    "### Confusion Matrix\n",
    "\n",
    "We can also plot a so-called Confusion Matrix, which shows how the classes were predicted. For the training-set, we again see that the model has learned to accurately classify gains and losses. Note how the colours are different, because the training-set contains many more gains than losses."
   ]
  },
  {
   "cell_type": "code",
   "execution_count": 52,
   "metadata": {},
   "outputs": [
    {
     "data": {
      "image/png": "[encoded data removed]",
      "text/plain": [
       "<Figure size 432x288 with 2 Axes>"
      ]
     },
     "metadata": {},
     "output_type": "display_data"
    }
   ],
   "source": [
    "plot_confusion_matrix(y_true=y_train_cls, y_pred=y_train_pred_cls)"
   ]
  },
  {
   "cell_type": "markdown",
   "metadata": {},
   "source": [
    "The confusion matrix for the test-set, shows that most classes were predicted as gains:"
   ]
  },
  {
   "cell_type": "code",
   "execution_count": 53,
   "metadata": {},
   "outputs": [
    {
     "data": {
      "image/png": "[encoded data removed]",
      "text/plain": [
       "<Figure size 432x288 with 2 Axes>"
      ]
     },
     "metadata": {},
     "output_type": "display_data"
    }
   ],
   "source": [
    "plot_confusion_matrix(y_true=y_test_cls, y_pred=y_test_pred_cls)"
   ]
  },
  {
   "cell_type": "markdown",
   "metadata": {},
   "source": [
    "### Classification Examples\n",
    "\n",
    "We can also try and plot the model's predicted versus actual gain/loss classification for a stock in the training-set. As we can see, the model has learned this mapping reasonably well:"
   ]
  },
  {
   "cell_type": "code",
   "execution_count": 54,
   "metadata": {},
   "outputs": [
    {
     "data": {
      "image/png": "[encoded data removed]",
      "text/plain": [
       "<Figure size 432x288 with 1 Axes>"
      ]
     },
     "metadata": {},
     "output_type": "display_data"
    }
   ],
   "source": [
    "# Create a DataFrame with actual and predicted classifications.\n",
    "# This is for the training-set.\n",
    "df_y_train_cls = pd.DataFrame(y_train_cls)\n",
    "df_y_train_cls[TOTAL_RETURN_PRED] = y_train_pred_cls\n",
    "\n",
    "# Plot the actual and predicted stock-returns for the first stock.\n",
    "ticker = tickers_train[0]\n",
    "_ = df_y_train_cls.loc[ticker].plot(title=ticker)"
   ]
  },
  {
   "cell_type": "markdown",
   "metadata": {},
   "source": [
    "Now let us try and plot the model's predicted versus actual gain/loss classifications for the first stock in the test-set. As we can see, the model is quite bad at predicting this for data that it has not seen during its training:"
   ]
  },
  {
   "cell_type": "code",
   "execution_count": 55,
   "metadata": {},
   "outputs": [
    {
     "data": {
      "image/png": "[encoded data removed]",
      "text/plain": [
       "<Figure size 432x288 with 1 Axes>"
      ]
     },
     "metadata": {},
     "output_type": "display_data"
    }
   ],
   "source": [
    "# Create a DataFrame with actual and predicted classifications.\n",
    "# This is for the test-set.\n",
    "df_y_test_cls = pd.DataFrame(y_test_cls)\n",
    "df_y_test_cls[TOTAL_RETURN_PRED] = y_test_pred_cls\n",
    "\n",
    "# Plot the actual and predicted stock-returns for the first stock.\n",
    "ticker = tickers_test[0]\n",
    "_ = df_y_test_cls.loc[ticker].plot(title=ticker)"
   ]
  },
  {
   "cell_type": "markdown",
   "metadata": {},
   "source": [
    "## Discussion\n",
    "\n",
    "We used a Machine Learning model called a Random Forest to learn the relation between signals and future stock-returns. This worked well on the training-data, but did not generalize to the test-data, where the model performed about the same as guessing.\n",
    "\n",
    "The reason must be that either these signals could not be used to predict future stock-returns, or this particular Machine Learning model could not find the true relation between the signals and stock-returns, or we need to experiment with different settings and parameters when training the model.\n",
    "\n",
    "You could spend a very long time experimenting with different ML models and settings, to try and improve the performance. There is a much easier way, by using a \"meta\" Machine Learning system such as [TPOT](https://github.com/EpistasisLab/tpot), which automatically tries to find a combination of Machine Learning models that gives optimal performance. It is easy to use because it has the same API as scikit-learn, but it may take several days to run.\n",
    "\n",
    "\n",
    "### Machine Learning vs. Good Science\n",
    "\n",
    "In general, these experiments show that Machine Learning cannot replace good science. Even if the ML model had performed well on the test-data, it would not have provided an explanation for the underlying relation between signals and stock-returns, so we would not know whether it was truly something that would work in the future. To explain this we need proper scientific reasoning.\n",
    "\n",
    "A good example of scientific reasoning is the discovery and formulation of the Law of Gravity. A simple experiment would be to drop various items from different heights and take lots of measurements of how fast the items fall to the ground.\n",
    "\n",
    "You can then make a noisy scatter-plot that shows the relation between item-size, item-weight, drop-height, and drop-speed. Statistical analysis would be able to give you a rough idea whether there is some relation in the data and if it is statistically significant, so the observed data is probably not just due to random chance. \n",
    "\n",
    "Machine Learning takes this one step further, in that it might be able to create a mathematical or computational model for the non-linear relation in the data, so you could use the ML model to predict the drop-speed if you input the other data. But the ML model would not be able to explain *why* this relation exists in the data. For this we need a proper theoretical framework such as Classical Mechanics in the case of the Law of Gravity.\n",
    "\n",
    "\n",
    "### Predicting Long-Term Stock Returns\n",
    "\n",
    "When it comes to predicting long-term stock-returns, there are actually only 3 factors that matter: The future dividends, sales-growth, and change in the P/Sales valuation ratio. (You could instead use earnings-growth or book-value growth, and the P/E or P/Book valuation ratios.) If we can predict the future dividend, sales-growth and P/Sales ratio, then we can predict the future stock-return.\n",
    "\n",
    "When making scatter-plots of historical P/Sales ratios versus long-term stock-returns, we often see a particular downwards-sloping curve, and it turns out there is a certain formula for this curve, which is derived from the mathematical definition of Annualized Return, see [here](https://github.com/Hvass-Labs/FinanceOps/blob/master/01C_Theory_of_Long-Term_Stock_Forecasting.ipynb). The formula takes as input the average dividend yield, sales-growth and P/Sales ratios that you predict for the future, and produces a curve that can be used to predict future stock-returns from these 3 factors and the P/Sales ratio today. The accuracy of the prediction depends on how well you have predicted these 3 factors.\n",
    "\n",
    "Machine Learning cannot uncover and explain such relations, whether it is the Law of Gravity, or the formula for long-term stock-returns. Human reasoning is still needed for this."
   ]
  },
  {
   "cell_type": "markdown",
   "metadata": {},
   "source": [
    "## License (MIT)\n",
    "\n",
    "This is published under the\n",
    "[MIT License](https://github.com/simfin/simfin-tutorials/blob/master/LICENSE.txt)\n",
    "which allows very broad use for both academic and commercial purposes.\n",
    "\n",
    "You are very welcome to modify and use this source-code in your own project. Please keep a link to the [original repository](https://github.com/simfin/simfin-tutorials).\n"
   ]
  }
 ],
 "metadata": {
  "kernelspec": {
   "display_name": "Python 3",
   "language": "python",
   "name": "python3"
  },
  "language_info": {
   "codemirror_mode": {
    "name": "ipython",
    "version": 3
   },
   "file_extension": ".py",
   "mimetype": "text/x-python",
   "name": "python",
   "nbconvert_exporter": "python",
   "pygments_lexer": "ipython3",
   "version": "3.6.8"
  }
 },
 "nbformat": 4,
 "nbformat_minor": 2
}
